{
 "cells": [
  {
   "cell_type": "markdown",
   "metadata": {},
   "source": [
    "<H1>Scrap</h1>"
   ]
  },
  {
   "cell_type": "markdown",
   "metadata": {},
   "source": [
    "<h2>on unicode </h2>"
   ]
  },
  {
   "cell_type": "code",
   "execution_count": null,
   "metadata": {},
   "outputs": [],
   "source": []
  },
  {
   "cell_type": "code",
   "execution_count": 1,
   "metadata": {},
   "outputs": [
    {
     "name": "stdout",
     "output_type": "stream",
     "text": [
      "אבג\n"
     ]
    }
   ],
   "source": [
    "S=u'\\u05d0\\u05d1\\u05d2'   #kind of raw unicode in theory\n",
    "print(S)"
   ]
  },
  {
   "cell_type": "code",
   "execution_count": 2,
   "metadata": {},
   "outputs": [],
   "source": [
    "output=open('heb','a')\n",
    "output.write(S)\n",
    "output.close()"
   ]
  },
  {
   "cell_type": "code",
   "execution_count": null,
   "metadata": {},
   "outputs": [],
   "source": []
  },
  {
   "cell_type": "code",
   "execution_count": 3,
   "metadata": {},
   "outputs": [
    {
     "name": "stdout",
     "output_type": "stream",
     "text": [
      "b'\\xd7\\x90\\xd7\\x91\\xd7\\x92'\n"
     ]
    }
   ],
   "source": [
    "#encoding\n",
    "encoded = S.encode('utf-8')\n",
    "print(encoded)\n",
    "#output=open('hebn')\n",
    "#output.write(encoded)\n",
    "#output.close()"
   ]
  },
  {
   "cell_type": "code",
   "execution_count": 4,
   "metadata": {},
   "outputs": [
    {
     "name": "stdout",
     "output_type": "stream",
     "text": [
      "אבג\n",
      "×××\n"
     ]
    }
   ],
   "source": [
    "\n",
    "decoded = encoded.decode()\n",
    "print(decoded)\n",
    "\n",
    "decoded2=encoded.decode('unicode-escape')\n",
    "print(decoded2)"
   ]
  },
  {
   "cell_type": "code",
   "execution_count": 9,
   "metadata": {},
   "outputs": [
    {
     "name": "stdout",
     "output_type": "stream",
     "text": [
      "the .encoded:b'\\xd7\\x96\\xd7\\x94 \\xd7\\x94\\xd7\\x9e\\xd7\\xa9\\xd7\\xa4\\xd7\\x98 . \\xd7\\x96\\xd7\\x94 \\xd7\\x9b\\xd7\\xaa\\xd7\\x95\\xd7\\x91.'\n"
     ]
    }
   ],
   "source": [
    "sentence=\"זה המשפט . זה כתוב.\"\n",
    "sentenceEncoded = sentence.encode('utf-8')\n",
    "print(\"the .encoded:{}\".format(sentenceEncoded))"
   ]
  },
  {
   "cell_type": "code",
   "execution_count": 11,
   "metadata": {},
   "outputs": [
    {
     "name": "stdout",
     "output_type": "stream",
     "text": [
      "the decoded: זה המשפט . זה כתוב.\n"
     ]
    }
   ],
   "source": [
    "sentenceDecoded = sentenceEncoded.decode()\n",
    "print(\"the decoded: {}\".format(sentenceDecoded))"
   ]
  },
  {
   "cell_type": "code",
   "execution_count": null,
   "metadata": {},
   "outputs": [],
   "source": []
  },
  {
   "cell_type": "markdown",
   "metadata": {},
   "source": [
    "https://automatetheboringstuff.com/chapter11/\n"
   ]
  },
  {
   "cell_type": "markdown",
   "metadata": {},
   "source": [
    "<h2> request module </h2>"
   ]
  },
  {
   "cell_type": "code",
   "execution_count": null,
   "metadata": {},
   "outputs": [],
   "source": []
  },
  {
   "cell_type": "code",
   "execution_count": 13,
   "metadata": {},
   "outputs": [
    {
     "name": "stdout",
     "output_type": "stream",
     "text": [
      "200\n",
      "75704\n",
      "<!DOCTYPE html>\n",
      "<html class=\"client-nojs\" lang=\"en\" dir=\"ltr\">\n",
      "<head>\n",
      "<meta charset=\"UTF-8\"/>\n",
      "<title>Devon County War Memorial - Wikipedia</title>\n",
      "<script>document.documentElement.className = document.documentElement.className.replace( /(^|\\s)client-nojs(\\s|$)/, \"$1client-js$2\" );</script>\n",
      "<script>(window.RLQ=window.RLQ||[]).push(function(){mw.config.set({\"wgCanonicalNamespace\":\"\",\"wgCanonicalSpecialPageName\":false,\"wgNamespaceNumber\":0,\"wgPageName\":\"Devon_County_War_Memorial\",\"wgTitle\":\"Devon County War Memorial\",\"wgCurRevisionId\":878940731,\"wgRevisionId\":878940731,\"wgArticleId\":49132691,\"wgI\n"
     ]
    }
   ],
   "source": [
    "import requests\n",
    "res= requests.get('https://en.wikipedia.org/wiki/Devon_County_War_Memorial')\n",
    "\n",
    "res.raise_for_status() \n",
    "print(res.status_code)\n",
    "type(res)\n",
    "print(len(res.text))\n",
    "print(res.text[0:600])"
   ]
  },
  {
   "cell_type": "markdown",
   "metadata": {},
   "source": [
    "`res=requests.get('url....')`<br>\n",
    "`print(res.status_code)` <br>\n",
    "`print(len(res.text))`  <br>\n",
    "`print(res.text[0:200]`"
   ]
  },
  {
   "cell_type": "markdown",
   "metadata": {},
   "source": [
    "<p> <span style=\"color:purple\"> \n",
    "get the following url<br>\n",
    "print its status code <br>\n",
    "    print its text length <br>\n",
    "    print first 200 characters of text\n",
    "</span>"
   ]
  },
  {
   "cell_type": "code",
   "execution_count": 15,
   "metadata": {},
   "outputs": [],
   "source": [
    "url=\"https://en.wikipedia.org/wiki/China\""
   ]
  },
  {
   "cell_type": "code",
   "execution_count": 19,
   "metadata": {},
   "outputs": [
    {
     "name": "stdout",
     "output_type": "stream",
     "text": [
      "1262867\n",
      "<!DOCTYPE html>\n",
      "<html class=\"client-nojs\" lang=\"en\" dir=\"ltr\">\n",
      "<head>\n",
      "<meta charset=\"UTF-8\"/>\n",
      "<title>China - Wikipedia</title>\n",
      "<script>document.documentElement.className = document.documentElement.cla\n"
     ]
    }
   ],
   "source": []
  },
  {
   "cell_type": "code",
   "execution_count": 7,
   "metadata": {},
   "outputs": [
    {
     "name": "stdout",
     "output_type": "stream",
     "text": [
      "200\n",
      "1259740\n",
      "<!DOCTYPE html>\n",
      "<html class=\"client-nojs\" lang=\"en\" dir=\"ltr\">\n",
      "<head>\n",
      "<meta charset=\"UTF-8\"/>\n",
      "<title>China - Wikipedia</title>\n",
      "<script>document.documentElement.className = document.documentElement.cla\n"
     ]
    }
   ],
   "source": [
    "res=requests.get(url)\n",
    "print(res.status_code)\n",
    "print(len(res.text))\n",
    "print(res.text[0:200])"
   ]
  },
  {
   "cell_type": "code",
   "execution_count": null,
   "metadata": {},
   "outputs": [],
   "source": []
  },
  {
   "cell_type": "markdown",
   "metadata": {},
   "source": [
    "<h2>Saving info in files </h2>"
   ]
  },
  {
   "cell_type": "markdown",
   "metadata": {},
   "source": [
    "http://www.joelonsoftware.com/articles/Unicode.html"
   ]
  },
  {
   "cell_type": "code",
   "execution_count": 45,
   "metadata": {},
   "outputs": [],
   "source": [
    "url=\"https://ia800300.us.archive.org/27/items/amusementsinmath16713gut/16713-8.txt\"\n",
    "import requests\n",
    "res=requests.get(url)\n",
    "res.raise_for_status()\n",
    "playFile = open('amusement_in_math.txt','w',encoding=\"utf8\", errors='ignore') #'w')\n",
    "#for chunk in res.iter_content(100000):   \n",
    "    #c=chunk.decode(\"utf16\")\n",
    "playFile.write(res.text)\n",
    "playFile.close()\n"
   ]
  },
  {
   "cell_type": "code",
   "execution_count": 39,
   "metadata": {},
   "outputs": [
    {
     "data": {
      "text/plain": [
       "str"
      ]
     },
     "execution_count": 39,
     "metadata": {},
     "output_type": "execute_result"
    }
   ],
   "source": [
    "res.text[0:100]\n",
    "type(res.text)"
   ]
  },
  {
   "cell_type": "code",
   "execution_count": 9,
   "metadata": {},
   "outputs": [
    {
     "name": "stdout",
     "output_type": "stream",
     "text": [
      "<class 'bytes'>\n",
      "spam\n",
      "<class 'str'>\n"
     ]
    }
   ],
   "source": [
    "B=b'spam'\n",
    "print(type(B))\n",
    "Btext= B.decode()\n",
    "print(Btext)\n",
    "print(type(Btext))"
   ]
  },
  {
   "cell_type": "code",
   "execution_count": 10,
   "metadata": {},
   "outputs": [],
   "source": [
    "import requests\n",
    "res=requests.get(url)\n",
    "rest=res.text\n",
    "res.raise_for_status()\n",
    "playFile = open('amusement_in_math0.txt','w')\n",
    "\n",
    "   \n",
    "    #c=chunk.decode(\"utf16\")\n",
    "playFile.write(rest)\n",
    "playFile.close()"
   ]
  },
  {
   "cell_type": "code",
   "execution_count": null,
   "metadata": {},
   "outputs": [],
   "source": []
  },
  {
   "cell_type": "markdown",
   "metadata": {},
   "source": [
    "<p> <span style=\"color:purple\"> \n",
    "bring the url1 content to a file v.txt<br>\n",
    "get the request object \"res\" <br>\n",
    "    get the .text, and check status <br>\n",
    "    do the handle  with filename and  w <br>\n",
    "    write in file with handle.write(---) <br>\n",
    "    please! .close()\n",
    "    \n",
    "    \n",
    "</span>"
   ]
  },
  {
   "cell_type": "code",
   "execution_count": 11,
   "metadata": {},
   "outputs": [],
   "source": [
    "url1=\"https://archive.org/stream/MahasiSayadawTheSatipatthanaVipassanaMeditation/MahasiSayadaw-TheSatipatthanaVipassanaMeditation_djvu.txt\""
   ]
  },
  {
   "cell_type": "code",
   "execution_count": null,
   "metadata": {},
   "outputs": [],
   "source": []
  },
  {
   "cell_type": "code",
   "execution_count": 12,
   "metadata": {},
   "outputs": [],
   "source": [
    "res = requests.get(url1)\n",
    "text= res.text\n",
    "res.raise_for_status()\n",
    "textFile = open('v.txt','w') \n",
    "textFile.write(text)\n",
    "textFile.close()"
   ]
  },
  {
   "cell_type": "code",
   "execution_count": null,
   "metadata": {},
   "outputs": [],
   "source": []
  },
  {
   "cell_type": "markdown",
   "metadata": {},
   "source": [
    "<h2>Beautiful Soup </h2> <br>\n"
   ]
  },
  {
   "cell_type": "markdown",
   "metadata": {},
   "source": []
  },
  {
   "cell_type": "code",
   "execution_count": 13,
   "metadata": {},
   "outputs": [
    {
     "name": "stderr",
     "output_type": "stream",
     "text": [
      "/home/dan/anaconda3/lib/python3.6/site-packages/bs4/__init__.py:181: UserWarning: No parser was explicitly specified, so I'm using the best available HTML parser for this system (\"lxml\"). This usually isn't a problem, but if you run this code on another system, or in a different virtual environment, it may use a different parser and behave differently.\n",
      "\n",
      "The code that caused this warning is on line 193 of the file /home/dan/anaconda3/lib/python3.6/runpy.py. To get rid of this warning, change code that looks like this:\n",
      "\n",
      " BeautifulSoup(YOUR_MARKUP})\n",
      "\n",
      "to this:\n",
      "\n",
      " BeautifulSoup(YOUR_MARKUP, \"lxml\")\n",
      "\n",
      "  markup_type=markup_type))\n"
     ]
    },
    {
     "data": {
      "text/plain": [
       "bs4.BeautifulSoup"
      ]
     },
     "execution_count": 13,
     "metadata": {},
     "output_type": "execute_result"
    }
   ],
   "source": [
    "import requests, bs4\n",
    "res = requests.get('http://nostarch.com')\n",
    "res.raise_for_status()\n",
    "noStarchSoup = bs4.BeautifulSoup(res.text)\n",
    "type(noStarchSoup)"
   ]
  },
  {
   "cell_type": "markdown",
   "metadata": {},
   "source": [
    "`import requests , bs4`<br>\n",
    "`res = requests.get(url) `<br>\n",
    "`res.raise_for_status() `<br>\n",
    "`BSinstance = bs4.BeautifulSoup(res.text `<br>\n"
   ]
  },
  {
   "cell_type": "code",
   "execution_count": null,
   "metadata": {},
   "outputs": [],
   "source": []
  },
  {
   "cell_type": "code",
   "execution_count": 14,
   "metadata": {},
   "outputs": [
    {
     "data": {
      "text/plain": [
       "[<a class=\"element-invisible element-focusable\" href=\"#main-content\">Skip to main content</a>,\n",
       " <a class=\"navbar-brand text-uppercase\" href=\"/\"><img alt=\"Home\" class=\"img-responsive\" src=\"https://nostarch.com/sites/all/themes/nostarch/logo.png\"/></a>,\n",
       " <a href=\"/catalog.htm\" title=\"Explore our catalog\">Catalog</a>,\n",
       " <a href=\"/blog\" title=\"The No Starch Press blog\">Blog</a>,\n",
       " <a href=\"/media.htm\" title=\"Media contact\">Media</a>]"
      ]
     },
     "execution_count": 14,
     "metadata": {},
     "output_type": "execute_result"
    }
   ],
   "source": [
    "noStarchSoup.select('a')[:5]"
   ]
  },
  {
   "cell_type": "markdown",
   "metadata": {},
   "source": [
    "<p> <span style=\"color:purple\"> \n",
    "form a bs instance `bseuler` with the given url\n",
    "        \n",
    "</span>"
   ]
  },
  {
   "cell_type": "code",
   "execution_count": 15,
   "metadata": {},
   "outputs": [],
   "source": [
    "eulerUrl='https://en.wikipedia.org/wiki/Leonhard_Euler'"
   ]
  },
  {
   "cell_type": "code",
   "execution_count": null,
   "metadata": {},
   "outputs": [],
   "source": [
    "\n",
    "\n"
   ]
  },
  {
   "cell_type": "code",
   "execution_count": 16,
   "metadata": {},
   "outputs": [
    {
     "name": "stderr",
     "output_type": "stream",
     "text": [
      "/home/dan/anaconda3/lib/python3.6/site-packages/bs4/__init__.py:181: UserWarning: No parser was explicitly specified, so I'm using the best available HTML parser for this system (\"lxml\"). This usually isn't a problem, but if you run this code on another system, or in a different virtual environment, it may use a different parser and behave differently.\n",
      "\n",
      "The code that caused this warning is on line 193 of the file /home/dan/anaconda3/lib/python3.6/runpy.py. To get rid of this warning, change code that looks like this:\n",
      "\n",
      " BeautifulSoup(YOUR_MARKUP})\n",
      "\n",
      "to this:\n",
      "\n",
      " BeautifulSoup(YOUR_MARKUP, \"lxml\")\n",
      "\n",
      "  markup_type=markup_type))\n"
     ]
    },
    {
     "data": {
      "text/plain": [
       "bs4.BeautifulSoup"
      ]
     },
     "execution_count": 16,
     "metadata": {},
     "output_type": "execute_result"
    }
   ],
   "source": [
    "res= requests.get(eulerUrl)\n",
    "res.raise_for_status()\n",
    "bseuler = bs4.BeautifulSoup(res.text)\n",
    "type(bseuler)"
   ]
  },
  {
   "cell_type": "code",
   "execution_count": null,
   "metadata": {},
   "outputs": [],
   "source": []
  },
  {
   "cell_type": "code",
   "execution_count": 17,
   "metadata": {},
   "outputs": [
    {
     "name": "stdout",
     "output_type": "stream",
     "text": [
      "1209\n",
      "59\n"
     ]
    }
   ],
   "source": [
    "print(len(bseuler.select('a')))\n",
    "print(len(bseuler.select('p')))\n"
   ]
  },
  {
   "cell_type": "markdown",
   "metadata": {},
   "source": [
    "<h3>Select attributes </h3>"
   ]
  },
  {
   "cell_type": "code",
   "execution_count": null,
   "metadata": {},
   "outputs": [],
   "source": []
  },
  {
   "cell_type": "code",
   "execution_count": 18,
   "metadata": {},
   "outputs": [],
   "source": [
    "bsobj= bseuler"
   ]
  },
  {
   "cell_type": "code",
   "execution_count": 19,
   "metadata": {},
   "outputs": [
    {
     "name": "stdout",
     "output_type": "stream",
     "text": [
      "[<p>Leonhard Euler was born on 15 April 1707, in <a href=\"/wiki/Basel\" title=\"Basel\">Basel</a>, Switzerland to Paul III Euler, a pastor of the <a class=\"mw-redirect\" href=\"/wiki/Reformed_Church\" title=\"Reformed Church\">Reformed Church</a>, and Marguerite <a href=\"/wiki/Given_name#Name_at_birth\" title=\"Given name\">née</a> Brucker, a pastor's daughter. He had two younger sisters: Anna Maria and Maria Magdalena, and a younger brother Johann Heinrich.<sup class=\"reference\" id=\"cite_ref-Calinger_8-0\"><a href=\"#cite_note-Calinger-8\">[8]</a></sup> Soon after the birth of Leonhard, the Eulers moved from Basel to the town of <a href=\"/wiki/Riehen\" title=\"Riehen\">Riehen</a>, where Euler spent most of his childhood. Paul Euler was a friend of the <a href=\"/wiki/Bernoulli_family\" title=\"Bernoulli family\">Bernoulli family</a>; <a href=\"/wiki/Johann_Bernoulli\" title=\"Johann Bernoulli\">Johann Bernoulli</a> was then regarded as Europe's foremost mathematician, and would eventually be the most important influence on young Leonhard.\n",
      "</p>]\n",
      "<class 'list'>\n",
      "59\n"
     ]
    }
   ],
   "source": [
    "#p\n",
    "all_p = bsobj.select('p')\n",
    "print(all_p[4:5])\n",
    "print(type(all_p))\n",
    "print(len(all_p))"
   ]
  },
  {
   "cell_type": "code",
   "execution_count": null,
   "metadata": {},
   "outputs": [],
   "source": []
  },
  {
   "cell_type": "code",
   "execution_count": 20,
   "metadata": {},
   "outputs": [
    {
     "name": "stdout",
     "output_type": "stream",
     "text": [
      "[<div class=\"noprint\" id=\"mw-page-base\"></div>, <div class=\"noprint\" id=\"mw-head-base\"></div>]\n"
     ]
    }
   ],
   "source": [
    "#div\n",
    "print(bsobj.select('div')[0:2])"
   ]
  },
  {
   "cell_type": "code",
   "execution_count": null,
   "metadata": {},
   "outputs": [],
   "source": []
  },
  {
   "cell_type": "code",
   "execution_count": 21,
   "metadata": {},
   "outputs": [
    {
     "name": "stdout",
     "output_type": "stream",
     "text": [
      "[<h1 class=\"firstHeading\" id=\"firstHeading\" lang=\"en\">Leonhard Euler</h1>]\n"
     ]
    }
   ],
   "source": [
    "tag='h1'\n",
    "print(bsobj.select(tag))"
   ]
  },
  {
   "cell_type": "code",
   "execution_count": 22,
   "metadata": {},
   "outputs": [
    {
     "name": "stdout",
     "output_type": "stream",
     "text": [
      "[<h2>Contents</h2>, <h2><span class=\"mw-headline\" id=\"Life\">Life</span></h2>, <h2><span class=\"mw-headline\" id=\"Contributions_to_mathematics_and_physics\">Contributions to mathematics and physics</span></h2>]\n"
     ]
    }
   ],
   "source": [
    "tag='h2'\n",
    "print(bsobj.select(tag)[0:3])"
   ]
  },
  {
   "cell_type": "code",
   "execution_count": null,
   "metadata": {},
   "outputs": [],
   "source": []
  },
  {
   "cell_type": "markdown",
   "metadata": {},
   "source": [
    "<h3>Select other attributes elements </h3>"
   ]
  },
  {
   "cell_type": "markdown",
   "metadata": {},
   "source": [
    "<h4>id and class </h4>"
   ]
  },
  {
   "cell_type": "code",
   "execution_count": 23,
   "metadata": {},
   "outputs": [
    {
     "name": "stdout",
     "output_type": "stream",
     "text": [
      "[<li id=\"cite_note-56\"><span class=\"mw-cite-backlink\"><b><a href=\"#cite_ref-56\">^</a></b></span> <span class=\"reference-text\">Johannes Mattheson, <i>Grosse General-Baß-Schule</i>, Hamburg, 1731, Vol. I, pp. 104–06, mentioned by Euler; and <i>Exemplarische Organisten-Probe</i>, Hamburg, 1719, pp. 57–59.</span>\n",
      "</li>]\n"
     ]
    }
   ],
   "source": [
    "idname=\"p-personal\"\n",
    "print(bsobj.select('#cite_note-56'))\n"
   ]
  },
  {
   "cell_type": "code",
   "execution_count": 24,
   "metadata": {},
   "outputs": [
    {
     "name": "stdout",
     "output_type": "stream",
     "text": [
      "[<span class=\"mw-headline\" id=\"Life\">Life</span>, <span class=\"mw-headline\" id=\"Early_years\">Early years</span>, <span class=\"mw-headline\" id=\"Saint_Petersburg\">Saint Petersburg</span>]\n"
     ]
    }
   ],
   "source": [
    "print(bsobj.select('.mw-headline')[0:3])"
   ]
  },
  {
   "cell_type": "code",
   "execution_count": null,
   "metadata": {},
   "outputs": [],
   "source": []
  },
  {
   "cell_type": "markdown",
   "metadata": {},
   "source": [
    "<h4> elements of tag 1 within tag 2 </h4>"
   ]
  },
  {
   "cell_type": "code",
   "execution_count": 25,
   "metadata": {},
   "outputs": [
    {
     "name": "stdout",
     "output_type": "stream",
     "text": [
      "[<span class=\"mw-headline\" id=\"Life\">Life</span>, <span class=\"mw-headline\" id=\"Contributions_to_mathematics_and_physics\">Contributions to mathematics and physics</span>, <span class=\"mw-headline\" id=\"Personal_philosophy_and_religious_beliefs\">Personal philosophy and religious beliefs</span>]\n"
     ]
    }
   ],
   "source": [
    "print(bsobj.select('h2 span')[0:3])"
   ]
  },
  {
   "cell_type": "code",
   "execution_count": null,
   "metadata": {},
   "outputs": [],
   "source": []
  },
  {
   "cell_type": "markdown",
   "metadata": {},
   "source": [
    "<h4> elements of tag 1 <i> directly </i> within tag 2 </h4>"
   ]
  },
  {
   "cell_type": "code",
   "execution_count": 26,
   "metadata": {},
   "outputs": [
    {
     "name": "stdout",
     "output_type": "stream",
     "text": [
      "[<span class=\"nowrap\"><span class=\"IPA nopopups noexcerpt\"><a href=\"/wiki/Help:IPA/English\" title=\"Help:IPA/English\">/<span style=\"border-bottom:1px dotted\"><span title=\"/ˈ/: primary stress follows\">ˈ</span><span title=\"/ɔɪ/: 'oi' in 'choice'\">ɔɪ</span><span title=\"'l' in 'lie'\">l</span><span title=\"/ər/: 'er' in 'letter'\">ər</span></span>/</a></span></span>, <span class=\"IPA\" title=\"Representation in the International Phonetic Alphabet (IPA)\"><a href=\"/wiki/Help:IPA/Standard_German\" title=\"Help:IPA/Standard German\">[ˈɔɪlər]</a></span>, <span class=\"texhtml\"><i>e</i></span>]\n"
     ]
    }
   ],
   "source": [
    "print(bsobj.select('p > span')[0:3])"
   ]
  },
  {
   "cell_type": "code",
   "execution_count": null,
   "metadata": {},
   "outputs": [],
   "source": []
  },
  {
   "cell_type": "markdown",
   "metadata": {},
   "source": [
    "<h4> elements of tag 1  having a [attribute] of any value </h4>"
   ]
  },
  {
   "cell_type": "code",
   "execution_count": 27,
   "metadata": {},
   "outputs": [
    {
     "name": "stdout",
     "output_type": "stream",
     "text": [
      "[<input accesskey=\"f\" id=\"searchInput\" name=\"search\" placeholder=\"Search Wikipedia\" title=\"Search Wikipedia [f]\" type=\"search\"/>, <input name=\"title\" type=\"hidden\" value=\"Special:Search\"/>]\n"
     ]
    }
   ],
   "source": [
    "print(bsobj.select('input[name]')[0:2])"
   ]
  },
  {
   "cell_type": "code",
   "execution_count": null,
   "metadata": {},
   "outputs": [],
   "source": []
  },
  {
   "cell_type": "markdown",
   "metadata": {},
   "source": [
    "<h4> elements of tag 1  having a [attribute] with certain \"value\" </h4>"
   ]
  },
  {
   "cell_type": "code",
   "execution_count": 28,
   "metadata": {},
   "outputs": [
    {
     "name": "stdout",
     "output_type": "stream",
     "text": [
      "[<input class=\"toctogglecheckbox\" id=\"toctogglecheckbox\" role=\"button\" style=\"display:none\" type=\"checkbox\"/>, <input aria-labelledby=\"p-variants-label\" class=\"vectorMenuCheckbox\" type=\"checkbox\"/>]\n"
     ]
    }
   ],
   "source": [
    "print(bsobj.select('input[type=\"checkbox\"]')[0:2])"
   ]
  },
  {
   "cell_type": "code",
   "execution_count": null,
   "metadata": {},
   "outputs": [],
   "source": []
  },
  {
   "cell_type": "markdown",
   "metadata": {},
   "source": [
    "<h3>Getting text and data  </h3>"
   ]
  },
  {
   "cell_type": "markdown",
   "metadata": {},
   "source": [
    "<h4> getting the text </h4> `element.getText()`"
   ]
  },
  {
   "cell_type": "code",
   "execution_count": null,
   "metadata": {},
   "outputs": [],
   "source": []
  },
  {
   "cell_type": "code",
   "execution_count": 29,
   "metadata": {},
   "outputs": [
    {
     "name": "stdout",
     "output_type": "stream",
     "text": [
      "\n",
      "\n",
      "Leonhard Euler (/ˈɔɪlər/ OY-lər;[2] German: [ˈɔɪlər] (listen); 15 April 1707 – 18 September 1783) was a Swiss mathematician, physicist, astronomer, logician and engineer, who made important and influential discoveries in many branches of mathematics, such as infinitesimal calculus and graph theory, while also making pioneering contributions to several branches such as topology and analytic number theory. He also introduced much of the modern mathematical terminology and notation, particularly for mathematical analysis, such as the notion of a mathematical function.[3] He is also known for his work in mechanics, fluid dynamics, optics, astronomy, and music theory.[4]\n",
      "\n",
      "Euler was one of the most eminent mathematicians of the 18th century and is held to be one of the greatest in history. He is also widely considered to be the most prolific mathematician of all time. His collected works fill 60 to 80 quarto volumes,[5] more than anybody in the field. He spent most of his adult life in Saint Petersburg, Russia, and in Berlin, then the capital of Prussia.\n",
      "\n",
      "A statement attributed to Pierre-Simon Laplace expresses Euler's influence on mathematics: \"Read Euler, read Euler, he is the master of us all.\"[6][7]\n",
      "\n"
     ]
    }
   ],
   "source": [
    "all_p = bsobj.select('p')\n",
    "for itm in all_p[0:4]:\n",
    "    print (itm.getText())"
   ]
  },
  {
   "cell_type": "markdown",
   "metadata": {},
   "source": [
    "<p> <span style=\"color:purple\"> \n",
    "define a function `getPtext()` that returns all the text under the p tag given a bs4 object\n",
    "    \n",
    "</span>"
   ]
  },
  {
   "cell_type": "code",
   "execution_count": 30,
   "metadata": {},
   "outputs": [],
   "source": [
    "def getPText(bsobj):\n",
    "    all_p = bsobj.select('p')\n",
    "    text=\"\"\n",
    "    for itm in all_p:\n",
    "        text+=(itm.getText())\n",
    "    return text"
   ]
  },
  {
   "cell_type": "code",
   "execution_count": 31,
   "metadata": {},
   "outputs": [
    {
     "name": "stderr",
     "output_type": "stream",
     "text": [
      "/home/dan/anaconda3/lib/python3.6/site-packages/bs4/__init__.py:181: UserWarning: No parser was explicitly specified, so I'm using the best available HTML parser for this system (\"lxml\"). This usually isn't a problem, but if you run this code on another system, or in a different virtual environment, it may use a different parser and behave differently.\n",
      "\n",
      "The code that caused this warning is on line 193 of the file /home/dan/anaconda3/lib/python3.6/runpy.py. To get rid of this warning, change code that looks like this:\n",
      "\n",
      " BeautifulSoup(YOUR_MARKUP})\n",
      "\n",
      "to this:\n",
      "\n",
      " BeautifulSoup(YOUR_MARKUP, \"lxml\")\n",
      "\n",
      "  markup_type=markup_type))\n"
     ]
    }
   ],
   "source": [
    "import requests, bs4\n",
    "res=requests.get('https://he.wikipedia.org/wiki/%D7%A4%D7%A0%D7%93%D7%94_%D7%A2%D7%A0%D7%A7%D7%99%D7%AA')\n",
    "res.raise_for_status\n",
    "bs=bs4.BeautifulSoup(res.text)\n",
    "text =getPText(bs)"
   ]
  },
  {
   "cell_type": "code",
   "execution_count": 32,
   "metadata": {},
   "outputs": [],
   "source": [
    "#print(text)\n",
    "with open(\"text.txt\", 'w') as fw:\n",
    "    print(text,file= fw)"
   ]
  },
  {
   "cell_type": "code",
   "execution_count": null,
   "metadata": {},
   "outputs": [],
   "source": []
  },
  {
   "cell_type": "code",
   "execution_count": null,
   "metadata": {},
   "outputs": [],
   "source": []
  },
  {
   "cell_type": "code",
   "execution_count": null,
   "metadata": {},
   "outputs": [],
   "source": []
  },
  {
   "cell_type": "code",
   "execution_count": null,
   "metadata": {},
   "outputs": [],
   "source": []
  },
  {
   "cell_type": "code",
   "execution_count": null,
   "metadata": {},
   "outputs": [],
   "source": []
  },
  {
   "cell_type": "code",
   "execution_count": null,
   "metadata": {},
   "outputs": [],
   "source": []
  },
  {
   "cell_type": "code",
   "execution_count": null,
   "metadata": {},
   "outputs": [],
   "source": []
  },
  {
   "cell_type": "code",
   "execution_count": null,
   "metadata": {},
   "outputs": [],
   "source": []
  },
  {
   "cell_type": "code",
   "execution_count": null,
   "metadata": {},
   "outputs": [],
   "source": []
  },
  {
   "cell_type": "code",
   "execution_count": null,
   "metadata": {},
   "outputs": [],
   "source": []
  },
  {
   "cell_type": "code",
   "execution_count": null,
   "metadata": {},
   "outputs": [],
   "source": []
  }
 ],
 "metadata": {
  "kernelspec": {
   "display_name": "Python 3",
   "language": "python",
   "name": "python3"
  },
  "language_info": {
   "codemirror_mode": {
    "name": "ipython",
    "version": 3
   },
   "file_extension": ".py",
   "mimetype": "text/x-python",
   "name": "python",
   "nbconvert_exporter": "python",
   "pygments_lexer": "ipython3",
   "version": "3.6.5"
  }
 },
 "nbformat": 4,
 "nbformat_minor": 2
}
