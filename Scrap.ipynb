{
 "cells": [
  {
   "cell_type": "markdown",
   "metadata": {},
   "source": [
    "<H1>Scrap</h1>"
   ]
  },
  {
   "cell_type": "markdown",
   "metadata": {},
   "source": [
    "<h2>on unicode </h2>"
   ]
  },
  {
   "cell_type": "code",
   "execution_count": null,
   "metadata": {},
   "outputs": [],
   "source": []
  },
  {
   "cell_type": "code",
   "execution_count": 1,
   "metadata": {},
   "outputs": [
    {
     "name": "stdout",
     "output_type": "stream",
     "text": [
      "אבג\n"
     ]
    }
   ],
   "source": [
    "S=u'\\u05d0\\u05d1\\u05d2'   #kind of raw unicode in theory\n",
    "print(S)"
   ]
  },
  {
   "cell_type": "code",
   "execution_count": 3,
   "metadata": {},
   "outputs": [],
   "source": [
    "output=open('heb','a')\n",
    "output.write(S)\n",
    "output.close()"
   ]
  },
  {
   "cell_type": "code",
   "execution_count": null,
   "metadata": {},
   "outputs": [],
   "source": []
  },
  {
   "cell_type": "code",
   "execution_count": 8,
   "metadata": {},
   "outputs": [
    {
     "name": "stdout",
     "output_type": "stream",
     "text": [
      "אבג\n",
      "encoded S:\n",
      "b'\\xd7\\x90\\xd7\\x91\\xd7\\x92'\n"
     ]
    }
   ],
   "source": [
    "print(S)\n",
    "#encoding\n",
    "print(\"encoded S:\")\n",
    "encoded = S.encode('utf-8')\n",
    "print(encoded)\n",
    "\n",
    "#output=open('hebn')\n",
    "#output.write(encoded)\n",
    "#output.close()"
   ]
  },
  {
   "cell_type": "code",
   "execution_count": 10,
   "metadata": {},
   "outputs": [
    {
     "name": "stdout",
     "output_type": "stream",
     "text": [
      "decode encoded S : \n",
      "אבג\n",
      "×××\n"
     ]
    }
   ],
   "source": [
    "\n",
    "decoded = encoded.decode()\n",
    "print(\"decode encoded S : \")\n",
    "print(decoded)\n",
    "\n",
    "decoded2=encoded.decode('unicode-escape')\n",
    "print(decoded2)"
   ]
  },
  {
   "cell_type": "code",
   "execution_count": 9,
   "metadata": {},
   "outputs": [
    {
     "name": "stdout",
     "output_type": "stream",
     "text": [
      "the .encoded:b'\\xd7\\x96\\xd7\\x94 \\xd7\\x94\\xd7\\x9e\\xd7\\xa9\\xd7\\xa4\\xd7\\x98 . \\xd7\\x96\\xd7\\x94 \\xd7\\x9b\\xd7\\xaa\\xd7\\x95\\xd7\\x91.'\n"
     ]
    }
   ],
   "source": [
    "sentence=\"זה המשפט . זה כתוב.\"\n",
    "sentenceEncoded = sentence.encode('utf-8')\n",
    "print(\"the .encoded:{}\".format(sentenceEncoded))"
   ]
  },
  {
   "cell_type": "code",
   "execution_count": 11,
   "metadata": {},
   "outputs": [
    {
     "name": "stdout",
     "output_type": "stream",
     "text": [
      "the decoded: זה המשפט . זה כתוב.\n"
     ]
    }
   ],
   "source": [
    "sentenceDecoded = sentenceEncoded.decode()\n",
    "print(\"the decoded: {}\".format(sentenceDecoded))"
   ]
  },
  {
   "cell_type": "code",
   "execution_count": null,
   "metadata": {},
   "outputs": [],
   "source": []
  },
  {
   "cell_type": "markdown",
   "metadata": {},
   "source": [
    "https://automatetheboringstuff.com/chapter11/\n"
   ]
  },
  {
   "cell_type": "markdown",
   "metadata": {},
   "source": [
    "<h2> request module </h2>"
   ]
  },
  {
   "cell_type": "code",
   "execution_count": null,
   "metadata": {},
   "outputs": [],
   "source": []
  },
  {
   "cell_type": "code",
   "execution_count": 13,
   "metadata": {},
   "outputs": [
    {
     "name": "stdout",
     "output_type": "stream",
     "text": [
      "200\n",
      "75173\n",
      "\n",
      "<!DOCTYPE html>\n",
      "<html class=\"client-nojs\" lang=\"en\" dir=\"ltr\">\n",
      "<head>\n",
      "<meta charset=\"UTF-8\"/>\n",
      "<title>Devon County War Memorial - Wikipedia</title>\n",
      "<script>document.documentElement.className=\"client-js\";RLCONF={\"wgBreakFrames\":!1,\"wgSeparatorTransformTable\":[\"\",\"\"],\"wgDigitTransformTable\":[\"\",\"\"],\"wgDefaultDateFormat\":\"dmy\",\"wgMonthNames\":[\"\",\"January\",\"February\",\"March\",\"April\",\"May\",\"June\",\"July\",\"August\",\"September\",\"October\",\"November\",\"December\"],\"wgRequestId\":\"XnWT4QpAMMMAA5C-@i4AAAAK\",\"wgCSPNonce\":!1,\"wgCanonicalNamespace\":\"\",\"wgCanonicalSpecialPageName\":!1,\"wgNamespaceNumber\":0,\"wgPage\n"
     ]
    }
   ],
   "source": [
    "import requests\n",
    "res= requests.get('https://en.wikipedia.org/wiki/Devon_County_War_Memorial')\n",
    "\n",
    "res.raise_for_status() \n",
    "print(res.status_code)\n",
    "type(res)\n",
    "print(len(res.text))\n",
    "print(res.text[0:600])"
   ]
  },
  {
   "cell_type": "markdown",
   "metadata": {},
   "source": [
    "`res=requests.get('url....')`<br>\n",
    "`print(res.status_code)` <br>\n",
    "`print(len(res.text))`  <br>\n",
    "`print(res.text[0:200]`"
   ]
  },
  {
   "cell_type": "markdown",
   "metadata": {},
   "source": [
    "<p> <span style=\"color:purple\"> \n",
    "get the following url<br>\n",
    "print its status code <br>\n",
    "    print its text length <br>\n",
    "    print first 200 characters of text\n",
    "</span>"
   ]
  },
  {
   "cell_type": "code",
   "execution_count": 14,
   "metadata": {},
   "outputs": [],
   "source": [
    "url=\"https://en.wikipedia.org/wiki/China\""
   ]
  },
  {
   "cell_type": "code",
   "execution_count": 19,
   "metadata": {},
   "outputs": [
    {
     "name": "stdout",
     "output_type": "stream",
     "text": [
      "200\n",
      "1518628\n",
      "\n",
      "<!DOCTYPE html>\n",
      "<html class=\"client-nojs\" lang=\"en\" dir=\"ltr\">\n",
      "<head>\n",
      "<meta charset=\"UTF-8\"/>\n",
      "<title>China - Wikipedia</title>\n",
      "<script>document.documentElement.className=\"client-js\";RLCONF={\"wgBreakF\n"
     ]
    }
   ],
   "source": []
  },
  {
   "cell_type": "code",
   "execution_count": 7,
   "metadata": {},
   "outputs": [
    {
     "name": "stdout",
     "output_type": "stream",
     "text": [
      "200\n",
      "1259740\n",
      "<!DOCTYPE html>\n",
      "<html class=\"client-nojs\" lang=\"en\" dir=\"ltr\">\n",
      "<head>\n",
      "<meta charset=\"UTF-8\"/>\n",
      "<title>China - Wikipedia</title>\n",
      "<script>document.documentElement.className = document.documentElement.cla\n"
     ]
    }
   ],
   "source": [
    "res=requests.get(url)\n",
    "print(res.status_code)\n",
    "print(len(res.text))\n",
    "print(res.text[0:200])"
   ]
  },
  {
   "cell_type": "code",
   "execution_count": null,
   "metadata": {},
   "outputs": [],
   "source": []
  },
  {
   "cell_type": "markdown",
   "metadata": {},
   "source": [
    "<h2>Saving info in files </h2>"
   ]
  },
  {
   "cell_type": "markdown",
   "metadata": {},
   "source": [
    "http://www.joelonsoftware.com/articles/Unicode.html"
   ]
  },
  {
   "cell_type": "code",
   "execution_count": 20,
   "metadata": {},
   "outputs": [],
   "source": [
    "url=\"https://ia800300.us.archive.org/27/items/amusementsinmath16713gut/16713-8.txt\"\n",
    "import requests\n",
    "res=requests.get(url)\n",
    "res.raise_for_status()\n",
    "playFile = open('amusement_in_math.txt','w',encoding=\"utf8\", errors='ignore') #'w')\n",
    "#for chunk in res.iter_content(100000):   \n",
    "    #c=chunk.decode(\"utf16\")\n",
    "playFile.write(res.text)\n",
    "playFile.close()\n"
   ]
  },
  {
   "cell_type": "code",
   "execution_count": 39,
   "metadata": {},
   "outputs": [
    {
     "data": {
      "text/plain": [
       "str"
      ]
     },
     "execution_count": 39,
     "metadata": {},
     "output_type": "execute_result"
    }
   ],
   "source": [
    "res.text[0:100]\n",
    "type(res.text)"
   ]
  },
  {
   "cell_type": "markdown",
   "metadata": {},
   "source": [
    "<h4> byte format and string </h4>"
   ]
  },
  {
   "cell_type": "code",
   "execution_count": 21,
   "metadata": {},
   "outputs": [
    {
     "name": "stdout",
     "output_type": "stream",
     "text": [
      "<class 'bytes'>\n",
      "b'spam'\n",
      "after the .decode()\n",
      "spam\n",
      "<class 'str'>\n"
     ]
    }
   ],
   "source": [
    "B=b'spam'\n",
    "print(type(B))\n",
    "print(B)\n",
    "Btext= B.decode()\n",
    "print (\"after the .decode() . . . \")\n",
    "print(Btext)\n",
    "print(type(Btext))"
   ]
  },
  {
   "cell_type": "markdown",
   "metadata": {},
   "source": [
    "writing  in a file"
   ]
  },
  {
   "cell_type": "code",
   "execution_count": 23,
   "metadata": {},
   "outputs": [],
   "source": [
    "import requests\n",
    "res=requests.get(url)\n",
    "rest=res.text\n",
    "res.raise_for_status()\n",
    "playFile = open('amusement_in_math0.txt','w')\n",
    "\n",
    "   \n",
    "    #c=chunk.decode(\"utf16\")\n",
    "playFile.write(rest)\n",
    "playFile.close()"
   ]
  },
  {
   "cell_type": "code",
   "execution_count": null,
   "metadata": {},
   "outputs": [],
   "source": []
  },
  {
   "cell_type": "code",
   "execution_count": null,
   "metadata": {},
   "outputs": [],
   "source": []
  },
  {
   "cell_type": "markdown",
   "metadata": {},
   "source": [
    "<p> <span style=\"color:purple\"> \n",
    "bring the url1 content to a file v.txt<br>\n",
    "get the request object \"res\" <br>\n",
    "    get the .text, and check status <br>\n",
    "    do the handle  with filename and  w <br>\n",
    "    write in file with handle.write(---) <br>\n",
    "    please! .close()\n",
    "    \n",
    "    \n",
    "</span>"
   ]
  },
  {
   "cell_type": "code",
   "execution_count": 11,
   "metadata": {},
   "outputs": [],
   "source": [
    "url1=\"https://archive.org/stream/MahasiSayadawTheSatipatthanaVipassanaMeditation/MahasiSayadaw-TheSatipatthanaVipassanaMeditation_djvu.txt\""
   ]
  },
  {
   "cell_type": "code",
   "execution_count": null,
   "metadata": {},
   "outputs": [],
   "source": []
  },
  {
   "cell_type": "code",
   "execution_count": 12,
   "metadata": {},
   "outputs": [],
   "source": [
    "res = requests.get(url1)\n",
    "text= res.text\n",
    "res.raise_for_status()\n",
    "textFile = open('v.txt','w') \n",
    "textFile.write(text)\n",
    "textFile.close()"
   ]
  },
  {
   "cell_type": "code",
   "execution_count": null,
   "metadata": {},
   "outputs": [],
   "source": []
  },
  {
   "cell_type": "markdown",
   "metadata": {},
   "source": [
    "<h2>Beautiful Soup </h2> <br>\n"
   ]
  },
  {
   "cell_type": "markdown",
   "metadata": {},
   "source": []
  },
  {
   "cell_type": "code",
   "execution_count": 22,
   "metadata": {},
   "outputs": [
    {
     "name": "stdout",
     "output_type": "stream",
     "text": [
      "the .text of the requests object is taken as a parameter\n"
     ]
    },
    {
     "data": {
      "text/plain": [
       "bs4.BeautifulSoup"
      ]
     },
     "execution_count": 22,
     "metadata": {},
     "output_type": "execute_result"
    }
   ],
   "source": [
    "import requests, bs4\n",
    "res = requests.get('http://nostarch.com')\n",
    "res.raise_for_status()\n",
    "print(\"the .text of the requests object is taken as a parameter\")\n",
    "noStarchSoup = bs4.BeautifulSoup(res.text)\n",
    "type(noStarchSoup)"
   ]
  },
  {
   "cell_type": "markdown",
   "metadata": {},
   "source": [
    "`import requests , bs4`<br>\n",
    "`res = requests.get(url) `<br>\n",
    "`res.raise_for_status() `<br>\n",
    "`BSinstance = bs4.BeautifulSoup(res.text `<br>\n"
   ]
  },
  {
   "cell_type": "code",
   "execution_count": null,
   "metadata": {},
   "outputs": [],
   "source": []
  },
  {
   "cell_type": "code",
   "execution_count": 14,
   "metadata": {},
   "outputs": [
    {
     "data": {
      "text/plain": [
       "[<a class=\"element-invisible element-focusable\" href=\"#main-content\">Skip to main content</a>,\n",
       " <a class=\"navbar-brand text-uppercase\" href=\"/\"><img alt=\"Home\" class=\"img-responsive\" src=\"https://nostarch.com/sites/all/themes/nostarch/logo.png\"/></a>,\n",
       " <a href=\"/catalog.htm\" title=\"Explore our catalog\">Catalog</a>,\n",
       " <a href=\"/blog\" title=\"The No Starch Press blog\">Blog</a>,\n",
       " <a href=\"/media.htm\" title=\"Media contact\">Media</a>]"
      ]
     },
     "execution_count": 14,
     "metadata": {},
     "output_type": "execute_result"
    }
   ],
   "source": [
    "noStarchSoup.select('a')[:5]"
   ]
  },
  {
   "cell_type": "markdown",
   "metadata": {},
   "source": [
    "<p> <span style=\"color:purple\"> \n",
    "form a bs instance `bseuler` with the given url\n",
    "        \n",
    "</span>"
   ]
  },
  {
   "cell_type": "code",
   "execution_count": 117,
   "metadata": {},
   "outputs": [],
   "source": [
    "eulerUrl='https://en.wikipedia.org/wiki/Leonhard_Euler'"
   ]
  },
  {
   "cell_type": "code",
   "execution_count": null,
   "metadata": {},
   "outputs": [],
   "source": [
    "\n",
    "\n"
   ]
  },
  {
   "cell_type": "code",
   "execution_count": 120,
   "metadata": {},
   "outputs": [
    {
     "name": "stderr",
     "output_type": "stream",
     "text": [
      "/home/dan/anaconda3/lib/python3.6/site-packages/bs4/__init__.py:181: UserWarning: No parser was explicitly specified, so I'm using the best available HTML parser for this system (\"lxml\"). This usually isn't a problem, but if you run this code on another system, or in a different virtual environment, it may use a different parser and behave differently.\n",
      "\n",
      "The code that caused this warning is on line 193 of the file /home/dan/anaconda3/lib/python3.6/runpy.py. To get rid of this warning, change code that looks like this:\n",
      "\n",
      " BeautifulSoup(YOUR_MARKUP})\n",
      "\n",
      "to this:\n",
      "\n",
      " BeautifulSoup(YOUR_MARKUP, \"lxml\")\n",
      "\n",
      "  markup_type=markup_type))\n"
     ]
    },
    {
     "data": {
      "text/plain": [
       "bs4.BeautifulSoup"
      ]
     },
     "execution_count": 120,
     "metadata": {},
     "output_type": "execute_result"
    }
   ],
   "source": [
    "res= requests.get(eulerUrl)\n",
    "res.raise_for_status()\n",
    "bseuler = bs4.BeautifulSoup(res.text)\n",
    "type(bseuler)"
   ]
  },
  {
   "cell_type": "code",
   "execution_count": null,
   "metadata": {},
   "outputs": [],
   "source": []
  },
  {
   "cell_type": "code",
   "execution_count": 121,
   "metadata": {},
   "outputs": [
    {
     "name": "stdout",
     "output_type": "stream",
     "text": [
      "1212\n",
      "60\n"
     ]
    }
   ],
   "source": [
    "print(len(bseuler.select('a')))\n",
    "print(len(bseuler.select('p')))\n"
   ]
  },
  {
   "cell_type": "markdown",
   "metadata": {},
   "source": [
    "<h3>Select attributes </h3>"
   ]
  },
  {
   "cell_type": "code",
   "execution_count": null,
   "metadata": {},
   "outputs": [],
   "source": []
  },
  {
   "cell_type": "code",
   "execution_count": 123,
   "metadata": {},
   "outputs": [],
   "source": [
    "bsobj= bseuler"
   ]
  },
  {
   "cell_type": "code",
   "execution_count": 124,
   "metadata": {},
   "outputs": [
    {
     "name": "stdout",
     "output_type": "stream",
     "text": [
      "[<p>Leonhard Euler was born on 15 April 1707, in <a href=\"/wiki/Basel\" title=\"Basel\">Basel</a>, Switzerland to Paul III Euler, a pastor of the <a class=\"mw-redirect\" href=\"/wiki/Reformed_Church\" title=\"Reformed Church\">Reformed Church</a>, and Marguerite <a href=\"/wiki/Given_name#Name_at_birth\" title=\"Given name\">née</a> Brucker, a pastor's daughter. He had two younger sisters: Anna Maria and Maria Magdalena, and a younger brother Johann Heinrich.<sup class=\"reference\" id=\"cite_ref-Calinger_8-0\"><a href=\"#cite_note-Calinger-8\">[8]</a></sup> Soon after the birth of Leonhard, the Eulers moved from Basel to the town of <a href=\"/wiki/Riehen\" title=\"Riehen\">Riehen</a>, where Euler spent most of his childhood. Paul Euler was a friend of the <a href=\"/wiki/Bernoulli_family\" title=\"Bernoulli family\">Bernoulli family</a>; <a href=\"/wiki/Johann_Bernoulli\" title=\"Johann Bernoulli\">Johann Bernoulli</a> was then regarded as Europe's foremost mathematician, and would eventually be the most important influence on young Leonhard.\n",
      "</p>]\n",
      "<class 'list'>\n",
      "60\n"
     ]
    }
   ],
   "source": [
    "#p\n",
    "all_p = bsobj.select('p')\n",
    "print(all_p[4:5])\n",
    "print(type(all_p))\n",
    "print(len(all_p))"
   ]
  },
  {
   "cell_type": "code",
   "execution_count": null,
   "metadata": {},
   "outputs": [],
   "source": []
  },
  {
   "cell_type": "code",
   "execution_count": 20,
   "metadata": {},
   "outputs": [
    {
     "name": "stdout",
     "output_type": "stream",
     "text": [
      "[<div class=\"noprint\" id=\"mw-page-base\"></div>, <div class=\"noprint\" id=\"mw-head-base\"></div>]\n"
     ]
    }
   ],
   "source": [
    "#div\n",
    "print(bsobj.select('div')[0:2])"
   ]
  },
  {
   "cell_type": "code",
   "execution_count": null,
   "metadata": {},
   "outputs": [],
   "source": []
  },
  {
   "cell_type": "code",
   "execution_count": 21,
   "metadata": {},
   "outputs": [
    {
     "name": "stdout",
     "output_type": "stream",
     "text": [
      "[<h1 class=\"firstHeading\" id=\"firstHeading\" lang=\"en\">Leonhard Euler</h1>]\n"
     ]
    }
   ],
   "source": [
    "tag='h1'\n",
    "print(bsobj.select(tag))"
   ]
  },
  {
   "cell_type": "code",
   "execution_count": 22,
   "metadata": {},
   "outputs": [
    {
     "name": "stdout",
     "output_type": "stream",
     "text": [
      "[<h2>Contents</h2>, <h2><span class=\"mw-headline\" id=\"Life\">Life</span></h2>, <h2><span class=\"mw-headline\" id=\"Contributions_to_mathematics_and_physics\">Contributions to mathematics and physics</span></h2>]\n"
     ]
    }
   ],
   "source": [
    "tag='h2'\n",
    "print(bsobj.select(tag)[0:3])"
   ]
  },
  {
   "cell_type": "code",
   "execution_count": null,
   "metadata": {},
   "outputs": [],
   "source": []
  },
  {
   "cell_type": "markdown",
   "metadata": {},
   "source": [
    "<h3>Select other attributes elements </h3>"
   ]
  },
  {
   "cell_type": "markdown",
   "metadata": {},
   "source": [
    "<h4>id and class </h4>"
   ]
  },
  {
   "cell_type": "code",
   "execution_count": 23,
   "metadata": {},
   "outputs": [
    {
     "name": "stdout",
     "output_type": "stream",
     "text": [
      "[<li id=\"cite_note-56\"><span class=\"mw-cite-backlink\"><b><a href=\"#cite_ref-56\">^</a></b></span> <span class=\"reference-text\">Johannes Mattheson, <i>Grosse General-Baß-Schule</i>, Hamburg, 1731, Vol. I, pp. 104–06, mentioned by Euler; and <i>Exemplarische Organisten-Probe</i>, Hamburg, 1719, pp. 57–59.</span>\n",
      "</li>]\n"
     ]
    }
   ],
   "source": [
    "idname=\"p-personal\"\n",
    "print(bsobj.select('#cite_note-56'))\n"
   ]
  },
  {
   "cell_type": "code",
   "execution_count": 24,
   "metadata": {},
   "outputs": [
    {
     "name": "stdout",
     "output_type": "stream",
     "text": [
      "[<span class=\"mw-headline\" id=\"Life\">Life</span>, <span class=\"mw-headline\" id=\"Early_years\">Early years</span>, <span class=\"mw-headline\" id=\"Saint_Petersburg\">Saint Petersburg</span>]\n"
     ]
    }
   ],
   "source": [
    "print(bsobj.select('.mw-headline')[0:3])"
   ]
  },
  {
   "cell_type": "code",
   "execution_count": null,
   "metadata": {},
   "outputs": [],
   "source": []
  },
  {
   "cell_type": "markdown",
   "metadata": {},
   "source": [
    "<h4> elements of tag 1 within tag 2 </h4>"
   ]
  },
  {
   "cell_type": "code",
   "execution_count": 128,
   "metadata": {},
   "outputs": [
    {
     "name": "stdout",
     "output_type": "stream",
     "text": [
      "[<span class=\"mw-headline\" id=\"Life\">Life</span>, <span class=\"mw-headline\" id=\"Contributions_to_mathematics_and_physics\">Contributions to mathematics and physics</span>, <span class=\"mw-headline\" id=\"Personal_philosophy_and_religious_beliefs\">Personal philosophy and religious beliefs</span>]\n"
     ]
    }
   ],
   "source": [
    "print(bsobj.select('h2 span')[0:3])"
   ]
  },
  {
   "cell_type": "code",
   "execution_count": null,
   "metadata": {},
   "outputs": [],
   "source": []
  },
  {
   "cell_type": "markdown",
   "metadata": {},
   "source": [
    "<h4> elements of tag 1 <i> directly </i> within tag 2 </h4>"
   ]
  },
  {
   "cell_type": "code",
   "execution_count": 125,
   "metadata": {},
   "outputs": [
    {
     "name": "stdout",
     "output_type": "stream",
     "text": [
      "[<span class=\"nowrap\"><span class=\"IPA nopopups noexcerpt\"><a href=\"/wiki/Help:IPA/English\" title=\"Help:IPA/English\">/<span style=\"border-bottom:1px dotted\"><span title=\"/ˈ/: primary stress follows\">ˈ</span><span title=\"/ɔɪ/: 'oi' in 'choice'\">ɔɪ</span><span title=\"'l' in 'lie'\">l</span><span title=\"/ər/: 'er' in 'letter'\">ər</span></span>/</a></span></span>, <span class=\"IPA\" title=\"Representation in the International Phonetic Alphabet (IPA)\"><a href=\"/wiki/Help:IPA/Standard_German\" title=\"Help:IPA/Standard German\">[ˈɔɪlər]</a></span>, <span class=\"nowrap\" style=\"font-size:85%\">(<span class=\"unicode haudio\"><span class=\"fn\"><span style=\"white-space:nowrap;margin-right:.25em;\"><a href=\"/wiki/File:De-Euler.ogg\" title=\"About this sound\"><img alt=\"About this sound\" data-file-height=\"20\" data-file-width=\"20\" decoding=\"async\" height=\"11\" src=\"//upload.wikimedia.org/wikipedia/commons/thumb/8/8a/Loudspeaker.svg/11px-Loudspeaker.svg.png\" srcset=\"//upload.wikimedia.org/wikipedia/commons/thumb/8/8a/Loudspeaker.svg/17px-Loudspeaker.svg.png 1.5x, //upload.wikimedia.org/wikipedia/commons/thumb/8/8a/Loudspeaker.svg/22px-Loudspeaker.svg.png 2x\" width=\"11\"/></a></span><a class=\"internal\" href=\"//upload.wikimedia.org/wikipedia/commons/c/c2/De-Euler.ogg\" title=\"De-Euler.ogg\">listen</a></span></span>)</span>]\n"
     ]
    }
   ],
   "source": [
    "print(bsobj.select('p > span')[0:3])"
   ]
  },
  {
   "cell_type": "code",
   "execution_count": null,
   "metadata": {},
   "outputs": [],
   "source": []
  },
  {
   "cell_type": "markdown",
   "metadata": {},
   "source": [
    "<h4> elements of tag 1  having a [attribute] of any value </h4>"
   ]
  },
  {
   "cell_type": "code",
   "execution_count": 27,
   "metadata": {},
   "outputs": [
    {
     "name": "stdout",
     "output_type": "stream",
     "text": [
      "[<input accesskey=\"f\" id=\"searchInput\" name=\"search\" placeholder=\"Search Wikipedia\" title=\"Search Wikipedia [f]\" type=\"search\"/>, <input name=\"title\" type=\"hidden\" value=\"Special:Search\"/>]\n"
     ]
    }
   ],
   "source": [
    "print(bsobj.select('input[name]')[0:2])"
   ]
  },
  {
   "cell_type": "code",
   "execution_count": null,
   "metadata": {},
   "outputs": [],
   "source": []
  },
  {
   "cell_type": "markdown",
   "metadata": {},
   "source": [
    "<h4> elements of tag 1  having a [attribute] with certain \"value\" </h4>"
   ]
  },
  {
   "cell_type": "code",
   "execution_count": 28,
   "metadata": {},
   "outputs": [
    {
     "name": "stdout",
     "output_type": "stream",
     "text": [
      "[<input class=\"toctogglecheckbox\" id=\"toctogglecheckbox\" role=\"button\" style=\"display:none\" type=\"checkbox\"/>, <input aria-labelledby=\"p-variants-label\" class=\"vectorMenuCheckbox\" type=\"checkbox\"/>]\n"
     ]
    }
   ],
   "source": [
    "print(bsobj.select('input[type=\"checkbox\"]')[0:2])"
   ]
  },
  {
   "cell_type": "code",
   "execution_count": null,
   "metadata": {},
   "outputs": [],
   "source": []
  },
  {
   "cell_type": "markdown",
   "metadata": {},
   "source": [
    "<h3>Getting text and data  </h3>"
   ]
  },
  {
   "cell_type": "markdown",
   "metadata": {},
   "source": [
    "<h4> getting the text </h4> `element.getText()`"
   ]
  },
  {
   "cell_type": "code",
   "execution_count": null,
   "metadata": {},
   "outputs": [],
   "source": []
  },
  {
   "cell_type": "code",
   "execution_count": 29,
   "metadata": {},
   "outputs": [
    {
     "name": "stdout",
     "output_type": "stream",
     "text": [
      "\n",
      "\n",
      "Leonhard Euler (/ˈɔɪlər/ OY-lər;[2] German: [ˈɔɪlər] (listen); 15 April 1707 – 18 September 1783) was a Swiss mathematician, physicist, astronomer, logician and engineer, who made important and influential discoveries in many branches of mathematics, such as infinitesimal calculus and graph theory, while also making pioneering contributions to several branches such as topology and analytic number theory. He also introduced much of the modern mathematical terminology and notation, particularly for mathematical analysis, such as the notion of a mathematical function.[3] He is also known for his work in mechanics, fluid dynamics, optics, astronomy, and music theory.[4]\n",
      "\n",
      "Euler was one of the most eminent mathematicians of the 18th century and is held to be one of the greatest in history. He is also widely considered to be the most prolific mathematician of all time. His collected works fill 60 to 80 quarto volumes,[5] more than anybody in the field. He spent most of his adult life in Saint Petersburg, Russia, and in Berlin, then the capital of Prussia.\n",
      "\n",
      "A statement attributed to Pierre-Simon Laplace expresses Euler's influence on mathematics: \"Read Euler, read Euler, he is the master of us all.\"[6][7]\n",
      "\n"
     ]
    }
   ],
   "source": [
    "all_p = bsobj.select('p')\n",
    "for itm in all_p[0:4]:\n",
    "    print (itm.getText())"
   ]
  },
  {
   "cell_type": "markdown",
   "metadata": {},
   "source": [
    "<p> <span style=\"color:purple\"> \n",
    "define a function `getPtext()` that returns all the text under the p tag given a bs4 object\n",
    "    \n",
    "</span>"
   ]
  },
  {
   "cell_type": "code",
   "execution_count": 30,
   "metadata": {},
   "outputs": [],
   "source": [
    "def getPText(bsobj):\n",
    "    all_p = bsobj.select('p')\n",
    "    text=\"\"\n",
    "    for itm in all_p:\n",
    "        text+=(itm.getText())\n",
    "    return text"
   ]
  },
  {
   "cell_type": "code",
   "execution_count": 31,
   "metadata": {},
   "outputs": [
    {
     "name": "stderr",
     "output_type": "stream",
     "text": [
      "/home/dan/anaconda3/lib/python3.6/site-packages/bs4/__init__.py:181: UserWarning: No parser was explicitly specified, so I'm using the best available HTML parser for this system (\"lxml\"). This usually isn't a problem, but if you run this code on another system, or in a different virtual environment, it may use a different parser and behave differently.\n",
      "\n",
      "The code that caused this warning is on line 193 of the file /home/dan/anaconda3/lib/python3.6/runpy.py. To get rid of this warning, change code that looks like this:\n",
      "\n",
      " BeautifulSoup(YOUR_MARKUP})\n",
      "\n",
      "to this:\n",
      "\n",
      " BeautifulSoup(YOUR_MARKUP, \"lxml\")\n",
      "\n",
      "  markup_type=markup_type))\n"
     ]
    }
   ],
   "source": [
    "import requests, bs4\n",
    "res=requests.get('https://he.wikipedia.org/wiki/%D7%A4%D7%A0%D7%93%D7%94_%D7%A2%D7%A0%D7%A7%D7%99%D7%AA')\n",
    "res.raise_for_status\n",
    "bs=bs4.BeautifulSoup(res.text)\n",
    "text =getPText(bs)"
   ]
  },
  {
   "cell_type": "code",
   "execution_count": 32,
   "metadata": {},
   "outputs": [],
   "source": [
    "#print(text)\n",
    "with open(\"text.txt\", 'w') as fw:\n",
    "    print(text,file= fw)"
   ]
  },
  {
   "cell_type": "code",
   "execution_count": null,
   "metadata": {},
   "outputs": [],
   "source": []
  },
  {
   "cell_type": "code",
   "execution_count": null,
   "metadata": {},
   "outputs": [],
   "source": []
  },
  {
   "cell_type": "markdown",
   "metadata": {},
   "source": [
    "<h3> Basic bs inquiry </h3>"
   ]
  },
  {
   "cell_type": "markdown",
   "metadata": {},
   "source": [
    "1. import BeautifulSoup  (from bs4) , and requests\n",
    "2. requests object : `res = requests.get(\" u r l \").text`\n",
    "3. instantiate bs object : `bs = BeautifulSoup (res , 'html5lib')`"
   ]
  },
  {
   "cell_type": "code",
   "execution_count": 8,
   "metadata": {},
   "outputs": [],
   "source": [
    "from bs4 import BeautifulSoup\n",
    "import requests\n",
    "html = requests.get(\"http://www.example.com\").text\n",
    "soup = BeautifulSoup(html,'html5lib')"
   ]
  },
  {
   "cell_type": "code",
   "execution_count": 9,
   "metadata": {},
   "outputs": [
    {
     "data": {
      "text/plain": [
       "<p>This domain is established to be used for illustrative examples in documents. You may use this\n",
       "    domain in examples without prior coordination or asking for permission.</p>"
      ]
     },
     "execution_count": 9,
     "metadata": {},
     "output_type": "execute_result"
    }
   ],
   "source": [
    "first_paragraph= soup.find('p')\n",
    "first_paragraph"
   ]
  },
  {
   "cell_type": "code",
   "execution_count": 14,
   "metadata": {},
   "outputs": [
    {
     "name": "stdout",
     "output_type": "stream",
     "text": [
      "This domain is established to be used for illustrative examples in documents. You may use this\n",
      "    domain in examples without prior coordination or asking for permission.\n"
     ]
    },
    {
     "data": {
      "text/plain": [
       "['This', 'domain', 'is', 'established', 'to', 'be']"
      ]
     },
     "execution_count": 14,
     "metadata": {},
     "output_type": "execute_result"
    }
   ],
   "source": [
    "#only the text\n",
    "print(soup.p.text)\n",
    "#by words\n",
    "soup.p.text.split()[:6]"
   ]
  },
  {
   "cell_type": "code",
   "execution_count": 136,
   "metadata": {},
   "outputs": [
    {
     "name": "stderr",
     "output_type": "stream",
     "text": [
      "/home/dan/anaconda3/lib/python3.6/site-packages/bs4/__init__.py:181: UserWarning: No parser was explicitly specified, so I'm using the best available HTML parser for this system (\"lxml\"). This usually isn't a problem, but if you run this code on another system, or in a different virtual environment, it may use a different parser and behave differently.\n",
      "\n",
      "The code that caused this warning is on line 193 of the file /home/dan/anaconda3/lib/python3.6/runpy.py. To get rid of this warning, change code that looks like this:\n",
      "\n",
      " BeautifulSoup(YOUR_MARKUP})\n",
      "\n",
      "to this:\n",
      "\n",
      " BeautifulSoup(YOUR_MARKUP, \"lxml\")\n",
      "\n",
      "  markup_type=markup_type))\n"
     ]
    }
   ],
   "source": [
    "res= requests.get(\"https://en.wikipedia.org/wiki/Ludwig_van_Beethoven\")\n",
    "bsBee=BeautifulSoup(res.text)"
   ]
  },
  {
   "cell_type": "code",
   "execution_count": 137,
   "metadata": {},
   "outputs": [
    {
     "name": "stdout",
     "output_type": "stream",
     "text": [
      "get atribute\n",
      "<h1 class=\"firstHeading\" id=\"firstHeading\" lang=\"\">Ludwig van Beethoven</h1>\n",
      "get the text       \n",
      "Ludwig van Beethoven\n"
     ]
    }
   ],
   "source": [
    "#tag attributes\n",
    "print(\"get atribute\")\n",
    "Beparagraph= bsBee.h1\n",
    "print(Beparagraph)\n",
    "print(\"get the text       \")\n",
    "print(bsBee.h1.text)"
   ]
  },
  {
   "cell_type": "code",
   "execution_count": 92,
   "metadata": {},
   "outputs": [
    {
     "name": "stdout",
     "output_type": "stream",
     "text": [
      "[<p class=\"mw-empty-elt\">\n",
      "</p>, <p class=\"mw-empty-elt\">\n",
      "</p>]\n"
     ]
    }
   ],
   "source": [
    "all_paragraphs = bsBee.find_all('p') # or just soup('p')\n",
    "print(all_paragraphs[:2])\n",
    "\n"
   ]
  },
  {
   "cell_type": "code",
   "execution_count": 138,
   "metadata": {},
   "outputs": [
    {
     "data": {
      "text/plain": [
       "'firstHeading'"
      ]
     },
     "execution_count": 138,
     "metadata": {},
     "output_type": "execute_result"
    }
   ],
   "source": [
    "#get the attributes\n",
    "h1Id = bsBee.h1['id']\n",
    "h1Id\n",
    "\n"
   ]
  },
  {
   "cell_type": "code",
   "execution_count": 139,
   "metadata": {},
   "outputs": [
    {
     "name": "stdout",
     "output_type": "stream",
     "text": [
      "[<h2>Contents</h2>, <h2><span class=\"mw-headline\" id=\"Biography\">Biography</span></h2>, <h2><span class=\"mw-headline\" id=\"Music\">Music</span></h2>, <h2><span class=\"mw-headline\" id=\"Character\">Character</span></h2>, <h2><span class=\"mw-headline\" id=\"Legacy\">Legacy</span></h2>, <h2><span class=\"mw-headline\" id=\"See_also\">See also</span></h2>, <h2><span class=\"mw-headline\" id=\"References\">References</span></h2>, <h2><span class=\"mw-headline\" id=\"External_links\">External links</span></h2>, <h2>Navigation menu</h2>]\n"
     ]
    },
    {
     "data": {
      "text/plain": [
       "bs4.element.Tag"
      ]
     },
     "execution_count": 139,
     "metadata": {},
     "output_type": "execute_result"
    }
   ],
   "source": [
    "#get all of one tag\n",
    "allH2= bsBee.find_all('h2')\n",
    "print(allH2)\n",
    "type(allH2[2])"
   ]
  },
  {
   "cell_type": "code",
   "execution_count": 157,
   "metadata": {},
   "outputs": [
    {
     "name": "stdout",
     "output_type": "stream",
     "text": [
      "<h2><span class=\"mw-headline\" id=\"Music\">Music</span></h2>\n"
     ]
    },
    {
     "data": {
      "text/plain": [
       "'Music'"
      ]
     },
     "execution_count": 157,
     "metadata": {},
     "output_type": "execute_result"
    }
   ],
   "source": [
    "#extract attributes\n",
    "print(allH2[2])\n",
    "allH2[2].span['id']"
   ]
  },
  {
   "cell_type": "code",
   "execution_count": 141,
   "metadata": {},
   "outputs": [],
   "source": [
    "\n",
    "#mylink.attrs['href'"
   ]
  },
  {
   "cell_type": "code",
   "execution_count": 142,
   "metadata": {},
   "outputs": [
    {
     "data": {
      "text/plain": [
       "bs4.element.ResultSet"
      ]
     },
     "execution_count": 142,
     "metadata": {},
     "output_type": "execute_result"
    }
   ],
   "source": [
    "type(allH2)"
   ]
  },
  {
   "cell_type": "code",
   "execution_count": null,
   "metadata": {},
   "outputs": [],
   "source": []
  },
  {
   "cell_type": "code",
   "execution_count": null,
   "metadata": {},
   "outputs": [],
   "source": []
  },
  {
   "cell_type": "markdown",
   "metadata": {},
   "source": [
    "<h3> accessing gh API </h3>"
   ]
  },
  {
   "cell_type": "code",
   "execution_count": 159,
   "metadata": {},
   "outputs": [],
   "source": [
    "import requests, json\n",
    "endpointg = \"https://api.github.com/users/joelgrus/repos\"\n",
    "endpointd = \"https://api.github.com/users/chezydan/repos\"\n",
    "repos = json.loads(requests.get(endpointg).text)"
   ]
  },
  {
   "cell_type": "code",
   "execution_count": 160,
   "metadata": {},
   "outputs": [
    {
     "name": "stdout",
     "output_type": "stream",
     "text": [
      "Requirement already satisfied: python-dateutil in /home/dan/anaconda3/lib/python3.6/site-packages (2.7.3)\r\n",
      "Requirement already satisfied: six>=1.5 in /home/dan/anaconda3/lib/python3.6/site-packages (from python-dateutil) (1.11.0)\r\n"
     ]
    }
   ],
   "source": [
    "#installing a parser\n",
    "#!pip install python-dateutil"
   ]
  },
  {
   "cell_type": "code",
   "execution_count": 166,
   "metadata": {},
   "outputs": [],
   "source": [
    "from collections import Counter\n",
    "from dateutil.parser import parse\n",
    "dates = [parse(repo[\"created_at\"]) for repo in repos]\n",
    "month_counts = Counter(date.month for date in dates)\n",
    "weekday_counts = Counter(date.weekday() for date in dates)"
   ]
  },
  {
   "cell_type": "code",
   "execution_count": 167,
   "metadata": {},
   "outputs": [
    {
     "data": {
      "text/plain": [
       "[{'id': 168755903,\n",
       "  'node_id': 'MDEwOlJlcG9zaXRvcnkxNjg3NTU5MDM=',\n",
       "  'name': 'awesome-podcasts',\n",
       "  'full_name': 'joelgrus/awesome-podcasts',\n",
       "  'private': False,\n",
       "  'owner': {'login': 'joelgrus',\n",
       "   'id': 1308313,\n",
       "   'node_id': 'MDQ6VXNlcjEzMDgzMTM=',\n",
       "   'avatar_url': 'https://avatars1.githubusercontent.com/u/1308313?v=4',\n",
       "   'gravatar_id': '',\n",
       "   'url': 'https://api.github.com/users/joelgrus',\n",
       "   'html_url': 'https://github.com/joelgrus',\n",
       "   'followers_url': 'https://api.github.com/users/joelgrus/followers',\n",
       "   'following_url': 'https://api.github.com/users/joelgrus/following{/other_user}',\n",
       "   'gists_url': 'https://api.github.com/users/joelgrus/gists{/gist_id}',\n",
       "   'starred_url': 'https://api.github.com/users/joelgrus/starred{/owner}{/repo}',\n",
       "   'subscriptions_url': 'https://api.github.com/users/joelgrus/subscriptions',\n",
       "   'organizations_url': 'https://api.github.com/users/joelgrus/orgs',\n",
       "   'repos_url': 'https://api.github.com/users/joelgrus/repos',\n",
       "   'events_url': 'https://api.github.com/users/joelgrus/events{/privacy}',\n",
       "   'received_events_url': 'https://api.github.com/users/joelgrus/received_events',\n",
       "   'type': 'User',\n",
       "   'site_admin': False},\n",
       "  'html_url': 'https://github.com/joelgrus/awesome-podcasts',\n",
       "  'description': 'Collection of awesome podcasts',\n",
       "  'fork': True,\n",
       "  'url': 'https://api.github.com/repos/joelgrus/awesome-podcasts',\n",
       "  'forks_url': 'https://api.github.com/repos/joelgrus/awesome-podcasts/forks',\n",
       "  'keys_url': 'https://api.github.com/repos/joelgrus/awesome-podcasts/keys{/key_id}',\n",
       "  'collaborators_url': 'https://api.github.com/repos/joelgrus/awesome-podcasts/collaborators{/collaborator}',\n",
       "  'teams_url': 'https://api.github.com/repos/joelgrus/awesome-podcasts/teams',\n",
       "  'hooks_url': 'https://api.github.com/repos/joelgrus/awesome-podcasts/hooks',\n",
       "  'issue_events_url': 'https://api.github.com/repos/joelgrus/awesome-podcasts/issues/events{/number}',\n",
       "  'events_url': 'https://api.github.com/repos/joelgrus/awesome-podcasts/events',\n",
       "  'assignees_url': 'https://api.github.com/repos/joelgrus/awesome-podcasts/assignees{/user}',\n",
       "  'branches_url': 'https://api.github.com/repos/joelgrus/awesome-podcasts/branches{/branch}',\n",
       "  'tags_url': 'https://api.github.com/repos/joelgrus/awesome-podcasts/tags',\n",
       "  'blobs_url': 'https://api.github.com/repos/joelgrus/awesome-podcasts/git/blobs{/sha}',\n",
       "  'git_tags_url': 'https://api.github.com/repos/joelgrus/awesome-podcasts/git/tags{/sha}',\n",
       "  'git_refs_url': 'https://api.github.com/repos/joelgrus/awesome-podcasts/git/refs{/sha}',\n",
       "  'trees_url': 'https://api.github.com/repos/joelgrus/awesome-podcasts/git/trees{/sha}',\n",
       "  'statuses_url': 'https://api.github.com/repos/joelgrus/awesome-podcasts/statuses/{sha}',\n",
       "  'languages_url': 'https://api.github.com/repos/joelgrus/awesome-podcasts/languages',\n",
       "  'stargazers_url': 'https://api.github.com/repos/joelgrus/awesome-podcasts/stargazers',\n",
       "  'contributors_url': 'https://api.github.com/repos/joelgrus/awesome-podcasts/contributors',\n",
       "  'subscribers_url': 'https://api.github.com/repos/joelgrus/awesome-podcasts/subscribers',\n",
       "  'subscription_url': 'https://api.github.com/repos/joelgrus/awesome-podcasts/subscription',\n",
       "  'commits_url': 'https://api.github.com/repos/joelgrus/awesome-podcasts/commits{/sha}',\n",
       "  'git_commits_url': 'https://api.github.com/repos/joelgrus/awesome-podcasts/git/commits{/sha}',\n",
       "  'comments_url': 'https://api.github.com/repos/joelgrus/awesome-podcasts/comments{/number}',\n",
       "  'issue_comment_url': 'https://api.github.com/repos/joelgrus/awesome-podcasts/issues/comments{/number}',\n",
       "  'contents_url': 'https://api.github.com/repos/joelgrus/awesome-podcasts/contents/{+path}',\n",
       "  'compare_url': 'https://api.github.com/repos/joelgrus/awesome-podcasts/compare/{base}...{head}',\n",
       "  'merges_url': 'https://api.github.com/repos/joelgrus/awesome-podcasts/merges',\n",
       "  'archive_url': 'https://api.github.com/repos/joelgrus/awesome-podcasts/{archive_format}{/ref}',\n",
       "  'downloads_url': 'https://api.github.com/repos/joelgrus/awesome-podcasts/downloads',\n",
       "  'issues_url': 'https://api.github.com/repos/joelgrus/awesome-podcasts/issues{/number}',\n",
       "  'pulls_url': 'https://api.github.com/repos/joelgrus/awesome-podcasts/pulls{/number}',\n",
       "  'milestones_url': 'https://api.github.com/repos/joelgrus/awesome-podcasts/milestones{/number}',\n",
       "  'notifications_url': 'https://api.github.com/repos/joelgrus/awesome-podcasts/notifications{?since,all,participating}',\n",
       "  'labels_url': 'https://api.github.com/repos/joelgrus/awesome-podcasts/labels{/name}',\n",
       "  'releases_url': 'https://api.github.com/repos/joelgrus/awesome-podcasts/releases{/id}',\n",
       "  'deployments_url': 'https://api.github.com/repos/joelgrus/awesome-podcasts/deployments',\n",
       "  'created_at': '2019-02-01T20:25:46Z',\n",
       "  'updated_at': '2019-03-01T13:16:57Z',\n",
       "  'pushed_at': '2019-02-01T20:29:18Z',\n",
       "  'git_url': 'git://github.com/joelgrus/awesome-podcasts.git',\n",
       "  'ssh_url': 'git@github.com:joelgrus/awesome-podcasts.git',\n",
       "  'clone_url': 'https://github.com/joelgrus/awesome-podcasts.git',\n",
       "  'svn_url': 'https://github.com/joelgrus/awesome-podcasts',\n",
       "  'homepage': '',\n",
       "  'size': 399,\n",
       "  'stargazers_count': 1,\n",
       "  'watchers_count': 1,\n",
       "  'language': None,\n",
       "  'has_issues': False,\n",
       "  'has_projects': True,\n",
       "  'has_downloads': True,\n",
       "  'has_wiki': True,\n",
       "  'has_pages': False,\n",
       "  'forks_count': 0,\n",
       "  'mirror_url': None,\n",
       "  'archived': False,\n",
       "  'open_issues_count': 0,\n",
       "  'license': None,\n",
       "  'forks': 0,\n",
       "  'open_issues': 0,\n",
       "  'watchers': 1,\n",
       "  'default_branch': 'master'},\n",
       " {'id': 162483325,\n",
       "  'node_id': 'MDEwOlJlcG9zaXRvcnkxNjI0ODMzMjU=',\n",
       "  'name': 'allennlp-demo',\n",
       "  'full_name': 'joelgrus/allennlp-demo',\n",
       "  'private': False,\n",
       "  'owner': {'login': 'joelgrus',\n",
       "   'id': 1308313,\n",
       "   'node_id': 'MDQ6VXNlcjEzMDgzMTM=',\n",
       "   'avatar_url': 'https://avatars1.githubusercontent.com/u/1308313?v=4',\n",
       "   'gravatar_id': '',\n",
       "   'url': 'https://api.github.com/users/joelgrus',\n",
       "   'html_url': 'https://github.com/joelgrus',\n",
       "   'followers_url': 'https://api.github.com/users/joelgrus/followers',\n",
       "   'following_url': 'https://api.github.com/users/joelgrus/following{/other_user}',\n",
       "   'gists_url': 'https://api.github.com/users/joelgrus/gists{/gist_id}',\n",
       "   'starred_url': 'https://api.github.com/users/joelgrus/starred{/owner}{/repo}',\n",
       "   'subscriptions_url': 'https://api.github.com/users/joelgrus/subscriptions',\n",
       "   'organizations_url': 'https://api.github.com/users/joelgrus/orgs',\n",
       "   'repos_url': 'https://api.github.com/users/joelgrus/repos',\n",
       "   'events_url': 'https://api.github.com/users/joelgrus/events{/privacy}',\n",
       "   'received_events_url': 'https://api.github.com/users/joelgrus/received_events',\n",
       "   'type': 'User',\n",
       "   'site_admin': False},\n",
       "  'html_url': 'https://github.com/joelgrus/allennlp-demo',\n",
       "  'description': 'code for demo.allennlp.org',\n",
       "  'fork': True,\n",
       "  'url': 'https://api.github.com/repos/joelgrus/allennlp-demo',\n",
       "  'forks_url': 'https://api.github.com/repos/joelgrus/allennlp-demo/forks',\n",
       "  'keys_url': 'https://api.github.com/repos/joelgrus/allennlp-demo/keys{/key_id}',\n",
       "  'collaborators_url': 'https://api.github.com/repos/joelgrus/allennlp-demo/collaborators{/collaborator}',\n",
       "  'teams_url': 'https://api.github.com/repos/joelgrus/allennlp-demo/teams',\n",
       "  'hooks_url': 'https://api.github.com/repos/joelgrus/allennlp-demo/hooks',\n",
       "  'issue_events_url': 'https://api.github.com/repos/joelgrus/allennlp-demo/issues/events{/number}',\n",
       "  'events_url': 'https://api.github.com/repos/joelgrus/allennlp-demo/events',\n",
       "  'assignees_url': 'https://api.github.com/repos/joelgrus/allennlp-demo/assignees{/user}',\n",
       "  'branches_url': 'https://api.github.com/repos/joelgrus/allennlp-demo/branches{/branch}',\n",
       "  'tags_url': 'https://api.github.com/repos/joelgrus/allennlp-demo/tags',\n",
       "  'blobs_url': 'https://api.github.com/repos/joelgrus/allennlp-demo/git/blobs{/sha}',\n",
       "  'git_tags_url': 'https://api.github.com/repos/joelgrus/allennlp-demo/git/tags{/sha}',\n",
       "  'git_refs_url': 'https://api.github.com/repos/joelgrus/allennlp-demo/git/refs{/sha}',\n",
       "  'trees_url': 'https://api.github.com/repos/joelgrus/allennlp-demo/git/trees{/sha}',\n",
       "  'statuses_url': 'https://api.github.com/repos/joelgrus/allennlp-demo/statuses/{sha}',\n",
       "  'languages_url': 'https://api.github.com/repos/joelgrus/allennlp-demo/languages',\n",
       "  'stargazers_url': 'https://api.github.com/repos/joelgrus/allennlp-demo/stargazers',\n",
       "  'contributors_url': 'https://api.github.com/repos/joelgrus/allennlp-demo/contributors',\n",
       "  'subscribers_url': 'https://api.github.com/repos/joelgrus/allennlp-demo/subscribers',\n",
       "  'subscription_url': 'https://api.github.com/repos/joelgrus/allennlp-demo/subscription',\n",
       "  'commits_url': 'https://api.github.com/repos/joelgrus/allennlp-demo/commits{/sha}',\n",
       "  'git_commits_url': 'https://api.github.com/repos/joelgrus/allennlp-demo/git/commits{/sha}',\n",
       "  'comments_url': 'https://api.github.com/repos/joelgrus/allennlp-demo/comments{/number}',\n",
       "  'issue_comment_url': 'https://api.github.com/repos/joelgrus/allennlp-demo/issues/comments{/number}',\n",
       "  'contents_url': 'https://api.github.com/repos/joelgrus/allennlp-demo/contents/{+path}',\n",
       "  'compare_url': 'https://api.github.com/repos/joelgrus/allennlp-demo/compare/{base}...{head}',\n",
       "  'merges_url': 'https://api.github.com/repos/joelgrus/allennlp-demo/merges',\n",
       "  'archive_url': 'https://api.github.com/repos/joelgrus/allennlp-demo/{archive_format}{/ref}',\n",
       "  'downloads_url': 'https://api.github.com/repos/joelgrus/allennlp-demo/downloads',\n",
       "  'issues_url': 'https://api.github.com/repos/joelgrus/allennlp-demo/issues{/number}',\n",
       "  'pulls_url': 'https://api.github.com/repos/joelgrus/allennlp-demo/pulls{/number}',\n",
       "  'milestones_url': 'https://api.github.com/repos/joelgrus/allennlp-demo/milestones{/number}',\n",
       "  'notifications_url': 'https://api.github.com/repos/joelgrus/allennlp-demo/notifications{?since,all,participating}',\n",
       "  'labels_url': 'https://api.github.com/repos/joelgrus/allennlp-demo/labels{/name}',\n",
       "  'releases_url': 'https://api.github.com/repos/joelgrus/allennlp-demo/releases{/id}',\n",
       "  'deployments_url': 'https://api.github.com/repos/joelgrus/allennlp-demo/deployments',\n",
       "  'created_at': '2018-12-19T19:44:45Z',\n",
       "  'updated_at': '2019-01-21T18:32:38Z',\n",
       "  'pushed_at': '2019-03-27T18:46:06Z',\n",
       "  'git_url': 'git://github.com/joelgrus/allennlp-demo.git',\n",
       "  'ssh_url': 'git@github.com:joelgrus/allennlp-demo.git',\n",
       "  'clone_url': 'https://github.com/joelgrus/allennlp-demo.git',\n",
       "  'svn_url': 'https://github.com/joelgrus/allennlp-demo',\n",
       "  'homepage': None,\n",
       "  'size': 35336,\n",
       "  'stargazers_count': 0,\n",
       "  'watchers_count': 0,\n",
       "  'language': 'Python',\n",
       "  'has_issues': False,\n",
       "  'has_projects': True,\n",
       "  'has_downloads': True,\n",
       "  'has_wiki': True,\n",
       "  'has_pages': False,\n",
       "  'forks_count': 0,\n",
       "  'mirror_url': None,\n",
       "  'archived': False,\n",
       "  'open_issues_count': 0,\n",
       "  'license': {'key': 'apache-2.0',\n",
       "   'name': 'Apache License 2.0',\n",
       "   'spdx_id': 'Apache-2.0',\n",
       "   'url': 'https://api.github.com/licenses/apache-2.0',\n",
       "   'node_id': 'MDc6TGljZW5zZTI='},\n",
       "  'forks': 0,\n",
       "  'open_issues': 0,\n",
       "  'watchers': 0,\n",
       "  'default_branch': 'master'},\n",
       " {'id': 159886377,\n",
       "  'node_id': 'MDEwOlJlcG9zaXRvcnkxNTk4ODYzNzc=',\n",
       "  'name': 'advent2018',\n",
       "  'full_name': 'joelgrus/advent2018',\n",
       "  'private': False,\n",
       "  'owner': {'login': 'joelgrus',\n",
       "   'id': 1308313,\n",
       "   'node_id': 'MDQ6VXNlcjEzMDgzMTM=',\n",
       "   'avatar_url': 'https://avatars1.githubusercontent.com/u/1308313?v=4',\n",
       "   'gravatar_id': '',\n",
       "   'url': 'https://api.github.com/users/joelgrus',\n",
       "   'html_url': 'https://github.com/joelgrus',\n",
       "   'followers_url': 'https://api.github.com/users/joelgrus/followers',\n",
       "   'following_url': 'https://api.github.com/users/joelgrus/following{/other_user}',\n",
       "   'gists_url': 'https://api.github.com/users/joelgrus/gists{/gist_id}',\n",
       "   'starred_url': 'https://api.github.com/users/joelgrus/starred{/owner}{/repo}',\n",
       "   'subscriptions_url': 'https://api.github.com/users/joelgrus/subscriptions',\n",
       "   'organizations_url': 'https://api.github.com/users/joelgrus/orgs',\n",
       "   'repos_url': 'https://api.github.com/users/joelgrus/repos',\n",
       "   'events_url': 'https://api.github.com/users/joelgrus/events{/privacy}',\n",
       "   'received_events_url': 'https://api.github.com/users/joelgrus/received_events',\n",
       "   'type': 'User',\n",
       "   'site_admin': False},\n",
       "  'html_url': 'https://github.com/joelgrus/advent2018',\n",
       "  'description': 'solutions for advent of code 2018',\n",
       "  'fork': False,\n",
       "  'url': 'https://api.github.com/repos/joelgrus/advent2018',\n",
       "  'forks_url': 'https://api.github.com/repos/joelgrus/advent2018/forks',\n",
       "  'keys_url': 'https://api.github.com/repos/joelgrus/advent2018/keys{/key_id}',\n",
       "  'collaborators_url': 'https://api.github.com/repos/joelgrus/advent2018/collaborators{/collaborator}',\n",
       "  'teams_url': 'https://api.github.com/repos/joelgrus/advent2018/teams',\n",
       "  'hooks_url': 'https://api.github.com/repos/joelgrus/advent2018/hooks',\n",
       "  'issue_events_url': 'https://api.github.com/repos/joelgrus/advent2018/issues/events{/number}',\n",
       "  'events_url': 'https://api.github.com/repos/joelgrus/advent2018/events',\n",
       "  'assignees_url': 'https://api.github.com/repos/joelgrus/advent2018/assignees{/user}',\n",
       "  'branches_url': 'https://api.github.com/repos/joelgrus/advent2018/branches{/branch}',\n",
       "  'tags_url': 'https://api.github.com/repos/joelgrus/advent2018/tags',\n",
       "  'blobs_url': 'https://api.github.com/repos/joelgrus/advent2018/git/blobs{/sha}',\n",
       "  'git_tags_url': 'https://api.github.com/repos/joelgrus/advent2018/git/tags{/sha}',\n",
       "  'git_refs_url': 'https://api.github.com/repos/joelgrus/advent2018/git/refs{/sha}',\n",
       "  'trees_url': 'https://api.github.com/repos/joelgrus/advent2018/git/trees{/sha}',\n",
       "  'statuses_url': 'https://api.github.com/repos/joelgrus/advent2018/statuses/{sha}',\n",
       "  'languages_url': 'https://api.github.com/repos/joelgrus/advent2018/languages',\n",
       "  'stargazers_url': 'https://api.github.com/repos/joelgrus/advent2018/stargazers',\n",
       "  'contributors_url': 'https://api.github.com/repos/joelgrus/advent2018/contributors',\n",
       "  'subscribers_url': 'https://api.github.com/repos/joelgrus/advent2018/subscribers',\n",
       "  'subscription_url': 'https://api.github.com/repos/joelgrus/advent2018/subscription',\n",
       "  'commits_url': 'https://api.github.com/repos/joelgrus/advent2018/commits{/sha}',\n",
       "  'git_commits_url': 'https://api.github.com/repos/joelgrus/advent2018/git/commits{/sha}',\n",
       "  'comments_url': 'https://api.github.com/repos/joelgrus/advent2018/comments{/number}',\n",
       "  'issue_comment_url': 'https://api.github.com/repos/joelgrus/advent2018/issues/comments{/number}',\n",
       "  'contents_url': 'https://api.github.com/repos/joelgrus/advent2018/contents/{+path}',\n",
       "  'compare_url': 'https://api.github.com/repos/joelgrus/advent2018/compare/{base}...{head}',\n",
       "  'merges_url': 'https://api.github.com/repos/joelgrus/advent2018/merges',\n",
       "  'archive_url': 'https://api.github.com/repos/joelgrus/advent2018/{archive_format}{/ref}',\n",
       "  'downloads_url': 'https://api.github.com/repos/joelgrus/advent2018/downloads',\n",
       "  'issues_url': 'https://api.github.com/repos/joelgrus/advent2018/issues{/number}',\n",
       "  'pulls_url': 'https://api.github.com/repos/joelgrus/advent2018/pulls{/number}',\n",
       "  'milestones_url': 'https://api.github.com/repos/joelgrus/advent2018/milestones{/number}',\n",
       "  'notifications_url': 'https://api.github.com/repos/joelgrus/advent2018/notifications{?since,all,participating}',\n",
       "  'labels_url': 'https://api.github.com/repos/joelgrus/advent2018/labels{/name}',\n",
       "  'releases_url': 'https://api.github.com/repos/joelgrus/advent2018/releases{/id}',\n",
       "  'deployments_url': 'https://api.github.com/repos/joelgrus/advent2018/deployments',\n",
       "  'created_at': '2018-11-30T22:41:16Z',\n",
       "  'updated_at': '2019-02-23T08:50:21Z',\n",
       "  'pushed_at': '2018-12-19T06:04:24Z',\n",
       "  'git_url': 'git://github.com/joelgrus/advent2018.git',\n",
       "  'ssh_url': 'git@github.com:joelgrus/advent2018.git',\n",
       "  'clone_url': 'https://github.com/joelgrus/advent2018.git',\n",
       "  'svn_url': 'https://github.com/joelgrus/advent2018',\n",
       "  'homepage': None,\n",
       "  'size': 121,\n",
       "  'stargazers_count': 14,\n",
       "  'watchers_count': 14,\n",
       "  'language': 'Python',\n",
       "  'has_issues': True,\n",
       "  'has_projects': True,\n",
       "  'has_downloads': True,\n",
       "  'has_wiki': True,\n",
       "  'has_pages': False,\n",
       "  'forks_count': 2,\n",
       "  'mirror_url': None,\n",
       "  'archived': False,\n",
       "  'open_issues_count': 0,\n",
       "  'license': {'key': 'unlicense',\n",
       "   'name': 'The Unlicense',\n",
       "   'spdx_id': 'Unlicense',\n",
       "   'url': 'https://api.github.com/licenses/unlicense',\n",
       "   'node_id': 'MDc6TGljZW5zZTE1'},\n",
       "  'forks': 2,\n",
       "  'open_issues': 0,\n",
       "  'watchers': 14,\n",
       "  'default_branch': 'master'},\n",
       " {'id': 149900501,\n",
       "  'node_id': 'MDEwOlJlcG9zaXRvcnkxNDk5MDA1MDE=',\n",
       "  'name': 'data',\n",
       "  'full_name': 'joelgrus/data',\n",
       "  'private': False,\n",
       "  'owner': {'login': 'joelgrus',\n",
       "   'id': 1308313,\n",
       "   'node_id': 'MDQ6VXNlcjEzMDgzMTM=',\n",
       "   'avatar_url': 'https://avatars1.githubusercontent.com/u/1308313?v=4',\n",
       "   'gravatar_id': '',\n",
       "   'url': 'https://api.github.com/users/joelgrus',\n",
       "   'html_url': 'https://github.com/joelgrus',\n",
       "   'followers_url': 'https://api.github.com/users/joelgrus/followers',\n",
       "   'following_url': 'https://api.github.com/users/joelgrus/following{/other_user}',\n",
       "   'gists_url': 'https://api.github.com/users/joelgrus/gists{/gist_id}',\n",
       "   'starred_url': 'https://api.github.com/users/joelgrus/starred{/owner}{/repo}',\n",
       "   'subscriptions_url': 'https://api.github.com/users/joelgrus/subscriptions',\n",
       "   'organizations_url': 'https://api.github.com/users/joelgrus/orgs',\n",
       "   'repos_url': 'https://api.github.com/users/joelgrus/repos',\n",
       "   'events_url': 'https://api.github.com/users/joelgrus/events{/privacy}',\n",
       "   'received_events_url': 'https://api.github.com/users/joelgrus/received_events',\n",
       "   'type': 'User',\n",
       "   'site_admin': False},\n",
       "  'html_url': 'https://github.com/joelgrus/data',\n",
       "  'description': 'datasets for data science from scratch',\n",
       "  'fork': False,\n",
       "  'url': 'https://api.github.com/repos/joelgrus/data',\n",
       "  'forks_url': 'https://api.github.com/repos/joelgrus/data/forks',\n",
       "  'keys_url': 'https://api.github.com/repos/joelgrus/data/keys{/key_id}',\n",
       "  'collaborators_url': 'https://api.github.com/repos/joelgrus/data/collaborators{/collaborator}',\n",
       "  'teams_url': 'https://api.github.com/repos/joelgrus/data/teams',\n",
       "  'hooks_url': 'https://api.github.com/repos/joelgrus/data/hooks',\n",
       "  'issue_events_url': 'https://api.github.com/repos/joelgrus/data/issues/events{/number}',\n",
       "  'events_url': 'https://api.github.com/repos/joelgrus/data/events',\n",
       "  'assignees_url': 'https://api.github.com/repos/joelgrus/data/assignees{/user}',\n",
       "  'branches_url': 'https://api.github.com/repos/joelgrus/data/branches{/branch}',\n",
       "  'tags_url': 'https://api.github.com/repos/joelgrus/data/tags',\n",
       "  'blobs_url': 'https://api.github.com/repos/joelgrus/data/git/blobs{/sha}',\n",
       "  'git_tags_url': 'https://api.github.com/repos/joelgrus/data/git/tags{/sha}',\n",
       "  'git_refs_url': 'https://api.github.com/repos/joelgrus/data/git/refs{/sha}',\n",
       "  'trees_url': 'https://api.github.com/repos/joelgrus/data/git/trees{/sha}',\n",
       "  'statuses_url': 'https://api.github.com/repos/joelgrus/data/statuses/{sha}',\n",
       "  'languages_url': 'https://api.github.com/repos/joelgrus/data/languages',\n",
       "  'stargazers_url': 'https://api.github.com/repos/joelgrus/data/stargazers',\n",
       "  'contributors_url': 'https://api.github.com/repos/joelgrus/data/contributors',\n",
       "  'subscribers_url': 'https://api.github.com/repos/joelgrus/data/subscribers',\n",
       "  'subscription_url': 'https://api.github.com/repos/joelgrus/data/subscription',\n",
       "  'commits_url': 'https://api.github.com/repos/joelgrus/data/commits{/sha}',\n",
       "  'git_commits_url': 'https://api.github.com/repos/joelgrus/data/git/commits{/sha}',\n",
       "  'comments_url': 'https://api.github.com/repos/joelgrus/data/comments{/number}',\n",
       "  'issue_comment_url': 'https://api.github.com/repos/joelgrus/data/issues/comments{/number}',\n",
       "  'contents_url': 'https://api.github.com/repos/joelgrus/data/contents/{+path}',\n",
       "  'compare_url': 'https://api.github.com/repos/joelgrus/data/compare/{base}...{head}',\n",
       "  'merges_url': 'https://api.github.com/repos/joelgrus/data/merges',\n",
       "  'archive_url': 'https://api.github.com/repos/joelgrus/data/{archive_format}{/ref}',\n",
       "  'downloads_url': 'https://api.github.com/repos/joelgrus/data/downloads',\n",
       "  'issues_url': 'https://api.github.com/repos/joelgrus/data/issues{/number}',\n",
       "  'pulls_url': 'https://api.github.com/repos/joelgrus/data/pulls{/number}',\n",
       "  'milestones_url': 'https://api.github.com/repos/joelgrus/data/milestones{/number}',\n",
       "  'notifications_url': 'https://api.github.com/repos/joelgrus/data/notifications{?since,all,participating}',\n",
       "  'labels_url': 'https://api.github.com/repos/joelgrus/data/labels{/name}',\n",
       "  'releases_url': 'https://api.github.com/repos/joelgrus/data/releases{/id}',\n",
       "  'deployments_url': 'https://api.github.com/repos/joelgrus/data/deployments',\n",
       "  'created_at': '2018-09-22T17:30:59Z',\n",
       "  'updated_at': '2018-10-01T18:36:18Z',\n",
       "  'pushed_at': '2018-09-22T17:32:03Z',\n",
       "  'git_url': 'git://github.com/joelgrus/data.git',\n",
       "  'ssh_url': 'git@github.com:joelgrus/data.git',\n",
       "  'clone_url': 'https://github.com/joelgrus/data.git',\n",
       "  'svn_url': 'https://github.com/joelgrus/data',\n",
       "  'homepage': None,\n",
       "  'size': 1,\n",
       "  'stargazers_count': 3,\n",
       "  'watchers_count': 3,\n",
       "  'language': 'HTML',\n",
       "  'has_issues': True,\n",
       "  'has_projects': True,\n",
       "  'has_downloads': True,\n",
       "  'has_wiki': True,\n",
       "  'has_pages': False,\n",
       "  'forks_count': 1,\n",
       "  'mirror_url': None,\n",
       "  'archived': False,\n",
       "  'open_issues_count': 0,\n",
       "  'license': None,\n",
       "  'forks': 1,\n",
       "  'open_issues': 0,\n",
       "  'watchers': 3,\n",
       "  'default_branch': 'master'},\n",
       " {'id': 149889203,\n",
       "  'node_id': 'MDEwOlJlcG9zaXRvcnkxNDk4ODkyMDM=',\n",
       "  'name': 'CNTK',\n",
       "  'full_name': 'joelgrus/CNTK',\n",
       "  'private': False,\n",
       "  'owner': {'login': 'joelgrus',\n",
       "   'id': 1308313,\n",
       "   'node_id': 'MDQ6VXNlcjEzMDgzMTM=',\n",
       "   'avatar_url': 'https://avatars1.githubusercontent.com/u/1308313?v=4',\n",
       "   'gravatar_id': '',\n",
       "   'url': 'https://api.github.com/users/joelgrus',\n",
       "   'html_url': 'https://github.com/joelgrus',\n",
       "   'followers_url': 'https://api.github.com/users/joelgrus/followers',\n",
       "   'following_url': 'https://api.github.com/users/joelgrus/following{/other_user}',\n",
       "   'gists_url': 'https://api.github.com/users/joelgrus/gists{/gist_id}',\n",
       "   'starred_url': 'https://api.github.com/users/joelgrus/starred{/owner}{/repo}',\n",
       "   'subscriptions_url': 'https://api.github.com/users/joelgrus/subscriptions',\n",
       "   'organizations_url': 'https://api.github.com/users/joelgrus/orgs',\n",
       "   'repos_url': 'https://api.github.com/users/joelgrus/repos',\n",
       "   'events_url': 'https://api.github.com/users/joelgrus/events{/privacy}',\n",
       "   'received_events_url': 'https://api.github.com/users/joelgrus/received_events',\n",
       "   'type': 'User',\n",
       "   'site_admin': False},\n",
       "  'html_url': 'https://github.com/joelgrus/CNTK',\n",
       "  'description': 'Microsoft Cognitive Toolkit (CNTK), an open source deep-learning toolkit',\n",
       "  'fork': True,\n",
       "  'url': 'https://api.github.com/repos/joelgrus/CNTK',\n",
       "  'forks_url': 'https://api.github.com/repos/joelgrus/CNTK/forks',\n",
       "  'keys_url': 'https://api.github.com/repos/joelgrus/CNTK/keys{/key_id}',\n",
       "  'collaborators_url': 'https://api.github.com/repos/joelgrus/CNTK/collaborators{/collaborator}',\n",
       "  'teams_url': 'https://api.github.com/repos/joelgrus/CNTK/teams',\n",
       "  'hooks_url': 'https://api.github.com/repos/joelgrus/CNTK/hooks',\n",
       "  'issue_events_url': 'https://api.github.com/repos/joelgrus/CNTK/issues/events{/number}',\n",
       "  'events_url': 'https://api.github.com/repos/joelgrus/CNTK/events',\n",
       "  'assignees_url': 'https://api.github.com/repos/joelgrus/CNTK/assignees{/user}',\n",
       "  'branches_url': 'https://api.github.com/repos/joelgrus/CNTK/branches{/branch}',\n",
       "  'tags_url': 'https://api.github.com/repos/joelgrus/CNTK/tags',\n",
       "  'blobs_url': 'https://api.github.com/repos/joelgrus/CNTK/git/blobs{/sha}',\n",
       "  'git_tags_url': 'https://api.github.com/repos/joelgrus/CNTK/git/tags{/sha}',\n",
       "  'git_refs_url': 'https://api.github.com/repos/joelgrus/CNTK/git/refs{/sha}',\n",
       "  'trees_url': 'https://api.github.com/repos/joelgrus/CNTK/git/trees{/sha}',\n",
       "  'statuses_url': 'https://api.github.com/repos/joelgrus/CNTK/statuses/{sha}',\n",
       "  'languages_url': 'https://api.github.com/repos/joelgrus/CNTK/languages',\n",
       "  'stargazers_url': 'https://api.github.com/repos/joelgrus/CNTK/stargazers',\n",
       "  'contributors_url': 'https://api.github.com/repos/joelgrus/CNTK/contributors',\n",
       "  'subscribers_url': 'https://api.github.com/repos/joelgrus/CNTK/subscribers',\n",
       "  'subscription_url': 'https://api.github.com/repos/joelgrus/CNTK/subscription',\n",
       "  'commits_url': 'https://api.github.com/repos/joelgrus/CNTK/commits{/sha}',\n",
       "  'git_commits_url': 'https://api.github.com/repos/joelgrus/CNTK/git/commits{/sha}',\n",
       "  'comments_url': 'https://api.github.com/repos/joelgrus/CNTK/comments{/number}',\n",
       "  'issue_comment_url': 'https://api.github.com/repos/joelgrus/CNTK/issues/comments{/number}',\n",
       "  'contents_url': 'https://api.github.com/repos/joelgrus/CNTK/contents/{+path}',\n",
       "  'compare_url': 'https://api.github.com/repos/joelgrus/CNTK/compare/{base}...{head}',\n",
       "  'merges_url': 'https://api.github.com/repos/joelgrus/CNTK/merges',\n",
       "  'archive_url': 'https://api.github.com/repos/joelgrus/CNTK/{archive_format}{/ref}',\n",
       "  'downloads_url': 'https://api.github.com/repos/joelgrus/CNTK/downloads',\n",
       "  'issues_url': 'https://api.github.com/repos/joelgrus/CNTK/issues{/number}',\n",
       "  'pulls_url': 'https://api.github.com/repos/joelgrus/CNTK/pulls{/number}',\n",
       "  'milestones_url': 'https://api.github.com/repos/joelgrus/CNTK/milestones{/number}',\n",
       "  'notifications_url': 'https://api.github.com/repos/joelgrus/CNTK/notifications{?since,all,participating}',\n",
       "  'labels_url': 'https://api.github.com/repos/joelgrus/CNTK/labels{/name}',\n",
       "  'releases_url': 'https://api.github.com/repos/joelgrus/CNTK/releases{/id}',\n",
       "  'deployments_url': 'https://api.github.com/repos/joelgrus/CNTK/deployments',\n",
       "  'created_at': '2018-09-22T15:23:50Z',\n",
       "  'updated_at': '2018-09-22T15:24:37Z',\n",
       "  'pushed_at': '2018-09-22T15:24:31Z',\n",
       "  'git_url': 'git://github.com/joelgrus/CNTK.git',\n",
       "  'ssh_url': 'git@github.com:joelgrus/CNTK.git',\n",
       "  'clone_url': 'https://github.com/joelgrus/CNTK.git',\n",
       "  'svn_url': 'https://github.com/joelgrus/CNTK',\n",
       "  'homepage': 'https://docs.microsoft.com/cognitive-toolkit/',\n",
       "  'size': 706685,\n",
       "  'stargazers_count': 0,\n",
       "  'watchers_count': 0,\n",
       "  'language': 'C++',\n",
       "  'has_issues': False,\n",
       "  'has_projects': True,\n",
       "  'has_downloads': True,\n",
       "  'has_wiki': True,\n",
       "  'has_pages': False,\n",
       "  'forks_count': 0,\n",
       "  'mirror_url': None,\n",
       "  'archived': False,\n",
       "  'open_issues_count': 0,\n",
       "  'license': {'key': 'other',\n",
       "   'name': 'Other',\n",
       "   'spdx_id': 'NOASSERTION',\n",
       "   'url': None,\n",
       "   'node_id': 'MDc6TGljZW5zZTA='},\n",
       "  'forks': 0,\n",
       "  'open_issues': 0,\n",
       "  'watchers': 0,\n",
       "  'default_branch': 'master'}]"
      ]
     },
     "execution_count": 167,
     "metadata": {},
     "output_type": "execute_result"
    }
   ],
   "source": [
    "last_5_repositories = sorted(repos,key=lambda r: r[\"created_at\"],reverse=True)[:5]\n",
    "last_5_repositories"
   ]
  },
  {
   "cell_type": "markdown",
   "metadata": {},
   "source": [
    "the chezydan repos"
   ]
  },
  {
   "cell_type": "code",
   "execution_count": 210,
   "metadata": {},
   "outputs": [
    {
     "name": "stdout",
     "output_type": "stream",
     "text": [
      "30\n"
     ]
    }
   ],
   "source": [
    "reposcd=  json.loads(requests.get(endpointd).text)\n",
    "print(len(reposcd))\n"
   ]
  },
  {
   "cell_type": "code",
   "execution_count": 211,
   "metadata": {},
   "outputs": [],
   "source": [
    "def showTag(json, keyname='name'):\n",
    "    for dic in json:\n",
    "        for k,v in dic.items():\n",
    "            if k==keyname:\n",
    "                print (v)"
   ]
  },
  {
   "cell_type": "code",
   "execution_count": 214,
   "metadata": {},
   "outputs": [
    {
     "name": "stdout",
     "output_type": "stream",
     "text": [
      "bootLab1\n",
      "build_a_neural_net_live\n",
      "chezydan.github.io\n",
      "code-vault\n",
      "code_snippets\n",
      "coding-aca\n",
      "Convolutional_neural_network\n",
      "data\n",
      "data-science-from-scratch\n",
      "datasets\n",
      "datashool\n",
      "demosite.github.io\n",
      "Dimensionality_Reduction\n",
      "function01\n",
      "general-analytics\n",
      "HebrewStopWords\n",
      "hello-world\n",
      "IMDB-Graph\n",
      "INTER-NET\n",
      "iroha\n",
      "jsquest\n",
      "Learn_Data_Science_in_3_Months\n",
      "make_a_neural_net_live_demo\n",
      "Mining-the-Social-Web-2nd-Edition\n",
      "mlp\n",
      "msData\n",
      "msMTAI\n",
      "Neural-Networks-Demystified\n",
      "NLPH\n",
      "PyRat\n"
     ]
    }
   ],
   "source": [
    "#showTag(reposcd, 'size')\n",
    "showTag(reposcd, 'name')"
   ]
  },
  {
   "cell_type": "code",
   "execution_count": null,
   "metadata": {},
   "outputs": [],
   "source": []
  },
  {
   "cell_type": "code",
   "execution_count": null,
   "metadata": {},
   "outputs": [],
   "source": []
  },
  {
   "cell_type": "code",
   "execution_count": null,
   "metadata": {},
   "outputs": [],
   "source": []
  },
  {
   "cell_type": "code",
   "execution_count": null,
   "metadata": {},
   "outputs": [],
   "source": []
  },
  {
   "cell_type": "code",
   "execution_count": null,
   "metadata": {},
   "outputs": [],
   "source": []
  },
  {
   "cell_type": "code",
   "execution_count": null,
   "metadata": {},
   "outputs": [],
   "source": []
  },
  {
   "cell_type": "code",
   "execution_count": null,
   "metadata": {},
   "outputs": [],
   "source": []
  }
 ],
 "metadata": {
  "kernelspec": {
   "display_name": "Python 3",
   "language": "python",
   "name": "python3"
  },
  "language_info": {
   "codemirror_mode": {
    "name": "ipython",
    "version": 3
   },
   "file_extension": ".py",
   "mimetype": "text/x-python",
   "name": "python",
   "nbconvert_exporter": "python",
   "pygments_lexer": "ipython3",
   "version": "3.7.3"
  }
 },
 "nbformat": 4,
 "nbformat_minor": 2
}
