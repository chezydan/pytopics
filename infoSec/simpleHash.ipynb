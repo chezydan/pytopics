{
 "cells": [
  {
   "cell_type": "code",
   "execution_count": null,
   "metadata": {},
   "outputs": [],
   "source": [
    "#Implement a hash function simple_hash that given a string s, computes its hash as follows: \n",
    "#it starts with r = 7, and for every character in the string, multiplies r by 31, adds that character to r,\n",
    "#and keeps everything modulo 216."
   ]
  },
  {
   "cell_type": "code",
   "execution_count": 10,
   "metadata": {},
   "outputs": [
    {
     "data": {
      "text/plain": [
       "'\\x0f\\x0c\\x01\\x01'"
      ]
     },
     "execution_count": 10,
     "metadata": {},
     "output_type": "execute_result"
    }
   ],
   "source": [
    "def simple_hash(s):\n",
    "    r=7\n",
    "    encodedList = []\n",
    "    \n",
    "    for ch in s:\n",
    "        chNumber = ord(ch)\n",
    "        rBy31 = r * 31\n",
    "        rPlusCh = rBy31 + chNumber\n",
    "        nextCh = chr(rPlusCh % (2^16))\n",
    "        encodedList.append(nextCh)\n",
    "       # print(nextCh)\n",
    "        \n",
    "    return \"\".join(encodedList)\n",
    "\n",
    "\n",
    "s=\"hell\"\n",
    "simple_hash(s)"
   ]
  },
  {
   "cell_type": "code",
   "execution_count": null,
   "metadata": {},
   "outputs": [],
   "source": []
  },
  {
   "cell_type": "code",
   "execution_count": null,
   "metadata": {},
   "outputs": [],
   "source": []
  },
  {
   "cell_type": "code",
   "execution_count": null,
   "metadata": {},
   "outputs": [],
   "source": []
  },
  {
   "cell_type": "code",
   "execution_count": null,
   "metadata": {},
   "outputs": [],
   "source": []
  },
  {
   "cell_type": "code",
   "execution_count": null,
   "metadata": {},
   "outputs": [],
   "source": []
  },
  {
   "cell_type": "code",
   "execution_count": null,
   "metadata": {},
   "outputs": [],
   "source": []
  },
  {
   "cell_type": "code",
   "execution_count": null,
   "metadata": {},
   "outputs": [],
   "source": []
  }
 ],
 "metadata": {
  "kernelspec": {
   "display_name": "Python 3",
   "language": "python",
   "name": "python3"
  },
  "language_info": {
   "codemirror_mode": {
    "name": "ipython",
    "version": 3
   },
   "file_extension": ".py",
   "mimetype": "text/x-python",
   "name": "python",
   "nbconvert_exporter": "python",
   "pygments_lexer": "ipython3",
   "version": "3.7.3"
  }
 },
 "nbformat": 4,
 "nbformat_minor": 2
}
