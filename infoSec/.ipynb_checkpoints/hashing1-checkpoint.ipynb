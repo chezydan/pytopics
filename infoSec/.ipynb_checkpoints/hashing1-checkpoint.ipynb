{
 "cells": [
  {
   "cell_type": "code",
   "execution_count": 22,
   "metadata": {},
   "outputs": [],
   "source": [
    "#Use codeboard and the standard library hashlib module to compute the MD5, SHA1 and SHA256 (that's SHA2 with \n",
    "#a hash size of 𝑛=256) of the string \"Hello, world!\". \n",
    "\n",
    "import hashlib"
   ]
  },
  {
   "cell_type": "code",
   "execution_count": 10,
   "metadata": {},
   "outputs": [],
   "source": [
    "msg = \"Hello, world!\" \n",
    "l=len(msg)\n",
    "msg = msg.encode('utf-8')"
   ]
  },
  {
   "cell_type": "code",
   "execution_count": 21,
   "metadata": {},
   "outputs": [
    {
     "name": "stdout",
     "output_type": "stream",
     "text": [
      "6cd3556deb0da54bca060b4c39479839\n",
      "16\n"
     ]
    }
   ],
   "source": [
    "md5 = hashlib.md5()\n",
    "md5.update(msg)\n",
    "print(md5.hexdigest())\n",
    "print(md5.digest_size)"
   ]
  },
  {
   "cell_type": "code",
   "execution_count": 23,
   "metadata": {},
   "outputs": [
    {
     "name": "stdout",
     "output_type": "stream",
     "text": [
      "943a702d06f34599aee1f8da8ef9f7296031d699\n"
     ]
    }
   ],
   "source": [
    "sha1 = hashlib.sha1()\n",
    "sha1.update(msg)\n",
    "print(sha1.hexdigest())"
   ]
  },
  {
   "cell_type": "code",
   "execution_count": 26,
   "metadata": {},
   "outputs": [
    {
     "name": "stdout",
     "output_type": "stream",
     "text": [
      "315f5bdb76d078c43b8ac0064e4a0164612b1fce77c869345bfc94c75894edd3\n"
     ]
    }
   ],
   "source": [
    "sha256 = hashlib.sha256()\n",
    "sha256.update(msg)\n",
    "print(sha256.hexdigest())"
   ]
  },
  {
   "cell_type": "code",
   "execution_count": null,
   "metadata": {},
   "outputs": [],
   "source": []
  },
  {
   "cell_type": "code",
   "execution_count": null,
   "metadata": {},
   "outputs": [],
   "source": []
  },
  {
   "cell_type": "code",
   "execution_count": null,
   "metadata": {},
   "outputs": [],
   "source": []
  }
 ],
 "metadata": {
  "kernelspec": {
   "display_name": "Python 3",
   "language": "python",
   "name": "python3"
  },
  "language_info": {
   "codemirror_mode": {
    "name": "ipython",
    "version": 3
   },
   "file_extension": ".py",
   "mimetype": "text/x-python",
   "name": "python",
   "nbconvert_exporter": "python",
   "pygments_lexer": "ipython3",
   "version": "3.7.3"
  }
 },
 "nbformat": 4,
 "nbformat_minor": 2
}
