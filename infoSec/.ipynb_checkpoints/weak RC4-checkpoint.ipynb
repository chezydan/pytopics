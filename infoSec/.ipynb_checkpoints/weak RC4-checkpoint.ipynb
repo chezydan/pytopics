{
 "cells": [
  {
   "cell_type": "code",
   "execution_count": null,
   "metadata": {},
   "outputs": [],
   "source": []
  },
  {
   "cell_type": "code",
   "execution_count": 2,
   "metadata": {},
   "outputs": [
    {
     "data": {
      "text/plain": [
       "32"
      ]
     },
     "execution_count": 2,
     "metadata": {},
     "output_type": "execute_result"
    }
   ],
   "source": [
    "'key=[1,1,1,1,1,1,1,1,1,1,1,1,1,1,1,1,0,0,0,0,0,0,0,0,0,0,0,0,0,0,0,0]\n",
    "'len(key)"
   ]
  },
  {
   "cell_type": "code",
   "execution_count": 6,
   "metadata": {},
   "outputs": [
    {
     "data": {
      "text/plain": [
       "'d'"
      ]
     },
     "execution_count": 6,
     "metadata": {},
     "output_type": "execute_result"
    }
   ],
   "source": [
    "chr(100   )"
   ]
  },
  {
   "cell_type": "code",
   "execution_count": 62,
   "metadata": {},
   "outputs": [
    {
     "data": {
      "text/plain": [
       "32"
      ]
     },
     "execution_count": 62,
     "metadata": {},
     "output_type": "execute_result"
    }
   ],
   "source": [
    "key=('123aadddddddddd1aaddddddddddddd1')\n",
    "len(key)"
   ]
  },
  {
   "cell_type": "code",
   "execution_count": 64,
   "metadata": {},
   "outputs": [
    {
     "data": {
      "text/plain": [
       "32"
      ]
     },
     "execution_count": 64,
     "metadata": {},
     "output_type": "execute_result"
    }
   ],
   "source": [
    "plain_text =\"12345678901234567890123456789012\"\n",
    "len(plain_text)"
   ]
  },
  {
   "cell_type": "code",
   "execution_count": null,
   "metadata": {},
   "outputs": [],
   "source": []
  },
  {
   "cell_type": "code",
   "execution_count": 91,
   "metadata": {},
   "outputs": [],
   "source": [
    "def Xor(ch1,ch2):\n",
    "    ordResult = ord(ch1)^ord(ch2)\n",
    "    return chr(ordResult)\n",
    "\n",
    "def encrypt(plaintext, k):\n",
    "    if len(k)!= len(plaintext):\n",
    "        return -1\n",
    "    ciphertext =\"\"\n",
    "    for i in range (0 , len(k)):\n",
    "        ciphertext += Xor(plaintext[i], k[i])\n",
    "    return ciphertext\n",
    "\n",
    "# pseudo-random generator (PRG):\n",
    "def get_prg(plaintext_size, k):\n",
    "    inputK =list(k)\n",
    "    size = plaintext_size\n",
    "    \n",
    "    keystream=[]\n",
    "    i=0\n",
    "    j=0\n",
    "    n = size\n",
    "    while (n>0):\n",
    "        \n",
    "        n = n-1\n",
    "       # print(n)\n",
    "        i = (i + 1) % size   #Increments \\(i\\) by \\(1\\) (modulo the length of the key),\n",
    "        #print(j)\n",
    "        j = (j + ord(inputK[i]) ) % size# Increments \\(j\\) by the \\(i-th\\) character of the key (module the length of the key),\n",
    "        inputK[i],inputK[j] = inputK[j], inputK[i] #swap\n",
    "        #Adds the \\(i-th\\) char of the key and its \\(j-th\\) char,modulo the length of the key, and returns the key's character at that index.\n",
    "        nextCharIndex =  ( ord(inputK[i]) + ord(inputK[j]) )  % size\n",
    "        keystream.append(inputK[nextCharIndex])\n",
    "        \n",
    "    return \"\".join(keystream)\n",
    " \n",
    "def fake_rc4(plaintext, k):\n",
    "    keystream = get_prg(len(plain_text), k)\n",
    "    return encrypt(plain_text, keystream)"
   ]
  },
  {
   "cell_type": "code",
   "execution_count": 93,
   "metadata": {},
   "outputs": [
    {
     "name": "stdout",
     "output_type": "stream",
     "text": [
      "52534\n"
     ]
    },
    {
     "data": {
      "text/plain": [
       "5"
      ]
     },
     "execution_count": 93,
     "metadata": {},
     "output_type": "execute_result"
    }
   ],
   "source": [
    "keystream=get_prg(len(plain_text),key)\n",
    "print(keystream)\n",
    "len(keystream)"
   ]
  },
  {
   "cell_type": "code",
   "execution_count": 50,
   "metadata": {},
   "outputs": [
    {
     "data": {
      "text/plain": [
       "'UV\\x00\\x07Q\\x04S\\\\]TUVWPQRS\\x0b\\x08T\\x00VWPQRS\\\\]TUV'"
      ]
     },
     "execution_count": 50,
     "metadata": {},
     "output_type": "execute_result"
    }
   ],
   "source": [
    "fake_rc4(plain_text, key)"
   ]
  },
  {
   "cell_type": "code",
   "execution_count": 90,
   "metadata": {},
   "outputs": [
    {
     "data": {
      "text/plain": [
       "119"
      ]
     },
     "execution_count": 90,
     "metadata": {},
     "output_type": "execute_result"
    }
   ],
   "source": []
  },
  {
   "cell_type": "code",
   "execution_count": 92,
   "metadata": {},
   "outputs": [
    {
     "name": "stdout",
     "output_type": "stream",
     "text": [
      "52534\n"
     ]
    },
    {
     "data": {
      "text/plain": [
       "5"
      ]
     },
     "execution_count": 92,
     "metadata": {},
     "output_type": "execute_result"
    }
   ],
   "source": [
    "plain_text=\"12345\"\n",
    "key=(\"12345\")\n",
    "\n",
    "keystream=get_prg(len(plain_text),key)\n",
    "print(keystream)\n",
    "len(keystream)"
   ]
  },
  {
   "cell_type": "code",
   "execution_count": null,
   "metadata": {},
   "outputs": [],
   "source": []
  },
  {
   "cell_type": "code",
   "execution_count": null,
   "metadata": {},
   "outputs": [],
   "source": []
  },
  {
   "cell_type": "code",
   "execution_count": null,
   "metadata": {},
   "outputs": [],
   "source": []
  },
  {
   "cell_type": "code",
   "execution_count": null,
   "metadata": {},
   "outputs": [],
   "source": []
  },
  {
   "cell_type": "code",
   "execution_count": null,
   "metadata": {},
   "outputs": [],
   "source": []
  }
 ],
 "metadata": {
  "kernelspec": {
   "display_name": "Python 3",
   "language": "python",
   "name": "python3"
  },
  "language_info": {
   "codemirror_mode": {
    "name": "ipython",
    "version": 3
   },
   "file_extension": ".py",
   "mimetype": "text/x-python",
   "name": "python",
   "nbconvert_exporter": "python",
   "pygments_lexer": "ipython3",
   "version": "3.7.3"
  }
 },
 "nbformat": 4,
 "nbformat_minor": 2
}
