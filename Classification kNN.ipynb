{
 "cells": [
  {
   "cell_type": "markdown",
   "metadata": {},
   "source": [
    "<h1>Classification kNN </h1>"
   ]
  },
  {
   "cell_type": "markdown",
   "metadata": {},
   "source": [
    "<h2> kNN algorithm from scratch </h2>"
   ]
  },
  {
   "cell_type": "markdown",
   "metadata": {},
   "source": [
    "<h3> Finding the distance between two points </h3>"
   ]
  },
  {
   "cell_type": "code",
   "execution_count": 2,
   "metadata": {},
   "outputs": [],
   "source": [
    "import numpy as np\n",
    "import matplotlib.pyplot as plt"
   ]
  },
  {
   "cell_type": "code",
   "execution_count": 4,
   "metadata": {},
   "outputs": [],
   "source": [
    "def distance(p1,p2):\n",
    "    '''finds dist p1-p2, assume arrays as inputs'''\n",
    "    return np.sqrt(np.sum(np.power(p2-p1, 2)))"
   ]
  },
  {
   "cell_type": "code",
   "execution_count": 13,
   "metadata": {},
   "outputs": [
    {
     "data": {
      "text/plain": [
       "5.656854249492381"
      ]
     },
     "execution_count": 13,
     "metadata": {},
     "output_type": "execute_result"
    }
   ],
   "source": [
    "p1= np.array([1,5])\n",
    "p2= np.array([5,9])\n",
    "distance(p1,p2)"
   ]
  },
  {
   "cell_type": "markdown",
   "metadata": {},
   "source": [
    "<p> <span style=\"color:purple\"> given a and b compute `dist` the euclidian distance between them </span>"
   ]
  },
  {
   "cell_type": "code",
   "execution_count": 11,
   "metadata": {},
   "outputs": [],
   "source": [
    "a=np.array([1,1])\n",
    "b=np.array([3,3])"
   ]
  },
  {
   "cell_type": "code",
   "execution_count": null,
   "metadata": {},
   "outputs": [],
   "source": []
  },
  {
   "cell_type": "code",
   "execution_count": 12,
   "metadata": {},
   "outputs": [
    {
     "data": {
      "text/plain": [
       "2.8284271247461903"
      ]
     },
     "execution_count": 12,
     "metadata": {},
     "output_type": "execute_result"
    }
   ],
   "source": [
    "dist= np.sqrt(np.sum(np.power(b-a,2)))\n",
    "dist"
   ]
  },
  {
   "cell_type": "markdown",
   "metadata": {},
   "source": [
    "<h3>Majority Vote </h3>\n"
   ]
  },
  {
   "cell_type": "code",
   "execution_count": 2,
   "metadata": {},
   "outputs": [],
   "source": [
    "def simple_count_votes(votes):\n",
    "    '''returns a dict of counting'''\n",
    "    vote_counts = {}\n",
    "    for vote in votes:\n",
    "        if vote in vote_counts:\n",
    "            vote_counts[vote] +=1\n",
    "        else:\n",
    "            vote_counts[vote] = 1\n",
    "    return vote_counts"
   ]
  },
  {
   "cell_type": "code",
   "execution_count": 14,
   "metadata": {},
   "outputs": [
    {
     "data": {
      "text/plain": [
       "{1: 3, 2: 4, 3: 6}"
      ]
     },
     "execution_count": 14,
     "metadata": {},
     "output_type": "execute_result"
    }
   ],
   "source": [
    "votes= [1,2,3,1,2,3,3,3,3,3,1,2,2]\n",
    "vote_counts = simple_count_votes(votes)\n",
    "vote_counts"
   ]
  },
  {
   "cell_type": "markdown",
   "metadata": {},
   "source": []
  },
  {
   "cell_type": "code",
   "execution_count": null,
   "metadata": {},
   "outputs": [],
   "source": []
  },
  {
   "cell_type": "code",
   "execution_count": null,
   "metadata": {},
   "outputs": [],
   "source": []
  },
  {
   "cell_type": "code",
   "execution_count": 15,
   "metadata": {},
   "outputs": [],
   "source": [
    "def majority_vote(votes):\n",
    "    '''returns winner from list of votes. it breaks tie by random.choice'''\n",
    "    vote_counts = {}\n",
    "    for vote in votes:\n",
    "        if vote in vote_counts:\n",
    "            vote_counts[vote] +=1\n",
    "        else:\n",
    "            vote_counts[vote] = 1\n",
    "    \n",
    "    winners = []\n",
    "    max_count = max(vote_counts.values())\n",
    "    for vote, count in vote_counts.items(): # key , value\n",
    "        if count == max_count:\n",
    "            winners.append(vote) # append vote in the list\n",
    "    return np.random.choice(winners) #break the tie (if there is such)\n"
   ]
  },
  {
   "cell_type": "code",
   "execution_count": 16,
   "metadata": {},
   "outputs": [
    {
     "data": {
      "text/plain": [
       "3"
      ]
     },
     "execution_count": 16,
     "metadata": {},
     "output_type": "execute_result"
    }
   ],
   "source": [
    "votes= [1,2,3,1,2,3,3,3,3,3,1,2,2]\n",
    "winner = majority_vote(votes)\n",
    "winner"
   ]
  },
  {
   "cell_type": "code",
   "execution_count": 17,
   "metadata": {},
   "outputs": [
    {
     "data": {
      "text/plain": [
       "2"
      ]
     },
     "execution_count": 17,
     "metadata": {},
     "output_type": "execute_result"
    }
   ],
   "source": [
    "votes= [2,2,2,3,3,3,1]\n",
    "winner = majority_vote(votes)\n",
    "winner"
   ]
  },
  {
   "cell_type": "markdown",
   "metadata": {},
   "source": [
    "<p> <span style=\"color:purple\"> define majority_vote1 from scratch   </span>"
   ]
  },
  {
   "cell_type": "code",
   "execution_count": 18,
   "metadata": {},
   "outputs": [],
   "source": [
    "#def majority_vote1(votes):\n",
    "    \n",
    "   \n",
    " #define a dict of vote counts \"vote_counts\" and  count (in loop) frequency in the list\n",
    " \n",
    "\n",
    "#define a list \"winners\" , take the maximum value in \"max_count\" var using  dict.values()\n",
    "\n",
    "\n",
    "#loop through dict  key, value with .items() and append the keys that == max_count in list winners\n",
    "\n",
    "\n",
    "# use np.random.choice on winners to break tie\n",
    "\n",
    "\n",
    "   "
   ]
  },
  {
   "cell_type": "code",
   "execution_count": 19,
   "metadata": {},
   "outputs": [
    {
     "data": {
      "text/plain": [
       "'\\nvotes= [2,1,2,2,2,2,4,5,5,5,5,5,5,5,5]\\nwinner = majority_vote1(votes)\\nwinner\\n'"
      ]
     },
     "execution_count": 19,
     "metadata": {},
     "output_type": "execute_result"
    }
   ],
   "source": [
    "'''\n",
    "votes= [2,1,2,2,2,2,4,5,5,5,5,5,5,5,5]\n",
    "winner = majority_vote1(votes)\n",
    "winner\n",
    "'''"
   ]
  },
  {
   "cell_type": "code",
   "execution_count": 20,
   "metadata": {},
   "outputs": [],
   "source": [
    "import scipy.stats as ss\n",
    "def majority_vote_short(votes):\n",
    "    '''returns the most common element in votes, doesnt break tie randomly'''\n",
    "    mode, count = ss.mstats.mode(votes)\n",
    "    return(mode)"
   ]
  },
  {
   "cell_type": "code",
   "execution_count": 21,
   "metadata": {},
   "outputs": [],
   "source": [
    "votes= [2,2,2,3,3,3,3,1]\n",
    "#winner = majority_vote_short(votes)\n",
    "#winner"
   ]
  },
  {
   "cell_type": "code",
   "execution_count": null,
   "metadata": {},
   "outputs": [],
   "source": []
  },
  {
   "cell_type": "markdown",
   "metadata": {},
   "source": [
    "<h3> Finding Nearest Neighbors\n",
    " </h3>"
   ]
  },
  {
   "cell_type": "markdown",
   "metadata": {},
   "source": [
    "`orderedIndexes = np.argsort(array)` <br>\n",
    "`orderedIndexes = np.argsort(-array)` for descending"
   ]
  },
  {
   "cell_type": "code",
   "execution_count": 3,
   "metadata": {},
   "outputs": [
    {
     "name": "stdout",
     "output_type": "stream",
     "text": [
      "[ 33   4  55 100   2]\n",
      "sorted indices: [4 1 0 2 3]\n",
      "sorted array: [  2   4  33  55 100]\n"
     ]
    }
   ],
   "source": [
    "arr = np.array([33,4,55,100,2])\n",
    "inds = np.argsort(arr)\n",
    "print(arr)\n",
    "print(\"sorted indices: {:}\".format(inds))\n",
    "print(\"sorted array: {:}\".format(arr[inds]))"
   ]
  },
  {
   "cell_type": "code",
   "execution_count": 23,
   "metadata": {},
   "outputs": [],
   "source": [
    "\n",
    "def find_nearest_neighbors(p, points, k=5):\n",
    "    '''find the k nearest neighbors of p and return their indices (ind)'''\n",
    "#loop all points\n",
    "    distances = np.zeros(points.shape[0]) #rows of points\n",
    "    for i in range(len(distances)):   \n",
    "#compute the distance between point p and every other point\n",
    "       distances[i] = distance(p,points[i])\n",
    "#sort distances and return those k points that are nearest to point p\n",
    "    ind = np.argsort(distances           )\n",
    "    \n",
    "    return ind[ :k]\n",
    "\n"
   ]
  },
  {
   "cell_type": "code",
   "execution_count": 24,
   "metadata": {},
   "outputs": [
    {
     "name": "stdout",
     "output_type": "stream",
     "text": [
      "[[2 1 2]]\n"
     ]
    }
   ],
   "source": [
    "points = np.array([[1,1,1],[2,1,2],[3,2,3],[4,3,2]])\n",
    "p= np.array([[2,2,2]])\n",
    "\n",
    "ind = find_nearest_neighbors(p,points,1)\n",
    "print(points[ind])\n"
   ]
  },
  {
   "cell_type": "code",
   "execution_count": null,
   "metadata": {},
   "outputs": [],
   "source": []
  },
  {
   "cell_type": "markdown",
   "metadata": {},
   "source": [
    "<h3>Predict the class of the point </h3>"
   ]
  },
  {
   "cell_type": "code",
   "execution_count": 25,
   "metadata": {},
   "outputs": [],
   "source": [
    "def knn_predict(p, points, outcomes , k=5):\n",
    "    \n",
    "    ind= find_nearest_neighbors(p, points, k)\n",
    "    return majority_vote(outcomes[ind])"
   ]
  },
  {
   "cell_type": "code",
   "execution_count": 26,
   "metadata": {},
   "outputs": [
    {
     "data": {
      "text/plain": [
       "0"
      ]
     },
     "execution_count": 26,
     "metadata": {},
     "output_type": "execute_result"
    }
   ],
   "source": [
    "#predict the class (outcoome)\n",
    "outcomes= np.array([0,0,0,0,1,1,1,1,1])\n",
    "points = np.array([ [1,1],[1,2],[2,3],[3,2], [4,4],[4,2],[6,3],[3,3], [5,5]])\n",
    "p =  np.array([2.5, 2.7])\n",
    "\n",
    "knn_predict(p, points, outcomes, 2)"
   ]
  },
  {
   "cell_type": "code",
   "execution_count": null,
   "metadata": {},
   "outputs": [],
   "source": []
  },
  {
   "cell_type": "code",
   "execution_count": null,
   "metadata": {},
   "outputs": [],
   "source": []
  },
  {
   "cell_type": "markdown",
   "metadata": {},
   "source": [
    "<h3> Applying with synthetic data </h3>"
   ]
  },
  {
   "cell_type": "code",
   "execution_count": 27,
   "metadata": {},
   "outputs": [],
   "source": [
    "import matplotlib.pyplot as plt\n",
    "def generate_synth_data(n=50):\n",
    "    '''create two sets of point for bivariate distribution , n repetitions'''\n",
    "    points = np.concatenate( ( ss.norm(0,1).rvs((n,2)),( ss.norm(1,1).rvs((n,2)) ) ), axis=0 ) #ss is scipy.stats\n",
    "    outcomes = np.concatenate( ( np.repeat(0,n), np.repeat(1,n) ) )\n",
    "    return  (points, outcomes)"
   ]
  },
  {
   "cell_type": "code",
   "execution_count": 28,
   "metadata": {},
   "outputs": [
    {
     "data": {
      "text/plain": [
       "array([-0.90971428, -0.41276369,  0.39429041])"
      ]
     },
     "execution_count": 28,
     "metadata": {},
     "output_type": "execute_result"
    }
   ],
   "source": [
    "#knowing rvs\n",
    "import scipy.stats as ss\n",
    "n=3\n",
    "normarr=ss.norm(0,1).rvs(n) \n",
    "normarr\n"
   ]
  },
  {
   "cell_type": "markdown",
   "metadata": {},
   "source": [
    "<h4> making a Prediction Grid </h4>"
   ]
  },
  {
   "cell_type": "code",
   "execution_count": 29,
   "metadata": {},
   "outputs": [],
   "source": [
    "def make_prediction_grid(predictors, outcomes, limits, h, k):\n",
    "    '''Classify each point in the prediction grid.'''\n",
    "    (x_min, x_max, y_min, y_max) = limits\n",
    "    xs = np.arange(x_min, x_max, h)\n",
    "    ys = np.arange(y_min, y_max, h)\n",
    "    xx, yy = np.meshgrid(xs, ys)\n",
    "    \n",
    "    #object called prediction_grid\n",
    "    prediction_grid = np.zeros(xx.shape, dtype = int)\n",
    "    for i,x in enumerate(xs):\n",
    "        for j,y in enumerate(ys):\n",
    "            p = np.array([x,y])\n",
    "            prediction_grid[j,i] = knn_predict(p, predictors, outcomes, k)\n",
    "    return(xx, yy, prediction_grid)"
   ]
  },
  {
   "cell_type": "markdown",
   "metadata": {},
   "source": [
    "`meshgrid()` takes 2 or more vectors, if 2 one with x other y values\n",
    "returns matrices one with x values other with y values for grid point"
   ]
  },
  {
   "cell_type": "markdown",
   "metadata": {},
   "source": [
    "<h4> plot the prediction grid</h4>"
   ]
  },
  {
   "cell_type": "code",
   "execution_count": 30,
   "metadata": {},
   "outputs": [
    {
     "name": "stdout",
     "output_type": "stream",
     "text": [
      "(100, 2)\n",
      "(100,)\n"
     ]
    }
   ],
   "source": [
    "(predictors, outcomes) = generate_synth_data()\n",
    "print(predictors.shape)\n",
    "print(outcomes.shape )"
   ]
  },
  {
   "cell_type": "code",
   "execution_count": 31,
   "metadata": {},
   "outputs": [],
   "source": [
    "def plot_prediction_grid (xx, yy, prediction_grid, filename):\n",
    "    \"\"\" Plot KNN predictions for every point on the grid.\"\"\"\n",
    "    from matplotlib.colors import ListedColormap\n",
    "    background_colormap = ListedColormap ([\"hotpink\",\"lightskyblue\", \"yellowgreen\"])\n",
    "    observation_colormap = ListedColormap ([\"red\",\"blue\",\"green\"])\n",
    "    plt.figure(figsize =(10,10))\n",
    "    plt.pcolormesh(xx, yy, prediction_grid, cmap = background_colormap, alpha = 0.5)\n",
    "    plt.scatter(predictors[:,0], predictors [:,1], c = outcomes, cmap = observation_colormap, s = 50)\n",
    "    plt.xlabel('Variable 1'); plt.ylabel('Variable 2')\n",
    "    plt.xticks(()); plt.yticks(())\n",
    "    plt.xlim (np.min(xx), np.max(xx))\n",
    "    plt.ylim (np.min(yy), np.max(yy))\n",
    "    plt.savefig(filename)"
   ]
  },
  {
   "cell_type": "code",
   "execution_count": 32,
   "metadata": {},
   "outputs": [
    {
     "data": {
      "image/png": "[encoded data removed]",
      "text/plain": [
       "<Figure size 720x720 with 1 Axes>"
      ]
     },
     "metadata": {},
     "output_type": "display_data"
    }
   ],
   "source": [
    "#definitions\n",
    "k=5\n",
    "filename = \"knn_synth_5.pdf\"\n",
    "limits = (-3,4,-3,4)\n",
    "h = 0.1\n",
    "\n",
    "\n",
    "#call the function\n",
    "(xx, yy, prediction_grid) = make_prediction_grid(predictors, outcomes, limits, h, k)\n",
    "plot_prediction_grid(xx, yy, prediction_grid, filename)"
   ]
  },
  {
   "cell_type": "code",
   "execution_count": null,
   "metadata": {},
   "outputs": [],
   "source": []
  },
  {
   "cell_type": "code",
   "execution_count": null,
   "metadata": {},
   "outputs": [],
   "source": []
  },
  {
   "cell_type": "code",
   "execution_count": null,
   "metadata": {},
   "outputs": [],
   "source": []
  },
  {
   "cell_type": "code",
   "execution_count": null,
   "metadata": {},
   "outputs": [],
   "source": []
  },
  {
   "cell_type": "markdown",
   "metadata": {},
   "source": [
    "<h3>Applying kNN on iris db </h3>"
   ]
  },
  {
   "cell_type": "code",
   "execution_count": null,
   "metadata": {},
   "outputs": [],
   "source": []
  },
  {
   "cell_type": "code",
   "execution_count": 33,
   "metadata": {},
   "outputs": [],
   "source": [
    "from sklearn import datasets\n",
    "iris = datasets.load_iris()"
   ]
  },
  {
   "cell_type": "code",
   "execution_count": 34,
   "metadata": {},
   "outputs": [
    {
     "data": {
      "text/plain": [
       "array([[5.1, 3.5, 1.4, 0.2],\n",
       "       [4.9, 3. , 1.4, 0.2],\n",
       "       [4.7, 3.2, 1.3, 0.2],\n",
       "       [4.6, 3.1, 1.5, 0.2]])"
      ]
     },
     "execution_count": 34,
     "metadata": {},
     "output_type": "execute_result"
    }
   ],
   "source": [
    "iris['data'][:4,:]"
   ]
  },
  {
   "cell_type": "code",
   "execution_count": 35,
   "metadata": {},
   "outputs": [
    {
     "data": {
      "text/plain": [
       "array([0, 0, 0, 0])"
      ]
     },
     "execution_count": 35,
     "metadata": {},
     "output_type": "execute_result"
    }
   ],
   "source": [
    "iris.target[:4]"
   ]
  },
  {
   "cell_type": "code",
   "execution_count": null,
   "metadata": {},
   "outputs": [],
   "source": []
  },
  {
   "cell_type": "code",
   "execution_count": 36,
   "metadata": {},
   "outputs": [],
   "source": [
    "predictors = iris.data[:, 0:2] #first 2 cols\n",
    "outcomes  = iris.target"
   ]
  },
  {
   "cell_type": "code",
   "execution_count": 37,
   "metadata": {},
   "outputs": [
    {
     "data": {
      "image/png": "[encoded data removed]",
      "text/plain": [
       "<Figure size 432x288 with 1 Axes>"
      ]
     },
     "metadata": {},
     "output_type": "display_data"
    }
   ],
   "source": [
    "#plot\n",
    "plt.plot(predictors[outcomes==0][:,0], predictors[outcomes==0][:,1], 'ro')\n",
    "plt.plot(predictors[outcomes==1][:,0], predictors[outcomes==1][:,1], 'go')\n",
    "plt.plot(predictors[outcomes==2][:,0], predictors[outcomes==2][:,1], 'bo')\n",
    "plt.savefig(\"iris.pdf\")"
   ]
  },
  {
   "cell_type": "code",
   "execution_count": null,
   "metadata": {},
   "outputs": [],
   "source": []
  },
  {
   "cell_type": "code",
   "execution_count": null,
   "metadata": {},
   "outputs": [],
   "source": []
  },
  {
   "cell_type": "markdown",
   "metadata": {},
   "source": [
    "<h2> another model for KNN </h2>"
   ]
  },
  {
   "cell_type": "code",
   "execution_count": 38,
   "metadata": {},
   "outputs": [],
   "source": [
    "\n",
    "from collections import Counter"
   ]
  },
  {
   "cell_type": "markdown",
   "metadata": {},
   "source": [
    "a majority vote that \"reduces\" to break tie"
   ]
  },
  {
   "cell_type": "code",
   "execution_count": 39,
   "metadata": {},
   "outputs": [],
   "source": [
    "\n",
    "def majority_vote(labels):\n",
    "    \"\"\"assumes that labels are ordered from nearest to farthest\"\"\"\n",
    "    vote_counts = Counter(labels)\n",
    "    winner, winner_count = vote_counts.most_common(1)[0]\n",
    "    num_winners = len([count\n",
    "                       for count in vote_counts.values()\n",
    "                       if count == winner_count])\n",
    "\n",
    "    if num_winners == 1:\n",
    "        return winner                     # unique winner, so return it\n",
    "    else:\n",
    "        return majority_vote(labels[:-1]) # try again without the farthest\n",
    "\n"
   ]
  },
  {
   "cell_type": "code",
   "execution_count": 40,
   "metadata": {},
   "outputs": [
    {
     "name": "stdout",
     "output_type": "stream",
     "text": [
      "b\n"
     ]
    }
   ],
   "source": [
    "labels=['b','c','b','c','b','c','a','a','a']\n",
    "majVote= majority_vote(labels)\n",
    "print(majVote)\n",
    "labels2=['b','c','b','c','b','c','a','a','a','a', 'a']"
   ]
  },
  {
   "cell_type": "markdown",
   "metadata": {},
   "source": [
    "<p> <span style=\"color:purple\"> check `majority_vote` for labels2 </span>"
   ]
  },
  {
   "cell_type": "code",
   "execution_count": null,
   "metadata": {},
   "outputs": [],
   "source": []
  },
  {
   "cell_type": "code",
   "execution_count": 41,
   "metadata": {},
   "outputs": [
    {
     "data": {
      "text/plain": [
       "'a'"
      ]
     },
     "execution_count": 41,
     "metadata": {},
     "output_type": "execute_result"
    }
   ],
   "source": [
    "majVote2 = majority_vote(labels2)\n",
    "majVote2"
   ]
  },
  {
   "cell_type": "code",
   "execution_count": 42,
   "metadata": {},
   "outputs": [],
   "source": [
    "labeledPoints = [(2,'a'),(3,'a'),(2.5,'a'),(2.5,'a'),(2.5,'b'),(4.2,'b'),(4,'a'),(3,'b'), (8,'c'),(3,'b'),(3.5,'b'),(3.5,'b')]\n",
    "point3= 3\n",
    "point4=4"
   ]
  },
  {
   "cell_type": "code",
   "execution_count": 51,
   "metadata": {},
   "outputs": [],
   "source": [
    "import math\n",
    "def knn_classify(k, labeled_points, new_point, echo=False):\n",
    "    \"\"\"each labeled point should be a pair (point, label)\"\"\"\n",
    "\n",
    "    # order the labeled points from nearest to farthest\n",
    "   # size= lambda planet: planet[1]\n",
    "    #pointDist = lambda point: point[0]\n",
    "    # order the labeled points from nearest to farthest\n",
    "    by_distance = sorted(labeled_points,key=lambda point_label: distance(point_label[0], new_point))\n",
    "    if echo :\n",
    "        print(by_distance)\n",
    "#    planets.sort(key=size, reverse=True)\n",
    "\n",
    "    # find the labels for the k closest\n",
    "    k_nearest_labels = [label for _, label in by_distance[:k]]\n",
    "    if echo:    \n",
    "        print(k_nearest_labels)\n",
    "\n",
    "    # and let them vote\n",
    "    return majority_vote(k_nearest_labels)\n",
    "\n",
    "#helpers\n",
    "def distance(v, w):\n",
    "    return math.sqrt(squared_distance(v, w))\n",
    "def squared_distance(v, w):\n",
    "    return sum_of_squares(vector_subtract(v, w))\n",
    "def sum_of_squares(v):\n",
    "    \"\"\"v_1 * v_1 + ... + v_n * v_n\"\"\"\n",
    "    return dot(v, v)\n",
    "def vector_subtract( v , w):\n",
    "    \"\"\"subtracts two vectors componentwise\"\"\"\n",
    "    return [v_i - w_i for v_i, w_i in zip([v],[w])]\n",
    "def dot(v, w):\n",
    "    \"\"\"v_1 * w_1 + ... + v_n * w_n\"\"\"\n",
    "    return sum(v_i * w_i for v_i, w_i in zip(v, w))"
   ]
  },
  {
   "cell_type": "code",
   "execution_count": 44,
   "metadata": {},
   "outputs": [
    {
     "data": {
      "text/plain": [
       "[2]"
      ]
     },
     "execution_count": 44,
     "metadata": {},
     "output_type": "execute_result"
    }
   ],
   "source": [
    "x=5\n",
    "y=3\n",
    "\n",
    "vector_subtract(x,y)"
   ]
  },
  {
   "cell_type": "code",
   "execution_count": 50,
   "metadata": {
    "scrolled": false
   },
   "outputs": [
    {
     "name": "stdout",
     "output_type": "stream",
     "text": [
      "[(8, 'c'), (4.2, 'b'), (4, 'a'), (3.5, 'b'), (3.5, 'b'), (3, 'a'), (3, 'b'), (3, 'b'), (2.5, 'a'), (2.5, 'a'), (2.5, 'b'), (2, 'a')]\n",
      "['c', 'b', 'a', 'b']\n"
     ]
    },
    {
     "data": {
      "text/plain": [
       "'b'"
      ]
     },
     "execution_count": 50,
     "metadata": {},
     "output_type": "execute_result"
    }
   ],
   "source": [
    "knn_classify(4,labeledPoints, 7)"
   ]
  },
  {
   "cell_type": "markdown",
   "metadata": {},
   "source": [
    "<p> <span style=\"color:purple\"> try classity  for point 3 and k= 2,4,5 </span>"
   ]
  },
  {
   "cell_type": "code",
   "execution_count": null,
   "metadata": {},
   "outputs": [],
   "source": []
  },
  {
   "cell_type": "code",
   "execution_count": 85,
   "metadata": {},
   "outputs": [
    {
     "name": "stdout",
     "output_type": "stream",
     "text": [
      "1\n",
      "[(3, 'a'), (3, 'b'), (3, 'b'), (2.5, 'a'), (2.5, 'a'), (2.5, 'b'), (3.5, 'b'), (3.5, 'b'), (2, 'a'), (4, 'a'), (4.2, 'b'), (8, 'c')]\n",
      "['a']\n",
      "a\n",
      "4\n",
      "[(3, 'a'), (3, 'b'), (3, 'b'), (2.5, 'a'), (2.5, 'a'), (2.5, 'b'), (3.5, 'b'), (3.5, 'b'), (2, 'a'), (4, 'a'), (4.2, 'b'), (8, 'c')]\n",
      "['a', 'b', 'b', 'a']\n",
      "b\n",
      "5\n",
      "[(3, 'a'), (3, 'b'), (3, 'b'), (2.5, 'a'), (2.5, 'a'), (2.5, 'b'), (3.5, 'b'), (3.5, 'b'), (2, 'a'), (4, 'a'), (4.2, 'b'), (8, 'c')]\n",
      "['a', 'b', 'b', 'a', 'a']\n",
      "a\n"
     ]
    }
   ],
   "source": [
    "for k in  ([1,4,5]):\n",
    "    print(k)\n",
    "    print (knn_classify(k,labeledPoints, 3))"
   ]
  },
  {
   "cell_type": "code",
   "execution_count": null,
   "metadata": {},
   "outputs": [],
   "source": [
    "#markers and column dictionary \n"
   ]
  },
  {
   "cell_type": "code",
   "execution_count": null,
   "metadata": {},
   "outputs": [],
   "source": []
  },
  {
   "cell_type": "code",
   "execution_count": null,
   "metadata": {},
   "outputs": [],
   "source": []
  },
  {
   "cell_type": "code",
   "execution_count": null,
   "metadata": {},
   "outputs": [],
   "source": []
  },
  {
   "cell_type": "code",
   "execution_count": null,
   "metadata": {},
   "outputs": [],
   "source": []
  },
  {
   "cell_type": "code",
   "execution_count": null,
   "metadata": {},
   "outputs": [],
   "source": []
  },
  {
   "cell_type": "code",
   "execution_count": null,
   "metadata": {},
   "outputs": [],
   "source": []
  },
  {
   "cell_type": "code",
   "execution_count": null,
   "metadata": {},
   "outputs": [],
   "source": []
  },
  {
   "cell_type": "code",
   "execution_count": null,
   "metadata": {},
   "outputs": [],
   "source": []
  },
  {
   "cell_type": "code",
   "execution_count": null,
   "metadata": {},
   "outputs": [],
   "source": []
  }
 ],
 "metadata": {
  "kernelspec": {
   "display_name": "Python 3",
   "language": "python",
   "name": "python3"
  },
  "language_info": {
   "codemirror_mode": {
    "name": "ipython",
    "version": 3
   },
   "file_extension": ".py",
   "mimetype": "text/x-python",
   "name": "python",
   "nbconvert_exporter": "python",
   "pygments_lexer": "ipython3",
   "version": "3.7.3"
  }
 },
 "nbformat": 4,
 "nbformat_minor": 2
}
