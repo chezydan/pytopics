{
 "cells": [
  {
   "cell_type": "markdown",
   "metadata": {},
   "source": [
    "<h1> Vectors and Matrices - numpy </h1>"
   ]
  },
  {
   "cell_type": "code",
   "execution_count": 24,
   "metadata": {},
   "outputs": [],
   "source": [
    "import numpy as np"
   ]
  },
  {
   "cell_type": "code",
   "execution_count": null,
   "metadata": {},
   "outputs": [],
   "source": []
  },
  {
   "cell_type": "code",
   "execution_count": null,
   "metadata": {},
   "outputs": [],
   "source": []
  },
  {
   "cell_type": "code",
   "execution_count": null,
   "metadata": {},
   "outputs": [],
   "source": []
  },
  {
   "cell_type": "code",
   "execution_count": null,
   "metadata": {},
   "outputs": [],
   "source": []
  },
  {
   "cell_type": "code",
   "execution_count": null,
   "metadata": {},
   "outputs": [],
   "source": []
  },
  {
   "cell_type": "markdown",
   "metadata": {},
   "source": [
    "<h2>Dense and Sparse \n",
    "Matrix Storage</h2>"
   ]
  },
  {
   "cell_type": "markdown",
   "metadata": {},
   "source": [
    "<h3> linearize(): return the index for a col or row-major matrix</h3> "
   ]
  },
  {
   "cell_type": "markdown",
   "metadata": {},
   "source": [
    "`linearize___(i,j,m,n):`"
   ]
  },
  {
   "cell_type": "code",
   "execution_count": 1,
   "metadata": {},
   "outputs": [],
   "source": [
    "def linearize_colmajor(i, j, m, n): # calculate `u`\n",
    "    \"\"\"\n",
    "    Returns the linear index for the `(i, j)` entry of\n",
    "    an `m`-by-`n` matrix stored in column-major order.\n",
    "    \"\"\"\n",
    "    return i + j*m"
   ]
  },
  {
   "cell_type": "code",
   "execution_count": 20,
   "metadata": {},
   "outputs": [],
   "source": [
    "def linearize_rowmajor(i, j, m, n): # calculate `v`\n",
    "    \"\"\"\n",
    "    Returns the linear index for the `(i, j)` entry of\n",
    "    an `m`-by-`n` matrix stored in row-major order.\n",
    "    \"\"\"\n",
    "    return i*n + j"
   ]
  },
  {
   "cell_type": "markdown",
   "metadata": {},
   "source": [
    "example for a 3 * 4 matrix <br>\n",
    "`m=3\n",
    "n=4`"
   ]
  },
  {
   "cell_type": "code",
   "execution_count": 23,
   "metadata": {},
   "outputs": [
    {
     "name": "stdout",
     "output_type": "stream",
     "text": [
      "for an 3 by 4 matrix\n",
      "representing cell 1: (0, 3)\n",
      "colmajor: 9\n",
      "rowmajor: 3\n",
      "representing cell 2: (1, 2)\n",
      "colmajor: 7\n",
      "rowmajor: 6\n"
     ]
    }
   ],
   "source": [
    "m=3\n",
    "n=4\n",
    "cell1=(0,3)\n",
    "cell2=(1,2)\n",
    "print(\"for an {:} by {:} matrix\".format(m,n))\n",
    "print(\"representing cell 1: {:}\".format(cell1))\n",
    "print(\"colmajor: \"+str(linearize_colmajor(cell1[0], cell1[1],m,n)))\n",
    "print(\"rowmajor: \"+str(linearize_rowmajor(cell1[0], cell1[1],m,n)))\n",
    "print(\"representing cell 2: {:}\".format(cell2))\n",
    "print(\"colmajor: \"+str(linearize_colmajor(cell2[0], cell2[1],m,n)))\n",
    "print(\"rowmajor: \"+str(linearize_rowmajor(cell2[0], cell2[1],m,n)))\n"
   ]
  },
  {
   "cell_type": "code",
   "execution_count": null,
   "metadata": {},
   "outputs": [],
   "source": []
  },
  {
   "cell_type": "code",
   "execution_count": 57,
   "metadata": {},
   "outputs": [
    {
     "data": {
      "text/plain": [
       "array([[ 0,  1,  2,  3],\n",
       "       [ 4,  5,  6,  7],\n",
       "       [ 8,  9, 10, 11]])"
      ]
     },
     "execution_count": 57,
     "metadata": {},
     "output_type": "execute_result"
    }
   ],
   "source": [
    "A=np.arange(0,12)\n",
    "A=A.reshape(3,4)\n",
    "A"
   ]
  },
  {
   "cell_type": "code",
   "execution_count": 64,
   "metadata": {},
   "outputs": [
    {
     "data": {
      "text/plain": [
       "array([[ 0,  1,  2,  3],\n",
       "       [ 4,  5,  6,  7],\n",
       "       [ 8,  9, 10, 99]])"
      ]
     },
     "execution_count": 64,
     "metadata": {},
     "output_type": "execute_result"
    }
   ],
   "source": [
    "A[2][3]=99\n",
    "A\n",
    "\n",
    "A"
   ]
  },
  {
   "cell_type": "markdown",
   "metadata": {},
   "source": [
    "implementing a column major function"
   ]
  },
  {
   "cell_type": "code",
   "execution_count": 63,
   "metadata": {},
   "outputs": [
    {
     "name": "stdout",
     "output_type": "stream",
     "text": [
      "[ 0.  4.  8.  1.  5.  9.  2.  6. 10.  3.  7. 99.]\n"
     ]
    }
   ],
   "source": [
    "def colmaj(A):\n",
    "    LinA = np.ones(A.shape[0]*A.shape[1])\n",
    "\n",
    "    for j in range(A.shape[1]):\n",
    "        for i in range( A.shape[0]):\n",
    "           # print (A[j*A.shape[0] * i])\n",
    "            LinA[j*A.shape[0]+i] = A[i][j]\n",
    "        \n",
    "    return LinA\n",
    "print(colmaj(A))"
   ]
  },
  {
   "cell_type": "code",
   "execution_count": null,
   "metadata": {},
   "outputs": [],
   "source": []
  },
  {
   "cell_type": "code",
   "execution_count": null,
   "metadata": {},
   "outputs": [],
   "source": []
  },
  {
   "cell_type": "markdown",
   "metadata": {},
   "source": [
    "<h4> Numpy leyouts for colmaj and rowmaj matrices </h4>"
   ]
  },
  {
   "cell_type": "code",
   "execution_count": 31,
   "metadata": {},
   "outputs": [],
   "source": [
    "n = 5000\n",
    "A_colmaj = np.ones((n, n), order='F') # column-major (Fortran convention)\n",
    "A_rowmaj = np.ones((n, n), order='C') # row-major (C/C++ convention)\n",
    "\n",
    "\n"
   ]
  },
  {
   "cell_type": "code",
   "execution_count": null,
   "metadata": {},
   "outputs": [],
   "source": []
  },
  {
   "cell_type": "markdown",
   "metadata": {},
   "source": [
    "<h3> Counting Triangles (Graph) with Matrices </h3>"
   ]
  },
  {
   "cell_type": "code",
   "execution_count": null,
   "metadata": {},
   "outputs": [],
   "source": [
    "\n"
   ]
  },
  {
   "cell_type": "code",
   "execution_count": 169,
   "metadata": {},
   "outputs": [
    {
     "data": {
      "text/plain": [
       "array([[0, 1, 0, 1, 0, 1],\n",
       "       [1, 0, 0, 1, 0, 0],\n",
       "       [0, 0, 0, 1, 0, 0],\n",
       "       [1, 1, 1, 0, 1, 1],\n",
       "       [0, 0, 0, 1, 0, 0],\n",
       "       [1, 0, 0, 1, 0, 0]])"
      ]
     },
     "execution_count": 169,
     "metadata": {},
     "output_type": "execute_result"
    }
   ],
   "source": [
    "G = np.array([[0, 1, 0, 1, 0, 1],\n",
    "              [1, 0, 0, 1, 0, 0],\n",
    "              [0, 0, 0, 1, 0, 0],\n",
    "              [1, 1, 1, 0, 1, 1],\n",
    "              [0, 0, 0, 1, 0, 0],\n",
    "              [1, 0, 0, 1, 0, 0]], dtype=int)\n",
    "G"
   ]
  },
  {
   "cell_type": "code",
   "execution_count": 193,
   "metadata": {},
   "outputs": [],
   "source": [
    "def count_triangles(A):\n",
    "    assert (type(A) is np.ndarray) and (A.ndim == 2) and (A.shape[0] == A.shape[1])\n",
    "    TotTri=(np.matmul(A,A)*A)\n",
    "    return int( np.sum(TotTri)/6)\n",
    "    "
   ]
  },
  {
   "cell_type": "code",
   "execution_count": 194,
   "metadata": {},
   "outputs": [
    {
     "name": "stdout",
     "output_type": "stream",
     "text": [
      "2\n"
     ]
    }
   ],
   "source": [
    "print(count_triangles(G))"
   ]
  },
  {
   "cell_type": "code",
   "execution_count": 75,
   "metadata": {},
   "outputs": [],
   "source": [
    "def count_triangles_proc(A):\n",
    "    assert (type(A) is np.ndarray) and (A.ndim == 2) and (A.shape[0] == A.shape[1])\n",
    "    print(np.matmul(A,A))\n",
    "    print(np.matmul(A,A)*A)\n",
    "    TotTri=(np.matmul(A,A)*A)\n",
    "    return int( np.sum(TotTri)/6)    "
   ]
  },
  {
   "cell_type": "code",
   "execution_count": 76,
   "metadata": {},
   "outputs": [
    {
     "name": "stdout",
     "output_type": "stream",
     "text": [
      "[[3 1 1 2 1 1]\n",
      " [1 2 1 1 1 2]\n",
      " [1 1 1 0 1 1]\n",
      " [2 1 0 5 0 1]\n",
      " [1 1 1 0 1 1]\n",
      " [1 2 1 1 1 2]]\n",
      "[[0 1 0 2 0 1]\n",
      " [1 0 0 1 0 0]\n",
      " [0 0 0 0 0 0]\n",
      " [2 1 0 0 0 1]\n",
      " [0 0 0 0 0 0]\n",
      " [1 0 0 1 0 0]]\n"
     ]
    },
    {
     "data": {
      "text/plain": [
       "2"
      ]
     },
     "execution_count": 76,
     "metadata": {},
     "output_type": "execute_result"
    }
   ],
   "source": [
    "count_triangles_proc(G)"
   ]
  },
  {
   "cell_type": "code",
   "execution_count": 154,
   "metadata": {},
   "outputs": [
    {
     "name": "stdout",
     "output_type": "stream",
     "text": [
      " Problem:  a lot of place for ilegal graphs\n"
     ]
    }
   ],
   "source": [
    "DG={0:[2,3],1:[0,2],2:[2,3],3:[1,0]}\n",
    "DG\n",
    "print(\" Problem:  a lot of place for ilegal graphs\")"
   ]
  },
  {
   "cell_type": "code",
   "execution_count": 119,
   "metadata": {},
   "outputs": [],
   "source": [
    "def getmax(DicG):\n",
    "    mx=0\n",
    "    for k,d in DicG.items():\n",
    "        for i in d:\n",
    "           if i > mx:\n",
    "                mx =i\n",
    "    return mx\n",
    "\n",
    "def matrixGraph(DicG):\n",
    "    '''asumes DicG is a dict fof the form {numb:[list of numbers], ..}\n",
    "    converts to  n*n Adjacency Matrix  of contacts '''\n",
    "    AM=np.zeros( (getmax(DicG)+1, getmax(DicG)+1) )\n",
    "    for k,d in DicG.items():\n",
    "        for i in d:\n",
    "            AM[k,i]=1\n",
    "    return AM\n",
    "        "
   ]
  },
  {
   "cell_type": "code",
   "execution_count": 208,
   "metadata": {},
   "outputs": [
    {
     "name": "stdout",
     "output_type": "stream",
     "text": [
      "[[0. 0. 1. 1.]\n",
      " [1. 0. 1. 0.]\n",
      " [0. 0. 1. 1.]\n",
      " [1. 1. 0. 0.]]\n"
     ]
    }
   ],
   "source": [
    "print(matrixGraph(DG))"
   ]
  },
  {
   "cell_type": "code",
   "execution_count": null,
   "metadata": {},
   "outputs": [],
   "source": [
    "DO THE SAME WITH TUPLES AS EDGES"
   ]
  },
  {
   "cell_type": "code",
   "execution_count": 188,
   "metadata": {},
   "outputs": [],
   "source": [
    "a= set(  [ (1,2),(0,1),(3,2) ])"
   ]
  },
  {
   "cell_type": "code",
   "execution_count": 189,
   "metadata": {},
   "outputs": [
    {
     "name": "stdout",
     "output_type": "stream",
     "text": [
      "[[0. 1. 0. 0.]\n",
      " [1. 0. 1. 0.]\n",
      " [0. 1. 0. 1.]\n",
      " [0. 0. 1. 0.]]\n"
     ]
    }
   ],
   "source": [
    "def getmaxS(S):\n",
    "    '''assumes S a set of 2-member tuples (each one an edge between 2 nodes)'''\n",
    "    mx=0\n",
    "\n",
    "    for t in S:\n",
    "        for i in t:\n",
    "             if i > mx:\n",
    "                mx = i\n",
    "    return mx\n",
    "\n",
    "def matrixGraphSet(SetG):\n",
    "    '''asumes DicSet is a set of the form ([(tuplepairr), (tuplepair)]) ..}\n",
    "    converts to  n*n Adjacency Matrix  of contacts '''\n",
    "    AM=np.zeros( (getmaxS(SetG)+1, getmaxS(SetG)+1) )\n",
    "    for t in SetG:\n",
    "        \n",
    "            AM[t]=1\n",
    "            AM[t[::-1]]=1\n",
    "    return AM\n",
    "a=(matrixGraphSet(a))\n",
    "print(a)"
   ]
  },
  {
   "cell_type": "code",
   "execution_count": 184,
   "metadata": {},
   "outputs": [],
   "source": [
    "def GraphSetAM(AM):\n",
    "    GS=set()\n",
    "    for i in range(AM.shape[0]):\n",
    "        for j in  range(i,AM.shape[1]):\n",
    "            if AM[i,j]==1:\n",
    "                GS|={(i,j)}\n",
    "    return GS\n",
    "                "
   ]
  },
  {
   "cell_type": "code",
   "execution_count": 185,
   "metadata": {},
   "outputs": [
    {
     "name": "stdout",
     "output_type": "stream",
     "text": [
      "{(0, 1), (1, 3), (0, 5), (2, 3), (0, 3), (3, 4), (3, 5)}\n"
     ]
    },
    {
     "data": {
      "text/plain": [
       "7"
      ]
     },
     "execution_count": 185,
     "metadata": {},
     "output_type": "execute_result"
    }
   ],
   "source": [
    "GG=(GraphSetAM(G))\n",
    "print(GG)\n",
    "len(GG)"
   ]
  },
  {
   "cell_type": "code",
   "execution_count": 191,
   "metadata": {},
   "outputs": [
    {
     "name": "stdout",
     "output_type": "stream",
     "text": [
      "[[0. 1. 0. 0.]\n",
      " [1. 0. 1. 0.]\n",
      " [0. 1. 0. 1.]\n",
      " [0. 0. 1. 0.]]\n",
      "{(0, 1), (2, 3), (1, 2)}\n"
     ]
    }
   ],
   "source": [
    "print(a)\n",
    "GSa=GraphSetAM(a)\n",
    "print(GSa)"
   ]
  },
  {
   "cell_type": "markdown",
   "metadata": {},
   "source": [
    "<p><span style=\"color:purple\"> get triangles in Gb </span>"
   ]
  },
  {
   "cell_type": "code",
   "execution_count": 206,
   "metadata": {},
   "outputs": [],
   "source": [
    "Gb = set({(0,1),(3,1),(2,3),(0,2),(1,2),(5,4),(4,3),(6,3),(4,6)})"
   ]
  },
  {
   "cell_type": "code",
   "execution_count": null,
   "metadata": {},
   "outputs": [],
   "source": []
  },
  {
   "cell_type": "code",
   "execution_count": 207,
   "metadata": {},
   "outputs": [
    {
     "name": "stdout",
     "output_type": "stream",
     "text": [
      "[[0. 1. 1. 0. 0. 0. 0.]\n",
      " [1. 0. 1. 1. 0. 0. 0.]\n",
      " [1. 1. 0. 1. 0. 0. 0.]\n",
      " [0. 1. 1. 0. 1. 0. 1.]\n",
      " [0. 0. 0. 1. 0. 1. 1.]\n",
      " [0. 0. 0. 0. 1. 0. 0.]\n",
      " [0. 0. 0. 1. 1. 0. 0.]]\n",
      "num of triangles: 3\n"
     ]
    }
   ],
   "source": [
    "#first go for the adjacency matrix\n",
    "GbAM = matrixGraphSet(Gb)\n",
    "print(GbAM)\n",
    "#then count Tri\n",
    "triangGb=count_triangles(GbAM)\n",
    "print(\"num of triangles: {}\".format(triangGb))"
   ]
  },
  {
   "cell_type": "code",
   "execution_count": null,
   "metadata": {},
   "outputs": [],
   "source": []
  },
  {
   "cell_type": "code",
   "execution_count": null,
   "metadata": {},
   "outputs": [],
   "source": []
  },
  {
   "cell_type": "code",
   "execution_count": null,
   "metadata": {},
   "outputs": [],
   "source": []
  },
  {
   "cell_type": "code",
   "execution_count": null,
   "metadata": {},
   "outputs": [],
   "source": []
  },
  {
   "cell_type": "code",
   "execution_count": null,
   "metadata": {},
   "outputs": [],
   "source": []
  },
  {
   "cell_type": "code",
   "execution_count": null,
   "metadata": {},
   "outputs": [],
   "source": []
  }
 ],
 "metadata": {
  "kernelspec": {
   "display_name": "Python 3",
   "language": "python",
   "name": "python3"
  },
  "language_info": {
   "codemirror_mode": {
    "name": "ipython",
    "version": 3
   },
   "file_extension": ".py",
   "mimetype": "text/x-python",
   "name": "python",
   "nbconvert_exporter": "python",
   "pygments_lexer": "ipython3",
   "version": "3.6.5"
  }
 },
 "nbformat": 4,
 "nbformat_minor": 2
}
