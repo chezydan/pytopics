{
 "cells": [
  {
   "cell_type": "markdown",
   "metadata": {},
   "source": [
    "<h1> Numpy </h1>"
   ]
  },
  {
   "cell_type": "markdown",
   "metadata": {},
   "source": [
    "<h2> intro </h2>"
   ]
  },
  {
   "cell_type": "code",
   "execution_count": 2,
   "metadata": {},
   "outputs": [
    {
     "name": "stdout",
     "output_type": "stream",
     "text": [
      "1.14.5\n"
     ]
    }
   ],
   "source": [
    "import numpy as np\n",
    "print(np.__version__)"
   ]
  },
  {
   "cell_type": "code",
   "execution_count": null,
   "metadata": {},
   "outputs": [],
   "source": []
  },
  {
   "cell_type": "markdown",
   "metadata": {},
   "source": [
    "<h3>Creating arrays +  performace</h3>"
   ]
  },
  {
   "cell_type": "markdown",
   "metadata": {},
   "source": [
    "arrayName = np.array(list)"
   ]
  },
  {
   "cell_type": "code",
   "execution_count": 3,
   "metadata": {},
   "outputs": [],
   "source": [
    "myFirstAr=np.array([1,2,3,4])"
   ]
  },
  {
   "cell_type": "code",
   "execution_count": 4,
   "metadata": {},
   "outputs": [
    {
     "data": {
      "text/plain": [
       "array([0, 1, 2, 3, 4, 5, 6, 7, 8, 9])"
      ]
     },
     "execution_count": 4,
     "metadata": {},
     "output_type": "execute_result"
    }
   ],
   "source": [
    "myFirstArangeArr= np.arange(10)\n",
    "myFirstArangeArr\n",
    "#display_math(' \\equiv '+latex_vector(myFirstAr))\n",
    "#disp('First',myFirstAr)   activate HELPERS at the end"
   ]
  },
  {
   "cell_type": "markdown",
   "metadata": {},
   "source": [
    " <a href='#helpers'>Link to helper function </a>"
   ]
  },
  {
   "cell_type": "code",
   "execution_count": 5,
   "metadata": {},
   "outputs": [
    {
     "name": "stdout",
     "output_type": "stream",
     "text": [
      "293 ms ± 4.22 ms per loop (mean ± std. dev. of 7 runs, 1 loop each)\n"
     ]
    }
   ],
   "source": [
    "n=1000000\n",
    "#list\n",
    "L= range(n)\n",
    "%timeit[i**2 for i in L]"
   ]
  },
  {
   "cell_type": "code",
   "execution_count": 6,
   "metadata": {},
   "outputs": [
    {
     "name": "stdout",
     "output_type": "stream",
     "text": [
      "918 ns ± 10.3 ns per loop (mean ± std. dev. of 7 runs, 1000000 loops each)\n"
     ]
    }
   ],
   "source": [
    "#nparray\n",
    "A=myFirstArangeArr\n",
    "%timeit A**2"
   ]
  },
  {
   "cell_type": "code",
   "execution_count": null,
   "metadata": {},
   "outputs": [],
   "source": [
    "\n",
    "\n",
    "\n"
   ]
  },
  {
   "cell_type": "markdown",
   "metadata": {},
   "source": [
    "<h3> Multidimensional Arrays </h3>"
   ]
  },
  {
   "cell_type": "markdown",
   "metadata": {},
   "source": [
    "arrayName = np.array(nestedList)"
   ]
  },
  {
   "cell_type": "code",
   "execution_count": 7,
   "metadata": {},
   "outputs": [
    {
     "name": "stdout",
     "output_type": "stream",
     "text": [
      "[[ 0  1  2  3]\n",
      " [ 4  5  6  7]\n",
      " [ 8  9 10 11]]\n"
     ]
    }
   ],
   "source": [
    "# Create a two-dimensional array of size 3 rows x 4 columns:\n",
    "B = np.array([[0, 1, 2, 3],\n",
    "              [4, 5, 6, 7],\n",
    "              [8, 9, 10, 11]])\n",
    "\n",
    "print(B)"
   ]
  },
  {
   "cell_type": "code",
   "execution_count": 8,
   "metadata": {},
   "outputs": [
    {
     "name": "stdout",
     "output_type": "stream",
     "text": [
      "2  .ndim shows Dimensions\n",
      "(3, 4)  .shape shows Shape of n dimensions\n",
      "3  len(arrayName) shows 'outer' len\n"
     ]
    }
   ],
   "source": [
    "print(\"{}  .ndim shows Dimensions\".format(B.ndim))\n",
    "print(\"{}  .shape shows Shape of n dimensions\".format(B.shape))\n",
    "print(\"{}  len(arrayName) shows 'outer' len\".format(len(B)))"
   ]
  },
  {
   "cell_type": "code",
   "execution_count": 9,
   "metadata": {},
   "outputs": [
    {
     "name": "stdout",
     "output_type": "stream",
     "text": [
      "[[[ 0  1  2  3]\n",
      "  [ 4  5  6  7]\n",
      "  [ 8  9 10 11]]\n",
      "\n",
      " [[12 13 14 15]\n",
      "  [16 17 18 19]\n",
      "  [20 21 22 23]]]\n",
      "3\n"
     ]
    }
   ],
   "source": [
    "#join 2 matrices in a higher dim matrix\n",
    "C1 = [[0, 1, 2, 3],\n",
    "      [4, 5, 6, 7],\n",
    "      [8, 9, 10, 11]]\n",
    "\n",
    "C2 = [[12, 13, 14, 15],\n",
    "      [16, 17, 18, 19],\n",
    "      [20, 21, 22, 23]]\n",
    "\n",
    "C = np.array([C1, C2])\n",
    "print(C)\n",
    "print(C.ndim)\n"
   ]
  },
  {
   "cell_type": "code",
   "execution_count": null,
   "metadata": {},
   "outputs": [],
   "source": []
  },
  {
   "cell_type": "markdown",
   "metadata": {},
   "source": [
    "<h3> Routines for creating matrices/arrays </h3>"
   ]
  },
  {
   "cell_type": "code",
   "execution_count": 10,
   "metadata": {},
   "outputs": [
    {
     "name": "stdout",
     "output_type": "stream",
     "text": [
      "[[0. 0. 0. 0.]\n",
      " [0. 0. 0. 0.]\n",
      " [0. 0. 0. 0.]]\n"
     ]
    }
   ],
   "source": [
    "print(np.zeros((3, 4)))"
   ]
  },
  {
   "cell_type": "code",
   "execution_count": 11,
   "metadata": {},
   "outputs": [
    {
     "name": "stdout",
     "output_type": "stream",
     "text": [
      "[[1. 1. 1. 1.]\n",
      " [1. 1. 1. 1.]\n",
      " [1. 1. 1. 1.]]\n"
     ]
    }
   ],
   "source": [
    "print(np.ones((3,4)))"
   ]
  },
  {
   "cell_type": "code",
   "execution_count": 12,
   "metadata": {},
   "outputs": [
    {
     "name": "stdout",
     "output_type": "stream",
     "text": [
      "np.eye() uses floating-point as default\n",
      "[[1. 0. 0.]\n",
      " [0. 1. 0.]\n",
      " [0. 0. 1.]]\n"
     ]
    }
   ],
   "source": [
    "print(\"np.eye() uses floating-point as default\")\n",
    "print(np.eye(3))"
   ]
  },
  {
   "cell_type": "code",
   "execution_count": 13,
   "metadata": {},
   "outputs": [
    {
     "name": "stdout",
     "output_type": "stream",
     "text": [
      "np.diag() derives the type from its imput\n",
      "[[1. 0. 0.]\n",
      " [0. 1. 0.]\n",
      " [0. 0. 1.]]\n",
      "[[1 0 0]\n",
      " [0 2 0]\n",
      " [0 0 3]]\n"
     ]
    }
   ],
   "source": [
    "print(\"np.diag() derives the type from its imput\")\n",
    "print(np.diag([1.0] * 3))\n",
    "print(np.diag([x for x in range(1,4)]))  #or np.diag([1,2,3])\n"
   ]
  },
  {
   "cell_type": "code",
   "execution_count": 14,
   "metadata": {},
   "outputs": [
    {
     "data": {
      "text/plain": [
       "array([ 0.,  5., 10.])"
      ]
     },
     "execution_count": 14,
     "metadata": {},
     "output_type": "execute_result"
    }
   ],
   "source": [
    "np.linspace(0,10,3)"
   ]
  },
  {
   "cell_type": "code",
   "execution_count": 15,
   "metadata": {},
   "outputs": [
    {
     "name": "stdout",
     "output_type": "stream",
     "text": [
      "[[1. 1. 1. 1.]\n",
      " [1. 1. 1. 1.]\n",
      " [1. 1. 1. 1.]]\n"
     ]
    }
   ],
   "source": [
    "A = np.empty((3, 4)) # An \"empty\" 3 x 4 matrix\n",
    "print(A)"
   ]
  },
  {
   "cell_type": "code",
   "execution_count": 48,
   "metadata": {},
   "outputs": [
    {
     "ename": "AttributeError",
     "evalue": "module 'numpy' has no attribute 'randint'",
     "output_type": "error",
     "traceback": [
      "\u001b[0;31m---------------------------------------------------------------------------\u001b[0m",
      "\u001b[0;31mAttributeError\u001b[0m                            Traceback (most recent call last)",
      "\u001b[0;32m<ipython-input-48-c9238c32da65>\u001b[0m in \u001b[0;36m<module>\u001b[0;34m()\u001b[0m\n\u001b[0;32m----> 1\u001b[0;31m \u001b[0mnp\u001b[0m\u001b[0;34m.\u001b[0m\u001b[0mrandint\u001b[0m\u001b[0;34m.\u001b[0m\u001b[0mchoice\u001b[0m\u001b[0;34m(\u001b[0m\u001b[0;34m[\u001b[0m\u001b[0;36m1\u001b[0m\u001b[0;34m,\u001b[0m\u001b[0;36m0\u001b[0m\u001b[0;34m]\u001b[0m\u001b[0;34m)\u001b[0m\u001b[0;34m\u001b[0m\u001b[0m\n\u001b[0m",
      "\u001b[0;31mAttributeError\u001b[0m: module 'numpy' has no attribute 'randint'"
     ]
    }
   ],
   "source": [
    ")"
   ]
  },
  {
   "cell_type": "markdown",
   "metadata": {},
   "source": [
    "<h2>np methods for creating np arrays </h2>"
   ]
  },
  {
   "cell_type": "markdown",
   "metadata": {},
   "source": [
    "<h3>linspace </h3>\n",
    "<p> creates an e v e n l y spaced points array\n",
    "    <br>\n",
    "`np.linspace(start, stop, numPoints)`"
   ]
  },
  {
   "cell_type": "code",
   "execution_count": 16,
   "metadata": {},
   "outputs": [
    {
     "data": {
      "text/plain": [
       "array([ 10.,  20.,  30.,  40.,  50.,  60.,  70.,  80.,  90., 100.])"
      ]
     },
     "execution_count": 16,
     "metadata": {},
     "output_type": "execute_result"
    }
   ],
   "source": [
    "np.linspace(10,100,10)"
   ]
  },
  {
   "cell_type": "markdown",
   "metadata": {},
   "source": [
    "<p> <span style='color:purple'> create an np array linspBig with the folowing start, stop and n_steps vars</span>"
   ]
  },
  {
   "cell_type": "code",
   "execution_count": 17,
   "metadata": {},
   "outputs": [],
   "source": [
    "start=0\n",
    "stop=1500\n",
    "n_steps=6"
   ]
  },
  {
   "cell_type": "code",
   "execution_count": null,
   "metadata": {},
   "outputs": [],
   "source": []
  },
  {
   "cell_type": "code",
   "execution_count": 18,
   "metadata": {},
   "outputs": [
    {
     "ename": "NameError",
     "evalue": "name 'linspBig' is not defined",
     "output_type": "error",
     "traceback": [
      "\u001b[0;31m---------------------------------------------------------------------------\u001b[0m",
      "\u001b[0;31mNameError\u001b[0m                                 Traceback (most recent call last)",
      "\u001b[0;32m<ipython-input-18-84630a0a6f77>\u001b[0m in \u001b[0;36m<module>\u001b[0;34m()\u001b[0m\n\u001b[1;32m      1\u001b[0m \u001b[0;31m#check\u001b[0m\u001b[0;34m\u001b[0m\u001b[0;34m\u001b[0m\u001b[0m\n\u001b[0;32m----> 2\u001b[0;31m \u001b[0mnp\u001b[0m\u001b[0;34m.\u001b[0m\u001b[0malltrue\u001b[0m\u001b[0;34m(\u001b[0m\u001b[0mlinspBig\u001b[0m \u001b[0;34m==\u001b[0m \u001b[0mnp\u001b[0m\u001b[0;34m.\u001b[0m\u001b[0marray\u001b[0m\u001b[0;34m(\u001b[0m\u001b[0;34m[\u001b[0m   \u001b[0;36m0.\u001b[0m\u001b[0;34m,\u001b[0m  \u001b[0;36m300.\u001b[0m\u001b[0;34m,\u001b[0m  \u001b[0;36m600.\u001b[0m\u001b[0;34m,\u001b[0m  \u001b[0;36m900.\u001b[0m\u001b[0;34m,\u001b[0m \u001b[0;36m1200.\u001b[0m\u001b[0;34m,\u001b[0m \u001b[0;36m1500.\u001b[0m\u001b[0;34m]\u001b[0m\u001b[0;34m)\u001b[0m\u001b[0;34m)\u001b[0m\u001b[0;34m\u001b[0m\u001b[0m\n\u001b[0m",
      "\u001b[0;31mNameError\u001b[0m: name 'linspBig' is not defined"
     ]
    }
   ],
   "source": [
    "#check\n",
    "np.alltrue(linspBig == np.array([   0.,  300.,  600.,  900., 1200., 1500.]))"
   ]
  },
  {
   "cell_type": "code",
   "execution_count": null,
   "metadata": {},
   "outputs": [],
   "source": [
    "linspBig = np.linspace(start,stop,n_steps)\n",
    "linspBig"
   ]
  },
  {
   "cell_type": "code",
   "execution_count": null,
   "metadata": {},
   "outputs": [],
   "source": []
  },
  {
   "cell_type": "markdown",
   "metadata": {},
   "source": [
    "<h3> .arange and list comprehension  </h3>"
   ]
  },
  {
   "cell_type": "markdown",
   "metadata": {},
   "source": [
    "`np.arrange(start, stop, step_size)`"
   ]
  },
  {
   "cell_type": "code",
   "execution_count": null,
   "metadata": {},
   "outputs": [],
   "source": [
    "rnge =np.arange(10,0,-2)\n",
    "rnge"
   ]
  },
  {
   "cell_type": "code",
   "execution_count": null,
   "metadata": {},
   "outputs": [],
   "source": [
    "#list comprehension\n",
    "compr=np.array([x**2 for x in range(20,10,-1)])\n",
    "compr"
   ]
  },
  {
   "cell_type": "code",
   "execution_count": null,
   "metadata": {},
   "outputs": [],
   "source": []
  },
  {
   "cell_type": "markdown",
   "metadata": {},
   "source": [
    "<h3>with Random Numbers</h3>"
   ]
  },
  {
   "cell_type": "markdown",
   "metadata": {},
   "source": [
    "`np.random.randint(nFrom, nTo, size=(_tuple))`"
   ]
  },
  {
   "cell_type": "code",
   "execution_count": 19,
   "metadata": {},
   "outputs": [
    {
     "data": {
      "text/plain": [
       "array([[-2, -9,  9, -4],\n",
       "       [ 2, -9, -6, -7],\n",
       "       [-2, -2, -7, -2]])"
      ]
     },
     "execution_count": 19,
     "metadata": {},
     "output_type": "execute_result"
    }
   ],
   "source": [
    "np.random.seed=(10)\n",
    "rndTen=np.random.randint(-10, 10, size=(3,4))\n",
    "rndTen"
   ]
  },
  {
   "cell_type": "markdown",
   "metadata": {},
   "source": [
    "<p> <span style='color:purple'> create an np matrix twoMtr 2 by 2 with randint ranging from -6 to 7</span>"
   ]
  },
  {
   "cell_type": "code",
   "execution_count": null,
   "metadata": {},
   "outputs": [],
   "source": []
  },
  {
   "cell_type": "code",
   "execution_count": null,
   "metadata": {},
   "outputs": [],
   "source": []
  },
  {
   "cell_type": "code",
   "execution_count": 20,
   "metadata": {},
   "outputs": [
    {
     "data": {
      "text/plain": [
       "array([[-1,  0],\n",
       "       [-3, -1]])"
      ]
     },
     "execution_count": 20,
     "metadata": {},
     "output_type": "execute_result"
    }
   ],
   "source": [
    "twoMtr= np.random.randint(-6,7,size=(2,2))\n",
    "twoMtr"
   ]
  },
  {
   "cell_type": "markdown",
   "metadata": {},
   "source": [
    "<h4>random sampling </h4>"
   ]
  },
  {
   "cell_type": "code",
   "execution_count": 4,
   "metadata": {},
   "outputs": [
    {
     "name": "stdout",
     "output_type": "stream",
     "text": [
      "[ 8.22 11.6   5.27 12.88  9.4  10.78 12.01 12.33  9.03  9.53  6.2   8.86\n",
      "  8.87 11.49  7.63  7.16  9.21 12.51  7.17  8.97]\n",
      "mean= 9.92, sigma= 1.93\n"
     ]
    }
   ],
   "source": [
    "#normal\n",
    "mu=10\n",
    "sigm=2\n",
    "size=250\n",
    "smpNorm=np.random.normal(mu, sigm, size)\n",
    "print(np.round(smpNorm[0:20],2))\n",
    "print(\"mean= {:0.2f}, sigma= {:0.2f}\".format(np.mean(smpNorm), np.std(smpNorm)))"
   ]
  },
  {
   "cell_type": "code",
   "execution_count": 13,
   "metadata": {},
   "outputs": [
    {
     "data": {
      "text/plain": [
       "(array([ 2.,  2.,  4.,  3.,  5.,  8.,  8., 14., 18., 10., 18., 34., 13.,\n",
       "        22., 13., 17., 13., 11., 12.,  4.,  4.,  5.,  4.,  4.,  2.]),\n",
       " array([ 5.0839257 ,  5.47077387,  5.85762203,  6.2444702 ,  6.63131836,\n",
       "         7.01816653,  7.40501469,  7.79186286,  8.17871102,  8.56555918,\n",
       "         8.95240735,  9.33925551,  9.72610368, 10.11295184, 10.49980001,\n",
       "        10.88664817, 11.27349633, 11.6603445 , 12.04719266, 12.43404083,\n",
       "        12.82088899, 13.20773716, 13.59458532, 13.98143348, 14.36828165,\n",
       "        14.75512981]),\n",
       " <a list of 25 Patch objects>)"
      ]
     },
     "execution_count": 13,
     "metadata": {},
     "output_type": "execute_result"
    },
    {
     "data": {
      "image/png": "[encoded data removed]",
      "text/plain": [
       "<Figure size 432x288 with 1 Axes>"
      ]
     },
     "metadata": {},
     "output_type": "display_data"
    }
   ],
   "source": [
    "import matplotlib.pyplot as plt\n",
    "plt.style.use('seaborn-white')\n",
    "#why not an histogram?\n",
    "plt.hist(smpNorm, bins=25)"
   ]
  },
  {
   "cell_type": "code",
   "execution_count": 69,
   "metadata": {},
   "outputs": [
    {
     "data": {
      "text/plain": [
       "array([6.88025657, 2.50625368, 1.37980509, 1.30678944, 5.00003795])"
      ]
     },
     "execution_count": 69,
     "metadata": {},
     "output_type": "execute_result"
    }
   ],
   "source": [
    "#uniform\n",
    "low=1\n",
    "high=7\n",
    "uni=np.random.uniform(low, high,5)\n",
    "uni"
   ]
  },
  {
   "cell_type": "code",
   "execution_count": 112,
   "metadata": {},
   "outputs": [
    {
     "name": "stdout",
     "output_type": "stream",
     "text": [
      "[[2 3 4 3 5]\n",
      " [6 5 3 2 4]]\n",
      "sum accross cols\n",
      "[8 8 7 5 9]\n"
     ]
    }
   ],
   "source": [
    "#short 2 dice simulation\n",
    "smpl= np.random.randint(low,high,(2,5))\n",
    "print(smpl)\n",
    "sumsSmpl = np.sum(smpl, axis=0)\n",
    "print('sum accross cols')\n",
    "print(sumsSmpl)"
   ]
  },
  {
   "cell_type": "code",
   "execution_count": null,
   "metadata": {},
   "outputs": [],
   "source": []
  },
  {
   "cell_type": "code",
   "execution_count": null,
   "metadata": {},
   "outputs": [],
   "source": []
  },
  {
   "cell_type": "markdown",
   "metadata": {},
   "source": [
    "<h2> slicing and  indexing </h2>"
   ]
  },
  {
   "cell_type": "code",
   "execution_count": null,
   "metadata": {},
   "outputs": [],
   "source": []
  },
  {
   "cell_type": "code",
   "execution_count": null,
   "metadata": {},
   "outputs": [],
   "source": []
  },
  {
   "cell_type": "code",
   "execution_count": null,
   "metadata": {},
   "outputs": [],
   "source": []
  },
  {
   "cell_type": "markdown",
   "metadata": {},
   "source": [
    "<h2> Functions and Aggregationj </h2>"
   ]
  },
  {
   "cell_type": "code",
   "execution_count": null,
   "metadata": {},
   "outputs": [],
   "source": []
  },
  {
   "cell_type": "markdown",
   "metadata": {},
   "source": [
    "<a id='helpers' ><h2 >Helpers</h2> </a>"
   ]
  },
  {
   "cell_type": "code",
   "execution_count": 25,
   "metadata": {},
   "outputs": [],
   "source": [
    "#helpers\n",
    "from IPython.display import display, Math, Latex, Markdown\n",
    "def display_math(str_latex):\n",
    "    display(Markdown('${}$'.format(str_latex)))\n",
    "def     latex_vector(v,transpose=False):\n",
    "    s = r'''\\left[ \\begin{matrix} '''\n",
    "    sep = r'''\\\\''' if not transpose else r''', &'''\n",
    "    s += (r' {} ').format(sep).join([str(vi) for vi in v])\n",
    "    s += r''' \\end{matrix}\\right]'''\n",
    "    return s    \n",
    "#represent a vector (2, -1.5)\n",
    "v2 =(2,-1.5)\n",
    "#latex_vector(vector((v2)))\n",
    "def disp(arName,array):\n",
    "    display_math(arName+'\\equiv '+latex_vector(array))"
   ]
  }
 ],
 "metadata": {
  "kernelspec": {
   "display_name": "Python 3",
   "language": "python",
   "name": "python3"
  },
  "language_info": {
   "codemirror_mode": {
    "name": "ipython",
    "version": 3
   },
   "file_extension": ".py",
   "mimetype": "text/x-python",
   "name": "python",
   "nbconvert_exporter": "python",
   "pygments_lexer": "ipython3",
   "version": "3.6.5"
  }
 },
 "nbformat": 4,
 "nbformat_minor": 2
}
