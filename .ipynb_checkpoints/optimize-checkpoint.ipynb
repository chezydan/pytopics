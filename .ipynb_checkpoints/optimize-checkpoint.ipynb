{
 "cells": [
  {
   "cell_type": "code",
   "execution_count": null,
   "metadata": {},
   "outputs": [],
   "source": []
  },
  {
   "cell_type": "markdown",
   "metadata": {},
   "source": [
    "https://docs.scipy.org/doc/scipy/reference/generated/scipy.optimize.linprog.html"
   ]
  },
  {
   "cell_type": "code",
   "execution_count": 2,
   "metadata": {},
   "outputs": [
    {
     "data": {
      "text/plain": [
       "'A calculator company produces a scientific calculator and a graphing calculator.\\nLong-term projections indicate an expected demand of at least 100 scientific and 80 graphing calculators each day. Because of limitations on production capacity, no more than 200 scientific and 170 graphing calculators can be made daily. \\nTo satisfy a shipping contract, \\na total of at least 200 calculators much be shipped each day.\\n'"
      ]
     },
     "execution_count": 2,
     "metadata": {},
     "output_type": "execute_result"
    }
   ],
   "source": [
    "#example\n",
    "'''A calculator company produces a scientific calculator and a graphing calculator.\n",
    "Long-term projections indicate an expected demand of at least 100 scientific and 80 graphing calculators each day. Because of limitations on production capacity, no more than 200 scientific and 170 graphing calculators can be made daily. \n",
    "To satisfy a shipping contract, \n",
    "a total of at least 200 calculators much be shipped each day.\n",
    "'''\n",
    "#If each scientific calculator sold results in a $2 loss, but each graphing calculator produces a $5 profit, how many of each type should be made daily to maximize net profits?"
   ]
  },
  {
   "cell_type": "code",
   "execution_count": 3,
   "metadata": {},
   "outputs": [],
   "source": [
    "import scipy.optimize"
   ]
  },
  {
   "cell_type": "code",
   "execution_count": null,
   "metadata": {},
   "outputs": [],
   "source": [
    "#objective  function -2x +  5y"
   ]
  },
  {
   "cell_type": "code",
   "execution_count": 13,
   "metadata": {},
   "outputs": [
    {
     "name": "stdout",
     "output_type": "stream",
     "text": [
      "X1: 100.0 \n",
      "X2: 170.0 \n"
     ]
    }
   ],
   "source": [
    "result = scipy.optimize.linprog(\n",
    "    [2,-5],\n",
    "    bounds=[(100,200),(80,170)],\n",
    "    A_ub= [[-1,-1]],\n",
    "    b_ub=[200]\n",
    "\n",
    ")\n",
    "print(f\"X1: {round(result.x[0], 2)} \")\n",
    "print(f\"X2: {round(result.x[1], 2)} \")"
   ]
  },
  {
   "cell_type": "code",
   "execution_count": 11,
   "metadata": {},
   "outputs": [
    {
     "data": {
      "text/plain": [
       "160"
      ]
     },
     "execution_count": 11,
     "metadata": {},
     "output_type": "execute_result"
    }
   ],
   "source": [
    "-240+80*5"
   ]
  },
  {
   "cell_type": "markdown",
   "metadata": {},
   "source": [
    "You need to buy some filing cabinets. You know that Cabinet X costs $10 per unit, requires six square feet of floor space, and holds eight cubic feet of files. Cabinet Y costs $20 per unit, requires eight square feet of floor space, and holds twelve cubic feet of files. You have been given $140 for this purchase, though you don't have to spend that much. The office has room for no more than 72 square feet of cabinets. How many of which model should you buy, in order to maximize storage volume?"
   ]
  },
  {
   "cell_type": "code",
   "execution_count": 18,
   "metadata": {},
   "outputs": [
    {
     "name": "stdout",
     "output_type": "stream",
     "text": [
      "X1: 8.0 \n",
      "X2: 3.0 \n"
     ]
    }
   ],
   "source": [
    "v = [-6 , -8]\n",
    "A_matr= [[10,20] , [6,8]]  # cost , space\n",
    "b_vect = [140, 72]\n",
    "\n",
    "result = scipy.optimize.linprog(\n",
    "    v,\n",
    "    A_ub = A_matr,\n",
    "    b_ub = b_vect)\n",
    "\n",
    "print(f\"X1: {round(result.x[0], 2)} \")\n",
    "print(f\"X2: {round(result.x[1], 2)} \")"
   ]
  },
  {
   "cell_type": "code",
   "execution_count": null,
   "metadata": {},
   "outputs": [],
   "source": []
  },
  {
   "cell_type": "code",
   "execution_count": 19,
   "metadata": {},
   "outputs": [
    {
     "name": "stdout",
     "output_type": "stream",
     "text": [
      "X1: 1.5 hours\n",
      "X2: 6.25 hours\n"
     ]
    }
   ],
   "source": [
    "# Objective Function: 50x_1 + 80x_2\n",
    "# Constraint 1: 5x_1 + 2x_2 <= 20\n",
    "# Constraint 2: -10x_1 + -12x_2 <= -90\n",
    "\n",
    "result = scipy.optimize.linprog(\n",
    "    [50, 80],  # Cost function: 50x_1 + 80x_2\n",
    "    A_ub=[[5, 2], [-10, -12]],  # Coefficients for inequalities\n",
    "    b_ub=[20, -90],  # Constraints for inequalities: 20 and -90\n",
    ")\n",
    "\n",
    "if result.success:\n",
    "    print(f\"X1: {round(result.x[0], 2)} hours\")\n",
    "    print(f\"X2: {round(result.x[1], 2)} hours\")\n",
    "else:\n",
    "    print(\"No solution\")"
   ]
  },
  {
   "cell_type": "code",
   "execution_count": null,
   "metadata": {},
   "outputs": [],
   "source": []
  },
  {
   "cell_type": "code",
   "execution_count": null,
   "metadata": {},
   "outputs": [],
   "source": []
  },
  {
   "cell_type": "code",
   "execution_count": null,
   "metadata": {},
   "outputs": [],
   "source": []
  },
  {
   "cell_type": "code",
   "execution_count": null,
   "metadata": {},
   "outputs": [],
   "source": []
  },
  {
   "cell_type": "code",
   "execution_count": null,
   "metadata": {},
   "outputs": [],
   "source": []
  },
  {
   "cell_type": "code",
   "execution_count": null,
   "metadata": {},
   "outputs": [],
   "source": []
  }
 ],
 "metadata": {
  "kernelspec": {
   "display_name": "Python 3",
   "language": "python",
   "name": "python3"
  },
  "language_info": {
   "codemirror_mode": {
    "name": "ipython",
    "version": 3
   },
   "file_extension": ".py",
   "mimetype": "text/x-python",
   "name": "python",
   "nbconvert_exporter": "python",
   "pygments_lexer": "ipython3",
   "version": "3.7.3"
  }
 },
 "nbformat": 4,
 "nbformat_minor": 2
}
