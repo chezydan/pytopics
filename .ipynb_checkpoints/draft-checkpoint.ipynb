{
 "cells": [
  {
   "cell_type": "code",
   "execution_count": null,
   "metadata": {},
   "outputs": [],
   "source": []
  },
  {
   "cell_type": "code",
   "execution_count": 35,
   "metadata": {},
   "outputs": [
    {
     "data": {
      "text/plain": [
       "(18207, 90)"
      ]
     },
     "execution_count": 35,
     "metadata": {},
     "output_type": "execute_result"
    }
   ],
   "source": [
    "#path=\"hfi_cc_2018.csv\"\n",
    "import io\n",
    "import pandas as pd\n",
    "import requests\n",
    "\n",
    "path= \"../datasets/\"\n",
    "filename=\"fifa19.csv\"\n",
    "df = pd.read_csv(path+filename)\n",
    "df.shape\n",
    "#b=pd.read_csv(r)\n",
    "#c=pd.read_csv(io.StringIO(url1.decode('utf-8')))"
   ]
  },
  {
   "cell_type": "code",
   "execution_count": 27,
   "metadata": {},
   "outputs": [
    {
     "data": {
      "text/html": [
       "<div>\n",
       "<style scoped>\n",
       "    .dataframe tbody tr th:only-of-type {\n",
       "        vertical-align: middle;\n",
       "    }\n",
       "\n",
       "    .dataframe tbody tr th {\n",
       "        vertical-align: top;\n",
       "    }\n",
       "\n",
       "    .dataframe thead th {\n",
       "        text-align: right;\n",
       "    }\n",
       "</style>\n",
       "<table border=\"1\" class=\"dataframe\">\n",
       "  <thead>\n",
       "    <tr style=\"text-align: right;\">\n",
       "      <th></th>\n",
       "      <th>year</th>\n",
       "      <th>pf_rol_procedural</th>\n",
       "      <th>pf_rol_civil</th>\n",
       "      <th>pf_rol_criminal</th>\n",
       "      <th>pf_rol</th>\n",
       "      <th>pf_ss_homicide</th>\n",
       "      <th>pf_ss_disappearances_disap</th>\n",
       "      <th>pf_ss_disappearances_violent</th>\n",
       "      <th>pf_ss_disappearances_organized</th>\n",
       "      <th>pf_ss_disappearances_fatalities</th>\n",
       "      <th>...</th>\n",
       "      <th>ef_regulation_business_bribes</th>\n",
       "      <th>ef_regulation_business_licensing</th>\n",
       "      <th>ef_regulation_business_compliance</th>\n",
       "      <th>ef_regulation_business</th>\n",
       "      <th>ef_regulation</th>\n",
       "      <th>ef_score</th>\n",
       "      <th>ef_rank</th>\n",
       "      <th>hf_score</th>\n",
       "      <th>hf_rank</th>\n",
       "      <th>hf_quartile</th>\n",
       "    </tr>\n",
       "  </thead>\n",
       "  <tbody>\n",
       "    <tr>\n",
       "      <th>count</th>\n",
       "      <td>1458.000000</td>\n",
       "      <td>880.000000</td>\n",
       "      <td>880.000000</td>\n",
       "      <td>880.000000</td>\n",
       "      <td>1378.000000</td>\n",
       "      <td>1378.000000</td>\n",
       "      <td>1369.000000</td>\n",
       "      <td>1378.000000</td>\n",
       "      <td>1279.000000</td>\n",
       "      <td>1378.000000</td>\n",
       "      <td>...</td>\n",
       "      <td>1283.000000</td>\n",
       "      <td>1357.000000</td>\n",
       "      <td>1368.000000</td>\n",
       "      <td>1374.000000</td>\n",
       "      <td>1378.000000</td>\n",
       "      <td>1378.000000</td>\n",
       "      <td>1378.000000</td>\n",
       "      <td>1378.000000</td>\n",
       "      <td>1378.000000</td>\n",
       "      <td>1378.000000</td>\n",
       "    </tr>\n",
       "    <tr>\n",
       "      <th>mean</th>\n",
       "      <td>2012.000000</td>\n",
       "      <td>5.589355</td>\n",
       "      <td>5.474770</td>\n",
       "      <td>5.044070</td>\n",
       "      <td>5.309641</td>\n",
       "      <td>7.412980</td>\n",
       "      <td>8.341855</td>\n",
       "      <td>9.519458</td>\n",
       "      <td>6.772869</td>\n",
       "      <td>9.584972</td>\n",
       "      <td>...</td>\n",
       "      <td>4.886192</td>\n",
       "      <td>7.698494</td>\n",
       "      <td>6.981858</td>\n",
       "      <td>6.317668</td>\n",
       "      <td>7.019782</td>\n",
       "      <td>6.785610</td>\n",
       "      <td>76.973149</td>\n",
       "      <td>6.993444</td>\n",
       "      <td>77.007983</td>\n",
       "      <td>2.490566</td>\n",
       "    </tr>\n",
       "    <tr>\n",
       "      <th>std</th>\n",
       "      <td>2.582875</td>\n",
       "      <td>2.080957</td>\n",
       "      <td>1.428494</td>\n",
       "      <td>1.724886</td>\n",
       "      <td>1.529310</td>\n",
       "      <td>2.832947</td>\n",
       "      <td>3.225902</td>\n",
       "      <td>1.744673</td>\n",
       "      <td>2.768983</td>\n",
       "      <td>1.559826</td>\n",
       "      <td>...</td>\n",
       "      <td>1.889168</td>\n",
       "      <td>1.728507</td>\n",
       "      <td>1.979200</td>\n",
       "      <td>1.230988</td>\n",
       "      <td>1.027625</td>\n",
       "      <td>0.883601</td>\n",
       "      <td>44.540142</td>\n",
       "      <td>1.025811</td>\n",
       "      <td>44.506549</td>\n",
       "      <td>1.119698</td>\n",
       "    </tr>\n",
       "    <tr>\n",
       "      <th>min</th>\n",
       "      <td>2008.000000</td>\n",
       "      <td>0.000000</td>\n",
       "      <td>0.000000</td>\n",
       "      <td>0.000000</td>\n",
       "      <td>0.000000</td>\n",
       "      <td>0.000000</td>\n",
       "      <td>0.000000</td>\n",
       "      <td>0.000000</td>\n",
       "      <td>0.000000</td>\n",
       "      <td>0.000000</td>\n",
       "      <td>...</td>\n",
       "      <td>0.000000</td>\n",
       "      <td>0.000000</td>\n",
       "      <td>0.000000</td>\n",
       "      <td>2.009841</td>\n",
       "      <td>2.483540</td>\n",
       "      <td>2.880000</td>\n",
       "      <td>1.000000</td>\n",
       "      <td>3.765827</td>\n",
       "      <td>1.000000</td>\n",
       "      <td>1.000000</td>\n",
       "    </tr>\n",
       "    <tr>\n",
       "      <th>25%</th>\n",
       "      <td>2010.000000</td>\n",
       "      <td>4.133333</td>\n",
       "      <td>4.549550</td>\n",
       "      <td>3.789724</td>\n",
       "      <td>4.131746</td>\n",
       "      <td>6.386978</td>\n",
       "      <td>10.000000</td>\n",
       "      <td>10.000000</td>\n",
       "      <td>5.000000</td>\n",
       "      <td>9.942607</td>\n",
       "      <td>...</td>\n",
       "      <td>3.433786</td>\n",
       "      <td>6.874687</td>\n",
       "      <td>6.368178</td>\n",
       "      <td>5.591851</td>\n",
       "      <td>6.429498</td>\n",
       "      <td>6.250000</td>\n",
       "      <td>38.000000</td>\n",
       "      <td>6.336685</td>\n",
       "      <td>39.000000</td>\n",
       "      <td>1.000000</td>\n",
       "    </tr>\n",
       "    <tr>\n",
       "      <th>50%</th>\n",
       "      <td>2012.000000</td>\n",
       "      <td>5.300000</td>\n",
       "      <td>5.300000</td>\n",
       "      <td>4.575189</td>\n",
       "      <td>4.910797</td>\n",
       "      <td>8.638278</td>\n",
       "      <td>10.000000</td>\n",
       "      <td>10.000000</td>\n",
       "      <td>7.500000</td>\n",
       "      <td>10.000000</td>\n",
       "      <td>...</td>\n",
       "      <td>4.418371</td>\n",
       "      <td>8.074161</td>\n",
       "      <td>7.466692</td>\n",
       "      <td>6.265234</td>\n",
       "      <td>7.082075</td>\n",
       "      <td>6.900000</td>\n",
       "      <td>77.000000</td>\n",
       "      <td>6.923840</td>\n",
       "      <td>76.000000</td>\n",
       "      <td>2.000000</td>\n",
       "    </tr>\n",
       "    <tr>\n",
       "      <th>75%</th>\n",
       "      <td>2014.000000</td>\n",
       "      <td>7.389499</td>\n",
       "      <td>6.410975</td>\n",
       "      <td>6.400000</td>\n",
       "      <td>6.513178</td>\n",
       "      <td>9.454402</td>\n",
       "      <td>10.000000</td>\n",
       "      <td>10.000000</td>\n",
       "      <td>10.000000</td>\n",
       "      <td>10.000000</td>\n",
       "      <td>...</td>\n",
       "      <td>6.227978</td>\n",
       "      <td>8.991882</td>\n",
       "      <td>8.209310</td>\n",
       "      <td>7.139718</td>\n",
       "      <td>7.720955</td>\n",
       "      <td>7.410000</td>\n",
       "      <td>115.000000</td>\n",
       "      <td>7.894660</td>\n",
       "      <td>115.000000</td>\n",
       "      <td>3.000000</td>\n",
       "    </tr>\n",
       "    <tr>\n",
       "      <th>max</th>\n",
       "      <td>2016.000000</td>\n",
       "      <td>9.700000</td>\n",
       "      <td>8.773533</td>\n",
       "      <td>8.719848</td>\n",
       "      <td>8.723094</td>\n",
       "      <td>9.926568</td>\n",
       "      <td>10.000000</td>\n",
       "      <td>10.000000</td>\n",
       "      <td>10.000000</td>\n",
       "      <td>10.000000</td>\n",
       "      <td>...</td>\n",
       "      <td>9.623811</td>\n",
       "      <td>9.999638</td>\n",
       "      <td>9.865488</td>\n",
       "      <td>9.272600</td>\n",
       "      <td>9.439828</td>\n",
       "      <td>9.190000</td>\n",
       "      <td>162.000000</td>\n",
       "      <td>9.126313</td>\n",
       "      <td>162.000000</td>\n",
       "      <td>4.000000</td>\n",
       "    </tr>\n",
       "  </tbody>\n",
       "</table>\n",
       "<p>8 rows × 120 columns</p>\n",
       "</div>"
      ],
      "text/plain": [
       "              year  pf_rol_procedural  pf_rol_civil  pf_rol_criminal  \\\n",
       "count  1458.000000         880.000000    880.000000       880.000000   \n",
       "mean   2012.000000           5.589355      5.474770         5.044070   \n",
       "std       2.582875           2.080957      1.428494         1.724886   \n",
       "min    2008.000000           0.000000      0.000000         0.000000   \n",
       "25%    2010.000000           4.133333      4.549550         3.789724   \n",
       "50%    2012.000000           5.300000      5.300000         4.575189   \n",
       "75%    2014.000000           7.389499      6.410975         6.400000   \n",
       "max    2016.000000           9.700000      8.773533         8.719848   \n",
       "\n",
       "            pf_rol  pf_ss_homicide  pf_ss_disappearances_disap  \\\n",
       "count  1378.000000     1378.000000                 1369.000000   \n",
       "mean      5.309641        7.412980                    8.341855   \n",
       "std       1.529310        2.832947                    3.225902   \n",
       "min       0.000000        0.000000                    0.000000   \n",
       "25%       4.131746        6.386978                   10.000000   \n",
       "50%       4.910797        8.638278                   10.000000   \n",
       "75%       6.513178        9.454402                   10.000000   \n",
       "max       8.723094        9.926568                   10.000000   \n",
       "\n",
       "       pf_ss_disappearances_violent  pf_ss_disappearances_organized  \\\n",
       "count                   1378.000000                     1279.000000   \n",
       "mean                       9.519458                        6.772869   \n",
       "std                        1.744673                        2.768983   \n",
       "min                        0.000000                        0.000000   \n",
       "25%                       10.000000                        5.000000   \n",
       "50%                       10.000000                        7.500000   \n",
       "75%                       10.000000                       10.000000   \n",
       "max                       10.000000                       10.000000   \n",
       "\n",
       "       pf_ss_disappearances_fatalities     ...       \\\n",
       "count                      1378.000000     ...        \n",
       "mean                          9.584972     ...        \n",
       "std                           1.559826     ...        \n",
       "min                           0.000000     ...        \n",
       "25%                           9.942607     ...        \n",
       "50%                          10.000000     ...        \n",
       "75%                          10.000000     ...        \n",
       "max                          10.000000     ...        \n",
       "\n",
       "       ef_regulation_business_bribes  ef_regulation_business_licensing  \\\n",
       "count                    1283.000000                       1357.000000   \n",
       "mean                        4.886192                          7.698494   \n",
       "std                         1.889168                          1.728507   \n",
       "min                         0.000000                          0.000000   \n",
       "25%                         3.433786                          6.874687   \n",
       "50%                         4.418371                          8.074161   \n",
       "75%                         6.227978                          8.991882   \n",
       "max                         9.623811                          9.999638   \n",
       "\n",
       "       ef_regulation_business_compliance  ef_regulation_business  \\\n",
       "count                        1368.000000             1374.000000   \n",
       "mean                            6.981858                6.317668   \n",
       "std                             1.979200                1.230988   \n",
       "min                             0.000000                2.009841   \n",
       "25%                             6.368178                5.591851   \n",
       "50%                             7.466692                6.265234   \n",
       "75%                             8.209310                7.139718   \n",
       "max                             9.865488                9.272600   \n",
       "\n",
       "       ef_regulation     ef_score      ef_rank     hf_score      hf_rank  \\\n",
       "count    1378.000000  1378.000000  1378.000000  1378.000000  1378.000000   \n",
       "mean        7.019782     6.785610    76.973149     6.993444    77.007983   \n",
       "std         1.027625     0.883601    44.540142     1.025811    44.506549   \n",
       "min         2.483540     2.880000     1.000000     3.765827     1.000000   \n",
       "25%         6.429498     6.250000    38.000000     6.336685    39.000000   \n",
       "50%         7.082075     6.900000    77.000000     6.923840    76.000000   \n",
       "75%         7.720955     7.410000   115.000000     7.894660   115.000000   \n",
       "max         9.439828     9.190000   162.000000     9.126313   162.000000   \n",
       "\n",
       "       hf_quartile  \n",
       "count  1378.000000  \n",
       "mean      2.490566  \n",
       "std       1.119698  \n",
       "min       1.000000  \n",
       "25%       1.000000  \n",
       "50%       2.000000  \n",
       "75%       3.000000  \n",
       "max       4.000000  \n",
       "\n",
       "[8 rows x 120 columns]"
      ]
     },
     "execution_count": 27,
     "metadata": {},
     "output_type": "execute_result"
    }
   ],
   "source": [
    "b.describe()"
   ]
  },
  {
   "cell_type": "code",
   "execution_count": 60,
   "metadata": {},
   "outputs": [
    {
     "name": "stdout",
     "output_type": "stream",
     "text": [
      "Collecting pip\n",
      "\u001b[?25l  Downloading https://files.pythonhosted.org/packages/46/dc/7fd5df840efb3e56c8b4f768793a237ec4ee59891959d6a215d63f727023/pip-19.0.1-py2.py3-none-any.whl (1.4MB)\n",
      "\u001b[K    100% |████████████████████████████████| 1.4MB 9.4MB/s eta 0:00:01\n",
      "\u001b[31mdistributed 1.21.8 requires msgpack, which is not installed.\u001b[0m\n",
      "\u001b[31mbleach 2.1.3 has requirement html5lib!=1.0b1,!=1.0b2,!=1.0b3,!=1.0b4,!=1.0b5,!=1.0b6,!=1.0b7,!=1.0b8,>=0.99999999pre, but you'll have html5lib 1.0b8 which is incompatible.\u001b[0m\n",
      "\u001b[?25hInstalling collected packages: pip\n",
      "  Found existing installation: pip 10.0.1\n",
      "    Uninstalling pip-10.0.1:\n",
      "      Successfully uninstalled pip-10.0.1\n",
      "Successfully installed pip-19.0.1\n",
      "Requirement already up-to-date: google-api-python-client in /home/dan/anaconda3/lib/python3.6/site-packages (1.7.7)\n",
      "Requirement already satisfied, skipping upgrade: google-auth>=1.4.1 in /home/dan/anaconda3/lib/python3.6/site-packages (from google-api-python-client) (1.6.2)\n",
      "Requirement already satisfied, skipping upgrade: six<2dev,>=1.6.1 in /home/dan/anaconda3/lib/python3.6/site-packages (from google-api-python-client) (1.11.0)\n",
      "Requirement already satisfied, skipping upgrade: google-auth-httplib2>=0.0.3 in /home/dan/anaconda3/lib/python3.6/site-packages (from google-api-python-client) (0.0.3)\n",
      "Requirement already satisfied, skipping upgrade: uritemplate<4dev,>=3.0.0 in /home/dan/anaconda3/lib/python3.6/site-packages (from google-api-python-client) (3.0.0)\n",
      "Requirement already satisfied, skipping upgrade: httplib2<1dev,>=0.9.2 in /home/dan/anaconda3/lib/python3.6/site-packages (from google-api-python-client) (0.12.0)\n",
      "Requirement already satisfied, skipping upgrade: rsa>=3.1.4 in /home/dan/anaconda3/lib/python3.6/site-packages (from google-auth>=1.4.1->google-api-python-client) (4.0)\n",
      "Requirement already satisfied, skipping upgrade: cachetools>=2.0.0 in /home/dan/anaconda3/lib/python3.6/site-packages (from google-auth>=1.4.1->google-api-python-client) (3.0.0)\n",
      "Requirement already satisfied, skipping upgrade: pyasn1-modules>=0.2.1 in /home/dan/anaconda3/lib/python3.6/site-packages (from google-auth>=1.4.1->google-api-python-client) (0.2.4)\n",
      "Requirement already satisfied, skipping upgrade: pyasn1>=0.1.3 in /home/dan/anaconda3/lib/python3.6/site-packages (from rsa>=3.1.4->google-auth>=1.4.1->google-api-python-client) (0.4.5)\n"
     ]
    }
   ],
   "source": [
    "!pip install --upgrade pip\n",
    "!pip install --upgrade google-api-python-client\n"
   ]
  },
  {
   "cell_type": "code",
   "execution_count": 61,
   "metadata": {},
   "outputs": [
    {
     "ename": "ImportError",
     "evalue": "cannot import name 'bigquery'",
     "output_type": "error",
     "traceback": [
      "\u001b[0;31m---------------------------------------------------------------------------\u001b[0m",
      "\u001b[0;31mImportError\u001b[0m                               Traceback (most recent call last)",
      "\u001b[0;32m<ipython-input-61-1035661e8528>\u001b[0m in \u001b[0;36m<module>\u001b[0;34m()\u001b[0m\n\u001b[0;32m----> 1\u001b[0;31m \u001b[0;32mfrom\u001b[0m \u001b[0mgoogle\u001b[0m\u001b[0;34m.\u001b[0m\u001b[0mcloud\u001b[0m \u001b[0;32mimport\u001b[0m \u001b[0mbigquery\u001b[0m\u001b[0;34m\u001b[0m\u001b[0m\n\u001b[0m",
      "\u001b[0;31mImportError\u001b[0m: cannot import name 'bigquery'"
     ]
    }
   ],
   "source": [
    "from google.cloud import bigquery\n"
   ]
  },
  {
   "cell_type": "code",
   "execution_count": 58,
   "metadata": {},
   "outputs": [
    {
     "ename": "NameError",
     "evalue": "name 'bigquery' is not defined",
     "output_type": "error",
     "traceback": [
      "\u001b[0;31m---------------------------------------------------------------------------\u001b[0m",
      "\u001b[0;31mNameError\u001b[0m                                 Traceback (most recent call last)",
      "\u001b[0;32m<ipython-input-58-1f8cf9d4d256>\u001b[0m in \u001b[0;36m<module>\u001b[0;34m()\u001b[0m\n\u001b[1;32m      1\u001b[0m \u001b[0;34m\u001b[0m\u001b[0m\n\u001b[1;32m      2\u001b[0m \u001b[0;34m\u001b[0m\u001b[0m\n\u001b[0;32m----> 3\u001b[0;31m \u001b[0mclient\u001b[0m \u001b[0;34m=\u001b[0m \u001b[0mbigquery\u001b[0m\u001b[0;34m.\u001b[0m\u001b[0mClient\u001b[0m\u001b[0;34m(\u001b[0m\u001b[0;34m)\u001b[0m\u001b[0;34m\u001b[0m\u001b[0m\n\u001b[0m",
      "\u001b[0;31mNameError\u001b[0m: name 'bigquery' is not defined"
     ]
    }
   ],
   "source": [
    "\n",
    "\n",
    "client = bigquery.Client()\n",
    "\n"
   ]
  },
  {
   "cell_type": "code",
   "execution_count": null,
   "metadata": {},
   "outputs": [],
   "source": []
  },
  {
   "cell_type": "code",
   "execution_count": null,
   "metadata": {},
   "outputs": [],
   "source": []
  },
  {
   "cell_type": "code",
   "execution_count": 1,
   "metadata": {},
   "outputs": [
    {
     "name": "stdout",
     "output_type": "stream",
     "text": [
      "/home/dan/Documents/pytopics\n"
     ]
    }
   ],
   "source": [
    "import sys \n",
    "import os\n",
    "\n",
    "cwd = os.getcwd() #getting current working dir\n",
    "print(cwd)\n",
    "sys.path.append(cwd)\n",
    "\n",
    "from utill import *"
   ]
  },
  {
   "cell_type": "code",
   "execution_count": 2,
   "metadata": {},
   "outputs": [
    {
     "name": "stdout",
     "output_type": "stream",
     "text": [
      "it\n",
      "73\n"
     ]
    }
   ],
   "source": [
    "pr()\n",
    "print( addd(30,43))"
   ]
  },
  {
   "cell_type": "code",
   "execution_count": 42,
   "metadata": {},
   "outputs": [
    {
     "name": "stdout",
     "output_type": "stream",
     "text": [
      "7\n"
     ]
    }
   ],
   "source": []
  },
  {
   "cell_type": "code",
   "execution_count": 7,
   "metadata": {},
   "outputs": [],
   "source": [
    "import numpy as np\n",
    "import matplotlib.pyplot as plt\n"
   ]
  },
  {
   "cell_type": "code",
   "execution_count": 2,
   "metadata": {},
   "outputs": [
    {
     "data": {
      "text/plain": [
       "['',\n",
       " '/home/dan/anaconda3/lib/python36.zip',\n",
       " '/home/dan/anaconda3/lib/python3.6',\n",
       " '/home/dan/anaconda3/lib/python3.6/lib-dynload',\n",
       " '/home/dan/.local/lib/python3.6/site-packages',\n",
       " '/home/dan/anaconda3/lib/python3.6/site-packages',\n",
       " '/home/dan/anaconda3/lib/python3.6/site-packages/IPython/extensions',\n",
       " '/home/dan/.ipython']"
      ]
     },
     "execution_count": 2,
     "metadata": {},
     "output_type": "execute_result"
    }
   ],
   "source": [
    "import sys\n",
    "sys.path"
   ]
  },
  {
   "cell_type": "code",
   "execution_count": 3,
   "metadata": {},
   "outputs": [
    {
     "data": {
      "text/plain": [
       "'/home/dan/Documents/pytopics'"
      ]
     },
     "execution_count": 3,
     "metadata": {},
     "output_type": "execute_result"
    }
   ],
   "source": [
    "pwd"
   ]
  },
  {
   "cell_type": "code",
   "execution_count": null,
   "metadata": {},
   "outputs": [],
   "source": []
  },
  {
   "cell_type": "code",
   "execution_count": null,
   "metadata": {},
   "outputs": [],
   "source": []
  },
  {
   "cell_type": "code",
   "execution_count": null,
   "metadata": {},
   "outputs": [],
   "source": []
  },
  {
   "cell_type": "markdown",
   "metadata": {},
   "source": [
    "<font size=\"4\">\\begin{equation}\n",
    "\n",
    "\\end{equation} </font>"
   ]
  },
  {
   "cell_type": "code",
   "execution_count": 3,
   "metadata": {},
   "outputs": [],
   "source": [
    "a = np.arange(-10,10,0.5)"
   ]
  },
  {
   "cell_type": "code",
   "execution_count": 27,
   "metadata": {},
   "outputs": [],
   "source": [
    "f= lambda x:(x**2-1 )/(x-1)"
   ]
  },
  {
   "cell_type": "code",
   "execution_count": 31,
   "metadata": {},
   "outputs": [
    {
     "data": {
      "text/plain": [
       "1.9989999999999712"
      ]
     },
     "execution_count": 31,
     "metadata": {},
     "output_type": "execute_result"
    }
   ],
   "source": [
    "\n",
    "\n",
    "f(1.00 -0.001)\n",
    "\n"
   ]
  },
  {
   "cell_type": "code",
   "execution_count": null,
   "metadata": {},
   "outputs": [],
   "source": []
  },
  {
   "cell_type": "code",
   "execution_count": 12,
   "metadata": {},
   "outputs": [],
   "source": [
    "f=lambda t: 3*t -2"
   ]
  },
  {
   "cell_type": "code",
   "execution_count": 13,
   "metadata": {},
   "outputs": [
    {
     "data": {
      "text/plain": [
       "-6"
      ]
     },
     "execution_count": 13,
     "metadata": {},
     "output_type": "execute_result"
    }
   ],
   "source": [
    "a=f(1)\n",
    "b=f(3)\n",
    "a-b\n"
   ]
  },
  {
   "cell_type": "markdown",
   "metadata": {},
   "source": [
    "\\begin\\{equation}    a \\end{equation}"
   ]
  },
  {
   "cell_type": "markdown",
   "metadata": {},
   "source": [
    "$ a$"
   ]
  },
  {
   "cell_type": "markdown",
   "metadata": {},
   "source": [
    "\\begin\\{equation}   f(t)=at + b \\end{equation}"
   ]
  },
  {
   "cell_type": "markdown",
   "metadata": {},
   "source": [
    "$f'(x)|_{x=1}$"
   ]
  },
  {
   "cell_type": "code",
   "execution_count": null,
   "metadata": {},
   "outputs": [],
   "source": [
    "\n",
    "    "
   ]
  },
  {
   "cell_type": "code",
   "execution_count": 9,
   "metadata": {},
   "outputs": [],
   "source": [
    "def even(L):\n",
    "    L2=[]\n",
    "    for i in L:\n",
    "        L2.append(2*i)\n",
    "    return L2\n",
    "        "
   ]
  },
  {
   "cell_type": "code",
   "execution_count": 10,
   "metadata": {},
   "outputs": [
    {
     "name": "stdout",
     "output_type": "stream",
     "text": [
      "[2, 4, 6, 8, 10, 12, 14, 16, 18]\n"
     ]
    }
   ],
   "source": [
    "L=[x for x in range(1,10)]\n",
    "newL=even(L)\n",
    "print(newL)"
   ]
  },
  {
   "cell_type": "code",
   "execution_count": null,
   "metadata": {},
   "outputs": [],
   "source": []
  },
  {
   "cell_type": "code",
   "execution_count": null,
   "metadata": {},
   "outputs": [],
   "source": []
  }
 ],
 "metadata": {
  "kernelspec": {
   "display_name": "Python 3",
   "language": "python",
   "name": "python3"
  },
  "language_info": {
   "codemirror_mode": {
    "name": "ipython",
    "version": 3
   },
   "file_extension": ".py",
   "mimetype": "text/x-python",
   "name": "python",
   "nbconvert_exporter": "python",
   "pygments_lexer": "ipython3",
   "version": "3.6.5"
  }
 },
 "nbformat": 4,
 "nbformat_minor": 2
}
