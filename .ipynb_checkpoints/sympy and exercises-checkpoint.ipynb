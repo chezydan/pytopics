{
 "cells": [
  {
   "cell_type": "code",
   "execution_count": null,
   "metadata": {},
   "outputs": [],
   "source": []
  },
  {
   "cell_type": "code",
   "execution_count": 31,
   "metadata": {},
   "outputs": [
    {
     "name": "stdout",
     "output_type": "stream",
     "text": [
      "-18*a**29*b**10*c**22\n",
      "\n",
      "     29  10  22\n",
      "-18⋅a  ⋅b  ⋅c  \n",
      "\n",
      " 5  m  3⋅m + 3\n",
      "x ⋅x ⋅x       \n",
      " 8  4⋅m\n",
      "x ⋅x   \n",
      " 4⋅m + 8\n",
      "x       \n"
     ]
    }
   ],
   "source": [
    "#8 1.\n",
    "from sympy import *\n",
    "x,y=symbols('x,y')\n",
    "#5x (-4y)\n",
    "exp1= 5*x *((-4)*y)\n",
    "exp1\n",
    "##88\n",
    "#-9a^16b^3 c 2c^21 a^13 b^7\n",
    "a,b,c,m = symbols('a,b,c,m')\n",
    "exp2= (-9) *a**16 * b**3 *c *2*c**21 * a**13 * b**7\n",
    "print(str(exp2)+'\\n')\n",
    "pprint(exp2)\n",
    "#pprint(collect(exp2,[a,b,c]))\n",
    "\n",
    "#8.13\n",
    "print()\n",
    "exp3 = x**5 * x**m * x**(3*m+3)\n",
    "pprint (exp3)\n",
    "exp3s= expand(exp3)\n",
    "pprint(exp3s)\n",
    "pprint(powsimp(exp3))\n"
   ]
  },
  {
   "cell_type": "code",
   "execution_count": 59,
   "metadata": {},
   "outputs": [
    {
     "name": "stdout",
     "output_type": "stream",
     "text": [
      "                2⋅x                   x                 3⋅x\n",
      "⎛   x  5⋅x  6⋅x⎞    ⎛   2⋅x  3⋅x  4⋅x⎞  ⎛   5⋅x  x  3⋅x⎞   \n",
      "⎝5⋅a ⋅b   ⋅c   ⎠   ⋅⎝5⋅a   ⋅b   ⋅c   ⎠ ⋅⎝5⋅a   ⋅b ⋅c   ⎠   \n",
      "         2⋅x       x       3⋅x     3⋅x       x       2⋅x       3⋅x       x    \n",
      " 6⋅x ⎛ x⎞    ⎛ 2⋅x⎞  ⎛ 5⋅x⎞    ⎛ x⎞    ⎛ 3⋅x⎞  ⎛ 5⋅x⎞    ⎛ 3⋅x⎞    ⎛ 4⋅x⎞  ⎛ 6\n",
      "5   ⋅⎝a ⎠   ⋅⎝a   ⎠ ⋅⎝a   ⎠   ⋅⎝b ⎠   ⋅⎝b   ⎠ ⋅⎝b   ⎠   ⋅⎝c   ⎠   ⋅⎝c   ⎠ ⋅⎝c \n",
      "\n",
      "   2⋅x\n",
      "⋅x⎞   \n",
      "  ⎠   \n"
     ]
    }
   ],
   "source": [
    "#8.20\n",
    "exp4 =(5 * a**(2*x) * b**(3*x) * c**(4*x))**x *(5*a**x *b**(5*x)*c**(6*x))**(2*x)*(5*a**(5*x)*b**x*c**(3*x))**(3*x)\n",
    "#b   10x^2 + 3x^2 + 3x^2\n",
    "pprint(exp4)\n",
    "pprint((expand_power_base(exp4, force=true)))"
   ]
  },
  {
   "cell_type": "code",
   "execution_count": 79,
   "metadata": {},
   "outputs": [
    {
     "name": "stdout",
     "output_type": "stream",
     "text": [
      "    2  2         2    2         2  2\n",
      "20⋅a ⋅b ⋅c - 12⋅a ⋅b⋅c  + 36⋅a⋅b ⋅c \n",
      "     8  5          4    4          3  4\n",
      "0.5⋅a ⋅p  - 2.0⋅a⋅b ⋅n⋅p  - 1.2⋅a⋅n ⋅p \n",
      "      3                \n",
      "26⋅a⋅b  - 18⋅a⋅b + 46⋅a\n"
     ]
    }
   ],
   "source": [
    "#9.12\n",
    "exp1=((-5)*a*b +3*a*c -9*b*c) * (-4 *a*b*c)\n",
    "exp1\n",
    "pprint(expand(exp1) )\n",
    "#9.18\n",
    "p,n = symbols('p,n')\n",
    "exp2 = (0.5*a*p**4) * (-2.4*n**3 + a**7*p - 4*b**4*n)\n",
    "exp2\n",
    "pprint(expand(exp2))\n",
    "#10.34\n",
    "exp3 = 4*a*(5* b**3 - 7*b +8) + 2*a*(3*b**3 +5*b +7)\n",
    "pprint(expand(exp3))"
   ]
  },
  {
   "cell_type": "code",
   "execution_count": 98,
   "metadata": {},
   "outputs": [
    {
     "name": "stdout",
     "output_type": "stream",
     "text": [
      "(-7⋅a + 9⋅m)⋅(5⋅p + 2⋅t)\n",
      "-35⋅a⋅p - 14⋅a⋅t + 45⋅m⋅p + 18⋅m⋅t\n",
      "\n",
      "        ⎛ 2          ⎞\n",
      "(a - 4)⋅⎝a  - 2⋅a + 3⎠\n",
      " 3      2            \n",
      "a  - 6⋅a  + 11⋅a - 12\n",
      "\n",
      "          ⎛   2          ⎞\n",
      "(5⋅x + 2)⋅⎝2⋅x  - 3⋅x - 1⎠\n",
      "    3       2           \n",
      "10⋅x  - 11⋅x  - 11⋅x - 2\n",
      "        ⎛   n - 1    n - 1⎞\n",
      "(a + b)⋅⎝3⋅a      - b     ⎠\n",
      "        ⎛   n - 1    n - 1⎞\n",
      "(a + b)⋅⎝3⋅a      - b     ⎠\n"
     ]
    }
   ],
   "source": [
    "#10.13\n",
    "p,t = symbols('p,t')\n",
    "exp1=(5*p+2*t) *(9*m-7*a)\n",
    "pprint(exp1)\n",
    "pprint(expand(exp1))\n",
    "print()\n",
    "#10.28\n",
    "exp2 =  (a**2-2*a+3)*(a-4)\n",
    "pprint(exp2)\n",
    "pprint(expand(exp2))\n",
    "print()\n",
    "#10.29\n",
    "exp3=(2*x**2 - 3*x -1) * (5*x +2)\n",
    "pprint(exp3)\n",
    "pprint(expand(exp3))\n",
    "#10.37\n",
    "exp4 = (3*a**(n-1) - b**(n-1))* (a+b)\n",
    "pprint(exp4)\n",
    "pprint(powsimp(exp4))"
   ]
  },
  {
   "cell_type": "code",
   "execution_count": 110,
   "metadata": {},
   "outputs": [
    {
     "name": "stdout",
     "output_type": "stream",
     "text": [
      "a= 4, n =3\n",
      "a^(n-1) = 16\n",
      "a^(n1) * a\n",
      "64\n",
      "a^n= 64\n"
     ]
    }
   ],
   "source": [
    "a=4\n",
    "n=3\n",
    "print(\"a= {:}, n ={:}\".format(a,n))\n",
    "print( \"a^(n-1) = {:}\".format(a**(n-1)))\n",
    "print(\"a^(n1) * a\")\n",
    "print(a**(n-1)*a)\n",
    "print(\"a^n= {:}\".format(a**n))"
   ]
  },
  {
   "cell_type": "code",
   "execution_count": null,
   "metadata": {},
   "outputs": [],
   "source": []
  },
  {
   "cell_type": "code",
   "execution_count": null,
   "metadata": {},
   "outputs": [],
   "source": []
  },
  {
   "cell_type": "code",
   "execution_count": null,
   "metadata": {},
   "outputs": [],
   "source": []
  },
  {
   "cell_type": "code",
   "execution_count": null,
   "metadata": {},
   "outputs": [],
   "source": []
  },
  {
   "cell_type": "code",
   "execution_count": null,
   "metadata": {},
   "outputs": [],
   "source": []
  },
  {
   "cell_type": "code",
   "execution_count": null,
   "metadata": {},
   "outputs": [],
   "source": []
  },
  {
   "cell_type": "code",
   "execution_count": null,
   "metadata": {},
   "outputs": [],
   "source": []
  },
  {
   "cell_type": "code",
   "execution_count": null,
   "metadata": {},
   "outputs": [],
   "source": []
  }
 ],
 "metadata": {
  "kernelspec": {
   "display_name": "Python 3",
   "language": "python",
   "name": "python3"
  },
  "language_info": {
   "codemirror_mode": {
    "name": "ipython",
    "version": 3
   },
   "file_extension": ".py",
   "mimetype": "text/x-python",
   "name": "python",
   "nbconvert_exporter": "python",
   "pygments_lexer": "ipython3",
   "version": "3.7.3"
  }
 },
 "nbformat": 4,
 "nbformat_minor": 2
}
