{
 "cells": [
  {
   "cell_type": "code",
   "execution_count": null,
   "metadata": {},
   "outputs": [],
   "source": []
  },
  {
   "cell_type": "code",
   "execution_count": 5,
   "metadata": {},
   "outputs": [],
   "source": [
    "class Node(object):\n",
    "    def __init__(self, name): #assumes name is a string\n",
    "        self.name = name\n",
    "    def getName(self):\n",
    "        return self.name\n",
    "    def __str__(self):\n",
    "        return self.name\n",
    "    \n",
    "class Edge(object):\n",
    "    def __init__(self, src, dest):\n",
    "        self.src = src; #assumes src and dest are nodes\n",
    "        self.dest= dest\n",
    "    def getSource (self):\n",
    "        return self.src\n",
    "    def getDestination(self):\n",
    "        return self.dest\n",
    "    def __str__(self):\n",
    "        return self.src.getName() + '->' + self.dest.getName()\n",
    "    \n",
    "class WeightedEdge(Edge):\n",
    "    def __init__(self, src, dest, weight = 1.0):\n",
    "        self.src = src\n",
    "        self.dest = dest\n",
    "        self.weight = weight\n",
    "    def getWeight(self):\n",
    "        return self.weight\n",
    "    def __str__(self):\n",
    "        return self.src.getName + '--> (' + str(self.weight)+')' \\\n",
    "    +self.dest.getName()\n",
    "    \n",
    "class Digraph(object):\n",
    "    def __init__(self):\n",
    "        self.nodes=[]\n",
    "        self.edges={} # dict mapping each node to a list of its children\n",
    "        self.weights = {}\n",
    "    def addNode(self, node):\n",
    "        if node in self.nodes:\n",
    "            raise VelueError('Duplicate node')\n",
    "        else:\n",
    "            self.nodes.append(node)\n",
    "            self.edges[node]=[]\n",
    "    def addEdge(self, edge):\n",
    "        src = edge.getSource()\n",
    "        dest = edge.getDestination()\n",
    "        if type(edge)==WeightedEdge:\n",
    "            weight = edge.getWeight()\n",
    "        else:\n",
    "            weight =1.0\n",
    "                \n",
    "        if not src in self.nodes and dest in self.nodes:\n",
    "            raise ValueError('Node not in graph')\n",
    "        else:\n",
    "            self.edges[src].append((dest,weight)   )      \n",
    "    def childrenOf(self,node):\n",
    "        return self.edges[node]\n",
    "    def hasNode (self, node):\n",
    "        return node in self.nodes\n",
    "    def __str__(self):\n",
    "        result=''\n",
    "        for src in self.nodes:\n",
    "            for dest in self.edges[src]:\n",
    "                result = result + src.getName()+\"(\"+str(dest[1])+\")\"+'->'+dest[0].getName()+'\\n'\n",
    "        return result [:-1]\n",
    "    \n",
    "class Graph(Digraph):\n",
    "    def addEdge(self, edge):\n",
    "        Digraph.addEdge(self, edge)\n",
    "        rev = WeightedEdge(edge.getDestination(), edge.getSource(),edge.getWeight()  )\n",
    "        Digraph. addEdge(self, rev)\n",
    "            \n",
    "    "
   ]
  },
  {
   "cell_type": "code",
   "execution_count": null,
   "metadata": {},
   "outputs": [],
   "source": []
  },
  {
   "cell_type": "code",
   "execution_count": null,
   "metadata": {},
   "outputs": [],
   "source": []
  },
  {
   "cell_type": "code",
   "execution_count": null,
   "metadata": {},
   "outputs": [],
   "source": []
  },
  {
   "cell_type": "code",
   "execution_count": 10,
   "metadata": {},
   "outputs": [
    {
     "name": "stdout",
     "output_type": "stream",
     "text": [
      "Tel Aviv(1.5)->Ramat Gan\n",
      "Tel Aviv(63.5)->Jrs\n",
      "Tel Aviv(145.5)->Beer Sheva\n",
      "Ramat Gan(1.5)->Tel Aviv\n",
      "Jrs(63.5)->Tel Aviv\n",
      "Jrs(40)->Jerico\n",
      "Eilat(132.5)->Ein Bokek\n",
      "Eilat(151.8)->Dimona\n",
      "Dimona(64.0)->Beer Sheva\n",
      "Dimona(151.8)->Eilat\n",
      "Beer Sheva(145.5)->Tel Aviv\n",
      "Beer Sheva(64.0)->Dimona\n",
      "Ein Bokek(75.5)->Jerico\n",
      "Ein Bokek(132.5)->Eilat\n",
      "Jerico(40)->Jrs\n",
      "Jerico(75.5)->Ein Bokek\n"
     ]
    }
   ],
   "source": [
    "def getNodeByName(name):\n",
    "    return nodes[nodeNames.index(name)]\n",
    "\n",
    "#test graph\n",
    "def testIsr():\n",
    "    def getNodeByName(name):\n",
    "        return nodes[nodeNames.index(name)]\n",
    "    nodeNames=[\"Tel Aviv\", \"Ramat Gan\", \"Jrs\", \"Eilat\", \"Dimona\", \"Beer Sheva\" , \"Ein Bokek\",\n",
    "              'Jerico']\n",
    "    nodes = [Node(name) for name in nodeNames]\n",
    "    g = Graph()\n",
    "    for n in nodes:\n",
    "        g.addNode(n)\n",
    "    g.addEdge(WeightedEdge(getNodeByName(\"Tel Aviv\"), getNodeByName(\"Ramat Gan\"), 1.5))\n",
    "    g.addEdge(WeightedEdge(getNodeByName(\"Tel Aviv\"), getNodeByName(\"Jrs\"), 63.5))\n",
    "    g.addEdge(WeightedEdge(getNodeByName(\"Jerico\"), getNodeByName(\"Jrs\"), 40))\n",
    "    g.addEdge(WeightedEdge(getNodeByName(\"Jerico\"), getNodeByName(\"Ein Bokek\"), 75.5))\n",
    "    g.addEdge(WeightedEdge(getNodeByName(\"Eilat\"), getNodeByName(\"Ein Bokek\"), 132.5))\n",
    "    g.addEdge(WeightedEdge(getNodeByName(\"Tel Aviv\"), getNodeByName(\"Beer Sheva\"), 145.5))\n",
    "    g.addEdge(WeightedEdge(getNodeByName(\"Beer Sheva\"), getNodeByName(\"Dimona\"), 64.0))\n",
    "    g.addEdge(WeightedEdge(getNodeByName(\"Eilat\"), getNodeByName(\"Dimona\"), 151.8))\n",
    "    \n",
    "    \n",
    "   \n",
    "    print(g)\n",
    "testIsr()\n"
   ]
  },
  {
   "cell_type": "code",
   "execution_count": null,
   "metadata": {},
   "outputs": [],
   "source": []
  },
  {
   "cell_type": "code",
   "execution_count": null,
   "metadata": {},
   "outputs": [],
   "source": []
  },
  {
   "cell_type": "code",
   "execution_count": null,
   "metadata": {},
   "outputs": [],
   "source": []
  },
  {
   "cell_type": "code",
   "execution_count": null,
   "metadata": {},
   "outputs": [],
   "source": []
  },
  {
   "cell_type": "code",
   "execution_count": null,
   "metadata": {},
   "outputs": [],
   "source": []
  }
 ],
 "metadata": {
  "kernelspec": {
   "display_name": "Python 3",
   "language": "python",
   "name": "python3"
  },
  "language_info": {
   "codemirror_mode": {
    "name": "ipython",
    "version": 3
   },
   "file_extension": ".py",
   "mimetype": "text/x-python",
   "name": "python",
   "nbconvert_exporter": "python",
   "pygments_lexer": "ipython3",
   "version": "3.7.3"
  }
 },
 "nbformat": 4,
 "nbformat_minor": 2
}
