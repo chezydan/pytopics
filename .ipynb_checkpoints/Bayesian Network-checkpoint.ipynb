{
 "cells": [
  {
   "cell_type": "code",
   "execution_count": null,
   "metadata": {},
   "outputs": [],
   "source": []
  },
  {
   "cell_type": "markdown",
   "metadata": {},
   "source": [
    "<h2> Bayesian Network with pomergrate</h2>"
   ]
  },
  {
   "cell_type": "code",
   "execution_count": 9,
   "metadata": {},
   "outputs": [],
   "source": [
    "from pomegranate import *\n",
    "#nodes\n",
    "sleep = Node(DiscreteDistribution({\n",
    "    \"good\":0.40,\n",
    "    \"bad\":0.6\n",
    "}), name=\"sleep\")\n",
    "sweet=Node(ConditionalProbabilityTable( [\n",
    "    [\"good\",\"yesSweet\",0.2],\n",
    "    [\"good\", \"noSweet\", 0.8],\n",
    "    [\"bad\", \"yesSweet\", 0.7],\n",
    "    [\"bad\", \"noSweet\", 0.3] ],\n",
    "    [sleep.distribution]), name=\"sweet\")\n",
    "\n",
    "w1= Node(ConditionalProbabilityTable([\n",
    "    [\"good\",\"yesSweet\",\"high\",0.33],\n",
    "    [\"good\", \"noSweet\", \"high\",0.9],\n",
    "    [\"bad\", \"yesSweet\", \"high\",0.92],\n",
    "    [\"bad\", \"noSweet\", \"high\", 0.6],\n",
    "    [\"good\",\"yesSweet\",\"low\",0.67],\n",
    "    [\"good\", \"noSweet\",\"low\", 0.1],\n",
    "    [\"bad\", \"yesSweet\", \"low\",0.08],\n",
    "    [\"bad\", \"noSweet\",\"low\", 0.4] ],\n",
    "    [sleep.distribution, sweet.distribution]),name=\"w1\"\n",
    ")        \n",
    "       \n",
    "\n",
    "#create Bayesian network + states\n",
    "model1 = BayesianNetwork()\n",
    "model1.add_states(sleep, sweet, w1)\n",
    "\n",
    "#edges connecting nodes\n",
    "model1.add_edge(sleep, sweet)\n",
    "model1.add_edge(sleep, w1)\n",
    "model1.add_edge(sweet,w1)\n",
    "\n",
    "#finalize model\n",
    "model1.bake()"
   ]
  },
  {
   "cell_type": "code",
   "execution_count": 14,
   "metadata": {},
   "outputs": [
    {
     "name": "stdout",
     "output_type": "stream",
     "text": [
      "0.03200000000000001\n",
      "0.288\n"
     ]
    }
   ],
   "source": [
    "#test likelihood\n",
    "\n",
    "probability= model1.probability([[\"good\", \"noSweet\", \"low\"]])\n",
    "print(probability)\n",
    "probability= model1.probability([[\"good\", \"noSweet\", \"high\"]])\n",
    "print(probability)"
   ]
  },
  {
   "cell_type": "code",
   "execution_count": 18,
   "metadata": {},
   "outputs": [
    {
     "data": {
      "text/plain": [
       "0.31999999999999995"
      ]
     },
     "execution_count": 18,
     "metadata": {},
     "output_type": "execute_result"
    }
   ],
   "source": [
    "0.288+0.032"
   ]
  },
  {
   "cell_type": "code",
   "execution_count": 21,
   "metadata": {},
   "outputs": [
    {
     "data": {
      "text/plain": [
       "0.28800000000000003"
      ]
     },
     "execution_count": 21,
     "metadata": {},
     "output_type": "execute_result"
    }
   ],
   "source": [
    "0.32*0.9"
   ]
  },
  {
   "cell_type": "code",
   "execution_count": null,
   "metadata": {},
   "outputs": [],
   "source": []
  },
  {
   "cell_type": "code",
   "execution_count": null,
   "metadata": {},
   "outputs": [],
   "source": []
  },
  {
   "cell_type": "code",
   "execution_count": null,
   "metadata": {},
   "outputs": [],
   "source": []
  },
  {
   "cell_type": "code",
   "execution_count": null,
   "metadata": {},
   "outputs": [],
   "source": []
  },
  {
   "cell_type": "code",
   "execution_count": null,
   "metadata": {},
   "outputs": [],
   "source": []
  },
  {
   "cell_type": "code",
   "execution_count": null,
   "metadata": {},
   "outputs": [],
   "source": []
  }
 ],
 "metadata": {
  "kernelspec": {
   "display_name": "Python 3",
   "language": "python",
   "name": "python3"
  },
  "language_info": {
   "codemirror_mode": {
    "name": "ipython",
    "version": 3
   },
   "file_extension": ".py",
   "mimetype": "text/x-python",
   "name": "python",
   "nbconvert_exporter": "python",
   "pygments_lexer": "ipython3",
   "version": "3.7.3"
  }
 },
 "nbformat": 4,
 "nbformat_minor": 2
}
