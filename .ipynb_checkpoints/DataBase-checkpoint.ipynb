{
 "cells": [
  {
   "cell_type": "markdown",
   "metadata": {},
   "source": [
    "<h1> Data Base</h1>"
   ]
  },
  {
   "cell_type": "markdown",
   "metadata": {},
   "source": [
    "<h2> SQL Lite </h2>"
   ]
  },
  {
   "cell_type": "markdown",
   "metadata": {},
   "source": [
    "(I)FCC -import file? connect cursor"
   ]
  },
  {
   "cell_type": "code",
   "execution_count": 4,
   "metadata": {},
   "outputs": [],
   "source": [
    "import sqlite3 as db"
   ]
  },
  {
   "cell_type": "code",
   "execution_count": 32,
   "metadata": {},
   "outputs": [],
   "source": [
    "#file and Connect\n",
    "conn = db.connect('example.db')"
   ]
  },
  {
   "cell_type": "code",
   "execution_count": 33,
   "metadata": {},
   "outputs": [],
   "source": [
    "#cursor\n",
    "c = conn.cursor()"
   ]
  },
  {
   "cell_type": "code",
   "execution_count": null,
   "metadata": {},
   "outputs": [],
   "source": []
  },
  {
   "cell_type": "markdown",
   "metadata": {},
   "source": [
    "https://sebastianraschka.com/Articles/2014_sqlite_in_python_tutorial.html#inserting-and-updating-rows"
   ]
  },
  {
   "cell_type": "markdown",
   "metadata": {},
   "source": [
    "<h3> Start Table and populate (INSERT INTO) </h3>"
   ]
  },
  {
   "cell_type": "code",
   "execution_count": 34,
   "metadata": {},
   "outputs": [
    {
     "ename": "OperationalError",
     "evalue": "database is locked",
     "output_type": "error",
     "traceback": [
      "\u001b[0;31m---------------------------------------------------------------------------\u001b[0m",
      "\u001b[0;31mOperationalError\u001b[0m                          Traceback (most recent call last)",
      "\u001b[0;32m<ipython-input-34-a0729e342d01>\u001b[0m in \u001b[0;36m<module>\u001b[0;34m()\u001b[0m\n\u001b[0;32m----> 1\u001b[0;31m \u001b[0mc\u001b[0m\u001b[0;34m.\u001b[0m\u001b[0mexecute\u001b[0m\u001b[0;34m(\u001b[0m\u001b[0;34m\"DROP TABLE IF EXISTS Mus\"\u001b[0m\u001b[0;34m)\u001b[0m\u001b[0;34m\u001b[0m\u001b[0m\n\u001b[0m\u001b[1;32m      2\u001b[0m \u001b[0mc\u001b[0m\u001b[0;34m.\u001b[0m\u001b[0mexecute\u001b[0m\u001b[0;34m(\u001b[0m \u001b[0;34m\"CREATE TABLE Mus(id INTEGER PRIMARY KEY AUTOINCREMENT, name TEXT, nation TEXT, born DATE, desc DATE)\"\u001b[0m \u001b[0;34m)\u001b[0m\u001b[0;34m\u001b[0m\u001b[0m\n\u001b[1;32m      3\u001b[0m \u001b[0mc\u001b[0m\u001b[0;34m.\u001b[0m\u001b[0mexecute\u001b[0m\u001b[0;34m(\u001b[0m\u001b[0;34m\"SELECT name FROM sqlite_master WHERE type='table';\"\u001b[0m\u001b[0;34m)\u001b[0m\u001b[0;34m\u001b[0m\u001b[0m\n",
      "\u001b[0;31mOperationalError\u001b[0m: database is locked"
     ]
    }
   ],
   "source": [
    "c.execute(\"DROP TABLE IF EXISTS Mus\")\n",
    "c.execute( \"CREATE TABLE Mus(id INTEGER PRIMARY KEY AUTOINCREMENT, name TEXT, nation TEXT, born DATE, desc DATE)\" )\n",
    "c.execute(\"SELECT name FROM sqlite_master WHERE type='table';\")\n"
   ]
  },
  {
   "cell_type": "code",
   "execution_count": 8,
   "metadata": {},
   "outputs": [
    {
     "data": {
      "text/plain": [
       "<sqlite3.Cursor at 0x7f9df4250260>"
      ]
     },
     "execution_count": 8,
     "metadata": {},
     "output_type": "execute_result"
    }
   ],
   "source": [
    "#insert into\n",
    "c.execute(\"INSERT INTO Mus VALUES(1, 'Van Beethoven','Germany',1770,1827)\")\n",
    "c.execute(\"INSERT INTO Mus VALUES(2, 'J.S Bach','Germany',1685,1750)\")"
   ]
  },
  {
   "cell_type": "code",
   "execution_count": 7,
   "metadata": {},
   "outputs": [],
   "source": [
    "conn.commit()"
   ]
  },
  {
   "cell_type": "markdown",
   "metadata": {},
   "source": [
    "<h3> Queries </h3>"
   ]
  },
  {
   "cell_type": "code",
   "execution_count": 8,
   "metadata": {},
   "outputs": [
    {
     "name": "stdout",
     "output_type": "stream",
     "text": [
      "<class 'list'>\n"
     ]
    },
    {
     "data": {
      "text/plain": [
       "[(1, 'Van Beethoven', 'Germany', 1770, 1827),\n",
       " (2, 'J.S Bach', 'Germany', 1685, 1750)]"
      ]
     },
     "execution_count": 8,
     "metadata": {},
     "output_type": "execute_result"
    }
   ],
   "source": [
    "c.execute('''\n",
    "SELECT * FROM Mus\n",
    "''')\n",
    "results= c.fetchall()\n",
    "print(type(results))\n",
    "results"
   ]
  },
  {
   "cell_type": "markdown",
   "metadata": {},
   "source": [
    "<p> <span style='color=purple'>Insert F Couperin, FR, 1668-1733, J Haydn AT,1732-1809 </span>"
   ]
  },
  {
   "cell_type": "code",
   "execution_count": 10,
   "metadata": {},
   "outputs": [
    {
     "data": {
      "text/plain": [
       "<sqlite3.Cursor at 0x7efe082691f0>"
      ]
     },
     "execution_count": 10,
     "metadata": {},
     "output_type": "execute_result"
    }
   ],
   "source": []
  },
  {
   "cell_type": "code",
   "execution_count": 22,
   "metadata": {},
   "outputs": [
    {
     "ename": "IntegrityError",
     "evalue": "UNIQUE constraint failed: Mus.id",
     "output_type": "error",
     "traceback": [
      "\u001b[0;31m---------------------------------------------------------------------------\u001b[0m",
      "\u001b[0;31mIntegrityError\u001b[0m                            Traceback (most recent call last)",
      "\u001b[0;32m<ipython-input-22-ad751a202657>\u001b[0m in \u001b[0;36m<module>\u001b[0;34m()\u001b[0m\n\u001b[0;32m----> 1\u001b[0;31m \u001b[0mc\u001b[0m\u001b[0;34m.\u001b[0m\u001b[0mexecute\u001b[0m\u001b[0;34m(\u001b[0m\u001b[0;34m\"INSERT INTO Mus VALUES(3,'Francoise Couperin','France',1668,1733),(4,'Joseph Haydn','Austria',1732,1809)\"\u001b[0m\u001b[0;34m)\u001b[0m\u001b[0;34m\u001b[0m\u001b[0m\n\u001b[0m\u001b[1;32m      2\u001b[0m \u001b[0mconn\u001b[0m\u001b[0;34m.\u001b[0m\u001b[0mcommit\u001b[0m\u001b[0;34m(\u001b[0m\u001b[0;34m)\u001b[0m\u001b[0;34m\u001b[0m\u001b[0m\n",
      "\u001b[0;31mIntegrityError\u001b[0m: UNIQUE constraint failed: Mus.id"
     ]
    }
   ],
   "source": [
    "c.execute(\"INSERT INTO Mus VALUES(3,'Francoise Couperin','France',1668,1733),(4,'Joseph Haydn','Austria',1732,1809)\")\n",
    "conn.commit()"
   ]
  },
  {
   "cell_type": "markdown",
   "metadata": {},
   "source": [
    "<p> inserting without id (automatic increment)"
   ]
  },
  {
   "cell_type": "code",
   "execution_count": 17,
   "metadata": {},
   "outputs": [
    {
     "data": {
      "text/plain": [
       "<sqlite3.Cursor at 0x7f978081b180>"
      ]
     },
     "execution_count": 17,
     "metadata": {},
     "output_type": "execute_result"
    }
   ],
   "source": [
    "c.execute(\"INSERT INTO Mus (name,nation,born, desc)VALUES('W.A. Mozart', 'Austria',1756,1791)\")"
   ]
  },
  {
   "cell_type": "code",
   "execution_count": null,
   "metadata": {},
   "outputs": [],
   "source": []
  },
  {
   "cell_type": "code",
   "execution_count": null,
   "metadata": {},
   "outputs": [],
   "source": []
  },
  {
   "cell_type": "code",
   "execution_count": 21,
   "metadata": {},
   "outputs": [
    {
     "name": "stdout",
     "output_type": "stream",
     "text": [
      "[(4, 'Joseph Haydn', 1732, 1809), (5, 'W.A. Mozart', 1756, 1791)]\n"
     ]
    }
   ],
   "source": [
    "c.execute('''\n",
    "        SELECT id, name, born, desc \n",
    "        FROM Mus \n",
    "        WHERE nation = 'Austria'\n",
    "''')\n",
    "results = c.fetchall()\n",
    "print(results)"
   ]
  },
  {
   "cell_type": "code",
   "execution_count": 13,
   "metadata": {},
   "outputs": [
    {
     "name": "stdout",
     "output_type": "stream",
     "text": [
      "[('Van Beethoven', 'Germany'), ('J.S Bach', 'Germany'), ('Francoise Couperin', 'France'), ('Joseph Haydn', 'Austria')]\n"
     ]
    }
   ],
   "source": [
    "c.execute('''\n",
    "        SELECT name, nation\n",
    "        FROM Mus \n",
    "        \n",
    "''')\n",
    "results = c.fetchall()\n",
    "print(results)"
   ]
  },
  {
   "cell_type": "code",
   "execution_count": 15,
   "metadata": {},
   "outputs": [
    {
     "data": {
      "text/plain": [
       "<sqlite3.Cursor at 0x7efe082691f0>"
      ]
     },
     "execution_count": 15,
     "metadata": {},
     "output_type": "execute_result"
    }
   ],
   "source": [
    "c.execute(\"INSERT INTO  Mus VALUES(5,'Domenico Scarlatti','Italy',1685,1757)\")"
   ]
  },
  {
   "cell_type": "markdown",
   "metadata": {},
   "source": [
    "<p> <span style='color=purple'>SELECT all the musiscians from France and Italy </span>\n"
   ]
  },
  {
   "cell_type": "code",
   "execution_count": null,
   "metadata": {},
   "outputs": [],
   "source": []
  },
  {
   "cell_type": "code",
   "execution_count": 21,
   "metadata": {},
   "outputs": [
    {
     "name": "stdout",
     "output_type": "stream",
     "text": [
      "[(3, 'F. Couperin', 'France', 1668, 1733), (5, 'Domenico Scarlatti', 'Italy', 1685, 1757), (5, 'Domenico Scarlatti', 'Italy', 1685, 1757)]\n"
     ]
    }
   ],
   "source": [
    "c.execute('''\n",
    "SELECT * FROM Mus\n",
    "WHERE nation in ('France','Italy')\n",
    "''')\n",
    "results = c.fetchall()\n",
    "print(results)\n"
   ]
  },
  {
   "cell_type": "code",
   "execution_count": null,
   "metadata": {},
   "outputs": [],
   "source": []
  },
  {
   "cell_type": "markdown",
   "metadata": {},
   "source": [
    "<h3> Insert with AUTOINCREMENT </h3>"
   ]
  },
  {
   "cell_type": "markdown",
   "metadata": {},
   "source": [
    "a new data base\n",
    "<p> <span style=\"color:purple\">create a new db \"analytics.db\n",
    "    <p> <span style=\"color:purple\"> create a cursor c\n",
    "    <p><span style=\"color:purple\"> drop table Topics if exists</span>\n"
   ]
  },
  {
   "cell_type": "code",
   "execution_count": null,
   "metadata": {},
   "outputs": [],
   "source": []
  },
  {
   "cell_type": "code",
   "execution_count": null,
   "metadata": {},
   "outputs": [],
   "source": [
    "conn = db.connect(\"analytics.db\")\n",
    "c = conn.cursor()\n",
    "c.execute(\"DROP TABLE IF EXISTS Topics\")"
   ]
  },
  {
   "cell_type": "markdown",
   "metadata": {},
   "source": [
    "a new table is created with an id INTEGER which autoincrements using the \n",
    "`INTEGER PRIMARY KEY AUTOINCREMENT` statement"
   ]
  },
  {
   "cell_type": "code",
   "execution_count": 6,
   "metadata": {},
   "outputs": [
    {
     "data": {
      "text/plain": [
       "<sqlite3.Cursor at 0x7f2f2003c1f0>"
      ]
     },
     "execution_count": 6,
     "metadata": {},
     "output_type": "execute_result"
    }
   ],
   "source": [
    "c.execute( \"CREATE TABLE Topics(id INTEGER PRIMARY KEY AUTOINCREMENT, name TEXT)\")"
   ]
  },
  {
   "cell_type": "markdown",
   "metadata": {},
   "source": [
    "<h4> Dynamically insert rows (variables in query) </h4>"
   ]
  },
  {
   "cell_type": "code",
   "execution_count": 7,
   "metadata": {},
   "outputs": [],
   "source": [
    "#given the function\n",
    "def insertTopic(L):\n",
    "    '''assumes L is a list '''\n",
    "    for itm in L:\n",
    "         c.execute(\"INSERT INTO Topics(name) VALUES(?)\",(itm,))\n",
    "    "
   ]
  },
  {
   "cell_type": "code",
   "execution_count": 8,
   "metadata": {},
   "outputs": [],
   "source": [
    "Topics=['General','Linear Regression', 'Logistic Regression', 'Trees', 'Text Analytics'\n",
    "  'Clustering', 'Visualization', 'Linear Optimization', 'Integer Optimization']\n",
    "\n",
    "insertTopic(Topics)\n",
    "conn.commit()"
   ]
  },
  {
   "cell_type": "markdown",
   "metadata": {},
   "source": [
    "let see the results "
   ]
  },
  {
   "cell_type": "code",
   "execution_count": 9,
   "metadata": {},
   "outputs": [
    {
     "name": "stdout",
     "output_type": "stream",
     "text": [
      "[(1, 'General'), (2, 'Linear Regression'), (3, 'Logistic Regression'), (4, 'Trees'), (5, 'Text AnalyticsClustering'), (6, 'Visualization'), (7, 'Linear Optimization'), (8, 'Integer Optimization')]\n"
     ]
    }
   ],
   "source": [
    "c.execute('''SELECT * FROM Topics''')\n",
    "print(c.fetchall())"
   ]
  },
  {
   "cell_type": "code",
   "execution_count": null,
   "metadata": {},
   "outputs": [],
   "source": []
  },
  {
   "cell_type": "markdown",
   "metadata": {},
   "source": [
    "<h2> A 'comprehensive' example. (up to now!?!) </h2>"
   ]
  },
  {
   "cell_type": "code",
   "execution_count": 10,
   "metadata": {},
   "outputs": [],
   "source": [
    "#importing\n",
    "import sqlite3 as db"
   ]
  },
  {
   "cell_type": "markdown",
   "metadata": {},
   "source": [
    "<p> <span style=\"color:purple\">1. create a `presd` db object connected to `presidents.db`create a new db \"analytics.db <br> 2. create a cp cursor for the db</span>"
   ]
  },
  {
   "cell_type": "code",
   "execution_count": null,
   "metadata": {},
   "outputs": [],
   "source": []
  },
  {
   "cell_type": "code",
   "execution_count": 26,
   "metadata": {},
   "outputs": [],
   "source": [
    "presd = db.connect(\"presidents.db\")\n",
    "cp = presd.cursor()"
   ]
  },
  {
   "cell_type": "markdown",
   "metadata": {},
   "source": [
    "<p> <span style=\"color:purple\"> create a table customers, the fields according to the following list</span>\n",
    "<br>\n",
    "hint for table creation:\n",
    "    <br>\n",
    "`c.execute(\"DROP TABLE IF EXISTS TableName\")`<br>\n",
    "    `c.execute( \"CREATE TABLE tableName(idNameINTEGER PRIMARY KEY AUTOINCREMENT,  FieldName1 type1,FieldName2  type2,FieldName3 type3 )\" )` <br>\n",
    "    data types INTEGER,TEXT,BLOB, REAL, NUMERIC"
   ]
  },
  {
   "cell_type": "code",
   "execution_count": null,
   "metadata": {},
   "outputs": [],
   "source": []
  },
  {
   "cell_type": "code",
   "execution_count": 15,
   "metadata": {},
   "outputs": [],
   "source": [
    "custsFields=['customer_id','first_name', 'last_name','email','address','city','state', 'zipcode']"
   ]
  },
  {
   "cell_type": "code",
   "execution_count": null,
   "metadata": {},
   "outputs": [],
   "source": []
  },
  {
   "cell_type": "code",
   "execution_count": 28,
   "metadata": {},
   "outputs": [
    {
     "data": {
      "text/plain": [
       "<sqlite3.Cursor at 0x7f9df41d8ab0>"
      ]
     },
     "execution_count": 28,
     "metadata": {},
     "output_type": "execute_result"
    }
   ],
   "source": [
    "cp.execute(\"DROP TABLE IF EXISTS Customers\")\n",
    "cp.execute(\"CREATE TABLE Customers ( customer_id INTEGER PRiMARY KEY AUTOINCREMENT, first_name TEXT,          last_name TEXT, email TEXT, address TEXT, city TEXT, state TEXT, zipcode TEXT ) \")"
   ]
  },
  {
   "cell_type": "code",
   "execution_count": 31,
   "metadata": {},
   "outputs": [
    {
     "data": {
      "text/plain": [
       "<sqlite3.Cursor at 0x7f9df41d8ab0>"
      ]
     },
     "execution_count": 31,
     "metadata": {},
     "output_type": "execute_result"
    }
   ],
   "source": [
    "presd.commit()\n",
    "cp.execute(\"SELECT name FROM sqlite_master WHERE type='table';\")"
   ]
  },
  {
   "cell_type": "code",
   "execution_count": null,
   "metadata": {},
   "outputs": [],
   "source": []
  },
  {
   "cell_type": "markdown",
   "metadata": {},
   "source": [
    "`cursor.execute(\"INSERT INTO tableName VALUES( , 'rowvalue','rowvalue2',rowvalueN)\")`"
   ]
  },
  {
   "cell_type": "code",
   "execution_count": 37,
   "metadata": {},
   "outputs": [
    {
     "data": {
      "text/plain": [
       "<sqlite3.Cursor at 0x7f9df41d8ab0>"
      ]
     },
     "execution_count": 37,
     "metadata": {},
     "output_type": "execute_result"
    }
   ],
   "source": [
    "cp.execute(\"INSERT INTO Customers VALUES(1,'George','Washington','gwashing@usa.gov','3200 mt vernon hy','Mont Vernon','VA','22121')\")"
   ]
  },
  {
   "cell_type": "markdown",
   "metadata": {},
   "source": [
    "<p> <span style=\"color:purple\"> insert according to data provided</span>"
   ]
  },
  {
   "cell_type": "code",
   "execution_count": 71,
   "metadata": {},
   "outputs": [],
   "source": [
    "adams=[2,'John','Adams', 'jadams@usa.gov','1250 HAncock St', 'Quincy','MA', '02169' ]\n",
    "jeff = [3,'Thomas','Jefferson', 'tjeff@usa.gov', '931 Thomas JEf PKWY', 'Charlottesvile', 'VA','22902']\n",
    "madison =[4,'James','Madison','jmadison@usa.gov','11350 Constitution Hwy','Orange','VA','22960'] \n",
    "monroe=[5,'James','Monroe','jmonroe@usa.gov','2050 James Monroe Parkway','Charlottesville','VA','22902']\n",
    "\n",
    "def stringQueryList():\n",
    "    pass"
   ]
  },
  {
   "cell_type": "code",
   "execution_count": 66,
   "metadata": {},
   "outputs": [
    {
     "data": {
      "text/plain": [
       "'3,Thomas,Jefferson,tjeff@usa.gov,931 Thomas JEf PKWY,Charlottesvile,VA,22902'"
      ]
     },
     "execution_count": 66,
     "metadata": {},
     "output_type": "execute_result"
    }
   ],
   "source": [
    "jeffst"
   ]
  },
  {
   "cell_type": "code",
   "execution_count": 46,
   "metadata": {},
   "outputs": [
    {
     "data": {
      "text/plain": [
       "<sqlite3.Cursor at 0x7f9df41d8ab0>"
      ]
     },
     "execution_count": 46,
     "metadata": {},
     "output_type": "execute_result"
    }
   ],
   "source": [
    "cp.execute(\"INSERT INTO Customers VALUES(2,'John' , 'Adams', 'jadams@usa.gov','1250 HAncock St.', 'Quincy','MA', '02169') \")"
   ]
  },
  {
   "cell_type": "code",
   "execution_count": 74,
   "metadata": {},
   "outputs": [
    {
     "data": {
      "text/plain": [
       "<sqlite3.Cursor at 0x7f9df41d8ab0>"
      ]
     },
     "execution_count": 74,
     "metadata": {},
     "output_type": "execute_result"
    }
   ],
   "source": [
    "cp.execute(\"INSERT INTO Customers VALUES( 3,'Thomas','Jefferson', 'tjeff@usa.gov', '931 Thomas JEf PKWY', 'Charlottesvile', 'VA','22902' )\")\n",
    "cp.execute(\"INSERT INTO Customers VALUES( 4,'James','Madison','jmadison@usa.gov','11350 Constitution Hwy','Orange','VA','22960' )\")\n",
    "cp.execute(\"INSERT INTO Customers VALUES( 5,'James','Monroe','jmonroe@usa.gov','2050 James Monroe Parkway','Charlottesville','VA','22902')\" )"
   ]
  },
  {
   "cell_type": "code",
   "execution_count": null,
   "metadata": {},
   "outputs": [],
   "source": []
  },
  {
   "cell_type": "code",
   "execution_count": 75,
   "metadata": {},
   "outputs": [
    {
     "data": {
      "text/plain": [
       "[(1,\n",
       "  'George',\n",
       "  'Washington',\n",
       "  'gwashing@usa.gov',\n",
       "  '3200 mt vernon hy',\n",
       "  'Mont Vernon',\n",
       "  'VA',\n",
       "  '22121'),\n",
       " (2,\n",
       "  'John',\n",
       "  'Adams',\n",
       "  'jadams@usa.gov',\n",
       "  '1250 HAncock St.',\n",
       "  'Quincy',\n",
       "  'MA',\n",
       "  '02169'),\n",
       " (3,\n",
       "  'Thomas',\n",
       "  'Jefferson',\n",
       "  'tjeff@usa.gov',\n",
       "  '931 Thomas JEf PKWY',\n",
       "  'Charlottesvile',\n",
       "  'VA',\n",
       "  '22902'),\n",
       " (4,\n",
       "  'James',\n",
       "  'Madison',\n",
       "  'jmadison@usa.gov',\n",
       "  '11350 Constitution Hwy',\n",
       "  'Orange',\n",
       "  'VA',\n",
       "  '22960'),\n",
       " (5,\n",
       "  'James',\n",
       "  'Monroe',\n",
       "  'jmonroe@usa.gov',\n",
       "  '2050 James Monroe Parkway',\n",
       "  'Charlottesville',\n",
       "  'VA',\n",
       "  '22902')]"
      ]
     },
     "execution_count": 75,
     "metadata": {},
     "output_type": "execute_result"
    }
   ],
   "source": [
    "cp.execute('''\n",
    "SELECT * FROM Customers\n",
    "''')\n",
    "results= cp.fetchall()\n",
    "results"
   ]
  },
  {
   "cell_type": "markdown",
   "metadata": {},
   "source": [
    "<p> <span style=\"color:purple\"> create data orders with fields as provided by list <br>2.\n",
    "insert according to data provided</span>"
   ]
  },
  {
   "cell_type": "code",
   "execution_count": 77,
   "metadata": {},
   "outputs": [],
   "source": [
    "ordersFields= ['order_id','order_date', 'amount', 'customer_id']"
   ]
  },
  {
   "cell_type": "code",
   "execution_count": null,
   "metadata": {},
   "outputs": [],
   "source": []
  },
  {
   "cell_type": "code",
   "execution_count": 85,
   "metadata": {},
   "outputs": [
    {
     "data": {
      "text/plain": [
       "<sqlite3.Cursor at 0x7f9df41d8ab0>"
      ]
     },
     "execution_count": 85,
     "metadata": {},
     "output_type": "execute_result"
    }
   ],
   "source": [
    "cp.execute(\"DROP TABLE IF EXISTS Orders\")\n",
    "cp.execute(\"CREATE TABLE Orders(order_id INTEGER PRIMARY KEY, order_date DATE, amount NUMERIC, customer_id INTEGER )\")"
   ]
  },
  {
   "cell_type": "code",
   "execution_count": 79,
   "metadata": {},
   "outputs": [],
   "source": [
    "order1=[1,'07/04/1776', 234.56, 1]"
   ]
  },
  {
   "cell_type": "code",
   "execution_count": 86,
   "metadata": {},
   "outputs": [
    {
     "data": {
      "text/plain": [
       "<sqlite3.Cursor at 0x7f9df41d8ab0>"
      ]
     },
     "execution_count": 86,
     "metadata": {},
     "output_type": "execute_result"
    }
   ],
   "source": [
    "cp.execute(\"INSERT INTO Orders VALUES(1,'07/04/1776', 234.56, 1)\")"
   ]
  },
  {
   "cell_type": "code",
   "execution_count": 87,
   "metadata": {},
   "outputs": [
    {
     "data": {
      "text/plain": [
       "[(1, '07/04/1776', 234.56, 1)]"
      ]
     },
     "execution_count": 87,
     "metadata": {},
     "output_type": "execute_result"
    }
   ],
   "source": [
    "cp.execute('''\n",
    "SELECT * FROM Orders\n",
    "''')\n",
    "results= cp.fetchall()\n",
    "results"
   ]
  },
  {
   "cell_type": "code",
   "execution_count": 89,
   "metadata": {},
   "outputs": [],
   "source": [
    "presd.commit()"
   ]
  },
  {
   "cell_type": "code",
   "execution_count": null,
   "metadata": {},
   "outputs": [],
   "source": []
  },
  {
   "cell_type": "markdown",
   "metadata": {},
   "source": [
    "<p> <span style=\"color:purple\"> with inner join present the name, lasname and order date of  all orders</span>"
   ]
  },
  {
   "cell_type": "code",
   "execution_count": 91,
   "metadata": {},
   "outputs": [
    {
     "data": {
      "text/plain": [
       "[('George', 'Washington', '07/04/1776')]"
      ]
     },
     "execution_count": 91,
     "metadata": {},
     "output_type": "execute_result"
    }
   ],
   "source": [
    "cp.execute(\"SELECT first_name, last_name, order_date FROM Customers c INNER JOIN Orders o ON c.customer_id = o.customer_id\")\n",
    "result=cp.fetchall()\n",
    "result"
   ]
  },
  {
   "cell_type": "code",
   "execution_count": null,
   "metadata": {},
   "outputs": [],
   "source": []
  },
  {
   "cell_type": "code",
   "execution_count": null,
   "metadata": {},
   "outputs": [],
   "source": []
  },
  {
   "cell_type": "code",
   "execution_count": null,
   "metadata": {},
   "outputs": [],
   "source": []
  },
  {
   "cell_type": "code",
   "execution_count": null,
   "metadata": {},
   "outputs": [],
   "source": []
  },
  {
   "cell_type": "code",
   "execution_count": null,
   "metadata": {},
   "outputs": [],
   "source": []
  }
 ],
 "metadata": {
  "kernelspec": {
   "display_name": "Python 3",
   "language": "python",
   "name": "python3"
  },
  "language_info": {
   "codemirror_mode": {
    "name": "ipython",
    "version": 3
   },
   "file_extension": ".py",
   "mimetype": "text/x-python",
   "name": "python",
   "nbconvert_exporter": "python",
   "pygments_lexer": "ipython3",
   "version": "3.6.5"
  }
 },
 "nbformat": 4,
 "nbformat_minor": 2
}
