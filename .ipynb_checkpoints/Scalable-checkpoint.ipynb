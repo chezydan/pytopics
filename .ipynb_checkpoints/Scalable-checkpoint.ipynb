{
 "cells": [
  {
   "cell_type": "code",
   "execution_count": null,
   "metadata": {},
   "outputs": [],
   "source": []
  },
  {
   "cell_type": "markdown",
   "metadata": {},
   "source": [
    "modular-\n",
    "mantainable-\n",
    "scales-"
   ]
  },
  {
   "cell_type": "code",
   "execution_count": 2,
   "metadata": {},
   "outputs": [],
   "source": [
    "\n",
    "#import this"
   ]
  },
  {
   "cell_type": "markdown",
   "metadata": {},
   "source": [
    "<h3>String operations </h3>"
   ]
  },
  {
   "cell_type": "markdown",
   "metadata": {},
   "source": [
    "<h4> using join </h4>"
   ]
  },
  {
   "cell_type": "markdown",
   "metadata": {},
   "source": [
    "`' '.join(['string', otherString'`"
   ]
  },
  {
   "cell_type": "code",
   "execution_count": 4,
   "metadata": {},
   "outputs": [
    {
     "name": "stdout",
     "output_type": "stream",
     "text": [
      "Hello there Jeff\n",
      "Hello there Gary\n",
      "Hello there Jill\n",
      "Hello there Samantha\n"
     ]
    }
   ],
   "source": [
    "names = ['Jeff', 'Gary', 'Jill', 'Samantha']\n",
    "for name in names:\n",
    "    statement = ' '.join(['Hello there', name])\n",
    "    print(statement)"
   ]
  },
  {
   "cell_type": "markdown",
   "metadata": {},
   "source": [
    "join is preferable to concatenate"
   ]
  },
  {
   "cell_type": "code",
   "execution_count": 5,
   "metadata": {},
   "outputs": [
    {
     "data": {
      "text/plain": [
       "'abe,bob,carla'"
      ]
     },
     "execution_count": 5,
     "metadata": {},
     "output_type": "execute_result"
    }
   ],
   "source": [
    "names = ['abe', 'bob', 'carla']\n",
    "','.join(names)"
   ]
  },
  {
   "cell_type": "markdown",
   "metadata": {},
   "source": [
    "<h4> string formatting </h4>"
   ]
  },
  {
   "cell_type": "code",
   "execution_count": 4,
   "metadata": {},
   "outputs": [
    {
     "name": "stdout",
     "output_type": "stream",
     "text": [
      "Gary bought 23 apples today!\n",
      "Gary bought 23 apples today!\n",
      "Joe bought 43 apples today!\n",
      "Freddy bought 4 apples today!\n"
     ]
    }
   ],
   "source": [
    "who='Gary'\n",
    "how_many = 23\n",
    "\n",
    "print('{} bought {} apples today!'.format(who, how_many))\n",
    "\n",
    "who=[\"Gary\", \"Joe\", \"Freddy\"]\n",
    "how_many=[23,43,4]\n",
    "for w,h in zip(who, how_many):\n",
    "    print(\"{} bought {} apples today!\".format(w, h))"
   ]
  },
  {
   "cell_type": "code",
   "execution_count": null,
   "metadata": {},
   "outputs": [],
   "source": []
  },
  {
   "cell_type": "markdown",
   "metadata": {},
   "source": [
    "<h3> CLI </h3>"
   ]
  },
  {
   "cell_type": "code",
   "execution_count": 18,
   "metadata": {},
   "outputs": [
    {
     "data": {
      "text/plain": [
       "\"import argparse\\nimport sys\\ndef main():\\n    parser = argparse.ArgumentParser()\\n    parser.add_argument('--x', type=float, default=1.0,\\n                        help='What is the first number?')\\n    parser.add_argument('--y', type=float, default=1.0,\\n                        help='What is the second number?')\\n    parser.add_argument('--operation', type=str, default='add',\\n                        help='What operation? Can choose add, sub, mul, or div')\\n    args = parser.parse_args()\\n    sys.stdout.write(str(calc(args)))\\n    \\ndef calc(args):\\n    if args.operation == 'add':\\n        return args.x + args.y\\n    elif args.operation == 'sub':\\n        return args.x - args.y\\n    elif args.operation == 'mul':\\n        return args.x * args.y\\n    elif args.operation == 'div':\\n        return args.x / args.y\\n\\nif __name__ == '__main__':\\n    main()\\n    \\n    \""
      ]
     },
     "execution_count": 18,
     "metadata": {},
     "output_type": "execute_result"
    }
   ],
   "source": [
    "'''import argparse\n",
    "import sys\n",
    "def main():\n",
    "    parser = argparse.ArgumentParser()\n",
    "    parser.add_argument('--x', type=float, default=1.0,\n",
    "                        help='What is the first number?')\n",
    "    parser.add_argument('--y', type=float, default=1.0,\n",
    "                        help='What is the second number?')\n",
    "    parser.add_argument('--operation', type=str, default='add',\n",
    "                        help='What operation? Can choose add, sub, mul, or div')\n",
    "    args = parser.parse_args()\n",
    "    sys.stdout.write(str(calc(args)))\n",
    "    \n",
    "def calc(args):\n",
    "    if args.operation == 'add':\n",
    "        return args.x + args.y\n",
    "    elif args.operation == 'sub':\n",
    "        return args.x - args.y\n",
    "    elif args.operation == 'mul':\n",
    "        return args.x * args.y\n",
    "    elif args.operation == 'div':\n",
    "        return args.x / args.y\n",
    "\n",
    "if __name__ == '__main__':\n",
    "    main()\n",
    "    \n",
    "    '''"
   ]
  },
  {
   "cell_type": "markdown",
   "metadata": {},
   "source": [
    "`argpase`\n",
    "is an argument-parser\n"
   ]
  },
  {
   "cell_type": "code",
   "execution_count": null,
   "metadata": {},
   "outputs": [],
   "source": []
  },
  {
   "cell_type": "markdown",
   "metadata": {},
   "source": [
    "<h2> Generators and list comprehensions  </h2>"
   ]
  },
  {
   "cell_type": "markdown",
   "metadata": {},
   "source": [
    "<b>generators</b>  like range\n",
    "python 3 generates on the fly"
   ]
  },
  {
   "cell_type": "code",
   "execution_count": 29,
   "metadata": {},
   "outputs": [
    {
     "name": "stdout",
     "output_type": "stream",
     "text": [
      "[0, 1, 2, 3, 4]\n"
     ]
    }
   ],
   "source": [
    "xyz = (i for i in range(50000000))\n",
    "print(list(xyz)[:5])"
   ]
  },
  {
   "cell_type": "markdown",
   "metadata": {},
   "source": [
    "() parenthesis creates and does not store all the iteration"
   ]
  },
  {
   "cell_type": "markdown",
   "metadata": {},
   "source": [
    "<b>list comprehension :</b> faster but takes memory"
   ]
  },
  {
   "cell_type": "code",
   "execution_count": null,
   "metadata": {},
   "outputs": [],
   "source": []
  },
  {
   "cell_type": "code",
   "execution_count": null,
   "metadata": {},
   "outputs": [],
   "source": []
  },
  {
   "cell_type": "code",
   "execution_count": null,
   "metadata": {},
   "outputs": [],
   "source": []
  },
  {
   "cell_type": "code",
   "execution_count": 16,
   "metadata": {},
   "outputs": [
    {
     "name": "stdout",
     "output_type": "stream",
     "text": [
      "[5, 10]\n"
     ]
    }
   ],
   "source": [
    "input_list = [5,6,2,1,6,7,10,12]\n",
    "\n",
    "def div_by_five(num):\n",
    "    if num % 5 == 0:\n",
    "        return True\n",
    "    else:\n",
    "        return False\n",
    "\n",
    "xyz = (i for i in input_list if div_by_five(i))\n",
    "print(list(xyz))"
   ]
  },
  {
   "cell_type": "code",
   "execution_count": 17,
   "metadata": {},
   "outputs": [
    {
     "name": "stdout",
     "output_type": "stream",
     "text": [
      "[5, 10]\n"
     ]
    }
   ],
   "source": [
    "xyz = [i for i in input_list if div_by_five(i)]\n",
    "print(xyz)"
   ]
  },
  {
   "cell_type": "code",
   "execution_count": null,
   "metadata": {},
   "outputs": [],
   "source": []
  },
  {
   "cell_type": "markdown",
   "metadata": {},
   "source": [
    "<h4> embedding </h4>"
   ]
  },
  {
   "cell_type": "code",
   "execution_count": 24,
   "metadata": {},
   "outputs": [
    {
     "data": {
      "text/plain": [
       "[<generator object <genexpr> at 0x7f4d4c3379a8>]"
      ]
     },
     "execution_count": 24,
     "metadata": {},
     "output_type": "execute_result"
    }
   ],
   "source": [
    "[(print(i,ii) for ii in range (1,3) for i in range (1,2) )]"
   ]
  },
  {
   "cell_type": "code",
   "execution_count": 28,
   "metadata": {},
   "outputs": [
    {
     "name": "stdout",
     "output_type": "stream",
     "text": [
      "(0, 3)\n",
      "(0, 4)\n",
      "(1, 3)\n",
      "(1, 4)\n"
     ]
    },
    {
     "data": {
      "text/plain": [
       "[[None, None], [None, None]]"
      ]
     },
     "execution_count": 28,
     "metadata": {},
     "output_type": "execute_result"
    }
   ],
   "source": [
    "[ [print((i,ii)) for ii in range (3,5)] for i in range (0,2) ]"
   ]
  },
  {
   "cell_type": "code",
   "execution_count": null,
   "metadata": {},
   "outputs": [],
   "source": []
  },
  {
   "cell_type": "markdown",
   "metadata": {},
   "source": [
    "with big list comprehension you can run out of memory <p>\n",
    "    with big generators yo ucan run out of time"
   ]
  },
  {
   "cell_type": "code",
   "execution_count": null,
   "metadata": {},
   "outputs": [],
   "source": []
  },
  {
   "cell_type": "code",
   "execution_count": null,
   "metadata": {},
   "outputs": [],
   "source": []
  },
  {
   "cell_type": "markdown",
   "metadata": {},
   "source": [
    "<h2> timeit </h2>"
   ]
  },
  {
   "cell_type": "markdown",
   "metadata": {},
   "source": [
    "let's messure speed for building a list of even numbers up to 100"
   ]
  },
  {
   "cell_type": "code",
   "execution_count": 30,
   "metadata": {},
   "outputs": [],
   "source": [
    "#generator\n",
    "input_list = range(100)\n",
    "def div_by_five(num):\n",
    "    if num % 5 == 0:\n",
    "        return True\n",
    "    else:\n",
    "        return False\n",
    "# generator, converted to list.\n",
    "xyz = list(i for i in input_list if div_by_five(i))"
   ]
  },
  {
   "cell_type": "code",
   "execution_count": 31,
   "metadata": {},
   "outputs": [],
   "source": [
    "#list comprehension\n",
    "input_list = range(100)\n",
    "def div_by_five(num):\n",
    "    if num % 5 == 0:\n",
    "        return True\n",
    "    else:\n",
    "        return False\n",
    "# generator:\n",
    "xyz = [i for i in input_list if div_by_five(i)]"
   ]
  },
  {
   "cell_type": "code",
   "execution_count": 33,
   "metadata": {},
   "outputs": [
    {
     "name": "stdout",
     "output_type": "stream",
     "text": [
      "0.008911493001505733\n"
     ]
    }
   ],
   "source": [
    "#a quick example\n",
    "import timeit\n",
    "\n",
    "print(timeit.timeit('1+3', number=500000))"
   ]
  },
  {
   "cell_type": "code",
   "execution_count": 44,
   "metadata": {},
   "outputs": [
    {
     "name": "stdout",
     "output_type": "stream",
     "text": [
      "3.18406738900012\n",
      "6.131000191089697e-06\n"
     ]
    }
   ],
   "source": [
    "code ='''[i for i in range (100)]'''\n",
    "print(timeit.timeit(code))\n",
    "print(timeit.timeit('[i for i in range (100)] ', number=1) )\n"
   ]
  },
  {
   "cell_type": "code",
   "execution_count": 39,
   "metadata": {},
   "outputs": [
    {
     "name": "stdout",
     "output_type": "stream",
     "text": [
      "0.9474732559992844\n"
     ]
    }
   ],
   "source": [
    "print(timeit.timeit('''input_list = range(100)\n",
    "\n",
    "def div_by_two(num):\n",
    "    if (num/2).is_integer():\n",
    "        return True\n",
    "    else:\n",
    "        return False\n",
    "\n",
    "# generator:\n",
    "xyz = list(i for i in input_list if div_by_two(i))\n",
    "''', number=50000))"
   ]
  },
  {
   "cell_type": "code",
   "execution_count": null,
   "metadata": {},
   "outputs": [],
   "source": [
    "print(timeit.timeit('''input_list = range(100)\n",
    "\n",
    "def div_by_two(num):\n",
    "    if (num/2).is_integer():\n",
    "        return True\n",
    "    else:\n",
    "        return False\n",
    "\n",
    "# generator:\n",
    "xyz = [i for i in input_list if div_by_two(i)]''', number=50000))"
   ]
  },
  {
   "cell_type": "code",
   "execution_count": null,
   "metadata": {},
   "outputs": [],
   "source": []
  },
  {
   "cell_type": "markdown",
   "metadata": {},
   "source": [
    "<h2> enumerate </h2>"
   ]
  },
  {
   "cell_type": "markdown",
   "metadata": {},
   "source": [
    "`enumerate(iterable)` returns a tuple containing the count and the  iterable : `(# , item)`"
   ]
  },
  {
   "cell_type": "code",
   "execution_count": 2,
   "metadata": {},
   "outputs": [
    {
     "name": "stdout",
     "output_type": "stream",
     "text": [
      "0.jan\n",
      "1.feb\n",
      "2.mar\n",
      "3.apr\n"
     ]
    }
   ],
   "source": [
    "mylist = ['jan', 'feb', 'mar', 'apr']\n",
    "for n,itm in enumerate(mylist):\n",
    "    print(\"{:}.{:}\".format(n,itm))"
   ]
  },
  {
   "cell_type": "code",
   "execution_count": 3,
   "metadata": {},
   "outputs": [
    {
     "name": "stdout",
     "output_type": "stream",
     "text": [
      "0 left\n",
      "1 right\n",
      "2 up\n",
      "3 down\n"
     ]
    },
    {
     "data": {
      "text/plain": [
       "[None, None, None, None]"
      ]
     },
     "execution_count": 3,
     "metadata": {},
     "output_type": "execute_result"
    }
   ],
   "source": [
    "example_dict = {'left':'<','right':'>','up':'^','down':'v',}\n",
    "[print(i,j) for i,j in enumerate(example_dict)]"
   ]
  },
  {
   "cell_type": "code",
   "execution_count": 7,
   "metadata": {},
   "outputs": [
    {
     "name": "stdout",
     "output_type": "stream",
     "text": [
      "{1: 'jan', 2: 'feb', 3: 'mar', 4: 'apr'}\n"
     ]
    }
   ],
   "source": [
    "#You can even create new dicts with a list and enumerate:\n",
    "month_dict = dict(enumerate(mylist,1))\n",
    "print(month_dict)"
   ]
  },
  {
   "cell_type": "code",
   "execution_count": null,
   "metadata": {},
   "outputs": [],
   "source": []
  },
  {
   "cell_type": "markdown",
   "metadata": {},
   "source": [
    "<h2> zip </h2>"
   ]
  },
  {
   "cell_type": "code",
   "execution_count": 1,
   "metadata": {},
   "outputs": [],
   "source": [
    "x = [1,2,3,4]\n",
    "y = [7,8,3,2]\n",
    "z = ['a','b','c','d']"
   ]
  },
  {
   "cell_type": "code",
   "execution_count": 3,
   "metadata": {},
   "outputs": [
    {
     "name": "stdout",
     "output_type": "stream",
     "text": [
      "1 7\n",
      "2 8\n",
      "3 3\n",
      "4 2\n"
     ]
    }
   ],
   "source": [
    "for i,j in zip (x,y):\n",
    "    print(i,j)"
   ]
  },
  {
   "cell_type": "code",
   "execution_count": 4,
   "metadata": {},
   "outputs": [
    {
     "name": "stdout",
     "output_type": "stream",
     "text": [
      "1 7 a\n",
      "2 8 b\n",
      "3 3 c\n",
      "4 2 d\n"
     ]
    }
   ],
   "source": [
    "for a,b,c in zip(x,y,z):\n",
    "    print(a,b,c)"
   ]
  },
  {
   "cell_type": "markdown",
   "metadata": {},
   "source": [
    "zip creates a `zip` `object`\n",
    ":"
   ]
  },
  {
   "cell_type": "code",
   "execution_count": 6,
   "metadata": {},
   "outputs": [
    {
     "name": "stdout",
     "output_type": "stream",
     "text": [
      "<zip object at 0x7f34e4152a08>\n"
     ]
    },
    {
     "data": {
      "text/plain": [
       "zip"
      ]
     },
     "execution_count": 6,
     "metadata": {},
     "output_type": "execute_result"
    }
   ],
   "source": [
    "print(zip(x,y,z))\n",
    "type(zip(x,y))"
   ]
  },
  {
   "cell_type": "markdown",
   "metadata": {},
   "source": [
    "<h3> combine zip with list comprehension </h3>"
   ]
  },
  {
   "cell_type": "code",
   "execution_count": 7,
   "metadata": {},
   "outputs": [
    {
     "name": "stdout",
     "output_type": "stream",
     "text": [
      "1 7 a\n",
      "2 8 b\n",
      "3 3 c\n",
      "4 2 d\n"
     ]
    },
    {
     "data": {
      "text/plain": [
       "[None, None, None, None]"
      ]
     },
     "execution_count": 7,
     "metadata": {},
     "output_type": "execute_result"
    }
   ],
   "source": [
    "[print(a,b,c ) for a, b, c in zip(x,y,z)]"
   ]
  },
  {
   "cell_type": "code",
   "execution_count": null,
   "metadata": {},
   "outputs": [],
   "source": []
  },
  {
   "cell_type": "markdown",
   "metadata": {},
   "source": [
    "<h2> generators take 2 </h2>"
   ]
  },
  {
   "cell_type": "markdown",
   "metadata": {},
   "source": [
    "learning how to write a generator <p>\n",
    "    understanding what they are, how they work\n"
   ]
  },
  {
   "cell_type": "markdown",
   "metadata": {},
   "source": [
    "generators don't return things they <b>yeld</b> things in a stream.\n",
    "<p> this can be done on iterables , but also based purely in logic"
   ]
  },
  {
   "cell_type": "code",
   "execution_count": 8,
   "metadata": {},
   "outputs": [],
   "source": [
    "def simple_gen():\n",
    "    yield 'Oh'\n",
    "    yield 'hello'\n",
    "    yield 'there'"
   ]
  },
  {
   "cell_type": "markdown",
   "metadata": {},
   "source": [
    "iterate in the super basic generator"
   ]
  },
  {
   "cell_type": "code",
   "execution_count": 9,
   "metadata": {},
   "outputs": [
    {
     "name": "stdout",
     "output_type": "stream",
     "text": [
      "Oh\n",
      "hello\n",
      "there\n"
     ]
    }
   ],
   "source": [
    "for i in simple_gen():\n",
    "    print (i)"
   ]
  },
  {
   "cell_type": "markdown",
   "metadata": {},
   "source": [
    "<h4> the scenario of braking a code </h3>"
   ]
  },
  {
   "cell_type": "code",
   "execution_count": 12,
   "metadata": {},
   "outputs": [
    {
     "name": "stdout",
     "output_type": "stream",
     "text": [
      "Found the combo:(3, 6, 1)\n"
     ]
    }
   ],
   "source": [
    "CORRECT_COMBO = (3, 6, 1)\n",
    "\n",
    "for c1 in range(10):\n",
    "    for c2 in range(10):\n",
    "        for c3 in range(10):\n",
    "            if (c1, c2, c3) == CORRECT_COMBO:\n",
    "                print('Found the combo:{}'.format((c1, c2, c3)))"
   ]
  },
  {
   "cell_type": "code",
   "execution_count": 13,
   "metadata": {},
   "outputs": [
    {
     "name": "stdout",
     "output_type": "stream",
     "text": [
      "Found the combo:(3, 6, 1)\n"
     ]
    }
   ],
   "source": [
    "#the ciphers one after another\n",
    "found_combo = False\n",
    "for c1 in range(10):\n",
    "    if found_combo:\n",
    "        break\n",
    "    for c2 in range(10):\n",
    "        if found_combo:\n",
    "            break\n",
    "        for c3 in range(10):\n",
    "            if (c1, c2, c3) == CORRECT_COMBO:\n",
    "                print('Found the combo:{}'.format((c1, c2, c3)))\n",
    "                found_combo = True\n",
    "                break"
   ]
  },
  {
   "cell_type": "code",
   "execution_count": 14,
   "metadata": {},
   "outputs": [],
   "source": [
    "\n",
    "#with generator\n",
    "\n",
    "def combo_gen():\n",
    "    for c1 in range(10):\n",
    "        for c2 in range(10):\n",
    "            for c3 in range(10):\n",
    "                yield (c1, c2, c3)"
   ]
  },
  {
   "cell_type": "code",
   "execution_count": 17,
   "metadata": {},
   "outputs": [],
   "source": [
    "def gen_codes():\n",
    "    for (c1, c2, c3) in combo_gen():\n",
    "        print(c1, c2, c3)\n",
    "        if (c1, c2, c3) == CORRECT_COMBO:\n",
    "            print('Found the combo:{}'.format((c1, c2, c3)))\n",
    "            break"
   ]
  },
  {
   "cell_type": "code",
   "execution_count": 23,
   "metadata": {},
   "outputs": [
    {
     "name": "stdout",
     "output_type": "stream",
     "text": [
      "10\n",
      "100\n",
      "1000\n",
      "20\n",
      "200\n",
      "2000\n",
      "30\n",
      "300\n",
      "3000\n",
      "40\n",
      "400\n",
      "4000\n"
     ]
    }
   ],
   "source": [
    "def multi_gen(X,Y):\n",
    "    for x in X:\n",
    "        for y in Y:\n",
    "            yield(x,y)\n",
    "X,Y = ([1,2,3,4] , [10,100,1000])\n",
    "def gen_multi(X,Y):\n",
    "    for x,y in multi_gen(X,Y):\n",
    "        print(x*y)\n",
    "gen_multi(X,Y)"
   ]
  },
  {
   "cell_type": "code",
   "execution_count": null,
   "metadata": {},
   "outputs": [],
   "source": []
  },
  {
   "cell_type": "markdown",
   "metadata": {},
   "source": [
    "<h3> Multi processing </h3>"
   ]
  },
  {
   "cell_type": "markdown",
   "metadata": {},
   "source": [
    "GIL = Global Interpreter Lock<p>\n",
    "    python originaly is single threaded, runs on a single CPU"
   ]
  },
  {
   "cell_type": "code",
   "execution_count": 25,
   "metadata": {},
   "outputs": [
    {
     "name": "stdout",
     "output_type": "stream",
     "text": [
      "Spawned\n",
      "Spawned\n",
      "Spawned\n",
      "Spawned\n",
      "Spawned\n"
     ]
    }
   ],
   "source": [
    "import multiprocessing\n",
    "import multiprocessing\n",
    "\n",
    "def spawn():\n",
    "    print('Spawned')\n",
    "\n",
    "if __name__ == '__main__':\n",
    "    for i in range(5):\n",
    "        p = multiprocessing.Process(target=spawn)\n",
    "        p.start()\n",
    "        p.join()"
   ]
  },
  {
   "cell_type": "code",
   "execution_count": 27,
   "metadata": {},
   "outputs": [
    {
     "name": "stdout",
     "output_type": "stream",
     "text": [
      "Spawn # 0\n",
      "Spawn # 1\n",
      "Spawn # 2\n",
      "Spawn # 3\n",
      "Spawn # 4\n"
     ]
    }
   ],
   "source": [
    "import multiprocessing\n",
    "def spawn(num):\n",
    "    print('Spawn # {}'.format(num))\n",
    "\n",
    "if __name__ == '__main__':\n",
    "    for i in range(5):\n",
    "        p = multiprocessing.Process(target=spawn, args=(i,))\n",
    "        p.start()"
   ]
  },
  {
   "cell_type": "code",
   "execution_count": null,
   "metadata": {},
   "outputs": [],
   "source": []
  },
  {
   "cell_type": "code",
   "execution_count": 29,
   "metadata": {},
   "outputs": [],
   "source": [
    "from multiprocessing import Pool"
   ]
  },
  {
   "cell_type": "markdown",
   "metadata": {},
   "source": [
    "set up a `Pool` object which will have 20 proecesses \n",
    "then map  the job function to a list of parameters"
   ]
  },
  {
   "cell_type": "code",
   "execution_count": 30,
   "metadata": {},
   "outputs": [
    {
     "name": "stdout",
     "output_type": "stream",
     "text": [
      "[0, 2, 4, 6, 8, 10, 12, 14, 16, 18, 20, 22, 24, 26, 28, 30, 32, 34, 36, 38]\n"
     ]
    }
   ],
   "source": [
    "def job(num):\n",
    "    return num * 2\n",
    "if __name__ == '__main__':\n",
    "    p = Pool(processes=20)\n",
    "    data = p.map(job, [i for i in range(20)])\n",
    "    p.close()\n",
    "    print(data)"
   ]
  },
  {
   "cell_type": "code",
   "execution_count": null,
   "metadata": {},
   "outputs": [],
   "source": []
  },
  {
   "cell_type": "markdown",
   "metadata": {},
   "source": [
    "<h3> building a spider with multiprocessing </h3>"
   ]
  },
  {
   "cell_type": "code",
   "execution_count": 32,
   "metadata": {},
   "outputs": [],
   "source": [
    "from multiprocessing import Pool\n",
    "import bs4 as bs\n",
    "import random\n",
    "import requests\n",
    "import string\n",
    "\n",
    "def random_starting_url():\n",
    "    starting = ''.join(random.SystemRandom().choice(string.ascii_lowercase) for _ in range(3))\n",
    "    url = ''.join(['http://', starting, '.com'])\n",
    "    return url"
   ]
  },
  {
   "cell_type": "code",
   "execution_count": null,
   "metadata": {},
   "outputs": [],
   "source": [
    "#handle local links\n",
    "def handle_local_links(url,link):\n",
    "    if link.startswith('/'):\n",
    "        return ''.join([url,link])\n",
    "    else:\n",
    "        return link"
   ]
  },
  {
   "cell_type": "code",
   "execution_count": 34,
   "metadata": {},
   "outputs": [],
   "source": [
    "#find the links\n",
    "def get_links(url):\n",
    "    try:\n",
    "        resp = requests.get(url)\n",
    "        soup = bs.BeautifulSoup(resp.text, 'lxml')\n",
    "        body = soup.body\n",
    "        links = [link.get('href') for link in body.find_all('a')]\n",
    "        links = [handle_local_links(url,link) for link in links]\n",
    "        links = [str(link.encode(\"ascii\")) for link in links]\n",
    "        return links\n",
    "\n",
    "    except TypeError as e:\n",
    "        print(e)\n",
    "        print('Got a TypeError, probably got a None that we tried to iterate over')\n",
    "        return []\n",
    "    except IndexError as e:\n",
    "        print(e)\n",
    "        print('We probably did not find any useful links, returning empty list')\n",
    "        return []\n",
    "    except AttributeError as e:\n",
    "        print(e)\n",
    "        print('Likely got None for links, so we are throwing this')\n",
    "        return []\n",
    "    except Exception as e:\n",
    "        print(str(e))\n",
    "        # log this error \n",
    "        return []"
   ]
  },
  {
   "cell_type": "code",
   "execution_count": 36,
   "metadata": {},
   "outputs": [],
   "source": [
    "def main():\n",
    "    how_many = 50\n",
    "    p = Pool(processes=how_many)\n",
    "    parse_us = [random_starting_url() for _ in range(how_many)]\n",
    "    \n",
    "    data = p.map(get_links, [link for link in parse_us])\n",
    "    data = [url for url_list in data for url in url_list]\n",
    "    p.close()\n",
    "\n",
    "    with open('urls.txt','w') as f:\n",
    "        f.write(str(data))\n",
    "\n",
    "#if __name__ == '__main__':\n",
    " #   main()"
   ]
  },
  {
   "cell_type": "code",
   "execution_count": null,
   "metadata": {},
   "outputs": [],
   "source": []
  },
  {
   "cell_type": "markdown",
   "metadata": {},
   "source": [
    "<h2> oop </h2>"
   ]
  },
  {
   "cell_type": "code",
   "execution_count": 1,
   "metadata": {},
   "outputs": [],
   "source": [
    "class Blob:\n",
    "    \n",
    "    def __init__(self, color):\n",
    "        self.x = random.randrange(0, WIDTH)\n",
    "        self.y = random.randrange(0, HEIGHT)\n",
    "        self.size = random.randrange(4,8)\n",
    "        self.color = color\n",
    "    def move(self):\n",
    "        self.move_x = random.randrange(-1,2)\n",
    "        self.move_y = random.randrange(-1,2)\n",
    "        self.x += self.move_x\n",
    "        self.y += self.move_y\n",
    "        \n",
    "        if self.x < 0: self.x = 0\n",
    "        elif self.x > WIDTH: self.x = WIDTH\n",
    "        \n",
    "        if self.y < 0: self.y = 0\n",
    "        elif self.y > HEIGHT: self.y = HEIGHT"
   ]
  },
  {
   "cell_type": "code",
   "execution_count": 1,
   "metadata": {},
   "outputs": [
    {
     "name": "stdout",
     "output_type": "stream",
     "text": [
      "pygame 1.9.6\n",
      "Hello from the pygame community. https://www.pygame.org/contribute.html\n"
     ]
    },
    {
     "ename": "error",
     "evalue": "display Surface quit",
     "output_type": "error",
     "traceback": [
      "\u001b[0;31m---------------------------------------------------------------------------\u001b[0m",
      "\u001b[0;31merror\u001b[0m                                     Traceback (most recent call last)",
      "\u001b[0;32m<ipython-input-1-242ee40849ba>\u001b[0m in \u001b[0;36m<module>\u001b[0;34m\u001b[0m\n\u001b[1;32m     60\u001b[0m \u001b[0;34m\u001b[0m\u001b[0m\n\u001b[1;32m     61\u001b[0m \u001b[0;32mif\u001b[0m \u001b[0m__name__\u001b[0m \u001b[0;34m==\u001b[0m \u001b[0;34m'__main__'\u001b[0m\u001b[0;34m:\u001b[0m\u001b[0;34m\u001b[0m\u001b[0;34m\u001b[0m\u001b[0m\n\u001b[0;32m---> 62\u001b[0;31m     \u001b[0mmain\u001b[0m\u001b[0;34m(\u001b[0m\u001b[0;34m)\u001b[0m\u001b[0;34m\u001b[0m\u001b[0;34m\u001b[0m\u001b[0m\n\u001b[0m",
      "\u001b[0;32m<ipython-input-1-242ee40849ba>\u001b[0m in \u001b[0;36mmain\u001b[0;34m()\u001b[0m\n\u001b[1;32m     56\u001b[0m                 \u001b[0mpygame\u001b[0m\u001b[0;34m.\u001b[0m\u001b[0mquit\u001b[0m\u001b[0;34m(\u001b[0m\u001b[0;34m)\u001b[0m\u001b[0;34m\u001b[0m\u001b[0;34m\u001b[0m\u001b[0m\n\u001b[1;32m     57\u001b[0m                 \u001b[0mquit\u001b[0m\u001b[0;34m(\u001b[0m\u001b[0;34m)\u001b[0m\u001b[0;34m\u001b[0m\u001b[0;34m\u001b[0m\u001b[0m\n\u001b[0;32m---> 58\u001b[0;31m         \u001b[0mdraw_environment\u001b[0m\u001b[0;34m(\u001b[0m\u001b[0;34m[\u001b[0m\u001b[0mblue_blobs\u001b[0m\u001b[0;34m,\u001b[0m\u001b[0mred_blobs\u001b[0m\u001b[0;34m]\u001b[0m\u001b[0;34m)\u001b[0m\u001b[0;34m\u001b[0m\u001b[0;34m\u001b[0m\u001b[0m\n\u001b[0m\u001b[1;32m     59\u001b[0m         \u001b[0mclock\u001b[0m\u001b[0;34m.\u001b[0m\u001b[0mtick\u001b[0m\u001b[0;34m(\u001b[0m\u001b[0;36m60\u001b[0m\u001b[0;34m)\u001b[0m\u001b[0;34m\u001b[0m\u001b[0;34m\u001b[0m\u001b[0m\n\u001b[1;32m     60\u001b[0m \u001b[0;34m\u001b[0m\u001b[0m\n",
      "\u001b[0;32m<ipython-input-1-242ee40849ba>\u001b[0m in \u001b[0;36mdraw_environment\u001b[0;34m(blob_list)\u001b[0m\n\u001b[1;32m     37\u001b[0m \u001b[0;34m\u001b[0m\u001b[0m\n\u001b[1;32m     38\u001b[0m \u001b[0;32mdef\u001b[0m \u001b[0mdraw_environment\u001b[0m\u001b[0;34m(\u001b[0m\u001b[0mblob_list\u001b[0m\u001b[0;34m)\u001b[0m\u001b[0;34m:\u001b[0m\u001b[0;34m\u001b[0m\u001b[0;34m\u001b[0m\u001b[0m\n\u001b[0;32m---> 39\u001b[0;31m     \u001b[0mgame_display\u001b[0m\u001b[0;34m.\u001b[0m\u001b[0mfill\u001b[0m\u001b[0;34m(\u001b[0m\u001b[0mWHITE\u001b[0m\u001b[0;34m)\u001b[0m\u001b[0;34m\u001b[0m\u001b[0;34m\u001b[0m\u001b[0m\n\u001b[0m\u001b[1;32m     40\u001b[0m \u001b[0;34m\u001b[0m\u001b[0m\n\u001b[1;32m     41\u001b[0m     \u001b[0;32mfor\u001b[0m \u001b[0mblob_dict\u001b[0m \u001b[0;32min\u001b[0m \u001b[0mblob_list\u001b[0m\u001b[0;34m:\u001b[0m\u001b[0;34m\u001b[0m\u001b[0;34m\u001b[0m\u001b[0m\n",
      "\u001b[0;31merror\u001b[0m: display Surface quit"
     ]
    },
    {
     "name": "stderr",
     "output_type": "stream",
     "text": [
      "ERROR:root:Invalid alias: The name clear can't be aliased because it is another magic command.\n",
      "ERROR:root:Invalid alias: The name more can't be aliased because it is another magic command.\n",
      "ERROR:root:Invalid alias: The name less can't be aliased because it is another magic command.\n",
      "ERROR:root:Invalid alias: The name man can't be aliased because it is another magic command.\n"
     ]
    }
   ],
   "source": [
    "import pygame\n",
    "import random\n",
    "\n",
    "STARTING_BLUE_BLOBS = 10\n",
    "STARTING_RED_BLOBS = 3\n",
    "\n",
    "WIDTH = 800\n",
    "HEIGHT = 600\n",
    "WHITE = (255, 255, 255)\n",
    "BLUE = (0, 0, 255)\n",
    "RED = (255, 0, 0)\n",
    "\n",
    "game_display = pygame.display.set_mode((WIDTH, HEIGHT))\n",
    "pygame.display.set_caption(\"Blob World\")\n",
    "clock = pygame.time.Clock()\n",
    "\n",
    "class Blob:\n",
    "\n",
    "    def __init__(self, color):\n",
    "        self.x = random.randrange(0, WIDTH)\n",
    "        self.y = random.randrange(0, HEIGHT)\n",
    "        self.size = random.randrange(4,8)\n",
    "        self.color = color\n",
    "\n",
    "    def move(self):\n",
    "        self.move_x = random.randrange(-1,2)\n",
    "        self.move_y = random.randrange(-1,2)\n",
    "        self.x += self.move_x\n",
    "        self.y += self.move_y\n",
    "\n",
    "        if self.x < 0: self.x = 0\n",
    "        elif self.x > WIDTH: self.x = WIDTH\n",
    "        \n",
    "        if self.y < 0: self.y = 0\n",
    "        elif self.y > HEIGHT: self.y = HEIGHT\n",
    "\n",
    "\n",
    "def draw_environment(blob_list):\n",
    "    game_display.fill(WHITE)\n",
    "\n",
    "    for blob_dict in blob_list:\n",
    "        for blob_id in blob_dict:\n",
    "            blob = blob_dict[blob_id]\n",
    "            pygame.draw.circle(game_display, blob.color, [blob.x, blob.y], blob.size)\n",
    "            blob.move()\n",
    "\n",
    "    pygame.display.update()\n",
    "    \n",
    "\n",
    "def main():\n",
    "    blue_blobs = dict(enumerate([Blob(BLUE) for i in range(STARTING_BLUE_BLOBS)]))\n",
    "    red_blobs = dict(enumerate([Blob(RED) for i in range(STARTING_RED_BLOBS)]))\n",
    "    while True:\n",
    "        for event in pygame.event.get():\n",
    "            if event.type == pygame.QUIT:\n",
    "                pygame.quit()\n",
    "                quit()\n",
    "        draw_environment([blue_blobs,red_blobs])\n",
    "        clock.tick(60)\n",
    "\n",
    "if __name__ == '__main__':\n",
    "    main()"
   ]
  },
  {
   "cell_type": "code",
   "execution_count": null,
   "metadata": {},
   "outputs": [],
   "source": []
  },
  {
   "cell_type": "code",
   "execution_count": null,
   "metadata": {},
   "outputs": [],
   "source": []
  },
  {
   "cell_type": "markdown",
   "metadata": {},
   "source": [
    "<h2>Decorators </h2>"
   ]
  },
  {
   "cell_type": "code",
   "execution_count": null,
   "metadata": {},
   "outputs": [],
   "source": []
  },
  {
   "cell_type": "code",
   "execution_count": 6,
   "metadata": {},
   "outputs": [
    {
     "name": "stdout",
     "output_type": "stream",
     "text": [
      "a new Tesla P100 GPU!\n"
     ]
    }
   ],
   "source": [
    "def new_gpu():\n",
    "    return 'a new Tesla P100 GPU!'\n",
    "\n",
    "print(new_gpu())"
   ]
  },
  {
   "cell_type": "code",
   "execution_count": 7,
   "metadata": {},
   "outputs": [
    {
     "name": "stdout",
     "output_type": "stream",
     "text": [
      "a wrapped up box of a new Tesla P100 GPU!\n"
     ]
    }
   ],
   "source": [
    "#wrapping  with a function\n",
    "def add_wrapping(item):\n",
    "    def wrapped_item():\n",
    "        return 'a wrapped up box of {}'.format(str(item()))\n",
    "    return wrapped_item\n",
    "\n",
    "@add_wrapping\n",
    "def new_gpu():\n",
    "    return 'a new Tesla P100 GPU!'\n",
    "\n",
    "print(new_gpu())"
   ]
  },
  {
   "cell_type": "code",
   "execution_count": null,
   "metadata": {},
   "outputs": [],
   "source": []
  },
  {
   "cell_type": "markdown",
   "metadata": {},
   "source": [
    "<h2> Special Methods </h2>"
   ]
  },
  {
   "cell_type": "code",
   "execution_count": null,
   "metadata": {},
   "outputs": [],
   "source": []
  },
  {
   "cell_type": "markdown",
   "metadata": {},
   "source": [
    "<h4>iterators usingnext </h4>\n",
    "\n"
   ]
  },
  {
   "cell_type": "markdown",
   "metadata": {},
   "source": [
    "`next()` moves the iterator"
   ]
  },
  {
   "cell_type": "code",
   "execution_count": 8,
   "metadata": {},
   "outputs": [
    {
     "name": "stdout",
     "output_type": "stream",
     "text": [
      "2\n",
      "3\n",
      "4\n"
     ]
    }
   ],
   "source": [
    "x = (i for i in range(5))\n",
    "next(x)\n",
    "next(x)\n",
    "for i in x:\n",
    "    print(i)"
   ]
  },
  {
   "cell_type": "markdown",
   "metadata": {},
   "source": [
    "`__next__` special \n",
    "method\n",
    "is oop"
   ]
  },
  {
   "cell_type": "code",
   "execution_count": 10,
   "metadata": {},
   "outputs": [
    {
     "name": "stdout",
     "output_type": "stream",
     "text": [
      "2\n",
      "3\n",
      "4\n"
     ]
    }
   ],
   "source": [
    "x = (i for i in range(5))\n",
    "x.__next__()\n",
    "x.__next__()\n",
    "for i in x:\n",
    "    print(i)"
   ]
  },
  {
   "cell_type": "markdown",
   "metadata": {},
   "source": [
    "building an itterable class \"examp\" class"
   ]
  },
  {
   "cell_type": "code",
   "execution_count": 20,
   "metadata": {},
   "outputs": [],
   "source": [
    "class range_examp:\n",
    "    \n",
    "    def __init__(self, end, step=1):\n",
    "        self.current = 0\n",
    "        self.end = end\n",
    "        self.step = step\n",
    "    def __iter__(self):\n",
    "        return self      \n",
    "    def __next__(self):\n",
    "        if self.current >= self.end:\n",
    "            raise StopIteration()\n",
    "        else:\n",
    "            return_val = self.current\n",
    "            self.current += self.step\n",
    "            return return_val\n",
    "\n"
   ]
  },
  {
   "cell_type": "code",
   "execution_count": 21,
   "metadata": {},
   "outputs": [
    {
     "name": "stdout",
     "output_type": "stream",
     "text": [
      "2\n",
      "3\n",
      "4\n"
     ]
    }
   ],
   "source": [
    "i = range_examp(5)\n",
    "\n",
    "i.__next__()\n",
    "i.__next__()\n",
    "\n",
    "for j in i:\n",
    "    print(j)"
   ]
  },
  {
   "cell_type": "code",
   "execution_count": null,
   "metadata": {},
   "outputs": [],
   "source": []
  },
  {
   "cell_type": "markdown",
   "metadata": {},
   "source": [
    "<h2> error handling </h2>"
   ]
  },
  {
   "cell_type": "code",
   "execution_count": null,
   "metadata": {},
   "outputs": [],
   "source": []
  },
  {
   "cell_type": "code",
   "execution_count": 2,
   "metadata": {},
   "outputs": [
    {
     "name": "stdout",
     "output_type": "stream",
     "text": [
      "name 'a' is not defined\n"
     ]
    }
   ],
   "source": [
    "try:\n",
    "    a+b\n",
    "except Exception as e:\n",
    "    print(str(e))"
   ]
  },
  {
   "cell_type": "markdown",
   "metadata": {},
   "source": [
    "accessing the  `sys.exc_info`"
   ]
  },
  {
   "cell_type": "code",
   "execution_count": 3,
   "metadata": {},
   "outputs": [
    {
     "name": "stdout",
     "output_type": "stream",
     "text": [
      "<class 'NameError'>\n",
      "name 'a' is not defined\n",
      "4\n",
      "Error: <class 'NameError'>. name 'a' is not defined, line: 4\n"
     ]
    }
   ],
   "source": [
    "import sys\n",
    "\n",
    "try:\n",
    "    a+b\n",
    "except:\n",
    "    print(sys.exc_info()[0])\n",
    "    print(sys.exc_info()[1])\n",
    "    print(sys.exc_info()[2].tb_lineno)\n",
    "    print('Error: {}. {}, line: {}'.format(sys.exc_info()[0],\n",
    "                                         sys.exc_info()[1],\n",
    "                                         sys.exc_info()[2].tb_lineno))"
   ]
  },
  {
   "cell_type": "code",
   "execution_count": 4,
   "metadata": {},
   "outputs": [
    {
     "name": "stderr",
     "output_type": "stream",
     "text": [
      "ERROR:root:Error: <class 'NameError'>. name 'a' is not defined, line: 9\n"
     ]
    }
   ],
   "source": [
    "#combining with logging\n",
    "import sys\n",
    "import logging\n",
    "\n",
    "def error_handling():\n",
    "    return 'Error: {}. {}, line: {}'.format(sys.exc_info()[0],\n",
    "                                         sys.exc_info()[1],\n",
    "                                         sys.exc_info()[2].tb_lineno)\n",
    "try:\n",
    "    a+b\n",
    "except:\n",
    "    logging.error(error_handling())"
   ]
  },
  {
   "cell_type": "code",
   "execution_count": null,
   "metadata": {},
   "outputs": [],
   "source": []
  },
  {
   "cell_type": "markdown",
   "metadata": {},
   "source": [
    "<h2> str() ane repr() </h2>"
   ]
  },
  {
   "cell_type": "markdown",
   "metadata": {},
   "source": [
    "str() wich is this object as string , using print() <p>\n",
    "repr() more for developers , for debugging  when having to type the obj directly into the interpreter\n"
   ]
  },
  {
   "cell_type": "code",
   "execution_count": 5,
   "metadata": {},
   "outputs": [
    {
     "name": "stdout",
     "output_type": "stream",
     "text": [
      "2020-05-08 11:21:35.045227\n"
     ]
    }
   ],
   "source": [
    "import datetime\n",
    "print(datetime.datetime.now())\n",
    "#the str method will be favored with print()"
   ]
  },
  {
   "cell_type": "markdown",
   "metadata": {},
   "source": []
  },
  {
   "cell_type": "code",
   "execution_count": 6,
   "metadata": {},
   "outputs": [
    {
     "name": "stdout",
     "output_type": "stream",
     "text": [
      "datetime.datetime(2020, 5, 8, 11, 23, 21, 729894)\n"
     ]
    }
   ],
   "source": [
    "print(repr(datetime.datetime.now()))"
   ]
  },
  {
   "cell_type": "code",
   "execution_count": null,
   "metadata": {},
   "outputs": [],
   "source": []
  },
  {
   "cell_type": "code",
   "execution_count": null,
   "metadata": {},
   "outputs": [],
   "source": []
  },
  {
   "cell_type": "markdown",
   "metadata": {},
   "source": [
    "<h2> *args and  **kwargs </h2>\n"
   ]
  },
  {
   "cell_type": "code",
   "execution_count": null,
   "metadata": {},
   "outputs": [],
   "source": []
  },
  {
   "cell_type": "code",
   "execution_count": 1,
   "metadata": {},
   "outputs": [],
   "source": [
    "blog_1 =\"this is blog 1\"\n",
    "blog_2 = \"2 is blog #\"\n",
    "blog_3 = \"###\""
   ]
  },
  {
   "cell_type": "code",
   "execution_count": 2,
   "metadata": {},
   "outputs": [
    {
     "name": "stdout",
     "output_type": "stream",
     "text": [
      "this is blog 1\n",
      "2 is blog #\n",
      "###\n"
     ]
    }
   ],
   "source": [
    "def blog_posts(*args):\n",
    "    for post in args:\n",
    "        print(post)\n",
    "blog_posts(blog_1, blog_2, blog_3)"
   ]
  },
  {
   "cell_type": "code",
   "execution_count": null,
   "metadata": {},
   "outputs": [],
   "source": []
  },
  {
   "cell_type": "code",
   "execution_count": 5,
   "metadata": {},
   "outputs": [
    {
     "name": "stdout",
     "output_type": "stream",
     "text": [
      "blog_1: 1st\n",
      "blog_2: 2nd\n",
      "blog_3: 3rd blog\n"
     ]
    }
   ],
   "source": [
    "def blog_posts_kw(**kwargs):\n",
    "    for title , post in kwargs.items():\n",
    "        print ( title +\": \"+ post)\n",
    "blog_posts_kw(blog_1=\"1st\", blog_2=\"2nd\", blog_3='3rd blog')"
   ]
  },
  {
   "cell_type": "markdown",
   "metadata": {},
   "source": [
    "it is possible to pass arguments with *args even when the function was not built to accept an anlimited number of arguments"
   ]
  },
  {
   "cell_type": "code",
   "execution_count": 6,
   "metadata": {},
   "outputs": [],
   "source": [
    "def power(x,y):\n",
    "    return (x**y)"
   ]
  },
  {
   "cell_type": "code",
   "execution_count": 7,
   "metadata": {},
   "outputs": [
    {
     "data": {
      "text/plain": [
       "243"
      ]
     },
     "execution_count": 7,
     "metadata": {},
     "output_type": "execute_result"
    }
   ],
   "source": [
    "x=3\n",
    "y=5\n",
    "numbers = [x,y]\n",
    "power(*numbers)"
   ]
  },
  {
   "cell_type": "code",
   "execution_count": null,
   "metadata": {},
   "outputs": [],
   "source": []
  },
  {
   "cell_type": "code",
   "execution_count": null,
   "metadata": {},
   "outputs": [],
   "source": []
  },
  {
   "cell_type": "code",
   "execution_count": null,
   "metadata": {},
   "outputs": [],
   "source": []
  },
  {
   "cell_type": "code",
   "execution_count": null,
   "metadata": {},
   "outputs": [],
   "source": []
  },
  {
   "cell_type": "code",
   "execution_count": null,
   "metadata": {},
   "outputs": [],
   "source": []
  },
  {
   "cell_type": "code",
   "execution_count": null,
   "metadata": {},
   "outputs": [],
   "source": []
  },
  {
   "cell_type": "code",
   "execution_count": null,
   "metadata": {},
   "outputs": [],
   "source": []
  },
  {
   "cell_type": "code",
   "execution_count": null,
   "metadata": {},
   "outputs": [],
   "source": []
  },
  {
   "cell_type": "code",
   "execution_count": null,
   "metadata": {},
   "outputs": [],
   "source": []
  },
  {
   "cell_type": "code",
   "execution_count": null,
   "metadata": {},
   "outputs": [],
   "source": []
  }
 ],
 "metadata": {
  "kernelspec": {
   "display_name": "Python 3",
   "language": "python",
   "name": "python3"
  },
  "language_info": {
   "codemirror_mode": {
    "name": "ipython",
    "version": 3
   },
   "file_extension": ".py",
   "mimetype": "text/x-python",
   "name": "python",
   "nbconvert_exporter": "python",
   "pygments_lexer": "ipython3",
   "version": "3.7.3"
  }
 },
 "nbformat": 4,
 "nbformat_minor": 2
}
