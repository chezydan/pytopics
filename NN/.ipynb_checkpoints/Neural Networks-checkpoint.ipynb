{
 "cells": [
  {
   "cell_type": "code",
   "execution_count": null,
   "metadata": {},
   "outputs": [],
   "source": []
  },
  {
   "cell_type": "markdown",
   "metadata": {},
   "source": [
    "<h2> neuron structure </h2>\n",
    "<ul>\n",
    "    <li><b>inputs</b></li>\n",
    "<li><b>weights</b> - len=len(inputs)</li>\n",
    "<li><b>bias   </b> - one per unique neuron</li>\n",
    "    </ul>\n",
    "<b> > output </b>"
   ]
  },
  {
   "cell_type": "code",
   "execution_count": 51,
   "metadata": {},
   "outputs": [],
   "source": [
    "inputs = [1.2, 5.1, 2.1]\n",
    "weights= [3.1, 2.1, 8.7]\n",
    "bias = 3"
   ]
  },
  {
   "cell_type": "code",
   "execution_count": 49,
   "metadata": {},
   "outputs": [
    {
     "name": "stdout",
     "output_type": "stream",
     "text": [
      "output: 35.70\n"
     ]
    }
   ],
   "source": [
    "output = inputs[0]*weights[0]+inputs[1]*weights[1]+inputs[2]*weights[2]+bias\n",
    "print(\"output: {:.2f}\".format(output) )"
   ]
  },
  {
   "cell_type": "code",
   "execution_count": 57,
   "metadata": {},
   "outputs": [],
   "source": [
    "def print_output(inputs,weights, bias):\n",
    "    output = sum( [ i*w for i,w in zip(inputs, weights) ] )+bias\n",
    "    print(\"output: {:.2f}\".format(output) )\n",
    "    \n",
    "def output(inputs,weights, bias):\n",
    "    output = sum( [ i*w for i,w in zip(inputs, weights) ] )+bias\n",
    "    #print(output)\n",
    "    return output"
   ]
  },
  {
   "cell_type": "code",
   "execution_count": 56,
   "metadata": {},
   "outputs": [
    {
     "data": {
      "text/plain": [
       "35.7"
      ]
     },
     "execution_count": 56,
     "metadata": {},
     "output_type": "execute_result"
    }
   ],
   "source": [
    "output(inputs,weights, bias)"
   ]
  },
  {
   "cell_type": "markdown",
   "metadata": {},
   "source": [
    "<h2> expanding to a layer </h2>"
   ]
  },
  {
   "cell_type": "code",
   "execution_count": 62,
   "metadata": {
    "scrolled": true
   },
   "outputs": [
    {
     "name": "stdout",
     "output_type": "stream",
     "text": [
      "modeling 3 neurons , a layer\n"
     ]
    }
   ],
   "source": [
    "#another neuron with 3 inputs\n",
    "print(\"modeling 3 neurons , a layer\")\n",
    "inputs = [1, 2, 3, 2.5]\n",
    "\n",
    "weights1= [0.2 , 0.8 , -0.5 , 1 ]\n",
    "weights2= [0.5 , -0.91 , 0.26 , -0.5 ]\n",
    "weights3= [0.-26 , -0.27 , 0.17 , 0.87 ]\n",
    "\n",
    "bias1 = 2\n",
    "bias2 = 3\n",
    "bias3= 0.5\n",
    "\n",
    "weights = [weights1, weights2, weights3]\n",
    "biases = [bias1, bias2, bias3]\n",
    "#print_output(inputs,weights, bias)\n"
   ]
  },
  {
   "cell_type": "code",
   "execution_count": 63,
   "metadata": {},
   "outputs": [],
   "source": [
    "def outputs_layer (inputs, weights ,  biases):\n",
    "    outputs=[]\n",
    "   \n",
    "    for weight,bias in zip( weights,biases):\n",
    "        outputs.append(output(inputs ,weight,bias  ))\n",
    "    return outputs"
   ]
  },
  {
   "cell_type": "code",
   "execution_count": 64,
   "metadata": {},
   "outputs": [
    {
     "name": "stdout",
     "output_type": "stream",
     "text": [
      "[[0.2, 0.8, -0.5, 1], [0.5, -0.91, 0.26, -0.5], [-26.0, -0.27, 0.17, 0.87]]\n"
     ]
    },
    {
     "data": {
      "text/plain": [
       "[4.8, 1.21, -23.354999999999997]"
      ]
     },
     "execution_count": 64,
     "metadata": {},
     "output_type": "execute_result"
    }
   ],
   "source": [
    "outputs_layer(inputs,weights, biases)\n"
   ]
  },
  {
   "cell_type": "code",
   "execution_count": null,
   "metadata": {},
   "outputs": [],
   "source": []
  },
  {
   "cell_type": "code",
   "execution_count": null,
   "metadata": {},
   "outputs": [],
   "source": []
  },
  {
   "cell_type": "markdown",
   "metadata": {},
   "source": [
    "<h3> Shapes and numpy introduction </h3>"
   ]
  },
  {
   "cell_type": "code",
   "execution_count": 1,
   "metadata": {},
   "outputs": [
    {
     "name": "stdout",
     "output_type": "stream",
     "text": [
      "biases is a vector, inputs is avector\n",
      "weights is a matrix of vectors\n"
     ]
    }
   ],
   "source": [
    "print(\"biases is a vector, inputs is avector\")\n",
    "print(\"weights is a matrix of vectors\")"
   ]
  },
  {
   "cell_type": "code",
   "execution_count": 2,
   "metadata": {},
   "outputs": [
    {
     "name": "stdout",
     "output_type": "stream",
     "text": [
      "the result of dot product is a scalar\n"
     ]
    },
    {
     "data": {
      "text/plain": [
       "26"
      ]
     },
     "execution_count": 2,
     "metadata": {},
     "output_type": "execute_result"
    }
   ],
   "source": [
    "from numpy import *\n",
    "#dot product\n",
    "a=array([1,2,3])\n",
    "b=array([3,4,5])\n",
    "print('the result of dot product is a scalar')\n",
    "a.dot(b)"
   ]
  },
  {
   "cell_type": "code",
   "execution_count": 11,
   "metadata": {},
   "outputs": [
    {
     "name": "stdout",
     "output_type": "stream",
     "text": [
      "4.8\n"
     ]
    }
   ],
   "source": [
    "inputs = [1.0, 2.0, 3.0, 2.5]\n",
    "\n",
    "weights = [0.2, 0.8, -0.5, 1.0]\n",
    "\n",
    "bias =2\n",
    "output = dot(inputs, weights)+ bias\n",
    "print(output)"
   ]
  },
  {
   "cell_type": "code",
   "execution_count": null,
   "metadata": {},
   "outputs": [],
   "source": [
    "inputs = [1.0, 2.0, 3.0, 2.5]\n",
    "\n",
    "weights = [[0.2, 0.8, -0.5, 1.0],\n",
    "           [0.5, -0.91, 0.26, -0.5],\n",
    "           [-0.26, -0.27, 0.17, 0.87]]\n",
    "\n",
    "biases = [2.0, 3.0, 0.5]\n"
   ]
  },
  {
   "cell_type": "markdown",
   "metadata": {},
   "source": [
    "<h3>dot product of a layer </h3>\n",
    "weights have to be first in the operation"
   ]
  },
  {
   "cell_type": "code",
   "execution_count": 3,
   "metadata": {},
   "outputs": [
    {
     "name": "stdout",
     "output_type": "stream",
     "text": [
      "weights is a matrix of vectors\n",
      "weights_shape:(3, 4)\n",
      "inputs_shape:(4,)\n",
      "biases_shape:(3,)\n",
      "[4.8   1.21  2.385]\n"
     ]
    }
   ],
   "source": [
    "inputs = [1.0, 2.0, 3.0, 2.5]\n",
    "\n",
    "weights = [[0.2, 0.8, -0.5, 1.0],\n",
    "           [0.5, -0.91, 0.26, -0.5],\n",
    "           [-0.26, -0.27, 0.17, 0.87]]\n",
    "\n",
    "biases = [2.0, 3.0, 0.5]\n",
    "\n",
    "print(\"weights is a matrix of vectors\")\n",
    "print(\"weights_shape:{:}\".format(shape(weights)))\n",
    "print(\"inputs_shape:{:}\".format(shape(inputs)))\n",
    "print(\"biases_shape:{:}\".format(shape(biases)))\n",
    "\n",
    "output =  dot(weights, inputs) + biases\n",
    "print(output)"
   ]
  },
  {
   "cell_type": "code",
   "execution_count": null,
   "metadata": {},
   "outputs": [],
   "source": []
  },
  {
   "cell_type": "markdown",
   "metadata": {},
   "source": [
    "<h3> batch of inputs </h3>"
   ]
  },
  {
   "cell_type": "markdown",
   "metadata": {},
   "source": [
    "adding more samples   - neurons<p>\n",
    "now both <b> weights and inputs</b> will be matrices"
   ]
  },
  {
   "cell_type": "code",
   "execution_count": 1,
   "metadata": {},
   "outputs": [
    {
     "name": "stdout",
     "output_type": "stream",
     "text": [
      "[[ 4.8    1.21   2.385]\n",
      " [ 8.9   -1.81   0.2  ]\n",
      " [ 1.41   1.051  0.026]]\n"
     ]
    }
   ],
   "source": [
    "import numpy as np\n",
    "inputs = [[1.0, 2.0, 3.0, 2.5],\n",
    "          [2.0,5.0,-1.0, 2.0],\n",
    "          [-1.5,2.7, 3.3, -0.8]]\n",
    "weights = [[0.2, 0.8, -0.5, 1.0],\n",
    "           [0.5, -0.91, 0.26, -0.5],\n",
    "           [-0.26, -0.27, 0.17, 0.87]]\n",
    "biases = [2.0, 3.0, 0.5]\n",
    "\n",
    "#we have to transpose weights' s  rows and columns, via converting to numpy array\n",
    "output =  np.dot( inputs, np.array(weights).T) + biases\n",
    "print(output)"
   ]
  },
  {
   "cell_type": "markdown",
   "metadata": {},
   "source": [
    "<h4>add another layer , first simple same values not object </h4>"
   ]
  },
  {
   "cell_type": "code",
   "execution_count": 2,
   "metadata": {},
   "outputs": [
    {
     "name": "stdout",
     "output_type": "stream",
     "text": [
      "[[ 0.5031  -1.04185 -2.03875]\n",
      " [ 0.2434  -2.7332  -5.7633 ]\n",
      " [-0.99314  1.41254 -0.35655]]\n"
     ]
    }
   ],
   "source": [
    "import numpy as np\n",
    "inputs = [[1.0, 2.0, 3.0, 2.5],\n",
    "          [2.0,5.0,-1.0, 2.0],\n",
    "          [-1.5,2.7, 3.3, -0.8]]\n",
    "weights = [[0.2, 0.8, -0.5, 1.0],\n",
    "           [0.5, -0.91, 0.26, -0.5],\n",
    "           [-0.26, -0.27, 0.17, 0.87]]\n",
    "biases = [2.0, 3.0, 0.5]\n",
    "\n",
    "weights2 = [[0.1,-0.14, 0.5],\n",
    "           [-0.5, 0.12, -0.33],\n",
    "           [-0.44, 0.73,-0.13] ]\n",
    "biases2 = [-1, 2 , -0.5 ]\n",
    "\n",
    "layer1_outputs  = np.dot(inputs, np.array(weights).T) + biases\n",
    "layer2_outputs  = np.dot(layer1_outputs, np.array(weights2).T)+ biases2\n",
    "\n",
    "print(layer2_outputs)"
   ]
  },
  {
   "cell_type": "markdown",
   "metadata": {},
   "source": [
    "<h3> as objects </h3>"
   ]
  },
  {
   "cell_type": "markdown",
   "metadata": {},
   "source": [
    "<p>X = input data to the neural network\n",
    "    <p> hidden layers"
   ]
  },
  {
   "cell_type": "code",
   "execution_count": 24,
   "metadata": {},
   "outputs": [],
   "source": [
    "X = [[1.0, 2.0, 3.0, 2.5],\n",
    "          [2.0,5.0,-1.0, 2.0],\n",
    "          [-1.5,2.7, 3.3, -0.8]]"
   ]
  },
  {
   "cell_type": "code",
   "execution_count": 6,
   "metadata": {},
   "outputs": [
    {
     "data": {
      "text/plain": [
       "array([[-0.14722593, -0.14196407, -0.13409994],\n",
       "       [ 0.08990476, -0.06666504, -0.16313144],\n",
       "       [-0.00431893,  0.022263  ,  0.07600336],\n",
       "       [ 0.10578044, -0.0405694 , -0.02374654]])"
      ]
     },
     "execution_count": 6,
     "metadata": {},
     "output_type": "execute_result"
    }
   ],
   "source": [
    "#randn gaussian\n",
    "np.random.randn(4,3)\n",
    "0.10* np.random.randn(4,3) # scaled down\n"
   ]
  },
  {
   "cell_type": "code",
   "execution_count": 33,
   "metadata": {},
   "outputs": [],
   "source": [
    "np.random.seed(0)\n",
    "class Layer_Dense:\n",
    "    def __init__(self, n_inputs, n_neurons):  #needed: size of input, size of neurons\n",
    "        self.weights = 0.1*np.random.randn(n_inputs, n_neurons )\n",
    "        self.biases = np.zeros( (1, n_neurons) ) # the first parameter is the shape\n",
    "                                       \n",
    "    def forward(self ,inputs):\n",
    "        self.output = np.dot(inputs, self.weights)  +self.biases\n",
    "    "
   ]
  },
  {
   "cell_type": "code",
   "execution_count": 38,
   "metadata": {},
   "outputs": [
    {
     "name": "stdout",
     "output_type": "stream",
     "text": [
      "[[-0.05415085  0.10895167  0.14530208  0.37564839 -0.45198362]\n",
      " [ 0.2127461  -0.37606369  1.01005301  0.67744284 -0.09021035]\n",
      " [-0.40505212  0.17924363  0.2486996  -0.03861475  0.09181559]]\n",
      "[[0.06970565 0.08108632]\n",
      " [0.15274871 0.16069954]\n",
      " [0.1141027  0.00852265]]\n"
     ]
    }
   ],
   "source": [
    "layer1 = Layer_Dense(4, 5)    #num_features, num_neurons\n",
    "layer2 = Layer_Dense(5, 2)#output of L1 matches input of L2\n",
    "#print(layer1.weights)\n",
    "layer1.forward(X)\n",
    "print(layer1.output)\n",
    "layer2.forward(layer1.output)\n",
    "print(layer2.output)"
   ]
  },
  {
   "cell_type": "code",
   "execution_count": 27,
   "metadata": {},
   "outputs": [
    {
     "data": {
      "text/plain": [
       "[[1.0, 2.0, 3.0, 2.5], [2.0, 5.0, -1.0, 2.0], [-1.5, 2.7, 3.3, -0.8]]"
      ]
     },
     "execution_count": 27,
     "metadata": {},
     "output_type": "execute_result"
    }
   ],
   "source": []
  },
  {
   "cell_type": "code",
   "execution_count": null,
   "metadata": {},
   "outputs": [],
   "source": []
  },
  {
   "cell_type": "code",
   "execution_count": null,
   "metadata": {},
   "outputs": [],
   "source": []
  },
  {
   "cell_type": "code",
   "execution_count": null,
   "metadata": {},
   "outputs": [],
   "source": []
  },
  {
   "cell_type": "code",
   "execution_count": null,
   "metadata": {},
   "outputs": [],
   "source": []
  },
  {
   "cell_type": "code",
   "execution_count": null,
   "metadata": {},
   "outputs": [],
   "source": []
  }
 ],
 "metadata": {
  "kernelspec": {
   "display_name": "Python 3",
   "language": "python",
   "name": "python3"
  },
  "language_info": {
   "codemirror_mode": {
    "name": "ipython",
    "version": 3
   },
   "file_extension": ".py",
   "mimetype": "text/x-python",
   "name": "python",
   "nbconvert_exporter": "python",
   "pygments_lexer": "ipython3",
   "version": "3.7.3"
  }
 },
 "nbformat": 4,
 "nbformat_minor": 2
}
