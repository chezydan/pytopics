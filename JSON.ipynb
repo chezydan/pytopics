{
 "cells": [
  {
   "cell_type": "markdown",
   "metadata": {},
   "source": [
    "<h1> JSON </h1>"
   ]
  },
  {
   "cell_type": "markdown",
   "metadata": {},
   "source": [
    "JSON uses `true` instead of `True` (false not False) <br>\n",
    "JSON uses `null` instead of `None`<br>\n",
    "Looks like a dict.<br>\n",
    "all the keys are strings"
   ]
  },
  {
   "cell_type": "code",
   "execution_count": 1,
   "metadata": {},
   "outputs": [],
   "source": [
    "import json"
   ]
  },
  {
   "cell_type": "code",
   "execution_count": 4,
   "metadata": {},
   "outputs": [
    {
     "data": {
      "text/plain": [
       "_io.TextIOWrapper"
      ]
     },
     "execution_count": 4,
     "metadata": {},
     "output_type": "execute_result"
    }
   ],
   "source": [
    "jsonfile=open('newjson', 'r',encoding='utf-8')\n",
    "\n",
    "diction= json.load(jsonfile)\n",
    "jsonfile.close()\n",
    "type(jsonfile)"
   ]
  },
  {
   "cell_type": "markdown",
   "metadata": {},
   "source": [
    "`diction` is the loaded json"
   ]
  },
  {
   "cell_type": "code",
   "execution_count": 4,
   "metadata": {
    "scrolled": true
   },
   "outputs": [
    {
     "name": "stdout",
     "output_type": "stream",
     "text": [
      "<class 'dict'>\n"
     ]
    },
    {
     "data": {
      "text/plain": [
       "{'accession_number': '2000.12.13',\n",
       " 'artist': 'Martha Hale Harvey',\n",
       " 'continent': 'North America',\n",
       " 'country': 'United States',\n",
       " 'creditline': 'The McClurg Photography Purchase Fund',\n",
       " 'culture': None,\n",
       " 'dated': '1899',\n",
       " 'department': 'Photography & New Media',\n",
       " 'description': 'boat with 2 masts in front of a bridge with a lift gate; 2 rowboats in water at L; buildings at L; trees at R',\n",
       " 'dimension': '9 1/4 x 11 1/2 in. (23.5 x 29.21 cm) (image, sheet) 11 3/4 x 13 1/2 in. (29.85 x 34.29 cm) (mount)',\n",
       " 'id': 'http://api.artsmia.org/objects/148',\n",
       " 'image': 'valid',\n",
       " 'image_copyright': '',\n",
       " 'image_height': 3544,\n",
       " 'image_width': 4388,\n",
       " 'life_date': 'American, 1862-1949',\n",
       " 'marks': 'Inscription; Signature ',\n",
       " 'medium': 'platinum print',\n",
       " 'nationality': 'American',\n",
       " 'provenance': '',\n",
       " 'restricted': 0,\n",
       " 'rights_type': 'Public Domain',\n",
       " 'role': 'Artist',\n",
       " 'room': 'Not on View',\n",
       " 'style': '19th century',\n",
       " 'text': '',\n",
       " 'title': 'Annisquam, Massachusetts'}"
      ]
     },
     "execution_count": 4,
     "metadata": {},
     "output_type": "execute_result"
    }
   ],
   "source": [
    "\n",
    "print(type(diction)) #produced with loads()\n",
    "diction"
   ]
  },
  {
   "cell_type": "markdown",
   "metadata": {},
   "source": [
    "\n",
    "`json.dums` "
   ]
  },
  {
   "cell_type": "code",
   "execution_count": 5,
   "metadata": {},
   "outputs": [
    {
     "name": "stdout",
     "output_type": "stream",
     "text": [
      "<class 'str'>\n",
      "{\"accession_number\": \"2000.12.13\", \"artist\": \"Martha Hale Harvey\", \"continent\": \"North America\", \"country\": \"United States\", \"creditline\": \"The McClurg Photography Purchase Fund\", \"culture\": null, \"dated\": \"1899\", \"department\": \"Photography & New Media\", \"description\": \"boat with 2 masts in front of a bridge with a lift gate; 2 rowboats in water at L; buildings at L; trees at R\", \"dimension\": \"9 1/4 x 11 1/2 in. (23.5 x 29.21 cm) (image, sheet) 11 3/4 x 13 1/2 in. (29.85 x 34.29 cm) (mount)\", \"id\": \"http://api.artsmia.org/objects/148\", \"image\": \"valid\", \"image_copyright\": \"\", \"image_height\": 3544, \"image_width\": 4388, \"life_date\": \"American, 1862-1949\", \"marks\": \"Inscription; Signature \", \"medium\": \"platinum print\", \"nationality\": \"American\", \"provenance\": \"\", \"restricted\": 0, \"rights_type\": \"Public Domain\", \"role\": \"Artist\", \"room\": \"Not on View\", \"style\": \"19th century\", \"text\": \"\", \"title\": \"Annisquam, Massachusetts\"}\n"
     ]
    }
   ],
   "source": [
    "jsobst= json.dumps(diction)\n",
    "print(type(jsobst))\n",
    "print(jsobst)\n"
   ]
  },
  {
   "cell_type": "code",
   "execution_count": 2,
   "metadata": {},
   "outputs": [
    {
     "ename": "NameError",
     "evalue": "name 'diction' is not defined",
     "output_type": "error",
     "traceback": [
      "\u001b[0;31m---------------------------------------------------------------------------\u001b[0m",
      "\u001b[0;31mNameError\u001b[0m                                 Traceback (most recent call last)",
      "\u001b[0;32m<ipython-input-2-28f772b3ca7c>\u001b[0m in \u001b[0;36m<module>\u001b[0;34m\u001b[0m\n\u001b[0;32m----> 1\u001b[0;31m \u001b[0mdiction\u001b[0m\u001b[0;34m[\u001b[0m\u001b[0;34m'accession_number'\u001b[0m\u001b[0;34m]\u001b[0m\u001b[0;34m\u001b[0m\u001b[0;34m\u001b[0m\u001b[0m\n\u001b[0m",
      "\u001b[0;31mNameError\u001b[0m: name 'diction' is not defined"
     ]
    }
   ],
   "source": [
    "diction['accession_number']"
   ]
  },
  {
   "cell_type": "code",
   "execution_count": null,
   "metadata": {},
   "outputs": [],
   "source": []
  },
  {
   "cell_type": "markdown",
   "metadata": {},
   "source": [
    "<h3>From strings to dict </h3> `json.loads()`"
   ]
  },
  {
   "cell_type": "code",
   "execution_count": 15,
   "metadata": {},
   "outputs": [],
   "source": [
    "value = \"\"\"{ \"title\":\"Tron: Legacy\", \"composer\": \"Draft Punk\" }\"\"\""
   ]
  },
  {
   "cell_type": "code",
   "execution_count": 16,
   "metadata": {},
   "outputs": [],
   "source": [
    "tron = json.loads(value)"
   ]
  },
  {
   "cell_type": "code",
   "execution_count": null,
   "metadata": {},
   "outputs": [],
   "source": []
  },
  {
   "cell_type": "markdown",
   "metadata": {},
   "source": [
    "`tron` is a loaded string into a dictionary (with `.loads()`)"
   ]
  },
  {
   "cell_type": "code",
   "execution_count": 17,
   "metadata": {},
   "outputs": [
    {
     "data": {
      "text/plain": [
       "{'title': 'Tron: Legacy', 'composer': 'Draft Punk'}"
      ]
     },
     "execution_count": 17,
     "metadata": {},
     "output_type": "execute_result"
    }
   ],
   "source": [
    "tron"
   ]
  },
  {
   "cell_type": "code",
   "execution_count": 18,
   "metadata": {},
   "outputs": [
    {
     "data": {
      "text/plain": [
       "'Draft Punk'"
      ]
     },
     "execution_count": 18,
     "metadata": {},
     "output_type": "execute_result"
    }
   ],
   "source": [
    "tron[\"composer\"]"
   ]
  },
  {
   "cell_type": "markdown",
   "metadata": {},
   "source": [
    "<h3>From dict to string </h3> `json.dumps()`"
   ]
  },
  {
   "cell_type": "code",
   "execution_count": 13,
   "metadata": {},
   "outputs": [
    {
     "name": "stdout",
     "output_type": "stream",
     "text": [
      "{\"title\": \"Tron: Legacy\", \"composer\": \"Draft Punk\"}\n",
      "<class 'str'>\n"
     ]
    }
   ],
   "source": [
    "newString=json.dumps(tron)\n",
    "print(newString)\n",
    "print(type(newString))"
   ]
  },
  {
   "cell_type": "code",
   "execution_count": null,
   "metadata": {},
   "outputs": [],
   "source": []
  },
  {
   "cell_type": "markdown",
   "metadata": {},
   "source": [
    "<h3>From dict to json </h3> `json.dump()`"
   ]
  },
  {
   "cell_type": "code",
   "execution_count": 14,
   "metadata": {},
   "outputs": [
    {
     "ename": "TypeError",
     "evalue": "dump() missing 1 required positional argument: 'fp'",
     "output_type": "error",
     "traceback": [
      "\u001b[0;31m---------------------------------------------------------------------------\u001b[0m",
      "\u001b[0;31mTypeError\u001b[0m                                 Traceback (most recent call last)",
      "\u001b[0;32m<ipython-input-14-01f932680ada>\u001b[0m in \u001b[0;36m<module>\u001b[0;34m()\u001b[0m\n\u001b[0;32m----> 1\u001b[0;31m \u001b[0mnewJson\u001b[0m\u001b[0;34m=\u001b[0m \u001b[0mjson\u001b[0m\u001b[0;34m.\u001b[0m\u001b[0mdump\u001b[0m\u001b[0;34m(\u001b[0m\u001b[0mtron\u001b[0m\u001b[0;34m)\u001b[0m\u001b[0;34m\u001b[0m\u001b[0m\n\u001b[0m\u001b[1;32m      2\u001b[0m \u001b[0mprint\u001b[0m\u001b[0;34m(\u001b[0m\u001b[0mnewJson\u001b[0m\u001b[0;34m)\u001b[0m\u001b[0;34m\u001b[0m\u001b[0m\n\u001b[1;32m      3\u001b[0m \u001b[0mprint\u001b[0m\u001b[0;34m(\u001b[0m\u001b[0mtype\u001b[0m\u001b[0;34m(\u001b[0m\u001b[0mnewJson\u001b[0m\u001b[0;34m)\u001b[0m\u001b[0;34m)\u001b[0m\u001b[0;34m\u001b[0m\u001b[0m\n",
      "\u001b[0;31mTypeError\u001b[0m: dump() missing 1 required positional argument: 'fp'"
     ]
    }
   ],
   "source": [
    "newJson= json.dump(tron)\n",
    "print(newJson)\n",
    "print(type(newJson))\n",
    "# to be continued"
   ]
  },
  {
   "cell_type": "code",
   "execution_count": null,
   "metadata": {},
   "outputs": [],
   "source": []
  },
  {
   "cell_type": "code",
   "execution_count": null,
   "metadata": {},
   "outputs": [],
   "source": []
  },
  {
   "cell_type": "code",
   "execution_count": null,
   "metadata": {},
   "outputs": [],
   "source": []
  },
  {
   "cell_type": "markdown",
   "metadata": {},
   "source": [
    "<h3> Example </h3>"
   ]
  },
  {
   "cell_type": "markdown",
   "metadata": {},
   "source": [
    "<h4> a dictionary </h4>\n"
   ]
  },
  {
   "cell_type": "code",
   "execution_count": 19,
   "metadata": {},
   "outputs": [
    {
     "name": "stdout",
     "output_type": "stream",
     "text": [
      "type of 'languages': <class 'dict'>\n"
     ]
    }
   ],
   "source": [
    "languages={'python': 'interpreter', 'C':'compiler', 'Java': 'compiler', 'javascript': 'interpreter'}\n",
    "print(\"type of 'languages': {:}\".format(type(languages)))\n"
   ]
  },
  {
   "cell_type": "code",
   "execution_count": 20,
   "metadata": {},
   "outputs": [
    {
     "name": "stdout",
     "output_type": "stream",
     "text": [
      "apply dumps() to string or json\n",
      "type of 'jsonlanguages': <class 'str'>\n"
     ]
    }
   ],
   "source": [
    "print(\"apply dumps() to string or json\")\n",
    "jsonlanguages= json.dumps(languages)\n",
    "print(\"type of 'jsonlanguages': {:}\".format(type(jsonlanguages)))"
   ]
  },
  {
   "cell_type": "markdown",
   "metadata": {},
   "source": [
    "`json.dump()`"
   ]
  },
  {
   "cell_type": "code",
   "execution_count": 21,
   "metadata": {},
   "outputs": [],
   "source": [
    "# write to a file\n",
    "with open(\"languages.json\",\"w\") as f:\n",
    "  json.dump(languages, f)\n"
   ]
  },
  {
   "cell_type": "code",
   "execution_count": 22,
   "metadata": {},
   "outputs": [
    {
     "data": {
      "text/plain": [
       "str"
      ]
     },
     "execution_count": 22,
     "metadata": {},
     "output_type": "execute_result"
    }
   ],
   "source": [
    "#simply opening the file\n",
    "with open(\"languages.json\",\"r\") as f:\n",
    "    langs= f.read()\n",
    "type(langs)\n",
    "    "
   ]
  },
  {
   "cell_type": "markdown",
   "metadata": {},
   "source": [
    "`json.load()`"
   ]
  },
  {
   "cell_type": "code",
   "execution_count": 23,
   "metadata": {},
   "outputs": [
    {
     "name": "stdout",
     "output_type": "stream",
     "text": [
      "<class 'dict'>\n"
     ]
    }
   ],
   "source": [
    "# 'load()' with the file\n",
    "with open(\"languages.json\", 'r') as f:\n",
    "    langnewdict= json.load(f)\n",
    "print(type(langnewdict))"
   ]
  },
  {
   "cell_type": "code",
   "execution_count": null,
   "metadata": {},
   "outputs": [],
   "source": []
  },
  {
   "cell_type": "markdown",
   "metadata": {},
   "source": [
    "<p> <span style=\"color:purple\" > create 3 dicts with _id, title, year, imbd being the data on the lists and pass them to json string via `dumps` </span>"
   ]
  },
  {
   "cell_type": "code",
   "execution_count": 10,
   "metadata": {},
   "outputs": [],
   "source": [
    "trek = ['001', 'Star Trek II: The wrath of Khan', 1982, 'tt0084726']\n",
    "rocky= ['002', 'Rocky', 1976, 'tt0075148']\n",
    "creed=['003', 'Creed', 2015, 'tt3076658']"
   ]
  },
  {
   "cell_type": "code",
   "execution_count": 28,
   "metadata": {},
   "outputs": [
    {
     "data": {
      "text/plain": [
       "{'id_': '001',\n",
       " 'title': 'Star Trek II: The wrath of Khan',\n",
       " 'year': 1982,\n",
       " 'imbd': 'tt0084726'}"
      ]
     },
     "execution_count": 28,
     "metadata": {},
     "output_type": "execute_result"
    }
   ],
   "source": []
  },
  {
   "cell_type": "code",
   "execution_count": 15,
   "metadata": {},
   "outputs": [],
   "source": [
    "trek = {'_id': '001', 'title':'Star Trek II: The wrath of Khan', 'year':1982 ,'imdb':'tt0084726'}\n",
    "rocky = {'_id': '002', 'title':'Rocky', 'year': 1976,'imdb':'tt0075148'}\n",
    "creed = {'_id': '003', 'title':'Creed', 'year': 2015,'imdb':'tt3076658'}\n",
    "Trek = json.dumps(trek)\n",
    "Rocky = json.dumps(rocky)\n",
    "Creed = json.dumps(creed)\n"
   ]
  },
  {
   "cell_type": "code",
   "execution_count": 24,
   "metadata": {},
   "outputs": [
    {
     "data": {
      "text/plain": [
       "{'db': [{'_id': '001',\n",
       "   'title': 'Star Trek II: The wrath of Khan',\n",
       "   'year': 1982,\n",
       "   'imdb': 'tt0084726'},\n",
       "  {'_id': '002', 'title': 'Rocky', 'year': 1976, 'imdb': 'tt0075148'},\n",
       "  {'_id': '003', 'title': 'Creed', 'year': 2015, 'imdb': 'tt3076658'}]}"
      ]
     },
     "execution_count": 24,
     "metadata": {},
     "output_type": "execute_result"
    }
   ],
   "source": [
    "dicdb={'db':[trek,rocky, creed] }\n",
    "dicdb"
   ]
  },
  {
   "cell_type": "code",
   "execution_count": null,
   "metadata": {},
   "outputs": [],
   "source": []
  },
  {
   "cell_type": "code",
   "execution_count": null,
   "metadata": {},
   "outputs": [],
   "source": []
  },
  {
   "cell_type": "code",
   "execution_count": null,
   "metadata": {},
   "outputs": [],
   "source": []
  },
  {
   "cell_type": "code",
   "execution_count": null,
   "metadata": {},
   "outputs": [],
   "source": []
  },
  {
   "cell_type": "code",
   "execution_count": null,
   "metadata": {},
   "outputs": [],
   "source": []
  }
 ],
 "metadata": {
  "kernelspec": {
   "display_name": "Python 3",
   "language": "python",
   "name": "python3"
  },
  "language_info": {
   "codemirror_mode": {
    "name": "ipython",
    "version": 3
   },
   "file_extension": ".py",
   "mimetype": "text/x-python",
   "name": "python",
   "nbconvert_exporter": "python",
   "pygments_lexer": "ipython3",
   "version": "3.7.3"
  }
 },
 "nbformat": 4,
 "nbformat_minor": 2
}
