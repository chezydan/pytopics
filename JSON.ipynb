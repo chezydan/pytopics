{
 "cells": [
  {
   "cell_type": "markdown",
   "metadata": {},
   "source": [
    "<h1> JSON </h1>"
   ]
  },
  {
   "cell_type": "markdown",
   "metadata": {},
   "source": [
    "JSON uses `true` instead of `True` (false not False) <br>\n",
    "JSON uses `null` instead of `None`<br>\n",
    "Looks like a dict.<br>\n",
    "all the keys are strings"
   ]
  },
  {
   "cell_type": "code",
   "execution_count": 4,
   "metadata": {},
   "outputs": [],
   "source": [
    "import json"
   ]
  },
  {
   "cell_type": "code",
   "execution_count": 7,
   "metadata": {},
   "outputs": [
    {
     "data": {
      "text/plain": [
       "_io.TextIOWrapper"
      ]
     },
     "execution_count": 7,
     "metadata": {},
     "output_type": "execute_result"
    }
   ],
   "source": [
    "jsonfile=open('newjson', 'r',encoding='utf-8')\n",
    "\n",
    "diction= json.load(jsonfile)\n",
    "jsonfile.close()\n",
    "type(jsonfile)"
   ]
  },
  {
   "cell_type": "code",
   "execution_count": 16,
   "metadata": {
    "scrolled": true
   },
   "outputs": [
    {
     "name": "stdout",
     "output_type": "stream",
     "text": [
      "<class 'dict'>\n"
     ]
    },
    {
     "data": {
      "text/plain": [
       "{'accession_number': '2000.12.13',\n",
       " 'artist': 'Martha Hale Harvey',\n",
       " 'continent': 'North America',\n",
       " 'country': 'United States',\n",
       " 'creditline': 'The McClurg Photography Purchase Fund',\n",
       " 'culture': None,\n",
       " 'dated': '1899',\n",
       " 'department': 'Photography & New Media',\n",
       " 'description': 'boat with 2 masts in front of a bridge with a lift gate; 2 rowboats in water at L; buildings at L; trees at R',\n",
       " 'dimension': '9 1/4 x 11 1/2 in. (23.5 x 29.21 cm) (image, sheet) 11 3/4 x 13 1/2 in. (29.85 x 34.29 cm) (mount)',\n",
       " 'id': 'http://api.artsmia.org/objects/148',\n",
       " 'image': 'valid',\n",
       " 'image_copyright': '',\n",
       " 'image_height': 3544,\n",
       " 'image_width': 4388,\n",
       " 'life_date': 'American, 1862-1949',\n",
       " 'marks': 'Inscription; Signature ',\n",
       " 'medium': 'platinum print',\n",
       " 'nationality': 'American',\n",
       " 'provenance': '',\n",
       " 'restricted': 0,\n",
       " 'rights_type': 'Public Domain',\n",
       " 'role': 'Artist',\n",
       " 'room': 'Not on View',\n",
       " 'style': '19th century',\n",
       " 'text': '',\n",
       " 'title': 'Annisquam, Massachusetts'}"
      ]
     },
     "execution_count": 16,
     "metadata": {},
     "output_type": "execute_result"
    }
   ],
   "source": [
    "print(type(diction)) #produced with loads()\n",
    "diction"
   ]
  },
  {
   "cell_type": "code",
   "execution_count": 8,
   "metadata": {},
   "outputs": [
    {
     "ename": "NameError",
     "evalue": "name 'jsob' is not defined",
     "output_type": "error",
     "traceback": [
      "\u001b[0;31m---------------------------------------------------------------------------\u001b[0m",
      "\u001b[0;31mNameError\u001b[0m                                 Traceback (most recent call last)",
      "\u001b[0;32m<ipython-input-8-eeb19a07835b>\u001b[0m in \u001b[0;36m<module>\u001b[0;34m()\u001b[0m\n\u001b[0;32m----> 1\u001b[0;31m \u001b[0mtype\u001b[0m\u001b[0;34m(\u001b[0m\u001b[0mjsob\u001b[0m\u001b[0;34m)\u001b[0m\u001b[0;34m\u001b[0m\u001b[0m\n\u001b[0m",
      "\u001b[0;31mNameError\u001b[0m: name 'jsob' is not defined"
     ]
    }
   ],
   "source": [
    "type(jsob)"
   ]
  },
  {
   "cell_type": "code",
   "execution_count": 52,
   "metadata": {},
   "outputs": [
    {
     "data": {
      "text/plain": [
       "'2000.12.13'"
      ]
     },
     "execution_count": 52,
     "metadata": {},
     "output_type": "execute_result"
    }
   ],
   "source": [
    "diction['accession_number']"
   ]
  },
  {
   "cell_type": "code",
   "execution_count": null,
   "metadata": {},
   "outputs": [],
   "source": []
  },
  {
   "cell_type": "markdown",
   "metadata": {},
   "source": [
    "<h3>From strings to dict </h3> `json.loads()`"
   ]
  },
  {
   "cell_type": "code",
   "execution_count": 9,
   "metadata": {},
   "outputs": [],
   "source": [
    "value = \"\"\"{ \"title\":\"Tron: Legacy\", \"composer\": \"Draft Punk\" }\"\"\""
   ]
  },
  {
   "cell_type": "code",
   "execution_count": 10,
   "metadata": {},
   "outputs": [],
   "source": [
    "tron = json.loads(value)"
   ]
  },
  {
   "cell_type": "code",
   "execution_count": 11,
   "metadata": {},
   "outputs": [
    {
     "data": {
      "text/plain": [
       "{'title': 'Tron: Legacy', 'composer': 'Draft Punk'}"
      ]
     },
     "execution_count": 11,
     "metadata": {},
     "output_type": "execute_result"
    }
   ],
   "source": [
    "tron"
   ]
  },
  {
   "cell_type": "code",
   "execution_count": null,
   "metadata": {},
   "outputs": [],
   "source": []
  },
  {
   "cell_type": "markdown",
   "metadata": {},
   "source": [
    "<h3>From dict to json </h3> `json.dumps()`"
   ]
  },
  {
   "cell_type": "code",
   "execution_count": 15,
   "metadata": {},
   "outputs": [
    {
     "name": "stdout",
     "output_type": "stream",
     "text": [
      "{\"title\": \"Tron: Legacy\", \"composer\": \"Draft Punk\"}\n"
     ]
    }
   ],
   "source": [
    "newJson=json.dumps(tron)\n",
    "print(newJson)\n"
   ]
  },
  {
   "cell_type": "code",
   "execution_count": null,
   "metadata": {},
   "outputs": [],
   "source": []
  },
  {
   "cell_type": "markdown",
   "metadata": {},
   "source": [
    "<h3> Example </h3>"
   ]
  },
  {
   "cell_type": "markdown",
   "metadata": {},
   "source": [
    "<h4> a dictionary </h4>\n"
   ]
  },
  {
   "cell_type": "code",
   "execution_count": 19,
   "metadata": {},
   "outputs": [
    {
     "name": "stdout",
     "output_type": "stream",
     "text": [
      "type of 'languages': <class 'dict'>\n"
     ]
    }
   ],
   "source": [
    "languages={'python': 'interpreter', 'C':'compiler', 'Java': 'compiler', 'javascript': 'interpreter'}\n",
    "print(\"type of 'languages': {:}\".format(type(languages)))\n"
   ]
  },
  {
   "cell_type": "code",
   "execution_count": 22,
   "metadata": {},
   "outputs": [
    {
     "name": "stdout",
     "output_type": "stream",
     "text": [
      "apply dumps() to string or json\n",
      "type of 'jsonlanguages': <class 'str'>\n"
     ]
    }
   ],
   "source": [
    "print(\"apply dumps() to string or json\")\n",
    "jsonlanguages= json.dumps(languages)\n",
    "print(\"type of 'jsonlanguages': {:}\".format(type(jsonlanguages)))"
   ]
  },
  {
   "cell_type": "markdown",
   "metadata": {},
   "source": [
    "`json.dump()`"
   ]
  },
  {
   "cell_type": "code",
   "execution_count": 23,
   "metadata": {},
   "outputs": [],
   "source": [
    "# write to a file\n",
    "with open(\"languages.json\",\"w\") as f:\n",
    "  json.dump(languages, f)\n"
   ]
  },
  {
   "cell_type": "code",
   "execution_count": 26,
   "metadata": {},
   "outputs": [
    {
     "data": {
      "text/plain": [
       "str"
      ]
     },
     "execution_count": 26,
     "metadata": {},
     "output_type": "execute_result"
    }
   ],
   "source": [
    "#simply opening the file\n",
    "with open(\"languages.json\",\"r\") as f:\n",
    "    langs= f.read()\n",
    "type(langs)\n",
    "    "
   ]
  },
  {
   "cell_type": "markdown",
   "metadata": {},
   "source": [
    "`json.load()`"
   ]
  },
  {
   "cell_type": "code",
   "execution_count": 29,
   "metadata": {},
   "outputs": [
    {
     "name": "stdout",
     "output_type": "stream",
     "text": [
      "<class 'dict'>\n"
     ]
    }
   ],
   "source": [
    "# 'load()' with the file\n",
    "with open(\"languages.json\", 'r') as f:\n",
    "    langnewdict= json.load(f)\n",
    "print(type(langnewdict))"
   ]
  },
  {
   "cell_type": "code",
   "execution_count": null,
   "metadata": {},
   "outputs": [],
   "source": []
  },
  {
   "cell_type": "code",
   "execution_count": null,
   "metadata": {},
   "outputs": [],
   "source": []
  },
  {
   "cell_type": "code",
   "execution_count": null,
   "metadata": {},
   "outputs": [],
   "source": []
  }
 ],
 "metadata": {
  "kernelspec": {
   "display_name": "Python 3",
   "language": "python",
   "name": "python3"
  },
  "language_info": {
   "codemirror_mode": {
    "name": "ipython",
    "version": 3
   },
   "file_extension": ".py",
   "mimetype": "text/x-python",
   "name": "python",
   "nbconvert_exporter": "python",
   "pygments_lexer": "ipython3",
   "version": "3.6.5"
  }
 },
 "nbformat": 4,
 "nbformat_minor": 2
}
