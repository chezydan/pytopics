{
 "cells": [
  {
   "cell_type": "markdown",
   "metadata": {},
   "source": [
    "<h1> \"Strings\" </h1>"
   ]
  },
  {
   "cell_type": "code",
   "execution_count": null,
   "metadata": {},
   "outputs": [],
   "source": []
  },
  {
   "cell_type": "code",
   "execution_count": null,
   "metadata": {},
   "outputs": [],
   "source": []
  },
  {
   "cell_type": "code",
   "execution_count": null,
   "metadata": {},
   "outputs": [],
   "source": []
  },
  {
   "cell_type": "code",
   "execution_count": null,
   "metadata": {},
   "outputs": [],
   "source": []
  },
  {
   "cell_type": "code",
   "execution_count": null,
   "metadata": {},
   "outputs": [],
   "source": []
  },
  {
   "cell_type": "markdown",
   "metadata": {},
   "source": [
    "<h2> processing  , char type </h2> "
   ]
  },
  {
   "cell_type": "code",
   "execution_count": 1,
   "metadata": {},
   "outputs": [],
   "source": [
    "text =\"Python 3.62\""
   ]
  },
  {
   "cell_type": "code",
   "execution_count": 4,
   "metadata": {},
   "outputs": [
    {
     "name": "stdout",
     "output_type": "stream",
     "text": [
      "1. False\n",
      "2. [True, True, True, True, True, True, False, False, False, False, False]\n",
      "BELOW: (global) -> (per character)\n",
      "False --> [False, False, False, False, False, False, False, True, False, True, True]\n",
      "False --> [False, False, False, False, False, False, True, False, False, False, False]\n",
      "False --> [False, True, True, True, True, True, False, False, False, False, False]\n",
      "False --> [True, False, False, False, False, False, False, False, False, False, False]\n",
      "False --> [False, False, False, False, False, False, False, True, False, True, True]\n"
     ]
    }
   ],
   "source": [
    "# Strings have methods for checking \"global\" string properties\n",
    "print(\"1.\", text.isalpha())\n",
    "\n",
    "# These can also be applied per character - with list comprehension\n",
    "print(\"2.\", [c.isalpha() for c in text])\n",
    "print(\"BELOW: (global) -> (per character)\")\n",
    "print(text.isdigit(), \"-->\", [c.isdigit() for c in text])\n",
    "print(text.isspace(), \"-->\", [c.isspace() for c in text])\n",
    "print(text.islower(), \"-->\", [c.islower() for c in text])\n",
    "print(text.isupper(), \"-->\", [c.isupper() for c in text])\n",
    "print(text.isnumeric(), \"-->\", [c.isnumeric() for c in text])"
   ]
  },
  {
   "cell_type": "code",
   "execution_count": null,
   "metadata": {},
   "outputs": [],
   "source": []
  },
  {
   "cell_type": "code",
   "execution_count": null,
   "metadata": {},
   "outputs": [],
   "source": []
  },
  {
   "cell_type": "markdown",
   "metadata": {},
   "source": [
    "<h2>regex-like string manipulations </h2>"
   ]
  },
  {
   "cell_type": "markdown",
   "metadata": {},
   "source": [
    "https://jakevdp.github.io/WhirlwindTourOfPython/14-strings-and-regular-expressions.html"
   ]
  },
  {
   "cell_type": "code",
   "execution_count": 1,
   "metadata": {},
   "outputs": [],
   "source": [
    "import re\n",
    "years=re.compile('(\\(\\d\\d\\d\\d\\))')"
   ]
  },
  {
   "cell_type": "code",
   "execution_count": 2,
   "metadata": {},
   "outputs": [],
   "source": [
    "completeS= 'Toy Story (1995)'\n"
   ]
  },
  {
   "cell_type": "code",
   "execution_count": 3,
   "metadata": {},
   "outputs": [
    {
     "data": {
      "text/plain": [
       "['(1995)']"
      ]
     },
     "execution_count": 3,
     "metadata": {},
     "output_type": "execute_result"
    }
   ],
   "source": [
    "years.findall(completeS)"
   ]
  },
  {
   "cell_type": "code",
   "execution_count": null,
   "metadata": {},
   "outputs": [],
   "source": []
  },
  {
   "cell_type": "code",
   "execution_count": null,
   "metadata": {},
   "outputs": [],
   "source": []
  },
  {
   "cell_type": "code",
   "execution_count": null,
   "metadata": {},
   "outputs": [],
   "source": []
  }
 ],
 "metadata": {
  "kernelspec": {
   "display_name": "Python 3",
   "language": "python",
   "name": "python3"
  },
  "language_info": {
   "codemirror_mode": {
    "name": "ipython",
    "version": 3
   },
   "file_extension": ".py",
   "mimetype": "text/x-python",
   "name": "python",
   "nbconvert_exporter": "python",
   "pygments_lexer": "ipython3",
   "version": "3.6.5"
  }
 },
 "nbformat": 4,
 "nbformat_minor": 2
}
