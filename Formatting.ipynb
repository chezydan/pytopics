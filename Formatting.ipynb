{
 "cells": [
  {
   "cell_type": "markdown",
   "metadata": {},
   "source": [
    "<h1> Strings and Formatting </h1>"
   ]
  },
  {
   "cell_type": "markdown",
   "metadata": {},
   "source": [
    "<h2> Print formatting </h2>"
   ]
  },
  {
   "cell_type": "code",
   "execution_count": 1,
   "metadata": {},
   "outputs": [],
   "source": [
    "a = 5.456\n",
    "b=10.54\n",
    "c=1300000.055"
   ]
  },
  {
   "cell_type": "code",
   "execution_count": 2,
   "metadata": {},
   "outputs": [
    {
     "name": "stdout",
     "output_type": "stream",
     "text": [
      "a: 5.456\n",
      "10.54\n",
      "1300000.055\n"
     ]
    }
   ],
   "source": [
    "print(\"a: {}\".format(a) )\n",
    "print(b)\n",
    "print(c)"
   ]
  },
  {
   "cell_type": "markdown",
   "metadata": {},
   "source": [
    "<p> <strong> :.2f  </strong > for float with 2 decimals"
   ]
  },
  {
   "cell_type": "code",
   "execution_count": 2,
   "metadata": {},
   "outputs": [
    {
     "name": "stdout",
     "output_type": "stream",
     "text": [
      "a=5.46\n"
     ]
    }
   ],
   "source": []
  },
  {
   "cell_type": "code",
   "execution_count": 3,
   "metadata": {},
   "outputs": [
    {
     "name": "stdout",
     "output_type": "stream",
     "text": [
      "a= 5.46 and b= 10.54\n"
     ]
    }
   ],
   "source": [
    "print(\"a= {:.2f} and b= {:.2f}\".format(a, b))"
   ]
  },
  {
   "cell_type": "markdown",
   "metadata": {},
   "source": [
    "<a href=\"https://mkaz.blog/code/python-string-format-cookbook/\"> link </a>"
   ]
  },
  {
   "cell_type": "code",
   "execution_count": 9,
   "metadata": {},
   "outputs": [
    {
     "name": "stdout",
     "output_type": "stream",
     "text": [
      "no decimals 11\n"
     ]
    }
   ],
   "source": [
    "#no decimals\n",
    "print(\"no decimals {:.0f}\".format(b))"
   ]
  },
  {
   "cell_type": "code",
   "execution_count": 6,
   "metadata": {},
   "outputs": [
    {
     "name": "stdout",
     "output_type": "stream",
     "text": [
      "a= 6\n"
     ]
    }
   ],
   "source": []
  },
  {
   "cell_type": "code",
   "execution_count": 87,
   "metadata": {},
   "outputs": [
    {
     "name": "stdout",
     "output_type": "stream",
     "text": [
      "thousand sep 1,300,000.1\n"
     ]
    }
   ],
   "source": [
    "#1000 sep\n",
    "print(\"thousand sep {:,.1f}\".format((c)))"
   ]
  },
  {
   "cell_type": "code",
   "execution_count": 5,
   "metadata": {},
   "outputs": [
    {
     "name": "stdout",
     "output_type": "stream",
     "text": [
      "1,300,000.055\n"
     ]
    }
   ],
   "source": [
    "print(\"{:,}\".format(c))"
   ]
  },
  {
   "cell_type": "markdown",
   "metadata": {},
   "source": [
    "<div style = \"color :purple\">print variable c with thousand sep and 2 floats </div>"
   ]
  },
  {
   "cell_type": "code",
   "execution_count": 10,
   "metadata": {},
   "outputs": [
    {
     "name": "stdout",
     "output_type": "stream",
     "text": [
      "1,300,000.05\n"
     ]
    }
   ],
   "source": []
  },
  {
   "cell_type": "code",
   "execution_count": 9,
   "metadata": {},
   "outputs": [
    {
     "name": "stdout",
     "output_type": "stream",
     "text": [
      "1,300,000.05\n"
     ]
    }
   ],
   "source": [
    "print(\"{:,.2f}\".format(c))"
   ]
  },
  {
   "cell_type": "code",
   "execution_count": null,
   "metadata": {},
   "outputs": [],
   "source": []
  },
  {
   "cell_type": "markdown",
   "metadata": {},
   "source": [
    "<h4> Table-like, (fixed), print </h4>"
   ]
  },
  {
   "cell_type": "code",
   "execution_count": 1,
   "metadata": {},
   "outputs": [
    {
     "name": "stdout",
     "output_type": "stream",
     "text": [
      "[[2, 3, 4], [2, 3, 40.5], [20, 30, 4]]\n"
     ]
    }
   ],
   "source": [
    "lst= [[2,3,4],[2,3,40.5],[20,30,4]]\n",
    "print(lst)\n"
   ]
  },
  {
   "cell_type": "markdown",
   "metadata": {},
   "source": [
    "`{:>numSpaces}` for example for 6 : `{:>6}`"
   ]
  },
  {
   "cell_type": "code",
   "execution_count": 2,
   "metadata": {},
   "outputs": [
    {
     "data": {
      "text/plain": [
       "'{:>7}{:>7}{:>7}'"
      ]
     },
     "execution_count": 2,
     "metadata": {},
     "output_type": "execute_result"
    }
   ],
   "source": [
    "row_format= \"{:>7}\" *( len(lst[0]))\n",
    "row_format"
   ]
  },
  {
   "cell_type": "code",
   "execution_count": 3,
   "metadata": {},
   "outputs": [
    {
     "name": "stdout",
     "output_type": "stream",
     "text": [
      "      2      3      4\n",
      "      2      3   40.5\n",
      "     20     30      4\n"
     ]
    }
   ],
   "source": [
    "for r in lst:\n",
    "    #print(len((r)))\n",
    "    rs = r #[str(i) for i in r]\n",
    "    #print(rs)\n",
    "    print (row_format.format(((*rs))))"
   ]
  },
  {
   "cell_type": "markdown",
   "metadata": {},
   "source": [
    "<p > <span style = \"color:purple\"> write a function tabList(L , colLength) that prints a list in tabular form with colWidth parameter  (default = 8 ) </span>"
   ]
  },
  {
   "cell_type": "code",
   "execution_count": 42,
   "metadata": {},
   "outputs": [],
   "source": [
    "def tabList(L, colWidth=8):\n",
    "    row_format = ('{:>' + str(colWidth) +'}') * len(L[0])\n",
    "    print(len(L))\n",
    "    for r in L:\n",
    "        print(row_format.format(*r))"
   ]
  },
  {
   "cell_type": "code",
   "execution_count": 13,
   "metadata": {},
   "outputs": [],
   "source": [
    "def tabList(L, colWidth= 8):\n",
    "    '''prints L assumed to be 2 dim list'''\n",
    "    row_format = ('{:>'+ str(colWidth) +'}') * ( len(L[0]))\n",
    "    \n",
    "    \n",
    "    for r in L:\n",
    "        print(row_format.format(*r))\n",
    "    \n",
    "    "
   ]
  },
  {
   "cell_type": "code",
   "execution_count": 43,
   "metadata": {},
   "outputs": [
    {
     "name": "stdout",
     "output_type": "stream",
     "text": [
      "3\n",
      "       2       3       4       4\n",
      "       3      44      34       3\n",
      "    2000  343222      34       3\n"
     ]
    }
   ],
   "source": [
    "l2 = [[2,3,4,4],[3,44,34,3], [2000,343222,34,3]]\n",
    "tabList(l2 )"
   ]
  },
  {
   "cell_type": "markdown",
   "metadata": {},
   "source": [
    "<h5> the tabular from packages </h5>"
   ]
  },
  {
   "cell_type": "code",
   "execution_count": 116,
   "metadata": {},
   "outputs": [],
   "source": [
    "#!pip install tabulate"
   ]
  },
  {
   "cell_type": "code",
   "execution_count": 119,
   "metadata": {},
   "outputs": [],
   "source": [
    "#!pip install prettytable"
   ]
  },
  {
   "cell_type": "code",
   "execution_count": 125,
   "metadata": {},
   "outputs": [
    {
     "name": "stdout",
     "output_type": "stream",
     "text": [
      "+------+--------+----+\n",
      "|  c1  |   c2   | c3 |\n",
      "+------+--------+----+\n",
      "|  2   |   3    | 4  |\n",
      "|  3   |   44   | 34 |\n",
      "| 2000 | 343222 | 34 |\n",
      "+------+--------+----+\n"
     ]
    }
   ],
   "source": [
    "from prettytable import PrettyTable\n",
    "t = PrettyTable(['c1','c2', 'c3'])\n",
    "for rt in l2:\n",
    "    t.add_row(rt)\n",
    "print(t)"
   ]
  },
  {
   "cell_type": "code",
   "execution_count": null,
   "metadata": {},
   "outputs": [],
   "source": []
  },
  {
   "cell_type": "code",
   "execution_count": null,
   "metadata": {},
   "outputs": [],
   "source": []
  },
  {
   "cell_type": "markdown",
   "metadata": {},
   "source": [
    "<h2> Strings  </h2>"
   ]
  },
  {
   "cell_type": "markdown",
   "metadata": {},
   "source": [
    "<h3> Split </h3>"
   ]
  },
  {
   "cell_type": "markdown",
   "metadata": {},
   "source": [
    "[<span style=\"color:blue\"> stringName</span>].split([<span style=\"color:blue\"> sep-char</span>])"
   ]
  },
  {
   "cell_type": "code",
   "execution_count": 12,
   "metadata": {},
   "outputs": [
    {
     "data": {
      "text/plain": [
       "['this', 'is', 'a', 'string']"
      ]
     },
     "execution_count": 12,
     "metadata": {},
     "output_type": "execute_result"
    }
   ],
   "source": [
    "\"this is a string\".split() # \" \" is default"
   ]
  },
  {
   "cell_type": "code",
   "execution_count": 14,
   "metadata": {},
   "outputs": [
    {
     "data": {
      "text/plain": [
       "['Beethoven', '1770', '1827']"
      ]
     },
     "execution_count": 14,
     "metadata": {},
     "output_type": "execute_result"
    }
   ],
   "source": [
    "\"Beethoven,1770,1827\".split(\",\")"
   ]
  },
  {
   "cell_type": "markdown",
   "metadata": {},
   "source": [
    "type is list"
   ]
  },
  {
   "cell_type": "code",
   "execution_count": 16,
   "metadata": {},
   "outputs": [],
   "source": [
    "splitted=(\"I am stringing anyway !\").split()"
   ]
  },
  {
   "cell_type": "code",
   "execution_count": 17,
   "metadata": {},
   "outputs": [
    {
     "data": {
      "text/plain": [
       "list"
      ]
     },
     "execution_count": 17,
     "metadata": {},
     "output_type": "execute_result"
    }
   ],
   "source": [
    "type(splitted)"
   ]
  },
  {
   "cell_type": "code",
   "execution_count": 15,
   "metadata": {},
   "outputs": [
    {
     "data": {
      "text/plain": [
       "['i', 'am', 'a', 'string']"
      ]
     },
     "execution_count": 15,
     "metadata": {},
     "output_type": "execute_result"
    }
   ],
   "source": [
    "\"i am a string\".split()"
   ]
  },
  {
   "cell_type": "markdown",
   "metadata": {},
   "source": [
    "<div style = \"color :purple\"> split counting to a list \"toTen\"  </div>"
   ]
  },
  {
   "cell_type": "code",
   "execution_count": 19,
   "metadata": {},
   "outputs": [],
   "source": [
    "counting=\"1,2,3,4,5,6,7,8,9,10\""
   ]
  },
  {
   "cell_type": "code",
   "execution_count": null,
   "metadata": {},
   "outputs": [],
   "source": []
  },
  {
   "cell_type": "code",
   "execution_count": 24,
   "metadata": {},
   "outputs": [
    {
     "name": "stdout",
     "output_type": "stream",
     "text": [
      "correct\n"
     ]
    }
   ],
   "source": [
    "#check\n",
    "if toTen == ['1', '2', '3', '4', '5', '6', '7', '8', '9', '10']:\n",
    "    print(\"correct\")\n",
    "else:\n",
    "    print(\"to reconsider\")"
   ]
  },
  {
   "cell_type": "code",
   "execution_count": 85,
   "metadata": {},
   "outputs": [],
   "source": [
    "toTen=counting.split(\",\")"
   ]
  },
  {
   "cell_type": "code",
   "execution_count": null,
   "metadata": {},
   "outputs": [],
   "source": []
  },
  {
   "cell_type": "code",
   "execution_count": null,
   "metadata": {},
   "outputs": [],
   "source": []
  },
  {
   "cell_type": "markdown",
   "metadata": {},
   "source": [
    "<h3> Replace </h3>"
   ]
  },
  {
   "cell_type": "markdown",
   "metadata": {},
   "source": [
    "<p>[<span style=\"color:blue\"> strName</span>].replace([<span style=\"color:blue\"> old </span>, \n",
    "    [<span style=\"color:blue\"> new</span>],[<span style=\"color:blue\">  max</span>])   "
   ]
  },
  {
   "cell_type": "code",
   "execution_count": 23,
   "metadata": {},
   "outputs": [
    {
     "name": "stdout",
     "output_type": "stream",
     "text": [
      "this was written last year\n",
      "to be replaced\n",
      "this was written this year\n"
     ]
    }
   ],
   "source": [
    "msg1= \"this was written last year\"\n",
    "print(msg1)\n",
    "print(\"to be replaced\")\n",
    "msg2=msg1.replace(\"last\",\"this\")\n",
    "print(msg2)"
   ]
  },
  {
   "cell_type": "code",
   "execution_count": 32,
   "metadata": {},
   "outputs": [],
   "source": [
    "tomuchChars=\"this ( string ( has ( a  lot)\""
   ]
  },
  {
   "cell_type": "code",
   "execution_count": 34,
   "metadata": {},
   "outputs": [
    {
     "data": {
      "text/plain": [
       "'this  string  has  a  lot)'"
      ]
     },
     "execution_count": 34,
     "metadata": {},
     "output_type": "execute_result"
    }
   ],
   "source": [
    "tomuchChars.replace(\"(\",\"\")"
   ]
  },
  {
   "cell_type": "code",
   "execution_count": null,
   "metadata": {},
   "outputs": [],
   "source": []
  },
  {
   "cell_type": "markdown",
   "metadata": {},
   "source": [
    "<h4> loop on \"erase list \" to get rid of certain characters </h4>"
   ]
  },
  {
   "cell_type": "code",
   "execution_count": 56,
   "metadata": {},
   "outputs": [],
   "source": [
    "toomuch2=\"i ( me ) too ( fine) foo )\""
   ]
  },
  {
   "cell_type": "code",
   "execution_count": 57,
   "metadata": {},
   "outputs": [],
   "source": [
    "erase=[\"(\" , \")\"]\n",
    "for ch in erase:\n",
    "    toomuch2=toomuch2.replace(ch,\"*\")\n",
    "    "
   ]
  },
  {
   "cell_type": "code",
   "execution_count": 58,
   "metadata": {},
   "outputs": [
    {
     "data": {
      "text/plain": [
       "'i * me * too * fine* foo *'"
      ]
     },
     "execution_count": 58,
     "metadata": {},
     "output_type": "execute_result"
    }
   ],
   "source": [
    "toomuch2"
   ]
  },
  {
   "cell_type": "code",
   "execution_count": null,
   "metadata": {},
   "outputs": [],
   "source": []
  },
  {
   "cell_type": "markdown",
   "metadata": {},
   "source": [
    "<p> <span style=\"color:purple\">   write a function \"listStrp\" that takes a string and  a list and strips any of the chars in the list\n",
    "    <span>"
   ]
  },
  {
   "cell_type": "code",
   "execution_count": 82,
   "metadata": {},
   "outputs": [],
   "source": [
    "def listStrp(L):\n",
    "    '''takes a string and a list L of strings to strip them'''\n",
    "    pass"
   ]
  },
  {
   "cell_type": "code",
   "execution_count": null,
   "metadata": {},
   "outputs": [],
   "source": []
  },
  {
   "cell_type": "code",
   "execution_count": 70,
   "metadata": {},
   "outputs": [],
   "source": []
  },
  {
   "cell_type": "code",
   "execution_count": 81,
   "metadata": {
    "scrolled": true
   },
   "outputs": [
    {
     "name": "stdout",
     "output_type": "stream",
     "text": [
      "test #1 correct\n",
      "test #2 correct\n",
      "test #3 correct\n"
     ]
    }
   ],
   "source": [
    "#check\n",
    "str1=\"I dont 4 want 34 all 87 these 466 numbers\"\n",
    "lst1=[\"1\",\"2\",\"3\",\"4\",\"5\",\"6\",\"7\",\"8\",\"9\",\"0\"]\n",
    "str2= \"I know s you t prefer t erasing some letters like t and s\"\n",
    "lst2=[\"s\",\"t\"]\n",
    "str3=\"lot$s of# spe^cial #@ chara*cters h#eeeere\"\n",
    "lst3=[\"@\",\"#\",\"$\",\"%\",\"^\",\"&\",\"*\"]\n",
    "nStr1=listStrp(str1,lst1)\n",
    "#print (nStr1)\n",
    "nStr2=listStrp(str2,lst2)\n",
    "#print (nStr2)\n",
    "nStr3=listStrp(str3,lst3)\n",
    "#print (nStr3)\n",
    "\n",
    "if nStr1==\"I dont  want  all  these  numbers\":\n",
    "    print(\"test #1 correct\")\n",
    "else: \n",
    "    print (\"problem here\")\n",
    "if nStr2==\"I know  you  prefer  eraing ome leer like  and \":\n",
    "    print(\"test #2 correct\")\n",
    "else: \n",
    "    print (\"problem here\")\n",
    "if nStr3==\"lots of special  characters heeeere\":\n",
    "    print(\"test #3 correct\")\n",
    "else: \n",
    "    print (\"problem here\")\n",
    "\n",
    "\n",
    "#istStrp(\"\")"
   ]
  },
  {
   "cell_type": "code",
   "execution_count": null,
   "metadata": {},
   "outputs": [],
   "source": [
    "def listStrp(string, L):\n",
    "    '''takes a string and a list L of strings to strip them'''\n",
    "    for ch in L:\n",
    "        string= string.replace(ch,\"\")\n",
    "    return string"
   ]
  },
  {
   "cell_type": "code",
   "execution_count": null,
   "metadata": {},
   "outputs": [],
   "source": []
  },
  {
   "cell_type": "code",
   "execution_count": null,
   "metadata": {},
   "outputs": [],
   "source": []
  },
  {
   "cell_type": "markdown",
   "metadata": {},
   "source": [
    "<h3> Find </h3>"
   ]
  },
  {
   "cell_type": "markdown",
   "metadata": {},
   "source": [
    "<p>[<span style=\"color:blue\"> strName</span>] .find  ([<span style=\"color:blue\"> beg=0 </span>], \n",
    "    [<span style=\"color:blue\"> end=len(strName</span>])"
   ]
  },
  {
   "cell_type": "code",
   "execution_count": 46,
   "metadata": {},
   "outputs": [],
   "source": [
    "sentence=\"there is a string to be found\""
   ]
  },
  {
   "cell_type": "code",
   "execution_count": 52,
   "metadata": {},
   "outputs": [
    {
     "data": {
      "text/plain": [
       "24"
      ]
     },
     "execution_count": 52,
     "metadata": {},
     "output_type": "execute_result"
    }
   ],
   "source": [
    "index =sentence.find(\"found\")\n",
    "(index)"
   ]
  },
  {
   "cell_type": "code",
   "execution_count": null,
   "metadata": {},
   "outputs": [],
   "source": []
  },
  {
   "cell_type": "code",
   "execution_count": null,
   "metadata": {},
   "outputs": [],
   "source": []
  },
  {
   "cell_type": "code",
   "execution_count": null,
   "metadata": {},
   "outputs": [],
   "source": []
  },
  {
   "cell_type": "code",
   "execution_count": null,
   "metadata": {},
   "outputs": [],
   "source": []
  },
  {
   "cell_type": "markdown",
   "metadata": {},
   "source": [
    "<h3> String format and encoding </h3>"
   ]
  },
  {
   "cell_type": "markdown",
   "metadata": {},
   "source": [
    "<h4> capitalize </h4>"
   ]
  },
  {
   "cell_type": "code",
   "execution_count": 53,
   "metadata": {},
   "outputs": [
    {
     "name": "stdout",
     "output_type": "stream",
     "text": [
      "my string  can be in caps\n",
      "My string  can be in caps\n"
     ]
    }
   ],
   "source": [
    "nonCap= \"my string  can be in caps\"\n",
    "print(nonCap)\n",
    "Cap=nonCap.capitalize()\n",
    "print(Cap)"
   ]
  },
  {
   "cell_type": "code",
   "execution_count": null,
   "metadata": {},
   "outputs": [],
   "source": []
  },
  {
   "cell_type": "code",
   "execution_count": null,
   "metadata": {},
   "outputs": [],
   "source": []
  },
  {
   "cell_type": "markdown",
   "metadata": {},
   "source": [
    "<h3> join </h3>"
   ]
  },
  {
   "cell_type": "code",
   "execution_count": 1,
   "metadata": {},
   "outputs": [
    {
     "name": "stdout",
     "output_type": "stream",
     "text": [
      "t h i s i s a s t r i n g\n",
      "t*h*i*s*i*s*a*s*t*r*i*n*g\n"
     ]
    }
   ],
   "source": [
    "mystr=(\"thisisastring\")\n",
    "print(\" \".join(mystr))\n",
    "print(\"*\".join(mystr))\n"
   ]
  },
  {
   "cell_type": "code",
   "execution_count": 7,
   "metadata": {},
   "outputs": [
    {
     "data": {
      "text/plain": [
       "'thsnarig'"
      ]
     },
     "execution_count": 7,
     "metadata": {},
     "output_type": "execute_result"
    }
   ],
   "source": [
    "#get unique chars of str\n",
    "''.join(set((mystr)))"
   ]
  },
  {
   "cell_type": "code",
   "execution_count": null,
   "metadata": {},
   "outputs": [],
   "source": []
  },
  {
   "cell_type": "markdown",
   "metadata": {},
   "source": [
    "<h3> string-type related methods </h3>"
   ]
  },
  {
   "cell_type": "code",
   "execution_count": 11,
   "metadata": {},
   "outputs": [],
   "source": [
    "excl = \"!\"\n",
    "cap=\"A\"\n",
    "space=\" \"\n",
    "noncap=\"c\""
   ]
  },
  {
   "cell_type": "code",
   "execution_count": 12,
   "metadata": {},
   "outputs": [
    {
     "name": "stdout",
     "output_type": "stream",
     "text": [
      "False\n",
      "True\n"
     ]
    }
   ],
   "source": [
    "print(excl.isalpha())\n",
    "print(noncap.isalpha())\n"
   ]
  },
  {
   "cell_type": "code",
   "execution_count": 14,
   "metadata": {},
   "outputs": [
    {
     "name": "stdout",
     "output_type": "stream",
     "text": [
      "False\n",
      "True\n"
     ]
    }
   ],
   "source": [
    "print(excl.isspace())\n",
    "print(space.isspace())"
   ]
  },
  {
   "cell_type": "code",
   "execution_count": 16,
   "metadata": {},
   "outputs": [
    {
     "name": "stdout",
     "output_type": "stream",
     "text": [
      "a\n"
     ]
    }
   ],
   "source": [
    "print(cap.lower())"
   ]
  },
  {
   "cell_type": "code",
   "execution_count": null,
   "metadata": {},
   "outputs": [],
   "source": []
  },
  {
   "cell_type": "code",
   "execution_count": null,
   "metadata": {},
   "outputs": [],
   "source": []
  },
  {
   "cell_type": "code",
   "execution_count": 7,
   "metadata": {},
   "outputs": [
    {
     "data": {
      "text/plain": [
       "array([-48,   8, -12])"
      ]
     },
     "execution_count": 7,
     "metadata": {},
     "output_type": "execute_result"
    }
   ],
   "source": []
  },
  {
   "cell_type": "code",
   "execution_count": null,
   "metadata": {},
   "outputs": [],
   "source": []
  },
  {
   "cell_type": "code",
   "execution_count": 1,
   "metadata": {},
   "outputs": [],
   "source": [
    "text = \"'citrus fruit,semi-finished bread,margarine,ready soups\\ntropical fruit,yogurt,coffee\\nwhole milk\\npip fruit,yogurt,cream cheese ,meat spreads\\nother vegetables,whole milk,condensed milk,long life bakery product\\nwhole milk,butter,yogurt,rice,abrasive cleaner\\nrolls/buns\\nother vegetables,UHT-milk,rolls/buns,bottled beer,liquor (appetizer)\\npot plants\\nwhole milk,cereals\\ntropical fruit,other vegetables,white bread,bottled water,chocolate\\ncitrus fruit,tropical fruit,whole milk,butter,curd,yogurt,flour,bottled water,dishes\\nbeef\\nfrankfurter,rolls/buns,soda\\nchicken,tropical fruit\\nbutter,sugar,fruit/vegetable juice,newspapers\\nfruit/vegetable juice\\npackaged fruit/vegetables\\nchocolate\\nspecialty bar\\nother vegetables\\nbutter milk,pastry\\nwhole milk\\ntropical fruit,cream cheese ,processed cheese,detergent,newspapers\\ntropical fruit,root vegetables,other vegetables,frozen dessert,rolls/buns,flour,sweet spreads,salty snack,waffles,candy,bathroom cleaner\\nbottled water,canned beer\\nyogurt\\nsausage,rolls/buns,soda,chocolate\\nother vegetables\\nbrown bread,soda,fruit/vegetable juice,canned beer,newspapers,shopping bags\\nyogurt,beverages,bottled water,specialty bar\\nhamburger meat,other vegetables,rolls/buns,spices,bottled water,hygiene articles,napkins\\nroot vegetables,other vegetables,whole milk,beverages,sugar\\npork,berries,other vegetables,whole milk,whipped/sour cream,artif. sweetener,soda,abrasive cleaner\\nbeef,grapes,detergent\\npastry,soda\\nfruit/vegetable juice\\ncanned beer\\nroot vegetables,other vegetables,whole milk,dessert\\ncitrus fruit,zwieback,newspapers\\nsausage,rolls/buns,soda,canned beer,specialty bar,shopping bags\\ntropical fruit,root vegetables,whole milk,yogurt,domestic eggs,brown bread,pastry,sugar,cereals,coffee,soda,waffles,candy\\nberries,yogurt\\ncanned beer\\nbutter milk,yogurt,cream cheese ,spread cheese,rolls/buns,bottled water,soda,newspapers\\ncoffee\\npastry,bottled water\\nrolls/buns\\nmisc. beverages\\nroot vegetables,other vegetables,butter,curd,whipped/sour cream,UHT-milk,hard cheese,rolls/buns,bottled water,long life bakery product\\nsausage,rolls/buns,cat food,newspapers\\ncanned beer\\nham,grapes,other vegetables,whole milk\\nturkey,tropical fruit,other vegetables,curd,domestic eggs,brown bread,semi-finished bread,margarine,baking powder,fruit/vegetable juice\\nwhole milk,yogurt,processed cheese,pickled vegetables,soda\\nwhole milk,curd,yogurt,pastry\\npackaged fruit/vegetables,brown bread,canned beer\\nrolls/buns,oil,bottled water,chewing gum,chocolate marshmallow,hygiene articles,napkins\\nham,beef,whipped/sour cream,ice cream,rolls/buns,cat food\\nrolls/buns,pastry,sugar\\nother vegetables,whole milk,frozen vegetables,canned fish,salty snack,seasonal products,detergent\\nsausage,pastry\\nsausage,beef,whole milk\\nfrankfurter,tropical fruit,rolls/buns,brown bread,sugar\\nrolls/buns,pastry,soda\\nwhole milk\\ncurd cheese,coffee\\nred/blush wine,newspapers\\nsausage,whole milk,curd\\ntropical fruit,pip fruit,berries,whole milk,frozen potato products,rolls/buns,pickled vegetables,chocolate\\nred/blush wine\\nwhole milk,butter,margarine,specialty fat,specialty chocolate,candles,flower (seeds)\\nfrankfurter,citrus fruit,whole milk,domestic eggs,oil,sparkling wine,specialty chocolate,newspapers\\nwhole milk,meat spreads,soda\\nfrozen potato products\\nother vegetables,whole milk,rolls/buns,sugar\\ncitrus fruit,whole milk,curd,butter milk,pastry\\nflour,salt,bottled water,fruit/vegetable juice,bottled beer\\nsugar,bottled water,soda,bottled beer\\nfrozen meals,coffee\\nchocolate\\nroot vegetables,whole milk,frozen vegetables,domestic eggs,rolls/buns,oil,margarine,canned vegetables,fruit/vegetable juice,bathroom cleaner\\nroot vegetables,onions,hard cheese,frozen vegetables\\nherbs,condensed milk,frozen vegetables,salt,oil,white wine,candles\\nbottled water\\nsausage,root vegetables,onions,yogurt,rolls/buns,brandy,detergent\\ncoffee,newspapers\\npork,other vegetables,whipped/sour cream\\nberries,yogurt\\nsoda\\nberries\\nfruit/vegetable juice,salty snack,candles\\ncitrus fruit,butter milk,yogurt,cream cheese \\npork,hamburger meat,citrus fruit,berries,onions,whipped/sour cream,rice,coffee,chocolate\\ndetergent\\ngrapes,photo/film\\nsausage,sliced cheese,rolls/buns,brown bread,fruit/vegetable juice,canned beer,red/blush wine,waffles,shopping bags\\nchicken,hamburger meat,citrus fruit,tropical fruit,root vegetables,other vegetables,butter,pasta,oil,detergent\\nwhole milk,yogurt,brown bread\\ncitrus fruit,tropical fruit\\nsoda,misc. beverages\\nsausage,pork,grapes,whole milk,rolls/buns,pastry,soda,specialty bar,bathroom cleaner\\nfrankfurter,rolls/buns,bottled water\\nsausage,whole milk,yogurt,coffee,fruit/vegetable juice,bottled beer,softener,napkins,photo/film,shopping bags\\nsoda\\nrolls/buns,fruit/vegetable juice\\nbeef,citrus fruit,berries,root vegetables,brown bread,detergent\\nwhole milk,whipped/sour cream,rolls/buns,soda,waffles,candy,cling film/bags\\nprocessed cheese\\ntropical fruit,pip fruit\\nfrankfurter,sausage,root vegetables,other vegetables,rolls/buns,oil,pickled vegetables,bottled beer,chewing gum,dishes\\npackaged fruit/vegetables,bottled water\\nwhole milk,dessert,frozen vegetables,rolls/buns,margarine,bottled water,red/blush wine,newspapers\\nberries,whipped/sour cream\\ncitrus fruit,berries,UHT-milk,processed cheese\\ntropical fruit,whole milk,yogurt\\nhamburger meat,whole milk,frozen vegetables,rolls/buns,bottled beer,sparkling wine\\nhamburger meat,other vegetables,whole milk,frozen vegetables,domestic eggs,soda,dishes\\nwhole milk,cream cheese ,soda\\nfish,other vegetables,pastry,margarine,coffee,long life bakery product,male cosmetics,shopping bags\\nfrankfurter,sausage,long life bakery product,waffles\\npackaged fruit/vegetables,dessert,semi-finished bread,canned beer\\npastry,soda\\nother vegetables,red/blush wine\\nmisc. beverages\\nfrankfurter,sausage,citrus fruit,tropical fruit,pip fruit,whole milk,hard cheese,cream cheese ,domestic eggs,rice,sugar,canned fruit,misc. beverages,fruit/vegetable juice,hygiene articles\\nsparkling wine\\nspecialty bar\\nsausage,butter milk,rolls/buns\\ncurd cheese\\nfrankfurter,dessert\\nwhole milk,yogurt,beverages,brown bread,shopping bags\\n\""
   ]
  },
  {
   "cell_type": "code",
   "execution_count": 9,
   "metadata": {},
   "outputs": [],
   "source": [
    "receiptsA= text.split('\\n')"
   ]
  },
  {
   "cell_type": "code",
   "execution_count": 10,
   "metadata": {},
   "outputs": [
    {
     "data": {
      "text/plain": [
       "133"
      ]
     },
     "execution_count": 10,
     "metadata": {},
     "output_type": "execute_result"
    }
   ],
   "source": []
  },
  {
   "cell_type": "code",
   "execution_count": 16,
   "metadata": {},
   "outputs": [
    {
     "data": {
      "text/plain": [
       "[{\"'citrus fruit\", 'margarine', 'ready soups', 'semi-finished bread'},\n",
       " {'coffee', 'tropical fruit', 'yogurt'},\n",
       " {'whole milk'},\n",
       " {'cream cheese ', 'meat spreads', 'pip fruit', 'yogurt'},\n",
       " {'condensed milk',\n",
       "  'long life bakery product',\n",
       "  'other vegetables',\n",
       "  'whole milk'},\n",
       " {'abrasive cleaner', 'butter', 'rice', 'whole milk', 'yogurt'},\n",
       " {'rolls/buns'},\n",
       " {'UHT-milk',\n",
       "  'bottled beer',\n",
       "  'liquor (appetizer)',\n",
       "  'other vegetables',\n",
       "  'rolls/buns'},\n",
       " {'pot plants'},\n",
       " {'cereals', 'whole milk'},\n",
       " {'bottled water',\n",
       "  'chocolate',\n",
       "  'other vegetables',\n",
       "  'tropical fruit',\n",
       "  'white bread'},\n",
       " {'bottled water',\n",
       "  'butter',\n",
       "  'citrus fruit',\n",
       "  'curd',\n",
       "  'dishes',\n",
       "  'flour',\n",
       "  'tropical fruit',\n",
       "  'whole milk',\n",
       "  'yogurt'},\n",
       " {'beef'},\n",
       " {'frankfurter', 'rolls/buns', 'soda'},\n",
       " {'chicken', 'tropical fruit'},\n",
       " {'butter', 'fruit/vegetable juice', 'newspapers', 'sugar'},\n",
       " {'fruit/vegetable juice'},\n",
       " {'packaged fruit/vegetables'},\n",
       " {'chocolate'},\n",
       " {'specialty bar'},\n",
       " {'other vegetables'},\n",
       " {'butter milk', 'pastry'},\n",
       " {'whole milk'},\n",
       " {'cream cheese ',\n",
       "  'detergent',\n",
       "  'newspapers',\n",
       "  'processed cheese',\n",
       "  'tropical fruit'},\n",
       " {'bathroom cleaner',\n",
       "  'candy',\n",
       "  'flour',\n",
       "  'frozen dessert',\n",
       "  'other vegetables',\n",
       "  'rolls/buns',\n",
       "  'root vegetables',\n",
       "  'salty snack',\n",
       "  'sweet spreads',\n",
       "  'tropical fruit',\n",
       "  'waffles'},\n",
       " {'bottled water', 'canned beer'},\n",
       " {'yogurt'},\n",
       " {'chocolate', 'rolls/buns', 'sausage', 'soda'},\n",
       " {'other vegetables'},\n",
       " {'brown bread',\n",
       "  'canned beer',\n",
       "  'fruit/vegetable juice',\n",
       "  'newspapers',\n",
       "  'shopping bags',\n",
       "  'soda'},\n",
       " {'beverages', 'bottled water', 'specialty bar', 'yogurt'},\n",
       " {'bottled water',\n",
       "  'hamburger meat',\n",
       "  'hygiene articles',\n",
       "  'napkins',\n",
       "  'other vegetables',\n",
       "  'rolls/buns',\n",
       "  'spices'},\n",
       " {'beverages', 'other vegetables', 'root vegetables', 'sugar', 'whole milk'},\n",
       " {'abrasive cleaner',\n",
       "  'artif. sweetener',\n",
       "  'berries',\n",
       "  'other vegetables',\n",
       "  'pork',\n",
       "  'soda',\n",
       "  'whipped/sour cream',\n",
       "  'whole milk'},\n",
       " {'beef', 'detergent', 'grapes'},\n",
       " {'pastry', 'soda'},\n",
       " {'fruit/vegetable juice'},\n",
       " {'canned beer'},\n",
       " {'dessert', 'other vegetables', 'root vegetables', 'whole milk'},\n",
       " {'citrus fruit', 'newspapers', 'zwieback'},\n",
       " {'canned beer',\n",
       "  'rolls/buns',\n",
       "  'sausage',\n",
       "  'shopping bags',\n",
       "  'soda',\n",
       "  'specialty bar'},\n",
       " {'brown bread',\n",
       "  'candy',\n",
       "  'cereals',\n",
       "  'coffee',\n",
       "  'domestic eggs',\n",
       "  'pastry',\n",
       "  'root vegetables',\n",
       "  'soda',\n",
       "  'sugar',\n",
       "  'tropical fruit',\n",
       "  'waffles',\n",
       "  'whole milk',\n",
       "  'yogurt'},\n",
       " {'berries', 'yogurt'},\n",
       " {'canned beer'},\n",
       " {'bottled water',\n",
       "  'butter milk',\n",
       "  'cream cheese ',\n",
       "  'newspapers',\n",
       "  'rolls/buns',\n",
       "  'soda',\n",
       "  'spread cheese',\n",
       "  'yogurt'},\n",
       " {'coffee'},\n",
       " {'bottled water', 'pastry'},\n",
       " {'rolls/buns'},\n",
       " {'misc. beverages'},\n",
       " {'UHT-milk',\n",
       "  'bottled water',\n",
       "  'butter',\n",
       "  'curd',\n",
       "  'hard cheese',\n",
       "  'long life bakery product',\n",
       "  'other vegetables',\n",
       "  'rolls/buns',\n",
       "  'root vegetables',\n",
       "  'whipped/sour cream'},\n",
       " {'cat food', 'newspapers', 'rolls/buns', 'sausage'},\n",
       " {'canned beer'},\n",
       " {'grapes', 'ham', 'other vegetables', 'whole milk'},\n",
       " {'baking powder',\n",
       "  'brown bread',\n",
       "  'curd',\n",
       "  'domestic eggs',\n",
       "  'fruit/vegetable juice',\n",
       "  'margarine',\n",
       "  'other vegetables',\n",
       "  'semi-finished bread',\n",
       "  'tropical fruit',\n",
       "  'turkey'},\n",
       " {'pickled vegetables', 'processed cheese', 'soda', 'whole milk', 'yogurt'},\n",
       " {'curd', 'pastry', 'whole milk', 'yogurt'},\n",
       " {'brown bread', 'canned beer', 'packaged fruit/vegetables'},\n",
       " {'bottled water',\n",
       "  'chewing gum',\n",
       "  'chocolate marshmallow',\n",
       "  'hygiene articles',\n",
       "  'napkins',\n",
       "  'oil',\n",
       "  'rolls/buns'},\n",
       " {'beef', 'cat food', 'ham', 'ice cream', 'rolls/buns', 'whipped/sour cream'},\n",
       " {'pastry', 'rolls/buns', 'sugar'},\n",
       " {'canned fish',\n",
       "  'detergent',\n",
       "  'frozen vegetables',\n",
       "  'other vegetables',\n",
       "  'salty snack',\n",
       "  'seasonal products',\n",
       "  'whole milk'},\n",
       " {'pastry', 'sausage'},\n",
       " {'beef', 'sausage', 'whole milk'},\n",
       " {'brown bread', 'frankfurter', 'rolls/buns', 'sugar', 'tropical fruit'},\n",
       " {'pastry', 'rolls/buns', 'soda'},\n",
       " {'whole milk'},\n",
       " {'coffee', 'curd cheese'},\n",
       " {'newspapers', 'red/blush wine'},\n",
       " {'curd', 'sausage', 'whole milk'},\n",
       " {'berries',\n",
       "  'chocolate',\n",
       "  'frozen potato products',\n",
       "  'pickled vegetables',\n",
       "  'pip fruit',\n",
       "  'rolls/buns',\n",
       "  'tropical fruit',\n",
       "  'whole milk'},\n",
       " {'red/blush wine'},\n",
       " {'butter',\n",
       "  'candles',\n",
       "  'flower (seeds)',\n",
       "  'margarine',\n",
       "  'specialty chocolate',\n",
       "  'specialty fat',\n",
       "  'whole milk'},\n",
       " {'citrus fruit',\n",
       "  'domestic eggs',\n",
       "  'frankfurter',\n",
       "  'newspapers',\n",
       "  'oil',\n",
       "  'sparkling wine',\n",
       "  'specialty chocolate',\n",
       "  'whole milk'},\n",
       " {'meat spreads', 'soda', 'whole milk'},\n",
       " {'frozen potato products'},\n",
       " {'other vegetables', 'rolls/buns', 'sugar', 'whole milk'},\n",
       " {'butter milk', 'citrus fruit', 'curd', 'pastry', 'whole milk'},\n",
       " {'bottled beer', 'bottled water', 'flour', 'fruit/vegetable juice', 'salt'},\n",
       " {'bottled beer', 'bottled water', 'soda', 'sugar'},\n",
       " {'coffee', 'frozen meals'},\n",
       " {'chocolate'},\n",
       " {'bathroom cleaner',\n",
       "  'canned vegetables',\n",
       "  'domestic eggs',\n",
       "  'frozen vegetables',\n",
       "  'fruit/vegetable juice',\n",
       "  'margarine',\n",
       "  'oil',\n",
       "  'rolls/buns',\n",
       "  'root vegetables',\n",
       "  'whole milk'},\n",
       " {'frozen vegetables', 'hard cheese', 'onions', 'root vegetables'},\n",
       " {'candles',\n",
       "  'condensed milk',\n",
       "  'frozen vegetables',\n",
       "  'herbs',\n",
       "  'oil',\n",
       "  'salt',\n",
       "  'white wine'},\n",
       " {'bottled water'},\n",
       " {'brandy',\n",
       "  'detergent',\n",
       "  'onions',\n",
       "  'rolls/buns',\n",
       "  'root vegetables',\n",
       "  'sausage',\n",
       "  'yogurt'},\n",
       " {'coffee', 'newspapers'},\n",
       " {'other vegetables', 'pork', 'whipped/sour cream'},\n",
       " {'berries', 'yogurt'},\n",
       " {'soda'},\n",
       " {'berries'},\n",
       " {'candles', 'fruit/vegetable juice', 'salty snack'},\n",
       " {'butter milk', 'citrus fruit', 'cream cheese ', 'yogurt'},\n",
       " {'berries',\n",
       "  'chocolate',\n",
       "  'citrus fruit',\n",
       "  'coffee',\n",
       "  'hamburger meat',\n",
       "  'onions',\n",
       "  'pork',\n",
       "  'rice',\n",
       "  'whipped/sour cream'},\n",
       " {'detergent'},\n",
       " {'grapes', 'photo/film'},\n",
       " {'brown bread',\n",
       "  'canned beer',\n",
       "  'fruit/vegetable juice',\n",
       "  'red/blush wine',\n",
       "  'rolls/buns',\n",
       "  'sausage',\n",
       "  'shopping bags',\n",
       "  'sliced cheese',\n",
       "  'waffles'},\n",
       " {'butter',\n",
       "  'chicken',\n",
       "  'citrus fruit',\n",
       "  'detergent',\n",
       "  'hamburger meat',\n",
       "  'oil',\n",
       "  'other vegetables',\n",
       "  'pasta',\n",
       "  'root vegetables',\n",
       "  'tropical fruit'},\n",
       " {'brown bread', 'whole milk', 'yogurt'},\n",
       " {'citrus fruit', 'tropical fruit'},\n",
       " {'misc. beverages', 'soda'},\n",
       " {'bathroom cleaner',\n",
       "  'grapes',\n",
       "  'pastry',\n",
       "  'pork',\n",
       "  'rolls/buns',\n",
       "  'sausage',\n",
       "  'soda',\n",
       "  'specialty bar',\n",
       "  'whole milk'},\n",
       " {'bottled water', 'frankfurter', 'rolls/buns'},\n",
       " {'bottled beer',\n",
       "  'coffee',\n",
       "  'fruit/vegetable juice',\n",
       "  'napkins',\n",
       "  'photo/film',\n",
       "  'sausage',\n",
       "  'shopping bags',\n",
       "  'softener',\n",
       "  'whole milk',\n",
       "  'yogurt'},\n",
       " {'soda'},\n",
       " {'fruit/vegetable juice', 'rolls/buns'},\n",
       " {'beef',\n",
       "  'berries',\n",
       "  'brown bread',\n",
       "  'citrus fruit',\n",
       "  'detergent',\n",
       "  'root vegetables'},\n",
       " {'candy',\n",
       "  'cling film/bags',\n",
       "  'rolls/buns',\n",
       "  'soda',\n",
       "  'waffles',\n",
       "  'whipped/sour cream',\n",
       "  'whole milk'},\n",
       " {'processed cheese'},\n",
       " {'pip fruit', 'tropical fruit'},\n",
       " {'bottled beer',\n",
       "  'chewing gum',\n",
       "  'dishes',\n",
       "  'frankfurter',\n",
       "  'oil',\n",
       "  'other vegetables',\n",
       "  'pickled vegetables',\n",
       "  'rolls/buns',\n",
       "  'root vegetables',\n",
       "  'sausage'},\n",
       " {'bottled water', 'packaged fruit/vegetables'},\n",
       " {'bottled water',\n",
       "  'dessert',\n",
       "  'frozen vegetables',\n",
       "  'margarine',\n",
       "  'newspapers',\n",
       "  'red/blush wine',\n",
       "  'rolls/buns',\n",
       "  'whole milk'},\n",
       " {'berries', 'whipped/sour cream'},\n",
       " {'UHT-milk', 'berries', 'citrus fruit', 'processed cheese'},\n",
       " {'tropical fruit', 'whole milk', 'yogurt'},\n",
       " {'bottled beer',\n",
       "  'frozen vegetables',\n",
       "  'hamburger meat',\n",
       "  'rolls/buns',\n",
       "  'sparkling wine',\n",
       "  'whole milk'},\n",
       " {'dishes',\n",
       "  'domestic eggs',\n",
       "  'frozen vegetables',\n",
       "  'hamburger meat',\n",
       "  'other vegetables',\n",
       "  'soda',\n",
       "  'whole milk'},\n",
       " {'cream cheese ', 'soda', 'whole milk'},\n",
       " {'coffee',\n",
       "  'fish',\n",
       "  'long life bakery product',\n",
       "  'male cosmetics',\n",
       "  'margarine',\n",
       "  'other vegetables',\n",
       "  'pastry',\n",
       "  'shopping bags'},\n",
       " {'frankfurter', 'long life bakery product', 'sausage', 'waffles'},\n",
       " {'canned beer',\n",
       "  'dessert',\n",
       "  'packaged fruit/vegetables',\n",
       "  'semi-finished bread'},\n",
       " {'pastry', 'soda'},\n",
       " {'other vegetables', 'red/blush wine'},\n",
       " {'misc. beverages'},\n",
       " {'canned fruit',\n",
       "  'citrus fruit',\n",
       "  'cream cheese ',\n",
       "  'domestic eggs',\n",
       "  'frankfurter',\n",
       "  'fruit/vegetable juice',\n",
       "  'hard cheese',\n",
       "  'hygiene articles',\n",
       "  'misc. beverages',\n",
       "  'pip fruit',\n",
       "  'rice',\n",
       "  'sausage',\n",
       "  'sugar',\n",
       "  'tropical fruit',\n",
       "  'whole milk'},\n",
       " {'sparkling wine'},\n",
       " {'specialty bar'},\n",
       " {'butter milk', 'rolls/buns', 'sausage'},\n",
       " {'curd cheese'},\n",
       " {'dessert', 'frankfurter'},\n",
       " {'beverages', 'brown bread', 'shopping bags', 'whole milk', 'yogurt'},\n",
       " {''}]"
      ]
     },
     "execution_count": 16,
     "metadata": {},
     "output_type": "execute_result"
    }
   ],
   "source": [
    "\n",
    "    "
   ]
  },
  {
   "cell_type": "code",
   "execution_count": 56,
   "metadata": {},
   "outputs": [
    {
     "data": {
      "text/plain": [
       "['lemon', ' avocado', ' cucumber', ' tomato', 'potato', 'cylantro']"
      ]
     },
     "execution_count": 56,
     "metadata": {},
     "output_type": "execute_result"
    }
   ],
   "source": [
    "t = 'lemon, avocado, cucumber, tomato,potato,cylantro'\n",
    "ts = t.split(',')\n",
    "ts"
   ]
  },
  {
   "cell_type": "code",
   "execution_count": null,
   "metadata": {},
   "outputs": [],
   "source": []
  },
  {
   "cell_type": "markdown",
   "metadata": {},
   "source": [
    "<h3> A bit of Latex for IPython </h3>"
   ]
  },
  {
   "cell_type": "code",
   "execution_count": 2,
   "metadata": {},
   "outputs": [
    {
     "data": {
      "text/markdown": [
       "$x \\in \\mathcal{S} \\implies y \\in \\mathcal{T}$"
      ],
      "text/plain": [
       "<IPython.core.display.Markdown object>"
      ]
     },
     "metadata": {},
     "output_type": "display_data"
    },
    {
     "data": {
      "text/markdown": [
       "$x$"
      ],
      "text/plain": [
       "<IPython.core.display.Markdown object>"
      ]
     },
     "metadata": {},
     "output_type": "display_data"
    }
   ],
   "source": [
    "# Code for pretty-printing math notation\n",
    "from IPython.display import display, Math, Latex, Markdown\n",
    "\n",
    "def display_math(str_latex):\n",
    "    display(Markdown('${}$'.format(str_latex)))\n",
    "    \n",
    "# Demo:\n",
    "display_math(r'x \\in \\mathcal{S} \\implies y \\in \\mathcal{T}')\n",
    "display_math(r'x')"
   ]
  },
  {
   "cell_type": "code",
   "execution_count": 6,
   "metadata": {},
   "outputs": [],
   "source": [
    "# a vector latex notation function\n",
    "v=(3,4)\n",
    "def latex_vector(v, transpose=False):\n",
    "    \"\"\"Returns a LaTeX string representation of a vector\"\"\"\n",
    "    s = r'''\\left[ \\begin{matrix} '''\n",
    "    sep = r'''\\\\''' if not transpose else r''', &'''\n",
    "    s += (r' {} ').format(sep).join([str(vi) for vi in v])\n",
    "    s += r''' \\end{matrix}\\right]'''\n",
    "    return s\n",
    "\n"
   ]
  },
  {
   "cell_type": "code",
   "execution_count": 7,
   "metadata": {},
   "outputs": [
    {
     "name": "stdout",
     "output_type": "stream",
     "text": [
      "Standard Python output: (3, 4)\n",
      "\n",
      "'Mathy' output:\n"
     ]
    },
    {
     "data": {
      "text/markdown": [
       "$v \\equiv \\left[ \\begin{matrix} 3 \\\\ 4 \\end{matrix}\\right]$"
      ],
      "text/plain": [
       "<IPython.core.display.Markdown object>"
      ]
     },
     "metadata": {},
     "output_type": "display_data"
    }
   ],
   "source": [
    "# Demo: Pretty-print `v` from before\n",
    "print(\"Standard Python output:\", v)\n",
    "print(\"\\n'Mathy' output:\")\n",
    "\n",
    "v_latex = latex_vector(v)\n",
    "display_math('v \\equiv ' + v_latex)"
   ]
  },
  {
   "cell_type": "code",
   "execution_count": null,
   "metadata": {},
   "outputs": [],
   "source": []
  },
  {
   "cell_type": "markdown",
   "metadata": {},
   "source": [
    "<h2> Number formating </h2>"
   ]
  },
  {
   "cell_type": "markdown",
   "metadata": {},
   "source": [
    "<h3> inner floating point and double precision </h3>\n",
    "<h4> take the hex() builtin python function out of a float </h4>"
   ]
  },
  {
   "cell_type": "code",
   "execution_count": 3,
   "metadata": {},
   "outputs": [],
   "source": [
    "fl1 = 1.0\n",
    "fl2 = 2.25\n",
    "fl3 = 3.33343"
   ]
  },
  {
   "cell_type": "code",
   "execution_count": 5,
   "metadata": {},
   "outputs": [
    {
     "name": "stdout",
     "output_type": "stream",
     "text": [
      "0x1.0000000000000p+0\n",
      "0x1.2000000000000p+1\n",
      "0x1.aaadd590c0ad0p+1\n"
     ]
    }
   ],
   "source": [
    "print(fl1.hex())\n",
    "print(fl2.hex())\n",
    "print(fl3.hex())"
   ]
  },
  {
   "cell_type": "code",
   "execution_count": null,
   "metadata": {},
   "outputs": [],
   "source": []
  },
  {
   "cell_type": "code",
   "execution_count": null,
   "metadata": {},
   "outputs": [],
   "source": []
  },
  {
   "cell_type": "code",
   "execution_count": null,
   "metadata": {},
   "outputs": [],
   "source": []
  },
  {
   "cell_type": "markdown",
   "metadata": {},
   "source": [
    "<h3> dec, hex, bin </h3>"
   ]
  },
  {
   "cell_type": "code",
   "execution_count": 12,
   "metadata": {},
   "outputs": [],
   "source": [
    "\n",
    "\n",
    "#convert hex to binary simplified\n",
    "def hex2bin (hexString):\n",
    "    ''' returns a bin from a string representing hex number'''\n",
    "    hbDict= {'0':'0000', '1':'0000','2':'0010', '3':'0011','4':'0100','5':'0101','6':'0110',\n",
    "             '7':'0111', '8':'1000','9':'1001','a':'1010','b':'1011','c':'1010','d':'1011',\n",
    "             'e':'1110','f':'1111', '.':'.'}\n",
    "    binString= \"\"\n",
    "    for c in hexString:\n",
    "        binString += hbDict[c]\n",
    "    return binString\n",
    "    "
   ]
  },
  {
   "cell_type": "code",
   "execution_count": 17,
   "metadata": {},
   "outputs": [
    {
     "data": {
      "text/plain": [
       "'11100100.11101111'"
      ]
     },
     "execution_count": 17,
     "metadata": {},
     "output_type": "execute_result"
    }
   ],
   "source": [
    "hex2bin('e4.ef')"
   ]
  },
  {
   "cell_type": "markdown",
   "metadata": {},
   "source": [
    "<h4> generate a like IEEE754 tuple out of a floating point </h4>"
   ]
  },
  {
   "cell_type": "code",
   "execution_count": 41,
   "metadata": {},
   "outputs": [
    {
     "name": "stdout",
     "output_type": "stream",
     "text": [
      "('-', '1.1001100110011001100110011001100110011001100110011010', -4)\n",
      "('+', '0.0000000000000000000000000000000000000000000000000000', 0)\n"
     ]
    },
    {
     "data": {
      "text/plain": [
       "('+', '0.0000000000000000000000000000000000000000000000000000', 0)"
      ]
     },
     "execution_count": 41,
     "metadata": {},
     "output_type": "execute_result"
    }
   ],
   "source": [
    "from math import log\n",
    "    \n",
    "def fp_bin(v):\n",
    "    assert type(v) is float\n",
    "#\n",
    "    BASE= 2\n",
    "    NUM_DIGITS=53\n",
    "    \n",
    "    #get the sign\n",
    "    if v < 0 :\n",
    "        s_sign ='-'\n",
    "    else:\n",
    "        s_sign='+'\n",
    "    \n",
    "    \n",
    "    if v == 0:\n",
    "        baseString =\"0.0000000000000000000000000000000000000000000000000000\"\n",
    "        firstExp=0\n",
    "    else:\n",
    "        v = abs(v)\n",
    "\n",
    "        curFl = v # \"current float\"  will be substracted over the loop\n",
    "        baseString=''\n",
    "        firstExp= int(log(v,BASE))\n",
    "        \n",
    "        if v < 1 :\n",
    "            firstExp =firstExp-1\n",
    "        #print(firstExp)\n",
    "\n",
    "        #loop till NUM_DIGITS to get the ciphers\n",
    "        for exp in range(firstExp, firstExp-NUM_DIGITS , -1):\n",
    "           # print( BASE**exp)\n",
    "            if curFl >= BASE**exp:\n",
    "\n",
    "                curFl = curFl- BASE**exp\n",
    "                baseString = baseString + '1'\n",
    "                if exp == firstExp:\n",
    "                    baseString = baseString + '.'\n",
    "\n",
    "            else:\n",
    "                baseString= baseString +'0'\n",
    "\n",
    "\n",
    "        \n",
    "    v_exp = firstExp\n",
    "    s_bin = baseString\n",
    "    return (s_sign, s_bin, v_exp)\n",
    "\n",
    "a=-0.1\n",
    "b=0.0\n",
    "\n",
    "\n",
    "\n",
    "print(fp_bin(a))\n",
    "print(fp_bin(b))\n",
    "v= 0.0\n",
    "fp_bin(v)\n",
    "      \n"
   ]
  },
  {
   "cell_type": "code",
   "execution_count": 40,
   "metadata": {},
   "outputs": [
    {
     "data": {
      "text/plain": [
       "54"
      ]
     },
     "execution_count": 40,
     "metadata": {},
     "output_type": "execute_result"
    }
   ],
   "source": []
  },
  {
   "cell_type": "code",
   "execution_count": null,
   "metadata": {},
   "outputs": [],
   "source": []
  }
 ],
 "metadata": {
  "kernelspec": {
   "display_name": "Python 3",
   "language": "python",
   "name": "python3"
  },
  "language_info": {
   "codemirror_mode": {
    "name": "ipython",
    "version": 3
   },
   "file_extension": ".py",
   "mimetype": "text/x-python",
   "name": "python",
   "nbconvert_exporter": "python",
   "pygments_lexer": "ipython3",
   "version": "3.6.5"
  }
 },
 "nbformat": 4,
 "nbformat_minor": 2
}
