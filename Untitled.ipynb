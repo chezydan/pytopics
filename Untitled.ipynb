{
 "cells": [
  {
   "cell_type": "code",
   "execution_count": 4,
   "metadata": {},
   "outputs": [
    {
     "data": {
      "image/png": "[encoded data removed]",
      "text/plain": [
       "<Figure size 576x288 with 1 Axes>"
      ]
     },
     "metadata": {},
     "output_type": "display_data"
    },
    {
     "name": "stdout",
     "output_type": "stream",
     "text": [
      "     X     Y\n",
      "     1    10\n",
      "     2    14\n",
      "     3    22\n",
      "1\n"
     ]
    }
   ],
   "source": [
    "from danutils import *\n",
    "danutils.generic(23)\n",
    "\n"
   ]
  },
  {
   "cell_type": "code",
   "execution_count": 6,
   "metadata": {},
   "outputs": [
    {
     "data": {
      "text/plain": [
       "200"
      ]
     },
     "execution_count": 6,
     "metadata": {},
     "output_type": "execute_result"
    }
   ],
   "source": [
    "X=genX(-100,100,1)\n",
    "len(X)"
   ]
  },
  {
   "cell_type": "code",
   "execution_count": 13,
   "metadata": {},
   "outputs": [],
   "source": [
    "y = lambda x : (x-9)**2"
   ]
  },
  {
   "cell_type": "code",
   "execution_count": 14,
   "metadata": {},
   "outputs": [
    {
     "data": {
      "text/plain": [
       "[11881, 11664, 11449]"
      ]
     },
     "execution_count": 14,
     "metadata": {},
     "output_type": "execute_result"
    }
   ],
   "source": [
    "Y=list(map(y,X))\n",
    "Y[:3]"
   ]
  },
  {
   "cell_type": "code",
   "execution_count": 22,
   "metadata": {},
   "outputs": [
    {
     "data": {
      "image/png": "[encoded data removed]",
      "text/plain": [
       "<Figure size 576x288 with 1 Axes>"
      ]
     },
     "metadata": {},
     "output_type": "display_data"
    },
    {
     "name": "stdout",
     "output_type": "stream",
     "text": [
      "     X     Y\n",
      "  -100 11881\n",
      "   -99 11664\n",
      "   -98 11449\n",
      "   -97 11236\n",
      "   -96 11025\n",
      "   -95 10816\n",
      "   -94 10609\n",
      "   -93 10404\n",
      "   -92 10201\n",
      "   -91 10000\n",
      "   -90  9801\n",
      "   -89  9604\n",
      "   -88  9409\n",
      "   -87  9216\n",
      "   -86  9025\n",
      "   -85  8836\n",
      "   -84  8649\n",
      "   -83  8464\n",
      "   -82  8281\n",
      "   -81  8100\n",
      "   -80  7921\n",
      "   -79  7744\n",
      "   -78  7569\n",
      "   -77  7396\n",
      "   -76  7225\n",
      "   -75  7056\n",
      "   -74  6889\n",
      "   -73  6724\n",
      "   -72  6561\n",
      "   -71  6400\n",
      "   -70  6241\n",
      "   -69  6084\n",
      "   -68  5929\n",
      "   -67  5776\n",
      "   -66  5625\n",
      "   -65  5476\n",
      "   -64  5329\n",
      "   -63  5184\n",
      "   -62  5041\n",
      "   -61  4900\n",
      "   -60  4761\n",
      "   -59  4624\n",
      "   -58  4489\n",
      "   -57  4356\n",
      "   -56  4225\n",
      "   -55  4096\n",
      "   -54  3969\n",
      "   -53  3844\n",
      "   -52  3721\n",
      "   -51  3600\n",
      "   -50  3481\n",
      "   -49  3364\n",
      "   -48  3249\n",
      "   -47  3136\n",
      "   -46  3025\n",
      "   -45  2916\n",
      "   -44  2809\n",
      "   -43  2704\n",
      "   -42  2601\n",
      "   -41  2500\n",
      "   -40  2401\n",
      "   -39  2304\n",
      "   -38  2209\n",
      "   -37  2116\n",
      "   -36  2025\n",
      "   -35  1936\n",
      "   -34  1849\n",
      "   -33  1764\n",
      "   -32  1681\n",
      "   -31  1600\n",
      "   -30  1521\n",
      "   -29  1444\n",
      "   -28  1369\n",
      "   -27  1296\n",
      "   -26  1225\n",
      "   -25  1156\n",
      "   -24  1089\n",
      "   -23  1024\n",
      "   -22   961\n",
      "   -21   900\n",
      "   -20   841\n",
      "   -19   784\n",
      "   -18   729\n",
      "   -17   676\n",
      "   -16   625\n",
      "   -15   576\n",
      "   -14   529\n",
      "   -13   484\n",
      "   -12   441\n",
      "   -11   400\n",
      "   -10   361\n",
      "    -9   324\n",
      "    -8   289\n",
      "    -7   256\n",
      "    -6   225\n",
      "    -5   196\n",
      "    -4   169\n",
      "    -3   144\n",
      "    -2   121\n",
      "    -1   100\n",
      "     0    81\n",
      "     1    64\n",
      "     2    49\n",
      "     3    36\n",
      "     4    25\n",
      "     5    16\n",
      "     6     9\n",
      "     7     4\n",
      "     8     1\n",
      "     9     0\n",
      "    10     1\n",
      "    11     4\n",
      "    12     9\n",
      "    13    16\n",
      "    14    25\n",
      "    15    36\n",
      "    16    49\n",
      "    17    64\n",
      "    18    81\n",
      "    19   100\n",
      "    20   121\n",
      "    21   144\n",
      "    22   169\n",
      "    23   196\n",
      "    24   225\n",
      "    25   256\n",
      "    26   289\n",
      "    27   324\n",
      "    28   361\n",
      "    29   400\n",
      "    30   441\n",
      "    31   484\n",
      "    32   529\n",
      "    33   576\n",
      "    34   625\n",
      "    35   676\n",
      "    36   729\n",
      "    37   784\n",
      "    38   841\n",
      "    39   900\n",
      "    40   961\n",
      "    41  1024\n",
      "    42  1089\n",
      "    43  1156\n",
      "    44  1225\n",
      "    45  1296\n",
      "    46  1369\n",
      "    47  1444\n",
      "    48  1521\n",
      "    49  1600\n",
      "    50  1681\n",
      "    51  1764\n",
      "    52  1849\n",
      "    53  1936\n",
      "    54  2025\n",
      "    55  2116\n",
      "    56  2209\n",
      "    57  2304\n",
      "    58  2401\n",
      "    59  2500\n",
      "    60  2601\n",
      "    61  2704\n",
      "    62  2809\n",
      "    63  2916\n",
      "    64  3025\n",
      "    65  3136\n",
      "    66  3249\n",
      "    67  3364\n",
      "    68  3481\n",
      "    69  3600\n",
      "    70  3721\n",
      "    71  3844\n",
      "    72  3969\n",
      "    73  4096\n",
      "    74  4225\n",
      "    75  4356\n",
      "    76  4489\n",
      "    77  4624\n",
      "    78  4761\n",
      "    79  4900\n",
      "    80  5041\n",
      "    81  5184\n",
      "    82  5329\n",
      "    83  5476\n",
      "    84  5625\n",
      "    85  5776\n",
      "    86  5929\n",
      "    87  6084\n",
      "    88  6241\n",
      "    89  6400\n",
      "    90  6561\n",
      "    91  6724\n",
      "    92  6889\n",
      "    93  7056\n",
      "    94  7225\n",
      "    95  7396\n",
      "    96  7569\n",
      "    97  7744\n",
      "    98  7921\n",
      "    99  8100\n",
      "intercept: 81\n",
      "-100\n"
     ]
    }
   ],
   "source": [
    "plotFunc(X,Y,False)\n",
    "tableArrays(X,Y)"
   ]
  },
  {
   "cell_type": "code",
   "execution_count": null,
   "metadata": {},
   "outputs": [],
   "source": []
  },
  {
   "cell_type": "code",
   "execution_count": 33,
   "metadata": {},
   "outputs": [
    {
     "name": "stdout",
     "output_type": "stream",
     "text": [
      "(1+3j)\n"
     ]
    },
    {
     "data": {
      "text/plain": [
       "(-1+0j)"
      ]
     },
     "execution_count": 33,
     "metadata": {},
     "output_type": "execute_result"
    }
   ],
   "source": [
    "c1= complex(1,3)\n",
    "print(c1)\n",
    "c2=complex(2,2)\n",
    "(complex(0,1) * complex(0,1))\n",
    "\n"
   ]
  },
  {
   "cell_type": "code",
   "execution_count": 32,
   "metadata": {},
   "outputs": [
    {
     "ename": "ValueError",
     "evalue": "math domain error",
     "output_type": "error",
     "traceback": [
      "\u001b[0;31m---------------------------------------------------------------------------\u001b[0m",
      "\u001b[0;31mValueError\u001b[0m                                Traceback (most recent call last)",
      "\u001b[0;32m<ipython-input-32-3f8e825b6ccd>\u001b[0m in \u001b[0;36m<module>\u001b[0;34m()\u001b[0m\n\u001b[1;32m      1\u001b[0m \u001b[0;32mfrom\u001b[0m \u001b[0mmath\u001b[0m \u001b[0;32mimport\u001b[0m \u001b[0msqrt\u001b[0m\u001b[0;34m\u001b[0m\u001b[0m\n\u001b[0;32m----> 2\u001b[0;31m \u001b[0msqrt\u001b[0m\u001b[0;34m(\u001b[0m\u001b[0;34m-\u001b[0m\u001b[0;36m1\u001b[0m\u001b[0;34m)\u001b[0m\u001b[0;34m\u001b[0m\u001b[0m\n\u001b[0m",
      "\u001b[0;31mValueError\u001b[0m: math domain error"
     ]
    }
   ],
   "source": [
    "from math import sqrt\n",
    "sqrt(-1)"
   ]
  },
  {
   "cell_type": "code",
   "execution_count": 34,
   "metadata": {},
   "outputs": [
    {
     "data": {
      "text/plain": [
       "<Figure size 640x480 with 1 Axes>"
      ]
     },
     "metadata": {},
     "output_type": "display_data"
    }
   ],
   "source": [
    "import matplotlib.pyplot as plt\n",
    "import numpy as np\n",
    "\n",
    "cnums = np.arange(5) + 1j * np.arange(6,11)\n",
    "X = [x.real for x in cnums]\n",
    "Y = [x.imag for x in cnums]\n",
    "plt.scatter(X,Y, color='red')\n",
    "plt.show()"
   ]
  },
  {
   "cell_type": "code",
   "execution_count": null,
   "metadata": {},
   "outputs": [],
   "source": []
  },
  {
   "cell_type": "code",
   "execution_count": null,
   "metadata": {},
   "outputs": [],
   "source": []
  },
  {
   "cell_type": "code",
   "execution_count": null,
   "metadata": {},
   "outputs": [],
   "source": []
  },
  {
   "cell_type": "code",
   "execution_count": null,
   "metadata": {},
   "outputs": [],
   "source": []
  },
  {
   "cell_type": "code",
   "execution_count": null,
   "metadata": {},
   "outputs": [],
   "source": []
  }
 ],
 "metadata": {
  "kernelspec": {
   "display_name": "Python 3",
   "language": "python",
   "name": "python3"
  },
  "language_info": {
   "codemirror_mode": {
    "name": "ipython",
    "version": 3
   },
   "file_extension": ".py",
   "mimetype": "text/x-python",
   "name": "python",
   "nbconvert_exporter": "python",
   "pygments_lexer": "ipython3",
   "version": "3.6.5"
  }
 },
 "nbformat": 4,
 "nbformat_minor": 2
}
