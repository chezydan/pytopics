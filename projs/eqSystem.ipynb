{
 "cells": [
  {
   "cell_type": "code",
   "execution_count": 388,
   "metadata": {
    "collapsed": true
   },
   "outputs": [],
   "source": [
    "import numpy as np\n",
    "\n",
    "\n",
    "class eqsystem:\n",
    "    def __init__(self, L1,L2):\n",
    "    # x1 + x2 =a\n",
    "    # y1 + y2 =b\n",
    "    #\n",
    "        self.arrA= np.array(L1)\n",
    "        self.arrB= np.array(L2)\n",
    "        self.x=0\n",
    "        self.y=0\n",
    "        self.arrC=np.zeros(3)\n",
    "        self.solved= False\n",
    "        \n",
    "    \n",
    "    def display(self):\n",
    "        '''display the system'''\n",
    "        print(\"1.  {:}x {:+}y = {:}\".format(self.arrA[0], self.arrA[1],self.arrA[2] ) )\n",
    "        print(\"2.  {:}x {:+}y = {:}\".format(self.arrB[0], self.arrB[1],self.arrB[2] ) )\n",
    "        \n",
    "    def displayArray(self , array):\n",
    "        print(\"2.  {:}x {:+}y = {:}\".format(array[0], array[1],array[2] ) )\n",
    "        \n",
    "        \n",
    "    def multiply(self, arrN, coeff):\n",
    "        assert arrN == 1 or arrN ==2,\"equation number must be valid!\"\n",
    "        if arrN ==1:\n",
    "            self.arrA = self.arrA * coeff\n",
    "           # self.x1,self.y1,self.a = self.arrA\n",
    "        if arrN==2:\n",
    "            self.arrB = self.arrB * coeff\n",
    "            #self.x2,self.y2,self.b =self.arrB\n",
    "            \n",
    "    def solveFor(self,var):\n",
    "        ''' solves the system via x or y'''\n",
    "        assert(var =='x' or var == 'y')\n",
    "        \n",
    "        self.arrC = self.arrA - self.arrB\n",
    "        \n",
    "        if var == 'x' :\n",
    "            self.x = self.arrC[2] / self.arrC[0]            \n",
    "            self.y =  (self.arrA[2] - self.arrA[0] * self.x )/ self.arrA[1]\n",
    "                  \n",
    "                  \n",
    "        if var == 'y' :\n",
    "            self.y = self.arrC[2] / self.arrC[1]                      \n",
    "            self.x= (self.arrA[2] - self.arrA[1]* self.y ) /                  self.arrA[0]\n",
    "            \n",
    "        self.solved=True\n",
    "        self.display()\n",
    "        self.displayArray(self.arrC)\n",
    "        return (self.x, self.y)\n",
    "    \n",
    "    def printxy(self):\n",
    "                        \n",
    "        if self.solved:\n",
    "            print(\"x= {:}\".format(self.x))\n",
    "            print(\"y= {:}\".format(self.y))\n",
    "    \n",
    "    \n",
    "   \n",
    "\n",
    "    def solveSystem(self,l1,l2):\n",
    "        ''' helper: solves a system  of 2 equations asume to lists with the 2 lines in the equation'''\n",
    "        A,B = sysListToMat(l1,l2)\n",
    "        C=np.linalg.inv(A) @ B\n",
    "        return C\n",
    "    \n",
    "    def autoSolve(self):\n",
    "        \n",
    "        #A left-side coeffs matrix        B results matrix\n",
    "        A= np.array( [self.arrA[:2] ,  self.arrB[:2] ])\n",
    "        #print(A)\n",
    "        B= np.array([ self.arrA[2], self.arrB[2]] )\n",
    "        #print(\"B:\" + str(B))\n",
    "        C = np.linalg.inv(A) @ B\n",
    "        #print(C)\n",
    "        \n",
    "        x,y = C\n",
    "    \n",
    "    \n",
    "        x,y =np.round(x,3),np.round(y,3)\n",
    "        return(x,y)\n",
    "\n"
   ]
  },
  {
   "cell_type": "code",
   "execution_count": 390,
   "metadata": {},
   "outputs": [
    {
     "name": "stdout",
     "output_type": "stream",
     "text": [
      "[[ 3 -4]\n",
      " [ 3  7]]\n",
      "B:[32 10]\n",
      "[ 8. -2.]\n"
     ]
    },
    {
     "data": {
      "text/plain": [
       "-2.0"
      ]
     },
     "execution_count": 390,
     "metadata": {},
     "output_type": "execute_result"
    }
   ],
   "source": [
    "l1=[3, -4 , 32]\n",
    "l2 = [ 3 , 7, 10]\n",
    "s1=eqsystem(l1,l2)\n",
    "x,y = s1.autoSolve()\n",
    "x\n",
    "y"
   ]
  },
  {
   "cell_type": "code",
   "execution_count": 391,
   "metadata": {},
   "outputs": [],
   "source": [
    "s1.printxy()"
   ]
  },
  {
   "cell_type": "code",
   "execution_count": 392,
   "metadata": {},
   "outputs": [
    {
     "name": "stdout",
     "output_type": "stream",
     "text": [
      "1.  3x -4y = 32\n",
      "2.  3x +7y = 10\n"
     ]
    }
   ],
   "source": [
    "\n",
    "s1=eqsystem(l1,l2)\n",
    "s1.display()\n"
   ]
  },
  {
   "cell_type": "code",
   "execution_count": 393,
   "metadata": {},
   "outputs": [
    {
     "name": "stdout",
     "output_type": "stream",
     "text": [
      "1.  3x -4y = 32\n",
      "2.  3x +7y = 10\n",
      "2.  0x -11y = 22\n"
     ]
    },
    {
     "data": {
      "text/plain": [
       "(8.0, -2.0)"
      ]
     },
     "execution_count": 393,
     "metadata": {},
     "output_type": "execute_result"
    }
   ],
   "source": [
    "s1.solveFor('y')"
   ]
  },
  {
   "cell_type": "code",
   "execution_count": 290,
   "metadata": {},
   "outputs": [
    {
     "name": "stdout",
     "output_type": "stream",
     "text": [
      "x= 8.0\n",
      "y= -2.0\n"
     ]
    }
   ],
   "source": [
    "s1.printxy()\n",
    "#s1.display()\n"
   ]
  },
  {
   "cell_type": "code",
   "execution_count": 284,
   "metadata": {},
   "outputs": [
    {
     "name": "stdout",
     "output_type": "stream",
     "text": [
      "[  0 -11  22]\n",
      "1.  3x -4y = 32\n",
      "2.  3x +7y = 10\n",
      "2.  0x -11y = 22\n"
     ]
    },
    {
     "data": {
      "text/plain": [
       "(1.2, 1.7666)"
      ]
     },
     "execution_count": 284,
     "metadata": {},
     "output_type": "execute_result"
    }
   ],
   "source": [
    "s1.solveFor('y')\n"
   ]
  },
  {
   "cell_type": "code",
   "execution_count": 317,
   "metadata": {},
   "outputs": [],
   "source": [
    "l1=[-4,3,22]\n",
    "l2= [1,-5,-40]\n",
    "s2= eqsystem(l1,l2)"
   ]
  },
  {
   "cell_type": "code",
   "execution_count": 310,
   "metadata": {},
   "outputs": [
    {
     "name": "stdout",
     "output_type": "stream",
     "text": [
      "1.  -4x +3y = 22\n",
      "2.  1x -5y = -40\n"
     ]
    }
   ],
   "source": [
    "s2.display()"
   ]
  },
  {
   "cell_type": "code",
   "execution_count": 318,
   "metadata": {},
   "outputs": [],
   "source": [
    "s2.multiply(2, -4)"
   ]
  },
  {
   "cell_type": "code",
   "execution_count": 319,
   "metadata": {},
   "outputs": [
    {
     "name": "stdout",
     "output_type": "stream",
     "text": [
      "1.  -4x +3y = 22\n",
      "2.  -4x +20y = 160\n"
     ]
    }
   ],
   "source": [
    "s2.display()"
   ]
  },
  {
   "cell_type": "code",
   "execution_count": 320,
   "metadata": {},
   "outputs": [
    {
     "name": "stdout",
     "output_type": "stream",
     "text": [
      "1.  -4x +3y = 22\n",
      "2.  -4x +20y = 160\n",
      "2.  0x -17y = -138\n"
     ]
    }
   ],
   "source": [
    "x,y = s2.solveFor('y')"
   ]
  },
  {
   "cell_type": "code",
   "execution_count": 321,
   "metadata": {},
   "outputs": [
    {
     "name": "stdout",
     "output_type": "stream",
     "text": [
      "x= 0.5882352941176467\n",
      "y= 8.117647058823529\n"
     ]
    }
   ],
   "source": [
    "s2.printxy()"
   ]
  },
  {
   "cell_type": "code",
   "execution_count": 322,
   "metadata": {},
   "outputs": [
    {
     "data": {
      "text/plain": [
       "22.0"
      ]
     },
     "execution_count": 322,
     "metadata": {},
     "output_type": "execute_result"
    }
   ],
   "source": [
    "-4* x + 3 * y"
   ]
  },
  {
   "cell_type": "code",
   "execution_count": 323,
   "metadata": {},
   "outputs": [
    {
     "data": {
      "text/plain": [
       "-40.0"
      ]
     },
     "execution_count": 323,
     "metadata": {},
     "output_type": "execute_result"
    }
   ],
   "source": [
    "1*x -5*y "
   ]
  },
  {
   "cell_type": "code",
   "execution_count": null,
   "metadata": {},
   "outputs": [],
   "source": []
  }
 ],
 "metadata": {
  "kernelspec": {
   "display_name": "Python 3",
   "language": "python",
   "name": "python3"
  },
  "language_info": {
   "codemirror_mode": {
    "name": "ipython",
    "version": 3
   },
   "file_extension": ".py",
   "mimetype": "text/x-python",
   "name": "python",
   "nbconvert_exporter": "python",
   "pygments_lexer": "ipython3",
   "version": "3.6.5"
  }
 },
 "nbformat": 4,
 "nbformat_minor": 2
}
