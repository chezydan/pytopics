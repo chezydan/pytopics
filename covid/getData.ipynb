{
 "cells": [
  {
   "cell_type": "code",
   "execution_count": 1,
   "metadata": {},
   "outputs": [],
   "source": [
    "import requests\n",
    "import bs4"
   ]
  },
  {
   "cell_type": "code",
   "execution_count": 13,
   "metadata": {},
   "outputs": [],
   "source": [
    "#link\n",
    "u = \"https://en.wikipedia.org/wiki/2020_coronavirus_pandemic_in_Israel\"\n",
    "#file name without extension\n",
    "fileName=\"IsrCovid20000411\""
   ]
  },
  {
   "cell_type": "code",
   "execution_count": 17,
   "metadata": {},
   "outputs": [
    {
     "name": "stdout",
     "output_type": "stream",
     "text": [
      "200\n"
     ]
    }
   ],
   "source": [
    "u2= \"https://www.tvpublica.com.ar/post/diez-grandes-libros-que-dan-respuesta-a-la-pregunta-por-el-arte\"\n",
    "res = requests.get(u2)\n",
    "print(res.status_code)\n",
    "bst= bs4.BeautifulSoup(res.text) "
   ]
  },
  {
   "cell_type": "code",
   "execution_count": 17,
   "metadata": {},
   "outputs": [
    {
     "name": "stdout",
     "output_type": "stream",
     "text": [
      "200\n"
     ]
    }
   ],
   "source": [
    "# request and bs objects\n",
    "res = requests.get(u)\n",
    "print(res.status_code)\n",
    "\n",
    "bst= bs4.BeautifulSoup(res.text) # .text of requests object is taken as parameter\n",
    "#type(bst)\n"
   ]
  },
  {
   "cell_type": "code",
   "execution_count": 16,
   "metadata": {},
   "outputs": [],
   "source": [
    "#function for get number in td /table\n",
    "def getNumber(inputString):\n",
    "    wholeString = inputString.replace(',','')\n",
    "    #print(wholeString)\n",
    "    try:\n",
    "        ind = wholeString.find(\"(\")\n",
    "        return int(wholeString[:ind])\n",
    "    except ValueError:\n",
    "        return \"\"\n",
    "#beforeParenth(\"15,333)\")\n"
   ]
  },
  {
   "cell_type": "code",
   "execution_count": 18,
   "metadata": {},
   "outputs": [],
   "source": [
    "tableNum=2 #2   ,4\n",
    "#tables[tableNum]"
   ]
  },
  {
   "cell_type": "code",
   "execution_count": 27,
   "metadata": {},
   "outputs": [
    {
     "name": "stdout",
     "output_type": "stream",
     "text": [
      "4\n"
     ]
    },
    {
     "data": {
      "text/plain": [
       "['',\n",
       " 2,\n",
       " 2,\n",
       " 2,\n",
       " 2,\n",
       " 2,\n",
       " 3,\n",
       " 5,\n",
       " 7,\n",
       " 10,\n",
       " 12,\n",
       " 12,\n",
       " 15,\n",
       " 16,\n",
       " 20,\n",
       " 22,\n",
       " 37,\n",
       " 39,\n",
       " 59,\n",
       " 77,\n",
       " 99,\n",
       " 130,\n",
       " 164,\n",
       " 200,\n",
       " 253,\n",
       " 318,\n",
       " 421,\n",
       " 524,\n",
       " 677,\n",
       " 838,\n",
       " 943,\n",
       " 1207,\n",
       " 1552,\n",
       " 2000,\n",
       " 2463,\n",
       " 3011,\n",
       " 3404,\n",
       " 3824,\n",
       " 4316,\n",
       " 4782,\n",
       " 5523,\n",
       " 6186,\n",
       " 6901,\n",
       " 7533,\n",
       " 7989,\n",
       " 8618,\n",
       " 8970,\n",
       " 9313,\n",
       " 9749,\n",
       " 10067,\n",
       " 10441,\n",
       " 10743]"
      ]
     },
     "execution_count": 27,
     "metadata": {},
     "output_type": "execute_result"
    }
   ],
   "source": [
    "#get cases data from table in ws\n",
    "tables =bst.select('table')\n",
    "t2=tables[tableNum]\n",
    "\n",
    "trs=t2.find_all('tr')\n",
    "\n",
    "tds = trs[3].find_all('td')\n",
    "nCols=len(tds)\n",
    "print(nCols)\n",
    "\n",
    "casesList = []\n",
    "for tr in trs:\n",
    "    #rowList=[]\n",
    "    tds = tr.find_all('td')\n",
    "    counter =0\n",
    "    #print(\"new row -----------\")\n",
    "    for td in tds:\n",
    "        \n",
    "        #strTable += (td.text).strip(\" \").strip('\\t').strip('\\n')\n",
    "        if counter ==2:\n",
    "            #rowList.append(td.text)\n",
    "            cases = getNumber(td.text)\n",
    "            casesList.append(cases)\n",
    "        counter += 1\n",
    "    \n",
    "    \n",
    "\n",
    "        \n",
    "        \n",
    "#print the list of cases \n",
    "casesList"
   ]
  },
  {
   "cell_type": "code",
   "execution_count": 28,
   "metadata": {},
   "outputs": [
    {
     "data": {
      "text/plain": [
       "[2,\n",
       " 2,\n",
       " 2,\n",
       " 2,\n",
       " 2,\n",
       " 3,\n",
       " 5,\n",
       " 7,\n",
       " 10,\n",
       " 12,\n",
       " 12,\n",
       " 15,\n",
       " 16,\n",
       " 20,\n",
       " 22,\n",
       " 37,\n",
       " 39,\n",
       " 59,\n",
       " 77,\n",
       " 99,\n",
       " 130,\n",
       " 164,\n",
       " 200,\n",
       " 253,\n",
       " 318,\n",
       " 421,\n",
       " 524,\n",
       " 677,\n",
       " 838,\n",
       " 943,\n",
       " 1207,\n",
       " 1552,\n",
       " 2000,\n",
       " 2463,\n",
       " 3011,\n",
       " 3404,\n",
       " 3824,\n",
       " 4316,\n",
       " 4782,\n",
       " 5523,\n",
       " 6186,\n",
       " 6901,\n",
       " 7533,\n",
       " 7989,\n",
       " 8618,\n",
       " 8970,\n",
       " 9313,\n",
       " 9749,\n",
       " 10067,\n",
       " 10441,\n",
       " 10743]"
      ]
     },
     "execution_count": 28,
     "metadata": {},
     "output_type": "execute_result"
    }
   ],
   "source": [
    "#adjust the list cutting inecessary rows\n",
    "casesList = casesList[1:                     ]\n",
    "casesList"
   ]
  },
  {
   "cell_type": "code",
   "execution_count": null,
   "metadata": {},
   "outputs": [],
   "source": []
  },
  {
   "cell_type": "code",
   "execution_count": null,
   "metadata": {},
   "outputs": [],
   "source": []
  },
  {
   "cell_type": "code",
   "execution_count": null,
   "metadata": {},
   "outputs": [],
   "source": [
    "\n"
   ]
  },
  {
   "cell_type": "code",
   "execution_count": 29,
   "metadata": {},
   "outputs": [],
   "source": [
    "#days list for the DF\n",
    "def generateList (casesList):\n",
    "    return [i for i in range(0,len(casesList))]"
   ]
  },
  {
   "cell_type": "code",
   "execution_count": 10,
   "metadata": {},
   "outputs": [
    {
     "data": {
      "text/plain": [
       "[49, 50, 51, 52]"
      ]
     },
     "execution_count": 10,
     "metadata": {},
     "output_type": "execute_result"
    }
   ],
   "source": [
    "days= [ i for i in range (1, len(casesList)+1)]\n",
    "days[-4:]"
   ]
  },
  {
   "cell_type": "code",
   "execution_count": 30,
   "metadata": {},
   "outputs": [
    {
     "data": {
      "text/html": [
       "<div>\n",
       "<style scoped>\n",
       "    .dataframe tbody tr th:only-of-type {\n",
       "        vertical-align: middle;\n",
       "    }\n",
       "\n",
       "    .dataframe tbody tr th {\n",
       "        vertical-align: top;\n",
       "    }\n",
       "\n",
       "    .dataframe thead th {\n",
       "        text-align: right;\n",
       "    }\n",
       "</style>\n",
       "<table border=\"1\" class=\"dataframe\">\n",
       "  <thead>\n",
       "    <tr style=\"text-align: right;\">\n",
       "      <th></th>\n",
       "      <th>day</th>\n",
       "      <th>cases</th>\n",
       "    </tr>\n",
       "  </thead>\n",
       "  <tbody>\n",
       "    <tr>\n",
       "      <th>0</th>\n",
       "      <td>1</td>\n",
       "      <td>2</td>\n",
       "    </tr>\n",
       "    <tr>\n",
       "      <th>1</th>\n",
       "      <td>2</td>\n",
       "      <td>2</td>\n",
       "    </tr>\n",
       "  </tbody>\n",
       "</table>\n",
       "</div>"
      ],
      "text/plain": [
       "   day  cases\n",
       "0    1      2\n",
       "1    2      2"
      ]
     },
     "execution_count": 30,
     "metadata": {},
     "output_type": "execute_result"
    }
   ],
   "source": [
    "#building DF\n",
    "import pandas as pd\n",
    "\n",
    "df = pd.DataFrame(list(zip(days, casesList)), columns=['day','cases']  ) \n",
    "df.head(2)"
   ]
  },
  {
   "cell_type": "code",
   "execution_count": 31,
   "metadata": {},
   "outputs": [
    {
     "name": "stdout",
     "output_type": "stream",
     "text": [
      "file exported as: \n",
      "IsrCovid20000411.csv\n"
     ]
    }
   ],
   "source": [
    "#saving to csv\n",
    "df.to_csv(fileName+\".csv\")\n",
    "print(\"file exported as: \\n\"+fileName+\".csv\")"
   ]
  },
  {
   "cell_type": "code",
   "execution_count": null,
   "metadata": {},
   "outputs": [],
   "source": []
  },
  {
   "cell_type": "code",
   "execution_count": null,
   "metadata": {},
   "outputs": [],
   "source": []
  }
 ],
 "metadata": {
  "kernelspec": {
   "display_name": "Python 3",
   "language": "python",
   "name": "python3"
  },
  "language_info": {
   "codemirror_mode": {
    "name": "ipython",
    "version": 3
   },
   "file_extension": ".py",
   "mimetype": "text/x-python",
   "name": "python",
   "nbconvert_exporter": "python",
   "pygments_lexer": "ipython3",
   "version": "3.7.3"
  }
 },
 "nbformat": 4,
 "nbformat_minor": 2
}
