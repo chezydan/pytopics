{
 "cells": [
  {
   "cell_type": "markdown",
   "metadata": {},
   "source": [
    "<h1> test COVID 19 </h1>\n"
   ]
  },
  {
   "cell_type": "code",
   "execution_count": 1,
   "metadata": {},
   "outputs": [],
   "source": [
    "#import dependencies\n",
    "import pandas as pd\n",
    "import matplotlib.pyplot as plt"
   ]
  },
  {
   "cell_type": "code",
   "execution_count": 2,
   "metadata": {},
   "outputs": [],
   "source": [
    "country =\"Israel\""
   ]
  },
  {
   "cell_type": "code",
   "execution_count": 79,
   "metadata": {},
   "outputs": [],
   "source": [
    "#!dir *.csv"
   ]
  },
  {
   "cell_type": "code",
   "execution_count": 3,
   "metadata": {},
   "outputs": [
    {
     "name": "stdout",
     "output_type": "stream",
     "text": [
      "   Unnamed: 0  day  cases\n",
      "0           0    1      2\n",
      "1           1    2      2\n",
      "2           2    3      2\n",
      "3           3    4      2\n",
      "4           4    5      2\n"
     ]
    },
    {
     "data": {
      "text/plain": [
       "(51, 3)"
      ]
     },
     "execution_count": 3,
     "metadata": {},
     "output_type": "execute_result"
    }
   ],
   "source": [
    "#build DF\n",
    "df = pd.read_csv(\"IsrCovid20000411.csv\")\n",
    "\n",
    "print(df.head())\n",
    "df.shape"
   ]
  },
  {
   "cell_type": "code",
   "execution_count": null,
   "metadata": {},
   "outputs": [],
   "source": []
  },
  {
   "cell_type": "code",
   "execution_count": 4,
   "metadata": {},
   "outputs": [],
   "source": [
    "# building vectors\n",
    "xs = df[\"day\"]\n",
    "ys = df[\"cases\"]"
   ]
  },
  {
   "cell_type": "code",
   "execution_count": 5,
   "metadata": {},
   "outputs": [],
   "source": [
    "#graph array and ML dependencies\n",
    "import numpy as np\n",
    "import matplotlib.pyplot as plt\n",
    "\n",
    "from sklearn.linear_model import LinearRegression\n",
    "from sklearn.preprocessing import FunctionTransformer"
   ]
  },
  {
   "cell_type": "code",
   "execution_count": 7,
   "metadata": {},
   "outputs": [],
   "source": [
    "# General Functions\n",
    "def func_exp(x, a, b, c):\n",
    "    \"\"\"Return values from a general exponential function.\"\"\"\n",
    "    return a * np.exp(b * x) + c\n",
    "\n",
    "def func_log(x, a, b, c):\n",
    "    \"\"\"Return values from a general log function.\"\"\"\n",
    "    return a * np.log(b * x) + c"
   ]
  },
  {
   "cell_type": "code",
   "execution_count": 6,
   "metadata": {},
   "outputs": [],
   "source": [
    "#transformer obj, to transform to log\n",
    "transformer = FunctionTransformer(np.log, validate=True)"
   ]
  },
  {
   "cell_type": "code",
   "execution_count": 7,
   "metadata": {},
   "outputs": [],
   "source": [
    "#adjusting data arrays to shape for model fitting\n",
    "xs = xs.values.reshape(-1,1)\n",
    "ys = ys.values.reshape(-1,1)\n",
    "#transform y values to log(y) for linear regression serving for exp or log fit\n",
    "y_trans = transformer.fit_transform(ys)"
   ]
  },
  {
   "cell_type": "code",
   "execution_count": 8,
   "metadata": {},
   "outputs": [],
   "source": [
    "#fit the model\n",
    "model = LinearRegression().fit(xs, y_trans)  "
   ]
  },
  {
   "cell_type": "code",
   "execution_count": 9,
   "metadata": {},
   "outputs": [
    {
     "name": "stdout",
     "output_type": "stream",
     "text": [
      "[[1.21734159]]\n"
     ]
    }
   ],
   "source": [
    "#print the slope\n",
    "coeff=model.coef_\n",
    "coeff=np.exp(coeff)\n",
    "print(coeff)"
   ]
  },
  {
   "cell_type": "code",
   "execution_count": 10,
   "metadata": {},
   "outputs": [],
   "source": [
    "#get y_hat\n",
    "y_fit = model.predict(xs)"
   ]
  },
  {
   "cell_type": "code",
   "execution_count": 13,
   "metadata": {},
   "outputs": [
    {
     "data": {
      "image/png": "[encoded data removed]",
      "text/plain": [
       "<Figure size 432x288 with 1 Axes>"
      ]
     },
     "metadata": {
      "needs_background": "light"
     },
     "output_type": "display_data"
    }
   ],
   "source": [
    "#loop \n",
    "from IPython.display import clear_output\n",
    "%matplotlib inline\n",
    "from time import sleep\n",
    "for length in range (3,len(xs)):\n",
    "    \n",
    "    #print(length)\n",
    "    #build  arrays\n",
    "    xPartial=xs[:length]\n",
    "    yPartial =ys[:length]\n",
    "    yTransPartial= y_trans[:length]\n",
    "    #fit model\n",
    "    modelP = LinearRegression().fit(xPartial,yTransPartial)\n",
    "    #get coeff\n",
    "    #coefPartial = np.exp(modelP.coef)\n",
    "    #get y_hat - partial\n",
    "    y_fitPartial = modelP.predict(xPartial)\n",
    "    \n",
    "    coeff=modelP.coef_\n",
    "    coeff=np.exp(coeff)\n",
    "    print(coeff)\n",
    "    plt.pause(0.7)\n",
    "    clear_output()\n",
    "    \n",
    "    #graph\n",
    "    plt.scatter(xPartial, yPartial)\n",
    "    plt.plot(xPartial, np.exp(y_fitPartial), \"k--\" , label = \"Fit partial\" )\n",
    "    plt.title(\"COVID 19  model for \"+country)\n",
    "    \n",
    "    \n",
    "\n",
    "    \n",
    "    \n",
    "    \n",
    "    \n",
    "    "
   ]
  },
  {
   "cell_type": "code",
   "execution_count": 12,
   "metadata": {
    "scrolled": true
   },
   "outputs": [
    {
     "data": {
      "text/plain": [
       "Text(0.5, 1.0, 'COVID 19  model for Israel')"
      ]
     },
     "execution_count": 12,
     "metadata": {},
     "output_type": "execute_result"
    },
    {
     "data": {
      "image/png": "[encoded data removed]",
      "text/plain": [
       "<Figure size 432x288 with 1 Axes>"
      ]
     },
     "metadata": {
      "needs_background": "light"
     },
     "output_type": "display_data"
    }
   ],
   "source": [
    "#graph\n",
    "plt.scatter(xs, ys)\n",
    "plt.plot(xs, np.exp(y_fit), \"k--\", label=\"Fit\")     # 3\n",
    "plt.title(\"COVID 19  model for \"+country)"
   ]
  },
  {
   "cell_type": "code",
   "execution_count": 90,
   "metadata": {},
   "outputs": [
    {
     "data": {
      "text/plain": [
       "array([[31.55803287]])"
      ]
     },
     "execution_count": 90,
     "metadata": {},
     "output_type": "execute_result"
    }
   ],
   "source": [
    "#show example of predicted value\n",
    "np.exp(model.predict([[15]]))"
   ]
  },
  {
   "cell_type": "code",
   "execution_count": 91,
   "metadata": {},
   "outputs": [],
   "source": [
    "#predict function of easy prediction (dayNum)\n",
    "def predict(day):\n",
    "    return np.exp(model.predict(np.array([day]).reshape(-1,1)))[0][0]"
   ]
  },
  {
   "cell_type": "code",
   "execution_count": 92,
   "metadata": {},
   "outputs": [
    {
     "name": "stdout",
     "output_type": "stream",
     "text": [
      "10 :  9.3\n",
      "11 :  11.9\n",
      "12 :  15.2\n",
      "13 :  19.4\n",
      "14 :  24.7\n"
     ]
    }
   ],
   "source": [
    "for x in range(10,15):\n",
    "    print(\"{:.0f} :  {:.1f}\".format(x,predict(x) ) )"
   ]
  },
  {
   "cell_type": "code",
   "execution_count": null,
   "metadata": {},
   "outputs": [],
   "source": []
  },
  {
   "cell_type": "code",
   "execution_count": 93,
   "metadata": {},
   "outputs": [
    {
     "name": "stdout",
     "output_type": "stream",
     "text": [
      "1 1\n",
      "2 1\n",
      "3 2\n",
      "4 2\n",
      "5 2\n",
      "6 3\n",
      "7 7\n",
      "8 7\n",
      "9 10\n",
      "10 12\n",
      "11 12\n",
      "12 15\n"
     ]
    }
   ],
   "source": [
    "for i in range(0,12):\n",
    "    print(str(i+1) + \" \" +str (ys[i][0]))"
   ]
  },
  {
   "cell_type": "code",
   "execution_count": 94,
   "metadata": {},
   "outputs": [
    {
     "data": {
      "text/plain": [
       "0.3018254296860727"
      ]
     },
     "execution_count": 94,
     "metadata": {},
     "output_type": "execute_result"
    }
   ],
   "source": [
    "#compute average daily growth\n",
    "def dailyGrowth (ys):   \n",
    "    gs = []\n",
    "    for i in range(1,len(ys)):\n",
    "        g=  (ys[i]- ys[i-1])/ys[i-1]\n",
    "        g = g[0]\n",
    "        gs.append(g)\n",
    "    return(gs)               \n",
    "def avgDailyGrowth(ys):\n",
    "    return np.mean(dailyGrowth(ys))\n",
    "\n",
    "avgDailyGrowth(ys)\n"
   ]
  },
  {
   "cell_type": "code",
   "execution_count": null,
   "metadata": {},
   "outputs": [],
   "source": []
  },
  {
   "cell_type": "code",
   "execution_count": null,
   "metadata": {},
   "outputs": [],
   "source": []
  },
  {
   "cell_type": "code",
   "execution_count": null,
   "metadata": {},
   "outputs": [],
   "source": []
  },
  {
   "cell_type": "code",
   "execution_count": null,
   "metadata": {},
   "outputs": [],
   "source": []
  },
  {
   "cell_type": "code",
   "execution_count": null,
   "metadata": {},
   "outputs": [],
   "source": []
  }
 ],
 "metadata": {
  "kernelspec": {
   "display_name": "Python 3",
   "language": "python",
   "name": "python3"
  },
  "language_info": {
   "codemirror_mode": {
    "name": "ipython",
    "version": 3
   },
   "file_extension": ".py",
   "mimetype": "text/x-python",
   "name": "python",
   "nbconvert_exporter": "python",
   "pygments_lexer": "ipython3",
   "version": "3.7.3"
  }
 },
 "nbformat": 4,
 "nbformat_minor": 2
}
