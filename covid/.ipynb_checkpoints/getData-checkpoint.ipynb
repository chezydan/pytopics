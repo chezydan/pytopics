{
 "cells": [
  {
   "cell_type": "code",
   "execution_count": 51,
   "metadata": {},
   "outputs": [],
   "source": [
    "import requests\n",
    "import bs4"
   ]
  },
  {
   "cell_type": "code",
   "execution_count": 52,
   "metadata": {},
   "outputs": [],
   "source": [
    "#link\n",
    "u = \"https://en.wikipedia.org/wiki/2020_coronavirus_pandemic_in_Iran\"\n",
    "#file name without extension\n",
    "fileName=\"iranCovid20000323\""
   ]
  },
  {
   "cell_type": "code",
   "execution_count": 53,
   "metadata": {},
   "outputs": [
    {
     "name": "stdout",
     "output_type": "stream",
     "text": [
      "200\n"
     ]
    }
   ],
   "source": [
    "# request and bs objects\n",
    "res = requests.get(u)\n",
    "print(res.status_code)\n",
    "\n",
    "bst= bs4.BeautifulSoup(res.text) # .text of requests object is taken as parameter\n",
    "#type(bst)\n"
   ]
  },
  {
   "cell_type": "code",
   "execution_count": 54,
   "metadata": {},
   "outputs": [
    {
     "data": {
      "text/plain": [
       "15333"
      ]
     },
     "execution_count": 54,
     "metadata": {},
     "output_type": "execute_result"
    }
   ],
   "source": [
    "#function for get number in td /table\n",
    "def getNumber(inputString):\n",
    "    wholeString = inputString.replace(',','')\n",
    "    #print(wholeString)\n",
    "    try:\n",
    "        ind = wholeString.find(\"(\")\n",
    "        return int(wholeString[:ind])\n",
    "    except ValueError:\n",
    "        return \"\"\n",
    "#beforeParenth(\"15,333)\")\n"
   ]
  },
  {
   "cell_type": "code",
   "execution_count": 64,
   "metadata": {},
   "outputs": [],
   "source": [
    "tableNum=4 #2   ,4"
   ]
  },
  {
   "cell_type": "code",
   "execution_count": 66,
   "metadata": {},
   "outputs": [
    {
     "name": "stdout",
     "output_type": "stream",
     "text": [
      "4\n"
     ]
    },
    {
     "data": {
      "text/plain": [
       "['',\n",
       " 2,\n",
       " 5,\n",
       " 18,\n",
       " 29,\n",
       " 43,\n",
       " 64,\n",
       " 95,\n",
       " 139,\n",
       " 245,\n",
       " 388,\n",
       " 593,\n",
       " 978,\n",
       " 1501,\n",
       " 2336,\n",
       " 2922,\n",
       " 3513,\n",
       " 4747,\n",
       " 5823,\n",
       " 6566,\n",
       " 7161,\n",
       " 8042,\n",
       " 9000,\n",
       " 10075,\n",
       " 11364,\n",
       " 12729,\n",
       " 13938,\n",
       " 14991,\n",
       " 16169,\n",
       " 17361,\n",
       " 18407,\n",
       " 19644,\n",
       " 20610,\n",
       " 21638]"
      ]
     },
     "execution_count": 66,
     "metadata": {},
     "output_type": "execute_result"
    }
   ],
   "source": [
    "#get cases data from table in ws\n",
    "tables =bst.select('table')\n",
    "t2=tables[4]\n",
    "\n",
    "trs=t2.find_all('tr')\n",
    "\n",
    "tds = trs[3].find_all('td')\n",
    "nCols=len(tds)\n",
    "print(nCols)\n",
    "\n",
    "casesList = []\n",
    "for tr in trs:\n",
    "    #rowList=[]\n",
    "    tds = tr.find_all('td')\n",
    "    counter =0\n",
    "    #print(\"new row -----------\")\n",
    "    for td in tds:\n",
    "        \n",
    "        #strTable += (td.text).strip(\" \").strip('\\t').strip('\\n')\n",
    "        if counter ==2:\n",
    "            #rowList.append(td.text)\n",
    "            cases = getNumber(td.text)\n",
    "            casesList.append(cases)\n",
    "        counter += 1\n",
    "    \n",
    "    \n",
    "\n",
    "        \n",
    "        \n",
    "#print the list of cases \n",
    "casesList"
   ]
  },
  {
   "cell_type": "code",
   "execution_count": 67,
   "metadata": {},
   "outputs": [
    {
     "data": {
      "text/plain": [
       "[2,\n",
       " 5,\n",
       " 18,\n",
       " 29,\n",
       " 43,\n",
       " 64,\n",
       " 95,\n",
       " 139,\n",
       " 245,\n",
       " 388,\n",
       " 593,\n",
       " 978,\n",
       " 1501,\n",
       " 2336,\n",
       " 2922,\n",
       " 3513,\n",
       " 4747,\n",
       " 5823,\n",
       " 6566,\n",
       " 7161,\n",
       " 8042,\n",
       " 9000,\n",
       " 10075,\n",
       " 11364,\n",
       " 12729,\n",
       " 13938,\n",
       " 14991,\n",
       " 16169,\n",
       " 17361,\n",
       " 18407,\n",
       " 19644,\n",
       " 20610,\n",
       " 21638]"
      ]
     },
     "execution_count": 67,
     "metadata": {},
     "output_type": "execute_result"
    }
   ],
   "source": [
    "#adjust the list cutting inecessary rows\n",
    "casesList = casesList[1:                     ]\n",
    "casesList"
   ]
  },
  {
   "cell_type": "code",
   "execution_count": null,
   "metadata": {},
   "outputs": [],
   "source": []
  },
  {
   "cell_type": "code",
   "execution_count": null,
   "metadata": {},
   "outputs": [],
   "source": []
  },
  {
   "cell_type": "code",
   "execution_count": null,
   "metadata": {},
   "outputs": [],
   "source": [
    "\n"
   ]
  },
  {
   "cell_type": "code",
   "execution_count": 68,
   "metadata": {},
   "outputs": [],
   "source": [
    "#days list for the DF\n",
    "def generateList (casesList):\n",
    "    return [i for i in range(0,len(casesList))]"
   ]
  },
  {
   "cell_type": "code",
   "execution_count": 69,
   "metadata": {},
   "outputs": [
    {
     "data": {
      "text/plain": [
       "[1,\n",
       " 2,\n",
       " 3,\n",
       " 4,\n",
       " 5,\n",
       " 6,\n",
       " 7,\n",
       " 8,\n",
       " 9,\n",
       " 10,\n",
       " 11,\n",
       " 12,\n",
       " 13,\n",
       " 14,\n",
       " 15,\n",
       " 16,\n",
       " 17,\n",
       " 18,\n",
       " 19,\n",
       " 20,\n",
       " 21,\n",
       " 22,\n",
       " 23,\n",
       " 24,\n",
       " 25,\n",
       " 26,\n",
       " 27,\n",
       " 28,\n",
       " 29,\n",
       " 30,\n",
       " 31,\n",
       " 32,\n",
       " 33]"
      ]
     },
     "execution_count": 69,
     "metadata": {},
     "output_type": "execute_result"
    }
   ],
   "source": [
    "days= [ i for i in range (1, len(casesList)+1)]\n",
    "days"
   ]
  },
  {
   "cell_type": "code",
   "execution_count": 70,
   "metadata": {},
   "outputs": [
    {
     "data": {
      "text/html": [
       "<div>\n",
       "<style scoped>\n",
       "    .dataframe tbody tr th:only-of-type {\n",
       "        vertical-align: middle;\n",
       "    }\n",
       "\n",
       "    .dataframe tbody tr th {\n",
       "        vertical-align: top;\n",
       "    }\n",
       "\n",
       "    .dataframe thead th {\n",
       "        text-align: right;\n",
       "    }\n",
       "</style>\n",
       "<table border=\"1\" class=\"dataframe\">\n",
       "  <thead>\n",
       "    <tr style=\"text-align: right;\">\n",
       "      <th></th>\n",
       "      <th>day</th>\n",
       "      <th>cases</th>\n",
       "    </tr>\n",
       "  </thead>\n",
       "  <tbody>\n",
       "    <tr>\n",
       "      <th>0</th>\n",
       "      <td>1</td>\n",
       "      <td>2</td>\n",
       "    </tr>\n",
       "    <tr>\n",
       "      <th>1</th>\n",
       "      <td>2</td>\n",
       "      <td>5</td>\n",
       "    </tr>\n",
       "  </tbody>\n",
       "</table>\n",
       "</div>"
      ],
      "text/plain": [
       "   day  cases\n",
       "0    1      2\n",
       "1    2      5"
      ]
     },
     "execution_count": 70,
     "metadata": {},
     "output_type": "execute_result"
    }
   ],
   "source": [
    "#building DF\n",
    "import pandas as pd\n",
    "\n",
    "df = pd.DataFrame(list(zip(days, casesList)), columns=['day','cases']  ) \n",
    "df.head(2)"
   ]
  },
  {
   "cell_type": "code",
   "execution_count": 71,
   "metadata": {},
   "outputs": [],
   "source": [
    "#saving to csv\n",
    "df.to_csv(fileName+\".csv\")"
   ]
  },
  {
   "cell_type": "code",
   "execution_count": null,
   "metadata": {},
   "outputs": [],
   "source": []
  },
  {
   "cell_type": "code",
   "execution_count": null,
   "metadata": {},
   "outputs": [],
   "source": []
  }
 ],
 "metadata": {
  "kernelspec": {
   "display_name": "Python 3",
   "language": "python",
   "name": "python3"
  },
  "language_info": {
   "codemirror_mode": {
    "name": "ipython",
    "version": 3
   },
   "file_extension": ".py",
   "mimetype": "text/x-python",
   "name": "python",
   "nbconvert_exporter": "python",
   "pygments_lexer": "ipython3",
   "version": "3.7.3"
  }
 },
 "nbformat": 4,
 "nbformat_minor": 2
}
