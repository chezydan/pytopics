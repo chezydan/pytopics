{
 "cells": [
  {
   "cell_type": "markdown",
   "metadata": {},
   "source": [
    "<h1>Regular Expressions </h1>"
   ]
  },
  {
   "cell_type": "markdown",
   "metadata": {},
   "source": [
    "<h2> Simple String Preprocessing Functions </h2>"
   ]
  },
  {
   "cell_type": "code",
   "execution_count": 1,
   "metadata": {},
   "outputs": [],
   "source": [
    "text = \"sgtEEEr2020.0\""
   ]
  },
  {
   "cell_type": "code",
   "execution_count": 2,
   "metadata": {},
   "outputs": [
    {
     "name": "stdout",
     "output_type": "stream",
     "text": [
      "1. False\n"
     ]
    }
   ],
   "source": [
    "# Strings have methods for checking \"global\" string properties\n",
    "print(\"1.\", text.isalpha())"
   ]
  },
  {
   "cell_type": "code",
   "execution_count": 3,
   "metadata": {},
   "outputs": [
    {
     "name": "stdout",
     "output_type": "stream",
     "text": [
      "2. [True, True, True, True, True, True, True, False, False, False, False, False, False]\n",
      "False --> [False, False, False, False, False, False, False, True, True, True, True, False, True]\n",
      "False --> [False, False, False, False, False, False, False, False, False, False, False, False, False]\n",
      "False --> [True, True, True, False, False, False, True, False, False, False, False, False, False]\n",
      "False --> [False, False, False, True, True, True, False, False, False, False, False, False, False]\n"
     ]
    }
   ],
   "source": [
    "# These can also be applied per character\n",
    "print(\"2.\", [c.isalpha() for c in text])\n",
    "print(text.isdigit(), \"-->\", [c.isdigit() for c in text])\n",
    "print(text.isspace(), \"-->\", [c.isspace() for c in text])\n",
    "print(text.islower(), \"-->\", [c.islower() for c in text])\n",
    "print(text.isupper(), \"-->\", [c.isupper() for c in text])"
   ]
  },
  {
   "cell_type": "markdown",
   "metadata": {},
   "source": [
    "<p> <span style=\"color:purple\">  check if `c.isnumeric()` by list comprehension. (c for char) </span>"
   ]
  },
  {
   "cell_type": "code",
   "execution_count": null,
   "metadata": {},
   "outputs": [],
   "source": []
  },
  {
   "cell_type": "code",
   "execution_count": 4,
   "metadata": {},
   "outputs": [
    {
     "name": "stdout",
     "output_type": "stream",
     "text": [
      "False --> [False, False, False, False, False, False, False, True, True, True, True, False, True]\n"
     ]
    }
   ],
   "source": [
    "print(text.isnumeric(), \"-->\", [c.isnumeric() for c in text])"
   ]
  },
  {
   "cell_type": "code",
   "execution_count": 5,
   "metadata": {},
   "outputs": [],
   "source": [
    "#this function checks ssn number having the pattern: XXX-XX-XXXX\n",
    "def is_ssn(s):\n",
    "    #\n",
    "   \n",
    "    parts = s.split('-')\n",
    "    correct_lengths = [3, 2, 4]\n",
    "    if len(parts) != len(correct_lengths):\n",
    "        return False\n",
    "    for p, n in zip(parts, correct_lengths):\n",
    "        if not (p.isdigit() and len(p) == n):\n",
    "            return False\n",
    "    return True\n",
    "    #\n"
   ]
  },
  {
   "cell_type": "code",
   "execution_count": null,
   "metadata": {},
   "outputs": [],
   "source": []
  },
  {
   "cell_type": "markdown",
   "metadata": {},
   "source": [
    "<h2> Regular Expressions - Setup and Basics </h2>"
   ]
  },
  {
   "cell_type": "markdown",
   "metadata": {},
   "source": [
    "https://docs.python.org/3/howto/regex.html\n",
    "\n",
    "<a href=\"http://www.cbs.dtu.dk/courses/27610/regular-expressions-cheat-sheet-v2.pdf\" > cheat sheet </a>"
   ]
  },
  {
   "cell_type": "markdown",
   "metadata": {},
   "source": [
    "<p> Regular expressions - basic steps\n",
    "    <ol>\n",
    "        <li> set a <b>pattern</b> to find </li>\n",
    "        <li> <b>Compile</b> it into a <i>pattern object </i> </li>\n",
    "        <li>   Apply  the pattern object  to a (target) string to <b>find </b><i> matches </i> (instances of the pattern within the string</li>\n",
    "</ol>\n",
    "    "
   ]
  },
  {
   "cell_type": "markdown",
   "metadata": {},
   "source": [
    "`targetString = \"this is a target text for the pattern_string\"`\n",
    "1. `pattern = 'pattern_string'`\n",
    "2. `pattern_obj = re.compile(pattern)`\n",
    "3. `matches = pattern_obj.search(targetString` `search` or other <b>search functions</b><br>\n",
    "you may want to print matches\n",
    "`print(matches)`\n"
   ]
  },
  {
   "cell_type": "code",
   "execution_count": null,
   "metadata": {},
   "outputs": [],
   "source": []
  },
  {
   "cell_type": "markdown",
   "metadata": {},
   "source": [
    "3. the matches can be querried , printed in many ways: <br>\n",
    "`print(matches.group())` : the text in string <br>\n",
    "`print(matches.start())` :  the start index<br>\n",
    "`print(matches.end())` : the end index<br>\n",
    "`print(matches.span())` : tuple `(start,end)`"
   ]
  },
  {
   "cell_type": "code",
   "execution_count": null,
   "metadata": {},
   "outputs": [],
   "source": []
  },
  {
   "cell_type": "markdown",
   "metadata": {},
   "source": [
    "3.b  the <b>matcher object</b> (or pattern object) has many <b>search functions </b>\n",
    "<br>more matches querry types:<ul>\n",
    "    <li>`.match(targetString)` - determines if the regex matches at the <b>beginning </b> of the string</li>\n",
    "    <li>`.search(targetString)`  - Scans through a string , looking for <b>any</b> location where the regex matches</li>\n",
    "    <li>`.findall(targetString)`- Finds <b>all </b> substrings where regex mathces , returns them as a <b> list </b></li>\n",
    "    <li>`.finditer(targetString)` - finds <b> all </b> substrings where regex matches , returns as an <b> iterator </b></li>\n",
    "    </ul>"
   ]
  },
  {
   "cell_type": "code",
   "execution_count": 6,
   "metadata": {},
   "outputs": [],
   "source": [
    "import re"
   ]
  },
  {
   "cell_type": "code",
   "execution_count": 7,
   "metadata": {},
   "outputs": [
    {
     "name": "stdout",
     "output_type": "stream",
     "text": [
      "Checking pattern presence with  .search()\n",
      "<_sre.SRE_Match object; span=(57, 60), match='few'>\n",
      "Checking if found at the beinning with .match()\n",
      "None\n",
      "extracting group from matches\n",
      "few\n",
      "<class '_sre.SRE_Match'>\n",
      "using the .findall() function\n",
      "['few']\n",
      "now with pattern 2 'text'\n",
      "['text', 'text']\n",
      "iterate with finditer() to extract span()\n",
      "[(24, 28), (47, 51)]\n"
     ]
    }
   ],
   "source": [
    "#1 target string and pattern\n",
    "text = \"this is a target string text that has a lot of text of a few words\"\n",
    "pattern = \"few\"\n",
    "#2\n",
    "pattern_obj = re.compile(pattern)\n",
    "#3\n",
    "matches = pattern_obj.search(text)\n",
    "print(\"Checking pattern presence with  .search()\")\n",
    "print(matches)\n",
    "print(\"Checking if found at the beinning with .match()\")\n",
    "matchesMatch=pattern_obj.match(text)\n",
    "\n",
    "print(matchesMatch)\n",
    "print(\"extracting group from matches\")\n",
    "print(matches.group())\n",
    "print(type(matches))\n",
    "print(\"using the .findall() function\")\n",
    "matchesAll = pattern_obj.findall(text)\n",
    "print(matchesAll)\n",
    "print(\"now with pattern 2 'text'\")\n",
    "pattern2 = \"text\"\n",
    "pattern_obj2 = re. compile(pattern2)\n",
    "matches2All = pattern_obj2.findall(text)\n",
    "print(matches2All)\n",
    "print(\"iterate with finditer() to extract span()\")\n",
    "matches2All= pattern_obj2.finditer(text)\n",
    "print([w.span() for w in matches2All])"
   ]
  },
  {
   "cell_type": "code",
   "execution_count": null,
   "metadata": {},
   "outputs": [],
   "source": []
  },
  {
   "cell_type": "markdown",
   "metadata": {},
   "source": [
    "<h2> Special Caracters  and Patterns</h2>"
   ]
  },
  {
   "cell_type": "markdown",
   "metadata": {},
   "source": []
  },
  {
   "cell_type": "code",
   "execution_count": 12,
   "metadata": {},
   "outputs": [
    {
     "name": "stdout",
     "output_type": "stream",
     "text": [
      "Not a match!\n"
     ]
    }
   ],
   "source": [
    "pattern = r\"Cookie\"\n",
    "sequence = \"Cokie\"\n",
    "if re.match(pattern, sequence):\n",
    "  print(\"Match!\")\n",
    "else: print(\"Not a match!\")"
   ]
  },
  {
   "cell_type": "code",
   "execution_count": null,
   "metadata": {},
   "outputs": [],
   "source": []
  },
  {
   "cell_type": "markdown",
   "metadata": {},
   "source": [
    "<h3> `[ char seq/list]` character classes </h3>"
   ]
  },
  {
   "cell_type": "code",
   "execution_count": null,
   "metadata": {},
   "outputs": [],
   "source": []
  },
  {
   "cell_type": "code",
   "execution_count": 13,
   "metadata": {},
   "outputs": [
    {
     "name": "stdout",
     "output_type": "stream",
     "text": [
      "pobj in an instance of the <class '_sre.SRE_Pattern'> type\n",
      "with .findall()\n",
      "['h', 'g']\n",
      "with finditer()\n",
      "[1, 4]\n"
     ]
    }
   ],
   "source": [
    "text = \"the great text seq\"\n",
    "p = '[gh]'\n",
    "pobj = re.compile(p)\n",
    "print(\"pobj in an instance of the {} type\".format(type(pobj)))\n",
    "print('with .findall()')\n",
    "matches = pobj.findall(text)\n",
    "\n",
    "print(matches)\n",
    "\n",
    "print('with finditer()')\n",
    "matches=pobj.finditer(text)\n",
    "print([c.start() for c in matches])"
   ]
  },
  {
   "cell_type": "code",
   "execution_count": 12,
   "metadata": {},
   "outputs": [
    {
     "data": {
      "text/plain": [
       "'r'"
      ]
     },
     "execution_count": 12,
     "metadata": {},
     "output_type": "execute_result"
    }
   ],
   "source": [
    "text[5]"
   ]
  },
  {
   "cell_type": "code",
   "execution_count": null,
   "metadata": {},
   "outputs": [],
   "source": []
  },
  {
   "cell_type": "markdown",
   "metadata": {},
   "source": [
    "<h3> `.`  any char except  \\n </h3>"
   ]
  },
  {
   "cell_type": "code",
   "execution_count": null,
   "metadata": {},
   "outputs": [],
   "source": []
  },
  {
   "cell_type": "code",
   "execution_count": 10,
   "metadata": {},
   "outputs": [
    {
     "name": "stdout",
     "output_type": "stream",
     "text": [
      "['t', 'h', 'e', ' ', 'g', 'r', 'e', 'a', 't', ' ', 't', 'e', 'x', 't', ' ', 's', 'e', 'q']\n"
     ]
    }
   ],
   "source": [
    "text = \"the great text seq\"\n",
    "p = '.'\n",
    "pobj = re.compile(p)\n",
    "matches = pobj.findall(text)\n",
    "print(matches)"
   ]
  },
  {
   "cell_type": "code",
   "execution_count": null,
   "metadata": {},
   "outputs": [],
   "source": []
  },
  {
   "cell_type": "markdown",
   "metadata": {},
   "source": [
    "<h3> `^` caret in [] the complement set</h3>"
   ]
  },
  {
   "cell_type": "code",
   "execution_count": null,
   "metadata": {},
   "outputs": [],
   "source": []
  },
  {
   "cell_type": "code",
   "execution_count": 11,
   "metadata": {},
   "outputs": [
    {
     "name": "stdout",
     "output_type": "stream",
     "text": [
      "['4', '3']\n",
      "count matches with len(): 2\n"
     ]
    }
   ],
   "source": [
    "text2 = \"num43\"\n",
    "p = '[^num]'\n",
    "pobj = re.compile(p)\n",
    "matches = pobj.findall(text2)\n",
    "print(matches)\n",
    "print('count matches with len(): {:}'.format(len(matches)))\n"
   ]
  },
  {
   "cell_type": "code",
   "execution_count": null,
   "metadata": {},
   "outputs": [],
   "source": []
  },
  {
   "cell_type": "markdown",
   "metadata": {},
   "source": [
    "<h3> `\\` backslash as escape char</h3>"
   ]
  },
  {
   "cell_type": "code",
   "execution_count": 15,
   "metadata": {},
   "outputs": [
    {
     "name": "stdout",
     "output_type": "stream",
     "text": [
      "['[']\n",
      "count matches with len(): 1\n"
     ]
    }
   ],
   "source": [
    "text3 = \"num[43]\"\n",
    "p = '[\\[\\]]'\n",
    "pobj = re.compile(p)\n",
    "matches = pobj.findall(text3)\n",
    "print(matches)\n",
    "print('count matches with len(): {:}'.format(len(matches)))\n"
   ]
  },
  {
   "cell_type": "code",
   "execution_count": 17,
   "metadata": {},
   "outputs": [],
   "source": [
    "text2=\"num43\""
   ]
  },
  {
   "cell_type": "markdown",
   "metadata": {},
   "source": [
    "<h3> special sequences with backslash </h3>"
   ]
  },
  {
   "cell_type": "markdown",
   "metadata": {},
   "source": [
    "`\\d`=`[0-9]`"
   ]
  },
  {
   "cell_type": "code",
   "execution_count": 18,
   "metadata": {},
   "outputs": [
    {
     "name": "stdout",
     "output_type": "stream",
     "text": [
      "['4', '3']\n"
     ]
    }
   ],
   "source": [
    "p='\\d'\n",
    "pobj=re.compile(p)\n",
    "matches = pobj.findall(text2)\n",
    "print(matches)"
   ]
  },
  {
   "cell_type": "markdown",
   "metadata": {},
   "source": [
    "`\\D`=`[^0-9]`"
   ]
  },
  {
   "cell_type": "code",
   "execution_count": 19,
   "metadata": {},
   "outputs": [
    {
     "name": "stdout",
     "output_type": "stream",
     "text": [
      "num43\n",
      "['n', 'u', 'm']\n"
     ]
    }
   ],
   "source": [
    "p='\\D'\n",
    "pobj=re.compile(p)\n",
    "text2='num43'\n",
    "print(text2)\n",
    "matches = pobj.findall(text2)\n",
    "print(matches)"
   ]
  },
  {
   "cell_type": "markdown",
   "metadata": {},
   "source": [
    "`\\s` =spaces (tabs, newlines)"
   ]
  },
  {
   "cell_type": "code",
   "execution_count": 20,
   "metadata": {},
   "outputs": [
    {
     "name": "stdout",
     "output_type": "stream",
     "text": [
      "num43 num44 \n",
      "num45\n",
      "[' ', ' ', '\\n']\n"
     ]
    }
   ],
   "source": [
    "p='\\s'\n",
    "pobj=re.compile(p)\n",
    "text4='num43 num44 \\nnum45'\n",
    "print(text4)\n",
    "matches = pobj.findall(text4)\n",
    "print(matches)"
   ]
  },
  {
   "cell_type": "markdown",
   "metadata": {},
   "source": [
    "`S`= non-spaces"
   ]
  },
  {
   "cell_type": "code",
   "execution_count": 21,
   "metadata": {},
   "outputs": [
    {
     "name": "stdout",
     "output_type": "stream",
     "text": [
      "num43 num44 \n",
      "num45\n",
      "['n', 'u', 'm', '4', '3', 'n', 'u', 'm', '4', '4', 'n', 'u', 'm', '4', '5']\n"
     ]
    }
   ],
   "source": [
    "text4='num43 num44 \\nnum45'\n",
    "p='\\S'\n",
    "pobj=re.compile(p)\n",
    "\n",
    "print(text4)\n",
    "matches = pobj.findall(text4)\n",
    "print(matches)"
   ]
  },
  {
   "cell_type": "markdown",
   "metadata": {},
   "source": [
    "`\\w`=`[a-z A-Z 0-9_]` <br>\n",
    "`\\W`=`[^a-z A-Z 0-9_]`"
   ]
  },
  {
   "cell_type": "code",
   "execution_count": 22,
   "metadata": {},
   "outputs": [
    {
     "name": "stdout",
     "output_type": "stream",
     "text": [
      "[' ', ' ', '\\n']\n",
      "['n', 'u', 'm', '4', '3', 'n', 'u', 'm', '4', '4', 'n', 'u', 'm', '4', '5']\n"
     ]
    }
   ],
   "source": [
    "p='\\W'\n",
    "p2='\\w'\n",
    "pobj=re.compile(p)\n",
    "pobj2=re.compile(p2)\n",
    "\n",
    "matches = pobj.findall(text4)\n",
    "matches2 = pobj2.findall(text4)\n",
    "print(matches)\n",
    "print(matches2)"
   ]
  },
  {
   "cell_type": "markdown",
   "metadata": {},
   "source": [
    "combined pattern with s"
   ]
  },
  {
   "cell_type": "code",
   "execution_count": 18,
   "metadata": {},
   "outputs": [
    {
     "name": "stdout",
     "output_type": "stream",
     "text": [
      "['3 n', ' \\nn']\n"
     ]
    }
   ],
   "source": [
    "pc= '.\\s.'\n",
    "pobj3= re.compile(pc)\n",
    "matches2 = pobj3.findall(text4)\n",
    "print(matches2)"
   ]
  },
  {
   "cell_type": "markdown",
   "metadata": {},
   "source": [
    "<h3> `^` caret pattern at the beginning of the line</h3>"
   ]
  },
  {
   "cell_type": "code",
   "execution_count": 31,
   "metadata": {},
   "outputs": [
    {
     "name": "stdout",
     "output_type": "stream",
     "text": [
      "num43 num44 \n",
      "num45\n",
      "\n",
      " []\n"
     ]
    }
   ],
   "source": [
    "print(text4)\n",
    "p4= '^nu*'\n",
    "pobj3= re.compile(p4)\n",
    "matches2 = pobj3.findall(text4)\n",
    "print(\"\\n\" , matches2)"
   ]
  },
  {
   "cell_type": "code",
   "execution_count": null,
   "metadata": {},
   "outputs": [],
   "source": []
  },
  {
   "cell_type": "markdown",
   "metadata": {},
   "source": [
    "<h3> `$`  pattern at the end of the sequence</h3>"
   ]
  },
  {
   "cell_type": "code",
   "execution_count": 20,
   "metadata": {},
   "outputs": [
    {
     "name": "stdout",
     "output_type": "stream",
     "text": [
      "num43 num44 \n",
      "num45\n",
      "['5']\n"
     ]
    }
   ],
   "source": [
    "print(text4)\n",
    "p4= '5$'\n",
    "pobj3= re.compile(p4)\n",
    "matches2 = pobj3.findall(text4)\n",
    "print(matches2)"
   ]
  },
  {
   "cell_type": "code",
   "execution_count": null,
   "metadata": {},
   "outputs": [],
   "source": []
  },
  {
   "cell_type": "markdown",
   "metadata": {},
   "source": [
    "<h3> `*`  previous char 0 or more times</h3>"
   ]
  },
  {
   "cell_type": "code",
   "execution_count": 23,
   "metadata": {
    "scrolled": true
   },
   "outputs": [
    {
     "ename": "NameError",
     "evalue": "name 'text4' is not defined",
     "output_type": "error",
     "traceback": [
      "\u001b[0;31m---------------------------------------------------------------------------\u001b[0m",
      "\u001b[0;31mNameError\u001b[0m                                 Traceback (most recent call last)",
      "\u001b[0;32m<ipython-input-23-a0c131c624db>\u001b[0m in \u001b[0;36m<module>\u001b[0;34m()\u001b[0m\n\u001b[0;32m----> 1\u001b[0;31m \u001b[0mprint\u001b[0m\u001b[0;34m(\u001b[0m\u001b[0mtext4\u001b[0m\u001b[0;34m)\u001b[0m\u001b[0;34m\u001b[0m\u001b[0m\n\u001b[0m\u001b[1;32m      2\u001b[0m \u001b[0mp4\u001b[0m\u001b[0;34m=\u001b[0m \u001b[0;34m'44*'\u001b[0m\u001b[0;34m\u001b[0m\u001b[0m\n\u001b[1;32m      3\u001b[0m \u001b[0mpobj3\u001b[0m\u001b[0;34m=\u001b[0m \u001b[0mre\u001b[0m\u001b[0;34m.\u001b[0m\u001b[0mcompile\u001b[0m\u001b[0;34m(\u001b[0m\u001b[0mp4\u001b[0m\u001b[0;34m)\u001b[0m\u001b[0;34m\u001b[0m\u001b[0m\n\u001b[1;32m      4\u001b[0m \u001b[0mmatches2\u001b[0m \u001b[0;34m=\u001b[0m \u001b[0mpobj3\u001b[0m\u001b[0;34m.\u001b[0m\u001b[0mfindall\u001b[0m\u001b[0;34m(\u001b[0m\u001b[0mtext4\u001b[0m\u001b[0;34m)\u001b[0m\u001b[0;34m\u001b[0m\u001b[0m\n\u001b[1;32m      5\u001b[0m \u001b[0mprint\u001b[0m\u001b[0;34m(\u001b[0m\u001b[0mmatches2\u001b[0m\u001b[0;34m)\u001b[0m\u001b[0;34m\u001b[0m\u001b[0m\n",
      "\u001b[0;31mNameError\u001b[0m: name 'text4' is not defined"
     ]
    }
   ],
   "source": [
    "print(text4)\n",
    "p4= '44*'\n",
    "pobj3= re.compile(p4)\n",
    "matches2 = pobj3.findall(text4)\n",
    "print(matches2)"
   ]
  },
  {
   "cell_type": "code",
   "execution_count": null,
   "metadata": {},
   "outputs": [],
   "source": []
  },
  {
   "cell_type": "markdown",
   "metadata": {},
   "source": [
    "<h3> `?`  previous char 0 or once</h3>"
   ]
  },
  {
   "cell_type": "code",
   "execution_count": 22,
   "metadata": {},
   "outputs": [
    {
     "ename": "NameError",
     "evalue": "name 'text4' is not defined",
     "output_type": "error",
     "traceback": [
      "\u001b[0;31m---------------------------------------------------------------------------\u001b[0m",
      "\u001b[0;31mNameError\u001b[0m                                 Traceback (most recent call last)",
      "\u001b[0;32m<ipython-input-22-b8dda7855a73>\u001b[0m in \u001b[0;36m<module>\u001b[0;34m()\u001b[0m\n\u001b[1;32m      2\u001b[0m \u001b[0mp4\u001b[0m\u001b[0;34m=\u001b[0m \u001b[0;34m'4?4'\u001b[0m\u001b[0;34m\u001b[0m\u001b[0m\n\u001b[1;32m      3\u001b[0m \u001b[0mpobj3\u001b[0m\u001b[0;34m=\u001b[0m \u001b[0mre\u001b[0m\u001b[0;34m.\u001b[0m\u001b[0mcompile\u001b[0m\u001b[0;34m(\u001b[0m\u001b[0mp4\u001b[0m\u001b[0;34m)\u001b[0m\u001b[0;34m\u001b[0m\u001b[0m\n\u001b[0;32m----> 4\u001b[0;31m \u001b[0mmatches2\u001b[0m \u001b[0;34m=\u001b[0m \u001b[0mpobj3\u001b[0m\u001b[0;34m.\u001b[0m\u001b[0mfindall\u001b[0m\u001b[0;34m(\u001b[0m\u001b[0mtext4\u001b[0m\u001b[0;34m)\u001b[0m\u001b[0;34m\u001b[0m\u001b[0m\n\u001b[0m\u001b[1;32m      5\u001b[0m \u001b[0mprint\u001b[0m\u001b[0;34m(\u001b[0m\u001b[0mmatches2\u001b[0m\u001b[0;34m)\u001b[0m\u001b[0;34m\u001b[0m\u001b[0m\n",
      "\u001b[0;31mNameError\u001b[0m: name 'text4' is not defined"
     ]
    }
   ],
   "source": [
    "\n",
    "p4= '4?4'\n",
    "pobj3= re.compile(p4)\n",
    "matches2 = pobj3.findall(text4)\n",
    "print(matches2)"
   ]
  },
  {
   "cell_type": "code",
   "execution_count": 18,
   "metadata": {},
   "outputs": [],
   "source": [
    "tel=\"0544242244\""
   ]
  },
  {
   "cell_type": "markdown",
   "metadata": {},
   "source": [
    "<p><span style=\"color:purple\" > define patern object for 1 of 2 \"4\" apply on tel, print the .findall list , define other matches instnce with .search() and print its span with span() </span>"
   ]
  },
  {
   "cell_type": "code",
   "execution_count": null,
   "metadata": {},
   "outputs": [],
   "source": []
  },
  {
   "cell_type": "code",
   "execution_count": 30,
   "metadata": {},
   "outputs": [
    {
     "name": "stdout",
     "output_type": "stream",
     "text": [
      "['44', '4', '44']\n",
      "(2, 4)\n"
     ]
    }
   ],
   "source": [
    "ptrnobj=re.compile(\"4?4\")\n",
    "matches4s=ptrnobj.findall(tel)\n",
    "matches4search=ptrnobj.search(tel)\n",
    "\n",
    "print(matches4s)\n",
    "print(matches4search.span())"
   ]
  },
  {
   "cell_type": "code",
   "execution_count": null,
   "metadata": {},
   "outputs": [],
   "source": []
  },
  {
   "cell_type": "markdown",
   "metadata": {},
   "source": [
    "<h3> `+`  previous char 1 or more</h3>"
   ]
  },
  {
   "cell_type": "code",
   "execution_count": null,
   "metadata": {},
   "outputs": [],
   "source": []
  },
  {
   "cell_type": "code",
   "execution_count": 23,
   "metadata": {},
   "outputs": [
    {
     "name": "stdout",
     "output_type": "stream",
     "text": [
      "['44']\n"
     ]
    }
   ],
   "source": [
    "p4= '44+'\n",
    "pobj3= re.compile(p4)\n",
    "matches2 = pobj3.findall(text4)\n",
    "print(matches2)"
   ]
  },
  {
   "cell_type": "code",
   "execution_count": null,
   "metadata": {},
   "outputs": [],
   "source": []
  },
  {
   "cell_type": "markdown",
   "metadata": {},
   "source": [
    "<h3> `{num}` other Quantifier : number of times</h3>"
   ]
  },
  {
   "cell_type": "markdown",
   "metadata": {},
   "source": [
    "<h4> exactly = `{num}`"
   ]
  },
  {
   "cell_type": "code",
   "execution_count": 32,
   "metadata": {},
   "outputs": [
    {
     "name": "stdout",
     "output_type": "stream",
     "text": [
      "['44', '44']\n"
     ]
    }
   ],
   "source": [
    "text5='num43 num444 \\nnum445'\n",
    "p4 = '4{2}'\n",
    "pobj3 = re.compile(p4)\n",
    "matches3 = pobj3.findall(text5)\n",
    "print(matches3)"
   ]
  },
  {
   "cell_type": "markdown",
   "metadata": {},
   "source": [
    "<h4> `{num,}` num or more"
   ]
  },
  {
   "cell_type": "code",
   "execution_count": 34,
   "metadata": {},
   "outputs": [
    {
     "name": "stdout",
     "output_type": "stream",
     "text": [
      "['444', '44']\n"
     ]
    }
   ],
   "source": [
    "text5='num43 num444 \\nnum445'\n",
    "p3 = '4{2,}'\n",
    "pobj4= re.compile(p3)\n",
    "matches4= pobj4.findall(text5)\n",
    "print(matches4)"
   ]
  },
  {
   "cell_type": "code",
   "execution_count": null,
   "metadata": {},
   "outputs": [],
   "source": []
  },
  {
   "cell_type": "code",
   "execution_count": null,
   "metadata": {},
   "outputs": [],
   "source": []
  },
  {
   "cell_type": "code",
   "execution_count": null,
   "metadata": {},
   "outputs": [],
   "source": []
  },
  {
   "cell_type": "code",
   "execution_count": null,
   "metadata": {},
   "outputs": [],
   "source": []
  },
  {
   "cell_type": "code",
   "execution_count": null,
   "metadata": {},
   "outputs": [],
   "source": []
  },
  {
   "cell_type": "code",
   "execution_count": null,
   "metadata": {},
   "outputs": [],
   "source": []
  }
 ],
 "metadata": {
  "kernelspec": {
   "display_name": "Python 3",
   "language": "python",
   "name": "python3"
  },
  "language_info": {
   "codemirror_mode": {
    "name": "ipython",
    "version": 3
   },
   "file_extension": ".py",
   "mimetype": "text/x-python",
   "name": "python",
   "nbconvert_exporter": "python",
   "pygments_lexer": "ipython3",
   "version": "3.6.5"
  }
 },
 "nbformat": 4,
 "nbformat_minor": 2
}
