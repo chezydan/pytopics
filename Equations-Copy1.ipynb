{
 "cells": [
  {
   "cell_type": "markdown",
   "metadata": {},
   "source": [
    "<h1> Equations </h1>"
   ]
  },
  {
   "cell_type": "markdown",
   "metadata": {},
   "source": [
    "<h2> Linear Equations </h2>\n"
   ]
  },
  {
   "cell_type": "code",
   "execution_count": null,
   "metadata": {},
   "outputs": [],
   "source": []
  },
  {
   "cell_type": "markdown",
   "metadata": {},
   "source": [
    "<h3> Draw linear function </h3>\n",
    "\n",
    "\n",
    "to functionalize "
   ]
  },
  {
   "cell_type": "code",
   "execution_count": 1,
   "metadata": {},
   "outputs": [
    {
     "data": {
      "image/png": "[encoded data removed]",
      "text/plain": [
       "<Figure size 432x288 with 1 Axes>"
      ]
     },
     "metadata": {},
     "output_type": "display_data"
    }
   ],
   "source": [
    "%matplotlib inline\n",
    "\n",
    "import pandas as pd\n",
    "from matplotlib import pyplot as plt\n",
    "\n",
    "\n",
    "\n",
    "# Create a dataframe with an x column containing values from -10 to 10\n",
    "df = pd.DataFrame ({'x': range(-10, 11)})\n",
    "\n",
    "# Define slope and y-intercept\n",
    "m = 1.5\n",
    "yInt = -2\n",
    "\n",
    "# Add a y column by applying the slope-intercept equation to x\n",
    "df['y'] = m*df['x'] + yInt\n",
    "\n",
    "# Plot the line\n",
    "from matplotlib import pyplot as plt\n",
    "\n",
    "plt.plot(df.x, df.y, color=\"grey\")\n",
    "plt.xlabel('x')\n",
    "plt.ylabel('y')\n",
    "plt.grid(color=\"#A9A9A9\")\n",
    "plt.axhline()\n",
    "plt.axvline()\n",
    "\n",
    "# label the y-intercept\n",
    "plt.annotate('y-intercept',(0,yInt))\n",
    "\n",
    "# plot the slope from the y-intercept for 1x\n",
    "mx = [0, 1]\n",
    "my = [yInt, yInt + m]\n",
    "plt.plot(mx,my, color='red', lw=5)\n",
    "\n",
    "plt.show()"
   ]
  },
  {
   "cell_type": "code",
   "execution_count": null,
   "metadata": {},
   "outputs": [],
   "source": []
  },
  {
   "cell_type": "code",
   "execution_count": null,
   "metadata": {},
   "outputs": [],
   "source": []
  },
  {
   "cell_type": "code",
   "execution_count": null,
   "metadata": {},
   "outputs": [],
   "source": []
  },
  {
   "cell_type": "markdown",
   "metadata": {},
   "source": [
    "<h2> System of equations </h2>"
   ]
  },
  {
   "cell_type": "markdown",
   "metadata": {},
   "source": [
    "<h3> draw a system of equations </h3>"
   ]
  },
  {
   "cell_type": "markdown",
   "metadata": {},
   "source": [
    "<p>x   + y   = 16\n",
    "<p>10x + 25y = 250"
   ]
  },
  {
   "cell_type": "code",
   "execution_count": 2,
   "metadata": {},
   "outputs": [],
   "source": [
    "#represent in matrix\n",
    "import numpy as np\n",
    "%matplotlib inline\n",
    "\n",
    "\n",
    "from matplotlib import pyplot as plt\n",
    "system=np.array([[1,1,16],\n",
    "          [10,25,250]])"
   ]
  },
  {
   "cell_type": "code",
   "execution_count": 18,
   "metadata": {},
   "outputs": [
    {
     "data": {
      "image/png": "[encoded data removed]",
      "text/plain": [
       "<Figure size 432x288 with 1 Axes>"
      ]
     },
     "metadata": {},
     "output_type": "display_data"
    }
   ],
   "source": [
    "# two lines extremes a and b\n",
    "line_1a = system[0,2]/system[0,0]\n",
    "line_1b = system[0,2]/ system[0,1]\n",
    "\n",
    "line_2a = system[1,2] /system[1 ,0]\n",
    "line_2b = system[1,2] /system[1 ,1]\n",
    "\n",
    "\n",
    "l_1a=[line_1a,0]\n",
    "l_1b=[0,line_1b]\n",
    "l_2a= [line_2a,0]\n",
    "l_2b= [0, line_2b]\n",
    "\n",
    "\n",
    "#plot\n",
    "plt.plot(l_1a, l_1b, color ='blue')\n",
    "plt.plot(l_2a, l_2b, color =\"orange\")\n",
    "plt.xlabel('x')\n",
    "plt.ylabel('y')\n",
    "\n",
    "plt.grid(color=\"#A9A9A9\", )\n",
    "plt.show()"
   ]
  },
  {
   "cell_type": "code",
   "execution_count": 31,
   "metadata": {},
   "outputs": [],
   "source": [
    "#functionalize\n",
    "def plotSystem(list1, list2):\n",
    "    '''assumes two lists of 3 members x,y coeffs and result, outputs graph'''\n",
    "    #define a system np_array\n",
    "    system=np.array([list1, list2])\n",
    "    #compute extremes\n",
    "    #  l1=[3, -4 , 32]\n",
    "    #  l2 = [ 3 , 7, 10]\n",
    "    line_1a = system[0,2]/system[0,0]\n",
    "    line_1b = system[0,2]/ system[0,1]\n",
    "    line_2a = system[1,2] /system[1 ,0]\n",
    "    line_2b = system[1,2] /system[1 ,1]\n",
    "    #compute string POINTS\n",
    "    l_1a=[line_1a,0]\n",
    "    l_1b=[0,line_1b]\n",
    "    l_2a= [line_2a,0]\n",
    "    l_2b= [0, line_2b]\n",
    "    #plot\n",
    "    plt.plot(l_1a, l_1b, color ='blue')\n",
    "    plt.plot(l_2a, l_2b, color =\"orange\")\n",
    "    plt.grid(color=\"#A9A9A9\")\n",
    "    plt.xlabel('x')\n",
    "    plt.ylabel('y')\n",
    "    x,y= solveSystem_2xy(l1,l2)[0], solveSystem_2xy(l1,l2)[1]\n",
    "    plt.annotate( str(x)+\", \"+str(y), xy=(x,y))\n",
    "   \n",
    " \n",
    "    plt.show()\n",
    "\n"
   ]
  },
  {
   "cell_type": "code",
   "execution_count": null,
   "metadata": {},
   "outputs": [],
   "source": []
  },
  {
   "cell_type": "code",
   "execution_count": null,
   "metadata": {},
   "outputs": [],
   "source": []
  },
  {
   "cell_type": "code",
   "execution_count": 6,
   "metadata": {},
   "outputs": [],
   "source": [
    "l1=[1,1,16]\n",
    "l2= [10,25,250]\n",
    "def sysListToMat(l1,l2):\n",
    "    '''returns  leftside and result np.arrays from two lines on system eq'''\n",
    "    left=np.array([l1[:2], l2[:2]])\n",
    "    result=np.array([l1[2], l2[2]])\n",
    "    return left, result"
   ]
  },
  {
   "cell_type": "code",
   "execution_count": 7,
   "metadata": {},
   "outputs": [
    {
     "name": "stdout",
     "output_type": "stream",
     "text": [
      "[10.  6.]\n"
     ]
    },
    {
     "data": {
      "text/plain": [
       "6.0"
      ]
     },
     "execution_count": 7,
     "metadata": {},
     "output_type": "execute_result"
    }
   ],
   "source": [
    "def solveSystem_2(l1,l2):\n",
    "    '''solves a system  of 2 equations asume to lists with the 2 lines in the equation'''\n",
    "    A,B = sysListToMat(l1,l2)\n",
    "    C=np.linalg.inv(A) @ B\n",
    "    return C\n",
    "    \n",
    "def solveSystem_2xy(l1,l2):\n",
    "    '''like solveSystem_2 but returns x and y '''\n",
    "    (x,y )= solveSystem_2(l1,l2)\n",
    "    x,y =round(x,2),round(y,2)\n",
    "    return(x,y)\n",
    "    \n",
    "C= solveSystem_2(l1,l2)\n",
    "print (C)\n",
    "x,y= solveSystem_2xy(l1,l2)\n",
    "y\n"
   ]
  },
  {
   "cell_type": "code",
   "execution_count": 23,
   "metadata": {},
   "outputs": [
    {
     "data": {
      "image/png": "[encoded data removed]",
      "text/plain": [
       "<Figure size 432x288 with 1 Axes>"
      ]
     },
     "metadata": {},
     "output_type": "display_data"
    }
   ],
   "source": [
    "l1=[1,1,16]\n",
    "l2= [10,25,250]\n",
    "plotSystem(l1,l2)"
   ]
  },
  {
   "cell_type": "code",
   "execution_count": 32,
   "metadata": {},
   "outputs": [
    {
     "data": {
      "image/png": "[encoded data removed]",
      "text/plain": [
       "<Figure size 432x288 with 1 Axes>"
      ]
     },
     "metadata": {},
     "output_type": "display_data"
    }
   ],
   "source": [
    "l1=[-4,3,22]\n",
    "l2= [1,-5,-40]\n",
    "plotSystem(l1,l2)"
   ]
  },
  {
   "cell_type": "code",
   "execution_count": 33,
   "metadata": {},
   "outputs": [
    {
     "data": {
      "image/png": "[encoded data removed]",
      "text/plain": [
       "<Figure size 432x288 with 1 Axes>"
      ]
     },
     "metadata": {},
     "output_type": "display_data"
    }
   ],
   "source": [
    "l1=[3, -4 , 32]\n",
    "l2 = [ 3 , 7, 10]\n",
    "plotSystem(l1,l2)"
   ]
  },
  {
   "cell_type": "code",
   "execution_count": null,
   "metadata": {},
   "outputs": [],
   "source": []
  },
  {
   "cell_type": "code",
   "execution_count": null,
   "metadata": {},
   "outputs": [],
   "source": []
  },
  {
   "cell_type": "code",
   "execution_count": null,
   "metadata": {},
   "outputs": [],
   "source": []
  },
  {
   "cell_type": "code",
   "execution_count": null,
   "metadata": {},
   "outputs": [],
   "source": []
  },
  {
   "cell_type": "code",
   "execution_count": null,
   "metadata": {},
   "outputs": [],
   "source": []
  }
 ],
 "metadata": {
  "kernelspec": {
   "display_name": "Python 3",
   "language": "python",
   "name": "python3"
  },
  "language_info": {
   "codemirror_mode": {
    "name": "ipython",
    "version": 3
   },
   "file_extension": ".py",
   "mimetype": "text/x-python",
   "name": "python",
   "nbconvert_exporter": "python",
   "pygments_lexer": "ipython3",
   "version": "3.6.5"
  }
 },
 "nbformat": 4,
 "nbformat_minor": 2
}
