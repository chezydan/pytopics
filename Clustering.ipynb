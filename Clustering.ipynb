{
 "cells": [
  {
   "cell_type": "markdown",
   "metadata": {},
   "source": [
    "<h1 align=\"center\"> Clustering </h1>"
   ]
  },
  {
   "cell_type": "code",
   "execution_count": 1,
   "metadata": {},
   "outputs": [],
   "source": [
    "import numpy as np\n",
    "import pandas as pd\n",
    "import seaborn as sns\n",
    "import matplotlib.pyplot as plt\n",
    "\n",
    "%matplotlib inline\n",
    "\n",
    "import matplotlib as mpl\n",
    "mpl.rc(\"savefig\", dpi=100) # Adjust for higher-resolution figures"
   ]
  },
  {
   "cell_type": "markdown",
   "metadata": {},
   "source": [
    "<h2> Lloyd's algorithm from scratch </h2>"
   ]
  },
  {
   "cell_type": "code",
   "execution_count": null,
   "metadata": {},
   "outputs": [],
   "source": []
  },
  {
   "cell_type": "markdown",
   "metadata": {},
   "source": [
    "<h3> Initializing the <i>k</i> centers </h3>"
   ]
  },
  {
   "cell_type": "code",
   "execution_count": 2,
   "metadata": {},
   "outputs": [],
   "source": [
    "def init_centers(X, k):\n",
    "    \"\"\"\n",
    "    Randomly samples k observations from X as centers.\n",
    "    Returns these centers as a (k x d) numpy array.\n",
    "    \n",
    "    (X,k) --> centers(numpy.array)\n",
    "    \"\"\"\n",
    "    #\n",
    "    centers = np.random.choice(len(X), size=k, replace= False)\n",
    "    return X[centers , :]\n",
    "    #"
   ]
  },
  {
   "cell_type": "code",
   "execution_count": 3,
   "metadata": {},
   "outputs": [
    {
     "data": {
      "text/plain": [
       "array([[2, 4],\n",
       "       [1, 5]])"
      ]
     },
     "execution_count": 3,
     "metadata": {},
     "output_type": "execute_result"
    }
   ],
   "source": [
    "#demo run\n",
    "k=2\n",
    "X=np.array([ [1,2],[2,3],[1,1],[2,4],[1,2],[1,5],[7,1]])\n",
    "centers= init_centers(X,k)\n",
    "centers\n"
   ]
  },
  {
   "cell_type": "code",
   "execution_count": 4,
   "metadata": {},
   "outputs": [
    {
     "data": {
      "text/plain": [
       "array([[2, 2, 4],\n",
       "       [2, 2, 0],\n",
       "       [1, 1, 2]])"
      ]
     },
     "execution_count": 4,
     "metadata": {},
     "output_type": "execute_result"
    }
   ],
   "source": [
    "k2=3\n",
    "X2=np.array([[1,1,2],[1,1,9],[2,2,0],[3,2,1],[2,2,1],[2,2,4],[1,1,3]])\n",
    "centers2=init_centers(X2,k2)\n",
    "centers2"
   ]
  },
  {
   "cell_type": "markdown",
   "metadata": {},
   "source": [
    "<p><span style=\"color:purple\">define a function \"initC\" from scratch</span>"
   ]
  },
  {
   "cell_type": "code",
   "execution_count": 8,
   "metadata": {},
   "outputs": [
    {
     "data": {
      "text/plain": [
       "array([[2, 2, 1],\n",
       "       [3, 2, 1],\n",
       "       [1, 1, 2]])"
      ]
     },
     "execution_count": 8,
     "metadata": {},
     "output_type": "execute_result"
    }
   ],
   "source": [
    "#def initC(X,k):\n",
    "#   uncomment to check\n",
    "#Centers=initC(X2,k2);Centers"
   ]
  },
  {
   "cell_type": "markdown",
   "metadata": {},
   "source": [
    "<h3>2. Computing the distances</h3>"
   ]
  },
  {
   "cell_type": "markdown",
   "metadata": {},
   "source": [
    " the `np.linalg.norm()` function "
   ]
  },
  {
   "cell_type": "code",
   "execution_count": 9,
   "metadata": {},
   "outputs": [
    {
     "name": "stdout",
     "output_type": "stream",
     "text": [
      "norm v1\n",
      "3.605551275463989\n",
      "norm v1, v3\n"
     ]
    },
    {
     "data": {
      "text/plain": [
       "3.605551275463989"
      ]
     },
     "execution_count": 9,
     "metadata": {},
     "output_type": "execute_result"
    }
   ],
   "source": [
    "v1 = np.array([2,3])\n",
    "v2 = np.array([1,3])\n",
    "v3= np.array([-2,-3])\n",
    "print(\"norm v1\")\n",
    "print(np.linalg.norm(v1, ord=2, axis=0))\n",
    "\n",
    "print(\"norm v1, v3\")\n",
    "np.linalg.norm(v3 , ord=2 )"
   ]
  },
  {
   "cell_type": "code",
   "execution_count": null,
   "metadata": {},
   "outputs": [],
   "source": []
  },
  {
   "cell_type": "code",
   "execution_count": 46,
   "metadata": {},
   "outputs": [
    {
     "data": {
      "text/plain": [
       "7.211102550927978"
      ]
     },
     "execution_count": 46,
     "metadata": {},
     "output_type": "execute_result"
    }
   ],
   "source": [
    "a=16\n",
    "b=36\n",
    "np.sqrt(16+36)"
   ]
  },
  {
   "cell_type": "code",
   "execution_count": 5,
   "metadata": {},
   "outputs": [],
   "source": [
    "def compute_d2(X, centers):\n",
    "\n",
    "    #(X, centers --> S (distance matrix))   \n",
    "\n",
    "    m = len(X)\n",
    "    k = len(centers)\n",
    "    \n",
    "    S = np.empty((m, k))\n",
    "    for i in range (m): #for each observation, item\n",
    "        S[i,:] = np.linalg.norm(X[i, : ] - centers , ord=2, axis=1)**2 \n",
    "        # \t2-norm (largest sing. value)\n",
    "    return S"
   ]
  },
  {
   "cell_type": "code",
   "execution_count": 9,
   "metadata": {},
   "outputs": [
    {
     "name": "stdout",
     "output_type": "stream",
     "text": [
      "[[7 1]\n",
      " [2 3]]\n"
     ]
    },
    {
     "data": {
      "text/plain": [
       "array([[37.,  2.],\n",
       "       [29.,  0.],\n",
       "       [36.,  5.],\n",
       "       [34.,  1.],\n",
       "       [37.,  2.],\n",
       "       [52.,  5.],\n",
       "       [ 0., 29.]])"
      ]
     },
     "execution_count": 9,
     "metadata": {},
     "output_type": "execute_result"
    }
   ],
   "source": [
    "#demo run\n",
    "print(centers)\n",
    "S=compute_d2(X, centers)\n",
    "S"
   ]
  },
  {
   "cell_type": "code",
   "execution_count": 48,
   "metadata": {},
   "outputs": [
    {
     "data": {
      "text/plain": [
       "array([[ 0., 49.,  1.],\n",
       "       [49.,  0., 36.],\n",
       "       [ 6., 83., 11.],\n",
       "       [ 6., 69.,  9.],\n",
       "       [ 3., 66.,  6.],\n",
       "       [ 6., 27.,  3.],\n",
       "       [ 1., 36.,  0.]])"
      ]
     },
     "execution_count": 48,
     "metadata": {},
     "output_type": "execute_result"
    }
   ],
   "source": [
    "S2=compute_d2(X2,centers2)\n",
    "S2"
   ]
  },
  {
   "cell_type": "code",
   "execution_count": 6,
   "metadata": {},
   "outputs": [],
   "source": [
    "a=np.array([[2,3,4]])\n",
    "b=np.array([[6,6,6]])\n",
    "aa=np.array([2,3,4])\n",
    "bb=np.array([6,6,6])\n"
   ]
  },
  {
   "cell_type": "markdown",
   "metadata": {},
   "source": [
    "`numpy.linalg.norm(array1 - array2 , ord=2, axis=1) **2` <br>     to revisit  !!! review\n",
    "https://docs.scipy.org/doc/numpy-1.14.0/reference/generated/numpy.linalg.norm.html"
   ]
  },
  {
   "cell_type": "markdown",
   "metadata": {},
   "source": [
    "<p><span style=\"color:purple\">compute distance between vectors a and b</span>"
   ]
  },
  {
   "cell_type": "code",
   "execution_count": null,
   "metadata": {},
   "outputs": [],
   "source": []
  },
  {
   "cell_type": "code",
   "execution_count": 10,
   "metadata": {},
   "outputs": [
    {
     "name": "stdout",
     "output_type": "stream",
     "text": [
      "[29.]\n"
     ]
    },
    {
     "data": {
      "text/plain": [
       "28.999999999999996"
      ]
     },
     "execution_count": 10,
     "metadata": {},
     "output_type": "execute_result"
    }
   ],
   "source": [
    "normab = np.linalg.norm(a - b, ord=2, axis=1 )**2\n",
    "print(normab)\n",
    "normabb = np.linalg.norm(aa - bb, ord=2, axis=0 )**2\n",
    "normabb"
   ]
  },
  {
   "cell_type": "markdown",
   "metadata": {},
   "source": [
    "<h3>3. Assign cluster labels </h3>\n",
    "<p>(to distance matrix 'S')"
   ]
  },
  {
   "cell_type": "markdown",
   "metadata": {},
   "source": [
    " the `np.argmin()` function\n"
   ]
  },
  {
   "cell_type": "code",
   "execution_count": 24,
   "metadata": {},
   "outputs": [
    {
     "name": "stdout",
     "output_type": "stream",
     "text": [
      "[[ 2 10]\n",
      " [11  2]\n",
      " [65  1]]\n",
      "axis =1, argmin()\n",
      "[0 1 1]\n",
      "axis =0, argmin()\n"
     ]
    },
    {
     "data": {
      "text/plain": [
       "array([0, 2])"
      ]
     },
     "execution_count": 24,
     "metadata": {},
     "output_type": "execute_result"
    }
   ],
   "source": [
    "vec= np.array([[2,10],[11,2],[65,1]])\n",
    "print(vec)\n",
    "print(\"axis =1, argmin()\")\n",
    "print(np.argmin(vec, axis=1         ))\n",
    "print(\"axis =0, argmin()\")\n",
    "np.argmin(vec, axis=0         )"
   ]
  },
  {
   "cell_type": "code",
   "execution_count": 32,
   "metadata": {},
   "outputs": [],
   "source": [
    "def assign_cluster_labels(S):\n",
    "    '''\n",
    "    S --> labels\n",
    "    '''\n",
    "    return np.argmin(S, axis=1) ## 1 ; the column index = [1], a column(1) with the  minimum indeces in each row\n",
    "    #"
   ]
  },
  {
   "cell_type": "code",
   "execution_count": 45,
   "metadata": {},
   "outputs": [
    {
     "data": {
      "text/plain": [
       "array([0, 0, 0, 1, 0, 1, 0])"
      ]
     },
     "execution_count": 45,
     "metadata": {},
     "output_type": "execute_result"
    }
   ],
   "source": [
    "#demo run\n",
    "labels = assign_cluster_labels(S)\n",
    "labels"
   ]
  },
  {
   "cell_type": "code",
   "execution_count": null,
   "metadata": {},
   "outputs": [],
   "source": []
  },
  {
   "cell_type": "markdown",
   "metadata": {},
   "source": [
    "<h3>4. Compute the centers of each cluster </h3>"
   ]
  },
  {
   "cell_type": "code",
   "execution_count": null,
   "metadata": {},
   "outputs": [],
   "source": []
  },
  {
   "cell_type": "code",
   "execution_count": 30,
   "metadata": {},
   "outputs": [],
   "source": [
    "def update_centers(X, y):\n",
    "    '''\n",
    "    (X , labels) --> centers\n",
    "    '''\n",
    "    # X[:m, :d] == m points, each of dimension d\n",
    "    # y[:m] == cluster labels\n",
    "    m, d = X.shape\n",
    "    k = max(y) + 1\n",
    "    assert m == len(y)\n",
    "    assert (min(y) >= 0)\n",
    "    \n",
    "    centers = np.empty((k, d))\n",
    "    for j in range(k):\n",
    "        # Compute the new center of cluster j,\n",
    "        # i.e., centers[j, :d].\n",
    "        #\n",
    "        centers[j,:] = np.mean( X[y==j, : ], axis = 0)\n",
    "        #\n",
    "    return centers"
   ]
  },
  {
   "cell_type": "code",
   "execution_count": 42,
   "metadata": {},
   "outputs": [
    {
     "data": {
      "text/plain": [
       "array([[7.        , 1.        ],\n",
       "       [1.33333333, 2.83333333]])"
      ]
     },
     "execution_count": 42,
     "metadata": {},
     "output_type": "execute_result"
    }
   ],
   "source": [
    "\n",
    "centers = update_centers(X, labels)\n",
    "centers"
   ]
  },
  {
   "cell_type": "code",
   "execution_count": null,
   "metadata": {},
   "outputs": [],
   "source": []
  },
  {
   "cell_type": "code",
   "execution_count": null,
   "metadata": {},
   "outputs": [],
   "source": []
  },
  {
   "cell_type": "markdown",
   "metadata": {},
   "source": [
    "<h4>HELPERS: return the within-cluster sum of squares, check convergence </h4>"
   ]
  },
  {
   "cell_type": "code",
   "execution_count": 34,
   "metadata": {},
   "outputs": [],
   "source": [
    "def WCSS(S):\n",
    "    #\n",
    "    return np.sum( np.amin(S, axis = 1))\n",
    "    #\n",
    "    \n"
   ]
  },
  {
   "cell_type": "code",
   "execution_count": 35,
   "metadata": {},
   "outputs": [],
   "source": [
    "def has_converged(old_centers, centers):\n",
    "    return set([tuple(x) for x in old_centers]) == set([tuple(x) for x in centers])"
   ]
  },
  {
   "cell_type": "code",
   "execution_count": null,
   "metadata": {},
   "outputs": [],
   "source": []
  },
  {
   "cell_type": "markdown",
   "metadata": {},
   "source": [
    "<h3> The main `kmeans` function </h3>"
   ]
  },
  {
   "cell_type": "code",
   "execution_count": 25,
   "metadata": {},
   "outputs": [
    {
     "data": {
      "text/html": [
       "<div>\n",
       "<style scoped>\n",
       "    .dataframe tbody tr th:only-of-type {\n",
       "        vertical-align: middle;\n",
       "    }\n",
       "\n",
       "    .dataframe tbody tr th {\n",
       "        vertical-align: top;\n",
       "    }\n",
       "\n",
       "    .dataframe thead th {\n",
       "        text-align: right;\n",
       "    }\n",
       "</style>\n",
       "<table border=\"1\" class=\"dataframe\">\n",
       "  <thead>\n",
       "    <tr style=\"text-align: right;\">\n",
       "      <th></th>\n",
       "      <th>Unnamed: 0</th>\n",
       "      <th>x_1</th>\n",
       "      <th>x_2</th>\n",
       "      <th>label</th>\n",
       "    </tr>\n",
       "  </thead>\n",
       "  <tbody>\n",
       "    <tr>\n",
       "      <th>0</th>\n",
       "      <td>0</td>\n",
       "      <td>-0.234443</td>\n",
       "      <td>-1.075960</td>\n",
       "      <td>1</td>\n",
       "    </tr>\n",
       "    <tr>\n",
       "      <th>1</th>\n",
       "      <td>1</td>\n",
       "      <td>0.730359</td>\n",
       "      <td>-0.918093</td>\n",
       "      <td>0</td>\n",
       "    </tr>\n",
       "    <tr>\n",
       "      <th>2</th>\n",
       "      <td>2</td>\n",
       "      <td>1.432270</td>\n",
       "      <td>-0.439449</td>\n",
       "      <td>0</td>\n",
       "    </tr>\n",
       "    <tr>\n",
       "      <th>3</th>\n",
       "      <td>3</td>\n",
       "      <td>0.026733</td>\n",
       "      <td>1.050300</td>\n",
       "      <td>0</td>\n",
       "    </tr>\n",
       "    <tr>\n",
       "      <th>4</th>\n",
       "      <td>4</td>\n",
       "      <td>1.879650</td>\n",
       "      <td>0.207743</td>\n",
       "      <td>0</td>\n",
       "    </tr>\n",
       "  </tbody>\n",
       "</table>\n",
       "</div>"
      ],
      "text/plain": [
       "   Unnamed: 0       x_1       x_2  label\n",
       "0           0 -0.234443 -1.075960      1\n",
       "1           1  0.730359 -0.918093      0\n",
       "2           2  1.432270 -0.439449      0\n",
       "3           3  0.026733  1.050300      0\n",
       "4           4  1.879650  0.207743      0"
      ]
     },
     "execution_count": 25,
     "metadata": {},
     "output_type": "execute_result"
    }
   ],
   "source": [
    "df = pd.read_csv('data.csv')\n",
    "df.head()"
   ]
  },
  {
   "cell_type": "code",
   "execution_count": 44,
   "metadata": {},
   "outputs": [],
   "source": [
    "points = df[['x_1', 'x_2']].values\n",
    "labels = df['label'].values\n",
    "n, d = points.shape\n",
    "k = 2     #2"
   ]
  },
  {
   "cell_type": "code",
   "execution_count": 47,
   "metadata": {},
   "outputs": [
    {
     "name": "stdout",
     "output_type": "stream",
     "text": [
      "iteration 1 WCSS =  549.9175535488309\n",
      "iteration 2 WCSS =  339.80066330255096\n",
      "iteration 3 WCSS =  300.330112922328\n",
      "iteration 4 WCSS =  289.80700777322045\n",
      "iteration 5 WCSS =  286.0745591062787\n",
      "iteration 6 WCSS =  284.1907705579879\n",
      "iteration 7 WCSS =  283.22732249939105\n",
      "iteration 8 WCSS =  282.456491302569\n",
      "iteration 9 WCSS =  281.84838225337074\n",
      "iteration 10 WCSS =  281.57242082723724\n",
      "iteration 11 WCSS =  281.5315627987326\n",
      "[0 0 1 1 1 1 0 0 0 0 0 1 1 0 1 1 1 1 0 1 1 1 0 1 1 0 1 0 1 0 0 1 1 0 1 1 1\n",
      " 1 0 0 1 0 0 1 0 0 1 1 1 0 0 1 1 0 1 1 1 0 1 0 0 1 1 1 0 1 0 0 0 0 0 0 0 1\n",
      " 0 1 0 0 1 0 1 1 1 0 1 0 0 1 1 0 0 1 1 0 1 1 1 0 1 0 1 0 1 0 1 0 0 0 1 0 0\n",
      " 0 1 0 1 0 0 1 1 1 1 0 0 0 1 0 0 0 0 1 1 1 1 0 0 1 0 1 0 0 0 1 1 0 1 1 0 1\n",
      " 1 0 0 0 0 1 0 1 0 0 0 0 1 1 0 1 0 0 1 0 0 0 0 0 0 1 1 1 0 0 1 0 0 1 1 0 0\n",
      " 0 0 1 1 0 0 0 0 0 1 0 0 0 0 0 1 0 1 0 0 0 1 1 1 0 0 1 1 0 1 1 0 0 1 0 0 1\n",
      " 1 1 1 1 1 0 0 0 0 0 0 1 0 1 1 1 1 1 0 0 1 0 0 1 0 1 1 0 1 0 0 1 1 1 0 0 0\n",
      " 1 0 0 0 1 1 1 1 0 0 1 0 0 1 1 1 1 1 0 1 0 0 1 1 0 1 0 1 1 0 0 0 0 1 1 1 1\n",
      " 0 0 0 1 1 1 0 0 1 1 1 0 1 1 1 1 0 1 0 0 1 0 1 1 0 1 0 1 0 1 1 1 1 1 1 1 1\n",
      " 0 0 0 0 0 0 0 1 1 1 0 0 1 1 1 1 0 1 0 1 0 0 1 1 0 0 0 0 0 0 1 0 0 0 1 1 1\n",
      " 1 0 1 1 1]\n"
     ]
    }
   ],
   "source": [
    "def kmeans(X, k,\n",
    "           starting_centers=None,\n",
    "           max_steps=np.inf):\n",
    "    # 1. set centers\n",
    "    if starting_centers is None:\n",
    "        centers = init_centers(X, k)\n",
    "    else:\n",
    "        centers = starting_centers\n",
    "        \n",
    "    converged = False # whether the centers have \"moved\"\n",
    "    labels = np.zeros(len(X))\n",
    "    i = 1\n",
    "    while (not converged) and (i <= max_steps):\n",
    "        old_centers = centers\n",
    "        #\n",
    "        #2 _find square dist points-centers        STEP 1 in Lloyds\n",
    "        S = compute_d2(X, centers) #gets distance matrix\n",
    "        \n",
    "        #3 assign the points to a cluster\n",
    "        labels = assign_cluster_labels(S)\n",
    "        \n",
    "        #4__recalculate the centroids to a center   STEP 2 in Lloyd's\n",
    "        centers = update_centers(X, labels)\n",
    "        \n",
    "        #5__check if centroids have moved\n",
    "        converged = has_converged(old_centers, centers)\n",
    "        #\n",
    "        print (\"iteration\", i, \"WCSS = \", WCSS (S))\n",
    "        i += 1\n",
    "    \n",
    "    return labels\n",
    "\n",
    "clustering = kmeans(points, k, starting_centers=points[[0, 187], :])\n",
    "print(clustering)"
   ]
  },
  {
   "cell_type": "code",
   "execution_count": 27,
   "metadata": {},
   "outputs": [
    {
     "name": "stdout",
     "output_type": "stream",
     "text": [
      "iteration 1 WCSS =  342.42571680019324\n",
      "iteration 2 WCSS =  289.9323284147895\n",
      "iteration 3 WCSS =  286.7538516279051\n",
      "iteration 4 WCSS =  284.09771994025346\n",
      "iteration 5 WCSS =  283.36215702221284\n",
      "iteration 6 WCSS =  282.54826291334257\n",
      "iteration 7 WCSS =  282.10232370657434\n",
      "iteration 8 WCSS =  281.57242082723724\n",
      "iteration 9 WCSS =  281.5315627987326\n"
     ]
    }
   ],
   "source": [
    "clustering = kmeans(points, k)"
   ]
  },
  {
   "cell_type": "code",
   "execution_count": null,
   "metadata": {},
   "outputs": [],
   "source": []
  },
  {
   "cell_type": "code",
   "execution_count": null,
   "metadata": {},
   "outputs": [],
   "source": []
  },
  {
   "cell_type": "markdown",
   "metadata": {},
   "source": [
    "<h2> a Class of Clustering </h2>"
   ]
  },
  {
   "cell_type": "code",
   "execution_count": 13,
   "metadata": {},
   "outputs": [],
   "source": [
    "\n",
    "from linear_algebra import squared_distance, vector_mean, distance\n",
    "import math, random\n",
    "import matplotlib.image as mpimg\n",
    "import matplotlib.pyplot as plt\n"
   ]
  },
  {
   "cell_type": "code",
   "execution_count": null,
   "metadata": {},
   "outputs": [],
   "source": [
    "\n",
    "\n",
    "class KMeans:\n",
    "    \"\"\"performs k-means clustering\"\"\"\n",
    "\n",
    "    def __init__(self, k):\n",
    "        self.k = k          # number of clusters\n",
    "        self.means = None   # means of clusters\n",
    "        self.assignments=[]\n",
    "        self.inputs=[]\n",
    "\n",
    "    def classify(self, input):\n",
    "        \"\"\"return the INDEX of the cluster closest to the input\"\"\"\n",
    "        return min(range(self.k),\n",
    "                   key=lambda i: squared_distance(input, self.means[i]  ))\n",
    "\n",
    "    def train(self, inputs):\n",
    "\n",
    "        self.means = random.sample(inputs, self.k)\n",
    "        self.inputs= inputs\n",
    "        assignments = None\n",
    "\n",
    "        while True:\n",
    "            # Find new assignments\n",
    "            new_assignments = list(map(self.classify, inputs))\n",
    "\n",
    "            # If no assignments have changed, we're done.\n",
    "            if assignments == new_assignments:\n",
    "                self.assignments= assignments\n",
    "                return\n",
    "\n",
    "            # Otherwise keep the new assignments,\n",
    "            assignments = new_assignments\n",
    "\n",
    "            for i in range(self.k):\n",
    "                i_points = [p for p, a in zip(inputs, assignments) if a == i]\n",
    "                # avoid divide-by-zero if i_points is empty\n",
    "                if i_points:\n",
    "                    self.means[i] = vector_mean(i_points)\n",
    "    def show_assignments(self):\n",
    "        assignDict = {}\n",
    "        for input, group in zip(self.inputs, self.assignments):\n",
    "            assignDict[str(input)]=group\n",
    "        return (assignDict)\n"
   ]
  },
  {
   "cell_type": "markdown",
   "metadata": {},
   "source": [
    "<h4><i>acquaintance with lambda  - key </i> </h4>"
   ]
  },
  {
   "cell_type": "code",
   "execution_count": 5,
   "metadata": {},
   "outputs": [
    {
     "data": {
      "text/plain": [
       "[-4, 3, -2, 1]"
      ]
     },
     "execution_count": 5,
     "metadata": {},
     "output_type": "execute_result"
    }
   ],
   "source": [
    "x= [4,1,2,3]\n",
    "#compare the results with a function you specify with key\n",
    "x = sorted([-4,1,-2,3], key=abs, reverse=True) # is [-4,3,-2,1]\n"
   ]
  },
  {
   "cell_type": "code",
   "execution_count": 24,
   "metadata": {},
   "outputs": [
    {
     "data": {
      "text/plain": [
       "[('A', 7), ('B', 7.5), ('N', 8), ('U', 8.5), ('C', 9.5), ('R', 17)]"
      ]
     },
     "execution_count": 24,
     "metadata": {},
     "output_type": "execute_result"
    }
   ],
   "source": [
    "d={\"C\":9.5,\"B\":7.5,\"N\":8,\"U\":8.5,\"A\":7, \"R\":17}\n",
    "Sorted = sorted(d.items(),key=lambda kv: kv[1])\n",
    "Sorted"
   ]
  },
  {
   "cell_type": "code",
   "execution_count": 32,
   "metadata": {},
   "outputs": [
    {
     "data": {
      "text/plain": [
       "[-16, 8, 3, -2]"
      ]
     },
     "execution_count": 32,
     "metadata": {},
     "output_type": "execute_result"
    }
   ],
   "source": [
    "nums = [-2, 8, -16, 3]\n",
    "numssq= sorted( nums, key= lambda x:  x**2, reverse=True)\n",
    "numssq"
   ]
  },
  {
   "cell_type": "code",
   "execution_count": 66,
   "metadata": {},
   "outputs": [
    {
     "name": "stdout",
     "output_type": "stream",
     "text": [
      "[[-25.857142857142854, -4.714285714285714], [20.0, 26.0], [16.666666666666664, 13.666666666666666]]\n",
      "[0, 2, 1, 0, 0, 1, 0, 2, 0, 0, 2, 0, 0, 1, 0, 0, 0, 0, 0, 0]\n",
      "{'[-14, -5]': 0, '[13, 13]': 2, '[20, 23]': 1, '[-19, -11]': 0, '[-9, -16]': 0, '[21, 27]': 1, '[-49, 15]': 0, '[26, 13]': 2, '[-46, 5]': 0, '[-34, -1]': 0, '[11, 15]': 2, '[-49, 0]': 0, '[-22, -16]': 0, '[19, 28]': 1, '[-12, -8]': 0, '[-13, -19]': 0, '[-41, 8]': 0, '[-11, -6]': 0, '[-25, -9]': 0, '[-18, -3]': 0}\n"
     ]
    }
   ],
   "source": [
    "#application 1\n",
    "random.seed(0)\n",
    "inputs = [[-14,-5],[13,13],[20,23],[-19,-11],[-9,-16],[21,27],[-49,15],[26,13],[-46,5],[-34,-1],[11,15],[-49,0],[-22,-16],[19,28],[-12,-8],[-13,-19],[-41,8],[-11,-6],[-25,-9],[-18,-3]]\n",
    "clusterer = KMeans(3)\n",
    "clusterer.train(inputs)\n",
    "print (clusterer.means)\n",
    "print(clusterer.assignments)\n",
    "print(clusterer.show_assignments())"
   ]
  },
  {
   "cell_type": "markdown",
   "metadata": {},
   "source": [
    "<h4>short squared distance function</h4>"
   ]
  },
  {
   "cell_type": "code",
   "execution_count": 39,
   "metadata": {},
   "outputs": [
    {
     "data": {
      "text/plain": [
       "17"
      ]
     },
     "execution_count": 39,
     "metadata": {},
     "output_type": "execute_result"
    }
   ],
   "source": [
    "\n",
    "a=[2,3,4]\n",
    "b=[5,5,6]\n",
    "def sqdist(v,w):\n",
    "    \n",
    "   # assert( len(v) == len(w)), \"wrong length\"\n",
    "    sqdist=0\n",
    "    for v_i,w_i in zip (v,w):\n",
    "        sqdist += (v_i - w_i)**2       \n",
    "    return sqdist\n",
    "sqdist(a,b)"
   ]
  },
  {
   "cell_type": "markdown",
   "metadata": {},
   "source": [
    "<h2> Trying a \"from scratch\" aproach </h2>"
   ]
  },
  {
   "cell_type": "code",
   "execution_count": 115,
   "metadata": {},
   "outputs": [],
   "source": [
    "import numpy as np\n",
    "def init_centers(X, k=2):\n",
    "    random.seed(20)\n",
    "    xar= np.array(X)\n",
    "    centers =  np.random.choice(len(X), size=k, replace= False)\n",
    "    return list(xar[centers , :])\n",
    "    #"
   ]
  },
  {
   "cell_type": "code",
   "execution_count": 184,
   "metadata": {},
   "outputs": [
    {
     "name": "stdout",
     "output_type": "stream",
     "text": [
      "[0, 0, 0, 1, 1, 1]\n",
      "[0, 0, 1, 0, 1]\n"
     ]
    },
    {
     "data": {
      "text/plain": [
       "[0, 0, 1, 0, 1]"
      ]
     },
     "execution_count": 184,
     "metadata": {},
     "output_type": "execute_result"
    }
   ],
   "source": [
    "#k=2\n",
    "inputs=[[10],[20],[30],[40],[50],[60]]\n",
    "\n",
    "means= [[10],[50]]\n",
    "\n",
    "inputs2=[[1,2],[3,4],[10,20],[1,1],[7,18]]\n",
    "means2= [[1,2],[10,20]]\n",
    "k2= len(means2)\n",
    "k= len(means)\n",
    "\n",
    "\n",
    "def classify (inputs, means):\n",
    "    clusters=[]\n",
    "    k=len(means)\n",
    "    for input in inputs:\n",
    "        result = min(range(k), key=lambda i: squared_distance(input, means[i]))\n",
    "        clusters.append(result)\n",
    "    return clusters\n",
    "\n",
    "print(classify(inputs,means))\n",
    "print(classify(inputs2, means2))\n",
    "clusters= classify (inputs2, means2)\n",
    "clusters"
   ]
  },
  {
   "cell_type": "code",
   "execution_count": 157,
   "metadata": {},
   "outputs": [
    {
     "data": {
      "text/plain": [
       "[[1.6666666666666667, 2.3333333333333335], [8.5, 19.0]]"
      ]
     },
     "execution_count": 157,
     "metadata": {},
     "output_type": "execute_result"
    }
   ],
   "source": [
    "from numpy import mean\n",
    "\n",
    "\n",
    "def get_centroids(inputs, clusters):\n",
    "    cluster_list= list(set(clusters))\n",
    "    centroids=[]\n",
    "    for cluster_group in cluster_list:\n",
    "        current_group=[]\n",
    "        for input, cluster in zip(inputs, clusters):\n",
    "            if cluster == cluster_group:\n",
    "                current_group.append(input)\n",
    "        group_mean= list(mean(current_group,0))\n",
    "        centroids.append(group_mean)\n",
    "    return (centroids)\n",
    "            \n",
    "get_centroids(inputs2, clusters)\n",
    "        \n",
    "        "
   ]
  },
  {
   "cell_type": "code",
   "execution_count": 74,
   "metadata": {},
   "outputs": [
    {
     "data": {
      "text/plain": [
       "[3.0, 5.5]"
      ]
     },
     "execution_count": 74,
     "metadata": {},
     "output_type": "execute_result"
    }
   ],
   "source": [
    "np.mean([3,4])\n",
    "list(np.mean([[3,5],[3,6]],0))"
   ]
  },
  {
   "cell_type": "code",
   "execution_count": 191,
   "metadata": {},
   "outputs": [
    {
     "name": "stdout",
     "output_type": "stream",
     "text": [
      "[array([4, 8, 8]), array([5, 6, 2]), array([10,  4,  1])]\n",
      "['shg', 'shr', 'nr', 'lm', 'rt', 'al', 'rn', 'alc']\n",
      "[0, 0, 2, 0, 1, 1, 0, 0]\n",
      "[[5.0, 7.0, 7.6], [6.5, 5.5, 3.0], [10.0, 4.0, 1.0]]\n",
      "['shg', 'shr', 'nr', 'lm', 'rt', 'al', 'rn', 'alc']\n",
      "[0, 0, 2, 0, 1, 1, 0, 0]\n",
      "[[5.0, 7.0, 7.6], [6.5, 5.5, 3.0], [10.0, 4.0, 1.0]]\n",
      "['shg', 'shr', 'nr', 'lm', 'rt', 'al', 'rn', 'alc']\n",
      "[0, 0, 2, 0, 1, 1, 0, 0]\n",
      "[[5.0, 7.0, 7.6], [6.5, 5.5, 3.0], [10.0, 4.0, 1.0]]\n",
      "['shg', 'shr', 'nr', 'lm', 'rt', 'al', 'rn', 'alc']\n",
      "[0, 0, 2, 0, 1, 1, 0, 0]\n",
      "[[5.0, 7.0, 7.6], [6.5, 5.5, 3.0], [10.0, 4.0, 1.0]]\n",
      "['shg', 'shr', 'nr', 'lm', 'rt', 'al', 'rn', 'alc']\n",
      "[0, 0, 2, 0, 1, 1, 0, 0]\n",
      "[[5.0, 7.0, 7.6], [6.5, 5.5, 3.0], [10.0, 4.0, 1.0]]\n",
      "['shg', 'shr', 'nr', 'lm', 'rt', 'al', 'rn', 'alc']\n",
      "[0, 0, 2, 0, 1, 1, 0, 0]\n",
      "[[5.0, 7.0, 7.6], [6.5, 5.5, 3.0], [10.0, 4.0, 1.0]]\n"
     ]
    }
   ],
   "source": [
    "#trying a run \n",
    "lbl=[\"shg\",\"shr\",\"nr\",\"lm\",\"rt\",\"al\",\"rn\",\"alc\"]\n",
    "tm=[\"hr\",\"st\",\"ms\"]\n",
    "inputs=[]\n",
    "inputs= [[7,10,7],[4,8,8],[10,4,1],[2,6,8],[5,6,2],[8,5,4],[4,3,7],[8,8,8]]\n",
    "\n",
    "centr= (init_centers(inputs,3))\n",
    "\n",
    "print(centr)\n",
    "centroids=centr\n",
    "turns = 6\n",
    "for i in range (0,turns):\n",
    "    \n",
    "    clusters=classify(inputs, centroids)\n",
    "    print(lbl)\n",
    "    print(clusters)\n",
    "    \n",
    "    centroids = get_centroids(inputs, clusters)\n",
    "    print(centroids)\n"
   ]
  },
  {
   "cell_type": "code",
   "execution_count": null,
   "metadata": {},
   "outputs": [],
   "source": [
    "01010010"
   ]
  },
  {
   "cell_type": "code",
   "execution_count": null,
   "metadata": {},
   "outputs": [],
   "source": []
  },
  {
   "cell_type": "code",
   "execution_count": null,
   "metadata": {},
   "outputs": [],
   "source": []
  },
  {
   "cell_type": "code",
   "execution_count": null,
   "metadata": {},
   "outputs": [],
   "source": []
  },
  {
   "cell_type": "code",
   "execution_count": null,
   "metadata": {},
   "outputs": [],
   "source": []
  },
  {
   "cell_type": "code",
   "execution_count": null,
   "metadata": {},
   "outputs": [],
   "source": []
  },
  {
   "cell_type": "code",
   "execution_count": null,
   "metadata": {},
   "outputs": [],
   "source": []
  },
  {
   "cell_type": "code",
   "execution_count": null,
   "metadata": {},
   "outputs": [],
   "source": []
  },
  {
   "cell_type": "code",
   "execution_count": null,
   "metadata": {},
   "outputs": [],
   "source": []
  },
  {
   "cell_type": "code",
   "execution_count": null,
   "metadata": {},
   "outputs": [],
   "source": []
  },
  {
   "cell_type": "code",
   "execution_count": null,
   "metadata": {},
   "outputs": [],
   "source": []
  },
  {
   "cell_type": "code",
   "execution_count": null,
   "metadata": {},
   "outputs": [],
   "source": []
  },
  {
   "cell_type": "code",
   "execution_count": null,
   "metadata": {},
   "outputs": [],
   "source": []
  },
  {
   "cell_type": "markdown",
   "metadata": {},
   "source": [
    "<h3>Trying the img file </h3>\n"
   ]
  },
  {
   "cell_type": "code",
   "execution_count": null,
   "metadata": {},
   "outputs": [],
   "source": [
    "imgfile = \"imexample.png\"\n",
    "import matplotlib.image as mpimg\n",
    "img = mpimg.imread(imgfile)"
   ]
  },
  {
   "cell_type": "code",
   "execution_count": null,
   "metadata": {},
   "outputs": [],
   "source": [
    "#pass img to a list of lists\n",
    "top_row = img[0]\n",
    "#print(top_row[0])\n",
    "print(top_row.shape)\n",
    "top_left_pixel = top_row[0]\n",
    "red, green, blue, _ = top_left_pixel"
   ]
  },
  {
   "cell_type": "code",
   "execution_count": null,
   "metadata": {},
   "outputs": [],
   "source": [
    "#flattened list of all the pixels\n",
    "pixels = [pixel for row in img for pixel in row]"
   ]
  },
  {
   "cell_type": "code",
   "execution_count": null,
   "metadata": {},
   "outputs": [],
   "source": [
    "clusterer= KMeans(5)\n",
    "clusterer.train(pixels)"
   ]
  },
  {
   "cell_type": "code",
   "execution_count": 52,
   "metadata": {},
   "outputs": [],
   "source": [
    "\n",
    "def recolor_image(input_file, k=5):\n",
    "\n",
    "    img = mpimg.imread(path_to_png_file)\n",
    "    pixels = [pixel for row in img for pixel in row]\n",
    "    clusterer = KMeans(k)\n",
    "    clusterer.train(pixels) # this might take a while\n",
    "\n",
    "    def recolor(pixel):\n",
    "        cluster = clusterer.classify(pixel) # index of the closest cluster\n",
    "        return clusterer.means[cluster]     # mean of the closest cluster\n",
    "\n",
    "    new_img = [[recolor(pixel) for pixel in row]\n",
    "               for row in img]\n",
    "\n",
    "    plt.imshow(new_img)\n",
    "    plt.axis('off')\n",
    "    plt.show()\n"
   ]
  },
  {
   "cell_type": "code",
   "execution_count": null,
   "metadata": {},
   "outputs": [],
   "source": []
  },
  {
   "cell_type": "code",
   "execution_count": null,
   "metadata": {},
   "outputs": [],
   "source": []
  },
  {
   "cell_type": "code",
   "execution_count": null,
   "metadata": {},
   "outputs": [],
   "source": []
  },
  {
   "cell_type": "code",
   "execution_count": null,
   "metadata": {},
   "outputs": [],
   "source": []
  }
 ],
 "metadata": {
  "kernelspec": {
   "display_name": "Python 3",
   "language": "python",
   "name": "python3"
  },
  "language_info": {
   "codemirror_mode": {
    "name": "ipython",
    "version": 3
   },
   "file_extension": ".py",
   "mimetype": "text/x-python",
   "name": "python",
   "nbconvert_exporter": "python",
   "pygments_lexer": "ipython3",
   "version": "3.7.3"
  }
 },
 "nbformat": 4,
 "nbformat_minor": 2
}
