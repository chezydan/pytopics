{
 "cells": [
  {
   "cell_type": "markdown",
   "metadata": {},
   "source": [
    "<h1> Pandas </h1>"
   ]
  },
  {
   "cell_type": "markdown",
   "metadata": {},
   "source": [
    "<h2> Series </h2>\n"
   ]
  },
  {
   "cell_type": "code",
   "execution_count": 14,
   "metadata": {},
   "outputs": [],
   "source": [
    "import pandas as pd"
   ]
  },
  {
   "cell_type": "code",
   "execution_count": 2,
   "metadata": {
    "scrolled": true
   },
   "outputs": [
    {
     "name": "stdout",
     "output_type": "stream",
     "text": [
      "<class 'pandas.core.series.Series'>\n",
      "0   -2\n",
      "1    3\n",
      "2    4\n",
      "3    3\n",
      "4   -1\n",
      "dtype: int64\n"
     ]
    }
   ],
   "source": [
    "ser1 = pd.Series ([-2,3,4,3,-1])\n",
    "print(type(ser1))\n",
    "print(ser1)"
   ]
  },
  {
   "cell_type": "markdown",
   "metadata": {},
   "source": [
    "<h3> Indeces to a Series </h3>"
   ]
  },
  {
   "cell_type": "code",
   "execution_count": 3,
   "metadata": {},
   "outputs": [
    {
     "name": "stdout",
     "output_type": "stream",
     "text": [
      "0   -2\n",
      "2    3\n",
      "4    4\n",
      "6    3\n",
      "8   -1\n",
      "dtype: int64\n",
      "albert      -2\n",
      "betty        3\n",
      "charlotte    4\n",
      "dana         3\n",
      "elmer       -1\n",
      "dtype: int64\n"
     ]
    }
   ],
   "source": [
    "#passing a list to a Series\n",
    "I = [x *2 for x      in range (0,5)]\n",
    "ser2=pd.Series([-2,3,4,3,-1],index = I)\n",
    "print(ser2)\n",
    "people=['albert','betty','charlotte','dana','elmer']\n",
    "serP=pd.Series([-2,3,4,3,-1],people)\n",
    "print(serP)\n"
   ]
  },
  {
   "cell_type": "code",
   "execution_count": 15,
   "metadata": {},
   "outputs": [
    {
     "name": "stdout",
     "output_type": "stream",
     "text": [
      "Elem Type: <class 'dict'>.\n",
      "H      Hydrogen\n",
      "He       Helium\n",
      "Li      Lithium\n",
      "Be    Beryllium\n",
      "B         Boron\n",
      "C        Carbon\n",
      "N      Nitrogen\n",
      "dtype: object\n",
      "SerElem Type: <class 'pandas.core.series.Series'>.\n"
     ]
    }
   ],
   "source": [
    "#Series from a  Dictionary\n",
    "elem={'H':'Hydrogen', 'He':'Helium', 'Li':'Lithium', 'Be':'Beryllium','B':'Boron',\n",
    "     'C':'Carbon','N':'Nitrogen'}\n",
    "print(\"Elem Type: {}.\".format(type(elem)))\n",
    "serElem=pd.Series(elem)\n",
    "print(serElem)\n",
    "print(\"SerElem Type: {}.\".format(type(serElem)))\n"
   ]
  },
  {
   "cell_type": "markdown",
   "metadata": {},
   "source": [
    "<p> <span style =\"color:purple\"> Convert the folloing dict in series \"serElem2\" and check </span>"
   ]
  },
  {
   "cell_type": "code",
   "execution_count": 16,
   "metadata": {},
   "outputs": [
    {
     "ename": "NameError",
     "evalue": "name 'serElem2' is not defined",
     "output_type": "error",
     "traceback": [
      "\u001b[0;31m---------------------------------------------------------------------------\u001b[0m",
      "\u001b[0;31mNameError\u001b[0m                                 Traceback (most recent call last)",
      "\u001b[0;32m<ipython-input-16-fa67bb1c0a55>\u001b[0m in \u001b[0;36m<module>\u001b[0;34m()\u001b[0m\n\u001b[1;32m      2\u001b[0m \u001b[0;34m\u001b[0m\u001b[0m\n\u001b[1;32m      3\u001b[0m \u001b[0;34m\u001b[0m\u001b[0m\n\u001b[0;32m----> 4\u001b[0;31m \u001b[0mprint\u001b[0m\u001b[0;34m(\u001b[0m\u001b[0mtype\u001b[0m\u001b[0;34m(\u001b[0m\u001b[0mserElem2\u001b[0m\u001b[0;34m)\u001b[0m\u001b[0;34m)\u001b[0m\u001b[0;34m\u001b[0m\u001b[0m\n\u001b[0m",
      "\u001b[0;31mNameError\u001b[0m: name 'serElem2' is not defined"
     ]
    }
   ],
   "source": [
    "elem2={'O':'Oxygen','F':'Flourine', 'Ne':'Neon', 'Na':'Sodium'}\n",
    "\n",
    "\n",
    "print(type(serElem2))"
   ]
  },
  {
   "cell_type": "markdown",
   "metadata": {},
   "source": [
    "<h3> Vector-like operations </h3>"
   ]
  },
  {
   "cell_type": "code",
   "execution_count": 17,
   "metadata": {},
   "outputs": [
    {
     "data": {
      "text/plain": [
       "betty        3\n",
       "charlotte    4\n",
       "dana         3\n",
       "dtype: int64"
      ]
     },
     "execution_count": 17,
     "metadata": {},
     "output_type": "execute_result"
    }
   ],
   "source": [
    "ladies = [1,2,3]\n",
    "serP[ladies]"
   ]
  },
  {
   "cell_type": "markdown",
   "metadata": {},
   "source": [
    "<p> <span style =\"color:purple\"> Define a list 'males' and cast it on the series serP</span>"
   ]
  },
  {
   "cell_type": "code",
   "execution_count": null,
   "metadata": {},
   "outputs": [],
   "source": []
  },
  {
   "cell_type": "markdown",
   "metadata": {},
   "source": [
    "<h4> Using the apply(function) on Series </h4>"
   ]
  },
  {
   "cell_type": "code",
   "execution_count": 18,
   "metadata": {},
   "outputs": [
    {
     "data": {
      "text/plain": [
       "albert       2\n",
       "betty        3\n",
       "charlotte    4\n",
       "dana         3\n",
       "elmer        1\n",
       "dtype: int64"
      ]
     },
     "execution_count": 18,
     "metadata": {},
     "output_type": "execute_result"
    }
   ],
   "source": [
    "serP.apply(abs)"
   ]
  },
  {
   "cell_type": "code",
   "execution_count": null,
   "metadata": {},
   "outputs": [],
   "source": [
    "serP.apply(lambda x: x**2)"
   ]
  },
  {
   "cell_type": "code",
   "execution_count": null,
   "metadata": {},
   "outputs": [],
   "source": []
  },
  {
   "cell_type": "code",
   "execution_count": null,
   "metadata": {},
   "outputs": [],
   "source": []
  },
  {
   "cell_type": "code",
   "execution_count": null,
   "metadata": {},
   "outputs": [],
   "source": []
  },
  {
   "cell_type": "code",
   "execution_count": null,
   "metadata": {},
   "outputs": [],
   "source": []
  },
  {
   "cell_type": "markdown",
   "metadata": {},
   "source": [
    "<h2>Dataframe from other structures </h2>"
   ]
  },
  {
   "cell_type": "code",
   "execution_count": 19,
   "metadata": {},
   "outputs": [],
   "source": [
    "import pandas as pd"
   ]
  },
  {
   "cell_type": "markdown",
   "metadata": {},
   "source": [
    "<h3>Series </h3>"
   ]
  },
  {
   "cell_type": "code",
   "execution_count": 73,
   "metadata": {},
   "outputs": [],
   "source": [
    "ser1=pd.Series([str('Van Beethoven'), 'Germany',1770,1827],index=['name','nation','born', 'dec'])\n",
    "ser2=pd.Series(['Francois Couperin', 'France',1685,1733],index=['name','nation','born', 'dec'])\n",
    "ser3=pd.Series(['J.S Bach', 'Germany', 1685, 1750],index=['name','nation','born', 'dec'] )\n",
    "ser4=pd.Series(['Joseph Haydn', 'Austria', 1732, 1809],index=['name','nation','born', 'dec'] )"
   ]
  },
  {
   "cell_type": "code",
   "execution_count": 21,
   "metadata": {},
   "outputs": [
    {
     "data": {
      "text/html": [
       "<div>\n",
       "<style scoped>\n",
       "    .dataframe tbody tr th:only-of-type {\n",
       "        vertical-align: middle;\n",
       "    }\n",
       "\n",
       "    .dataframe tbody tr th {\n",
       "        vertical-align: top;\n",
       "    }\n",
       "\n",
       "    .dataframe thead th {\n",
       "        text-align: right;\n",
       "    }\n",
       "</style>\n",
       "<table border=\"1\" class=\"dataframe\">\n",
       "  <thead>\n",
       "    <tr style=\"text-align: right;\">\n",
       "      <th></th>\n",
       "      <th>name</th>\n",
       "      <th>nation</th>\n",
       "      <th>born</th>\n",
       "      <th>dec</th>\n",
       "    </tr>\n",
       "  </thead>\n",
       "  <tbody>\n",
       "    <tr>\n",
       "      <th>0</th>\n",
       "      <td>Van Beethoven</td>\n",
       "      <td>Germany</td>\n",
       "      <td>1770</td>\n",
       "      <td>1827</td>\n",
       "    </tr>\n",
       "    <tr>\n",
       "      <th>1</th>\n",
       "      <td>Francois Couperin</td>\n",
       "      <td>France</td>\n",
       "      <td>1685</td>\n",
       "      <td>1733</td>\n",
       "    </tr>\n",
       "    <tr>\n",
       "      <th>2</th>\n",
       "      <td>J.S Bach</td>\n",
       "      <td>Germany</td>\n",
       "      <td>1685</td>\n",
       "      <td>1750</td>\n",
       "    </tr>\n",
       "    <tr>\n",
       "      <th>3</th>\n",
       "      <td>Joseph Haydn</td>\n",
       "      <td>Austria</td>\n",
       "      <td>1732</td>\n",
       "      <td>1809</td>\n",
       "    </tr>\n",
       "  </tbody>\n",
       "</table>\n",
       "</div>"
      ],
      "text/plain": [
       "                name   nation  born   dec\n",
       "0      Van Beethoven  Germany  1770  1827\n",
       "1  Francois Couperin   France  1685  1733\n",
       "2           J.S Bach  Germany  1685  1750\n",
       "3       Joseph Haydn  Austria  1732  1809"
      ]
     },
     "execution_count": 21,
     "metadata": {},
     "output_type": "execute_result"
    }
   ],
   "source": [
    "serDF = pd.DataFrame([ser1,ser2,ser3,ser4])\n",
    "serDF"
   ]
  },
  {
   "cell_type": "code",
   "execution_count": 83,
   "metadata": {},
   "outputs": [
    {
     "data": {
      "text/plain": [
       "True"
      ]
     },
     "execution_count": 83,
     "metadata": {},
     "output_type": "execute_result"
    }
   ],
   "source": [
    "serDF['name'].name =='name'"
   ]
  },
  {
   "cell_type": "code",
   "execution_count": null,
   "metadata": {},
   "outputs": [],
   "source": [
    "def df2Dic(df):\n",
    "    '''converts dataframe in dictionary , assumes df is a pandas DataFrame'''\n",
    "    dfDic={}\n",
    "    for col in df.columns:\n",
    "        dfDic[df[col].name]=df[col]\n",
    "    return dfDic\n",
    "D= df2Dic(serDF)"
   ]
  },
  {
   "cell_type": "markdown",
   "metadata": {},
   "source": [
    "<h3> from Dictionary </h3>"
   ]
  },
  {
   "cell_type": "code",
   "execution_count": null,
   "metadata": {},
   "outputs": [],
   "source": [
    "#D={'name':['Van Beethoven','Francois Couperin'], 'nation':['Germany','France'], 'born':[1770,1685]}\n",
    "D"
   ]
  },
  {
   "cell_type": "code",
   "execution_count": null,
   "metadata": {},
   "outputs": [],
   "source": [
    "dicDF=pd.DataFrame(D)\n",
    "dicDF"
   ]
  },
  {
   "cell_type": "code",
   "execution_count": null,
   "metadata": {},
   "outputs": [],
   "source": [
    "#show columns\n",
    "serDF.columns"
   ]
  },
  {
   "cell_type": "markdown",
   "metadata": {},
   "source": [
    "<p> each <b> column </b> is a <b> named Series </b>"
   ]
  },
  {
   "cell_type": "code",
   "execution_count": null,
   "metadata": {},
   "outputs": [],
   "source": [
    "type(serDF['name'])"
   ]
  },
  {
   "cell_type": "code",
   "execution_count": null,
   "metadata": {},
   "outputs": [],
   "source": [
    "print(serDF.index)\n",
    "print(serDF['name'].index)"
   ]
  },
  {
   "cell_type": "code",
   "execution_count": null,
   "metadata": {},
   "outputs": [],
   "source": []
  },
  {
   "cell_type": "markdown",
   "metadata": {},
   "source": [
    "<h3> Slice and accessing </h3>"
   ]
  },
  {
   "cell_type": "code",
   "execution_count": null,
   "metadata": {},
   "outputs": [],
   "source": [
    "serDF[1:3]"
   ]
  },
  {
   "cell_type": "code",
   "execution_count": null,
   "metadata": {},
   "outputs": [],
   "source": [
    "#access by index\n",
    "serDF.iloc[3]"
   ]
  },
  {
   "cell_type": "code",
   "execution_count": null,
   "metadata": {},
   "outputs": [],
   "source": [
    "#subsets with loc\n",
    "serDF.loc[[0,3]]"
   ]
  },
  {
   "cell_type": "code",
   "execution_count": null,
   "metadata": {},
   "outputs": [],
   "source": [
    "#filtering Rbase-like\n",
    "serDF[serDF['nation']=='Germany']\n"
   ]
  },
  {
   "cell_type": "code",
   "execution_count": null,
   "metadata": {},
   "outputs": [],
   "source": []
  },
  {
   "cell_type": "markdown",
   "metadata": {},
   "source": [
    "<h3> Working with multiple DataFrames </h3>"
   ]
  },
  {
   "cell_type": "code",
   "execution_count": 27,
   "metadata": {},
   "outputs": [],
   "source": [
    "from io import StringIO\n",
    "\n",
    "#import hashlib"
   ]
  },
  {
   "cell_type": "code",
   "execution_count": 137,
   "metadata": {
    "scrolled": true
   },
   "outputs": [
    {
     "data": {
      "text/html": [
       "<div>\n",
       "<style scoped>\n",
       "    .dataframe tbody tr th:only-of-type {\n",
       "        vertical-align: middle;\n",
       "    }\n",
       "\n",
       "    .dataframe tbody tr th {\n",
       "        vertical-align: top;\n",
       "    }\n",
       "\n",
       "    .dataframe thead th {\n",
       "        text-align: right;\n",
       "    }\n",
       "</style>\n",
       "<table border=\"1\" class=\"dataframe\">\n",
       "  <thead>\n",
       "    <tr style=\"text-align: right;\">\n",
       "      <th></th>\n",
       "      <th>composer</th>\n",
       "      <th>work</th>\n",
       "      <th>year</th>\n",
       "    </tr>\n",
       "  </thead>\n",
       "  <tbody>\n",
       "    <tr>\n",
       "      <th>0</th>\n",
       "      <td>Van Beethoven</td>\n",
       "      <td>Opus 61 Violin Concerto in D major</td>\n",
       "      <td>1806</td>\n",
       "    </tr>\n",
       "    <tr>\n",
       "      <th>1</th>\n",
       "      <td>Van Beethoven</td>\n",
       "      <td>Opus 50 Romance for Violin and Orchestra No. ...</td>\n",
       "      <td>1798</td>\n",
       "    </tr>\n",
       "    <tr>\n",
       "      <th>2</th>\n",
       "      <td>J.S Bach</td>\n",
       "      <td>Partita No. 6 in E minor BWV 830</td>\n",
       "      <td>1731</td>\n",
       "    </tr>\n",
       "  </tbody>\n",
       "</table>\n",
       "</div>"
      ],
      "text/plain": [
       "        composer                                               work   year\n",
       "0  Van Beethoven                Opus 61 Violin Concerto in D major    1806\n",
       "1  Van Beethoven   Opus 50 Romance for Violin and Orchestra No. ...   1798\n",
       "2       J.S Bach                   Partita No. 6 in E minor BWV 830   1731"
      ]
     },
     "execution_count": 137,
     "metadata": {},
     "output_type": "execute_result"
    }
   ],
   "source": [
    "with StringIO(\"\"\"composer, work, year\n",
    "Van Beethoven,Opus 61 Violin Concerto in D major ,1806\n",
    "Van Beethoven, Opus 50 Romance for Violin and Orchestra No. 2 in F major, 1798\n",
    "J.S Bach, Partita No. 6 in E minor BWV 830, 1731\"\"\") as fp:\n",
    "    works = pd.read_csv(fp)\n",
    "works\n",
    "#works['composer'] =works['composer'].astype(str)\n",
    "#serDF['name'] =serDF['name'].astype(str)\n"
   ]
  },
  {
   "cell_type": "markdown",
   "metadata": {},
   "source": [
    "<h4> merge join </h4>"
   ]
  },
  {
   "cell_type": "code",
   "execution_count": 70,
   "metadata": {},
   "outputs": [
    {
     "data": {
      "text/plain": [
       "Index(['name', 'nation', 'born', 'dec'], dtype='object')"
      ]
     },
     "execution_count": 70,
     "metadata": {},
     "output_type": "execute_result"
    }
   ],
   "source": [
    "A.columns"
   ]
  },
  {
   "cell_type": "code",
   "execution_count": 111,
   "metadata": {},
   "outputs": [
    {
     "name": "stdout",
     "output_type": "stream",
     "text": [
      "\n",
      " inner join\n"
     ]
    },
    {
     "data": {
      "text/html": [
       "<div>\n",
       "<style scoped>\n",
       "    .dataframe tbody tr th:only-of-type {\n",
       "        vertical-align: middle;\n",
       "    }\n",
       "\n",
       "    .dataframe tbody tr th {\n",
       "        vertical-align: top;\n",
       "    }\n",
       "\n",
       "    .dataframe thead th {\n",
       "        text-align: right;\n",
       "    }\n",
       "</style>\n",
       "<table border=\"1\" class=\"dataframe\">\n",
       "  <thead>\n",
       "    <tr style=\"text-align: right;\">\n",
       "      <th></th>\n",
       "      <th>name</th>\n",
       "      <th>nation</th>\n",
       "      <th>born</th>\n",
       "      <th>dec</th>\n",
       "      <th>composer</th>\n",
       "      <th>work</th>\n",
       "      <th>year</th>\n",
       "    </tr>\n",
       "  </thead>\n",
       "  <tbody>\n",
       "    <tr>\n",
       "      <th>0</th>\n",
       "      <td>Van Beethoven</td>\n",
       "      <td>Germany</td>\n",
       "      <td>1770</td>\n",
       "      <td>1827</td>\n",
       "      <td>Van Beethoven</td>\n",
       "      <td>Opus 61 Violin Concerto in D major</td>\n",
       "      <td>1806</td>\n",
       "    </tr>\n",
       "    <tr>\n",
       "      <th>1</th>\n",
       "      <td>Van Beethoven</td>\n",
       "      <td>Germany</td>\n",
       "      <td>1770</td>\n",
       "      <td>1827</td>\n",
       "      <td>Van Beethoven</td>\n",
       "      <td>Opus 50 Romance for Violin and Orchestra No. ...</td>\n",
       "      <td>1798</td>\n",
       "    </tr>\n",
       "    <tr>\n",
       "      <th>2</th>\n",
       "      <td>J.S Bach</td>\n",
       "      <td>Germany</td>\n",
       "      <td>1685</td>\n",
       "      <td>1750</td>\n",
       "      <td>J.S Bach</td>\n",
       "      <td>Partita No. 6 in E minor BWV 830</td>\n",
       "      <td>1731</td>\n",
       "    </tr>\n",
       "  </tbody>\n",
       "</table>\n",
       "</div>"
      ],
      "text/plain": [
       "            name   nation  born   dec       composer  \\\n",
       "0  Van Beethoven  Germany  1770  1827  Van Beethoven   \n",
       "1  Van Beethoven  Germany  1770  1827  Van Beethoven   \n",
       "2       J.S Bach  Germany  1685  1750       J.S Bach   \n",
       "\n",
       "                                                work   year  \n",
       "0                Opus 61 Violin Concerto in D major    1806  \n",
       "1   Opus 50 Romance for Violin and Orchestra No. ...   1798  \n",
       "2                   Partita No. 6 in E minor BWV 830   1731  "
      ]
     },
     "execution_count": 111,
     "metadata": {},
     "output_type": "execute_result"
    }
   ],
   "source": [
    "#inner Join\"\n",
    "A=serDF.copy()\n",
    "B=works.copy()\n",
    "print(\"\\n inner join\")\n",
    "\n",
    "I=serDF.merge(works,left_on='name', right_on='composer')\n",
    "I"
   ]
  },
  {
   "cell_type": "code",
   "execution_count": 110,
   "metadata": {},
   "outputs": [
    {
     "name": "stdout",
     "output_type": "stream",
     "text": [
      "\n",
      " left join\n"
     ]
    },
    {
     "data": {
      "text/html": [
       "<div>\n",
       "<style scoped>\n",
       "    .dataframe tbody tr th:only-of-type {\n",
       "        vertical-align: middle;\n",
       "    }\n",
       "\n",
       "    .dataframe tbody tr th {\n",
       "        vertical-align: top;\n",
       "    }\n",
       "\n",
       "    .dataframe thead th {\n",
       "        text-align: right;\n",
       "    }\n",
       "</style>\n",
       "<table border=\"1\" class=\"dataframe\">\n",
       "  <thead>\n",
       "    <tr style=\"text-align: right;\">\n",
       "      <th></th>\n",
       "      <th>name</th>\n",
       "      <th>nation</th>\n",
       "      <th>born</th>\n",
       "      <th>dec</th>\n",
       "      <th>composer</th>\n",
       "      <th>work</th>\n",
       "      <th>year</th>\n",
       "    </tr>\n",
       "  </thead>\n",
       "  <tbody>\n",
       "    <tr>\n",
       "      <th>0</th>\n",
       "      <td>Van Beethoven</td>\n",
       "      <td>Germany</td>\n",
       "      <td>1770</td>\n",
       "      <td>1827</td>\n",
       "      <td>Van Beethoven</td>\n",
       "      <td>Opus 61 Violin Concerto in D major</td>\n",
       "      <td>1806.0</td>\n",
       "    </tr>\n",
       "    <tr>\n",
       "      <th>1</th>\n",
       "      <td>Van Beethoven</td>\n",
       "      <td>Germany</td>\n",
       "      <td>1770</td>\n",
       "      <td>1827</td>\n",
       "      <td>Van Beethoven</td>\n",
       "      <td>Opus 50 Romance for Violin and Orchestra No. ...</td>\n",
       "      <td>1798.0</td>\n",
       "    </tr>\n",
       "    <tr>\n",
       "      <th>2</th>\n",
       "      <td>Francois Couperin</td>\n",
       "      <td>France</td>\n",
       "      <td>1685</td>\n",
       "      <td>1733</td>\n",
       "      <td>NaN</td>\n",
       "      <td>NaN</td>\n",
       "      <td>NaN</td>\n",
       "    </tr>\n",
       "    <tr>\n",
       "      <th>3</th>\n",
       "      <td>J.S Bach</td>\n",
       "      <td>Germany</td>\n",
       "      <td>1685</td>\n",
       "      <td>1750</td>\n",
       "      <td>J.S Bach</td>\n",
       "      <td>Partita No. 6 in E minor BWV 830</td>\n",
       "      <td>1731.0</td>\n",
       "    </tr>\n",
       "    <tr>\n",
       "      <th>4</th>\n",
       "      <td>Joseph Haydn</td>\n",
       "      <td>Austria</td>\n",
       "      <td>1732</td>\n",
       "      <td>1809</td>\n",
       "      <td>NaN</td>\n",
       "      <td>NaN</td>\n",
       "      <td>NaN</td>\n",
       "    </tr>\n",
       "  </tbody>\n",
       "</table>\n",
       "</div>"
      ],
      "text/plain": [
       "                name   nation  born   dec       composer  \\\n",
       "0      Van Beethoven  Germany  1770  1827  Van Beethoven   \n",
       "1      Van Beethoven  Germany  1770  1827  Van Beethoven   \n",
       "2  Francois Couperin   France  1685  1733            NaN   \n",
       "3           J.S Bach  Germany  1685  1750       J.S Bach   \n",
       "4       Joseph Haydn  Austria  1732  1809            NaN   \n",
       "\n",
       "                                                work    year  \n",
       "0                Opus 61 Violin Concerto in D major   1806.0  \n",
       "1   Opus 50 Romance for Violin and Orchestra No. ...  1798.0  \n",
       "2                                                NaN     NaN  \n",
       "3                   Partita No. 6 in E minor BWV 830  1731.0  \n",
       "4                                                NaN     NaN  "
      ]
     },
     "execution_count": 110,
     "metadata": {},
     "output_type": "execute_result"
    }
   ],
   "source": [
    "print(\"\\n left join\")\n",
    "L=A.merge(B,left_on='name', right_on='composer', how=\"left\")\n",
    "L"
   ]
  },
  {
   "cell_type": "code",
   "execution_count": null,
   "metadata": {},
   "outputs": [],
   "source": []
  },
  {
   "cell_type": "code",
   "execution_count": null,
   "metadata": {},
   "outputs": [],
   "source": []
  },
  {
   "cell_type": "code",
   "execution_count": null,
   "metadata": {},
   "outputs": [],
   "source": []
  },
  {
   "cell_type": "code",
   "execution_count": null,
   "metadata": {},
   "outputs": [],
   "source": []
  },
  {
   "cell_type": "markdown",
   "metadata": {},
   "source": [
    "<h4> pd.concat </h4>"
   ]
  },
  {
   "cell_type": "code",
   "execution_count": 112,
   "metadata": {},
   "outputs": [],
   "source": [
    "cols =['name','nation','born', 'dec']"
   ]
  },
  {
   "cell_type": "code",
   "execution_count": 135,
   "metadata": {},
   "outputs": [
    {
     "data": {
      "text/html": [
       "<div>\n",
       "<style scoped>\n",
       "    .dataframe tbody tr th:only-of-type {\n",
       "        vertical-align: middle;\n",
       "    }\n",
       "\n",
       "    .dataframe tbody tr th {\n",
       "        vertical-align: top;\n",
       "    }\n",
       "\n",
       "    .dataframe thead th {\n",
       "        text-align: right;\n",
       "    }\n",
       "</style>\n",
       "<table border=\"1\" class=\"dataframe\">\n",
       "  <thead>\n",
       "    <tr style=\"text-align: right;\">\n",
       "      <th></th>\n",
       "      <th>name</th>\n",
       "      <th>nation</th>\n",
       "      <th>born</th>\n",
       "      <th>dec</th>\n",
       "    </tr>\n",
       "  </thead>\n",
       "  <tbody>\n",
       "    <tr>\n",
       "      <th>0</th>\n",
       "      <td>W. A. Mozart</td>\n",
       "      <td>Austria</td>\n",
       "      <td>1756</td>\n",
       "      <td>1791</td>\n",
       "    </tr>\n",
       "  </tbody>\n",
       "</table>\n",
       "</div>"
      ],
      "text/plain": [
       "           name   nation  born   dec\n",
       "0  W. A. Mozart  Austria  1756  1791"
      ]
     },
     "execution_count": 135,
     "metadata": {},
     "output_type": "execute_result"
    }
   ],
   "source": [
    "df2= pd.DataFrame([pd.Series   (['W. A. Mozart','Austria',1756,1791],index=cols)])\n",
    "df2"
   ]
  },
  {
   "cell_type": "code",
   "execution_count": null,
   "metadata": {},
   "outputs": [],
   "source": []
  },
  {
   "cell_type": "code",
   "execution_count": 136,
   "metadata": {},
   "outputs": [
    {
     "data": {
      "text/html": [
       "<div>\n",
       "<style scoped>\n",
       "    .dataframe tbody tr th:only-of-type {\n",
       "        vertical-align: middle;\n",
       "    }\n",
       "\n",
       "    .dataframe tbody tr th {\n",
       "        vertical-align: top;\n",
       "    }\n",
       "\n",
       "    .dataframe thead th {\n",
       "        text-align: right;\n",
       "    }\n",
       "</style>\n",
       "<table border=\"1\" class=\"dataframe\">\n",
       "  <thead>\n",
       "    <tr style=\"text-align: right;\">\n",
       "      <th></th>\n",
       "      <th>name</th>\n",
       "      <th>nation</th>\n",
       "      <th>born</th>\n",
       "      <th>dec</th>\n",
       "    </tr>\n",
       "  </thead>\n",
       "  <tbody>\n",
       "    <tr>\n",
       "      <th>0</th>\n",
       "      <td>Van Beethoven</td>\n",
       "      <td>Germany</td>\n",
       "      <td>1770</td>\n",
       "      <td>1827</td>\n",
       "    </tr>\n",
       "    <tr>\n",
       "      <th>1</th>\n",
       "      <td>Francois Couperin</td>\n",
       "      <td>France</td>\n",
       "      <td>1685</td>\n",
       "      <td>1733</td>\n",
       "    </tr>\n",
       "    <tr>\n",
       "      <th>2</th>\n",
       "      <td>J.S Bach</td>\n",
       "      <td>Germany</td>\n",
       "      <td>1685</td>\n",
       "      <td>1750</td>\n",
       "    </tr>\n",
       "    <tr>\n",
       "      <th>3</th>\n",
       "      <td>Joseph Haydn</td>\n",
       "      <td>Austria</td>\n",
       "      <td>1732</td>\n",
       "      <td>1809</td>\n",
       "    </tr>\n",
       "    <tr>\n",
       "      <th>0</th>\n",
       "      <td>W. A. Mozart</td>\n",
       "      <td>Austria</td>\n",
       "      <td>1756</td>\n",
       "      <td>1791</td>\n",
       "    </tr>\n",
       "  </tbody>\n",
       "</table>\n",
       "</div>"
      ],
      "text/plain": [
       "                name   nation  born   dec\n",
       "0      Van Beethoven  Germany  1770  1827\n",
       "1  Francois Couperin   France  1685  1733\n",
       "2           J.S Bach  Germany  1685  1750\n",
       "3       Joseph Haydn  Austria  1732  1809\n",
       "0       W. A. Mozart  Austria  1756  1791"
      ]
     },
     "execution_count": 136,
     "metadata": {},
     "output_type": "execute_result"
    }
   ],
   "source": [
    "dfTotal=pd.concat([A,df2])\n",
    "dfTotal"
   ]
  },
  {
   "cell_type": "code",
   "execution_count": null,
   "metadata": {},
   "outputs": [],
   "source": []
  },
  {
   "cell_type": "code",
   "execution_count": null,
   "metadata": {},
   "outputs": [],
   "source": []
  },
  {
   "cell_type": "code",
   "execution_count": null,
   "metadata": {},
   "outputs": [],
   "source": []
  },
  {
   "cell_type": "code",
   "execution_count": null,
   "metadata": {},
   "outputs": [],
   "source": []
  },
  {
   "cell_type": "code",
   "execution_count": null,
   "metadata": {},
   "outputs": [],
   "source": []
  },
  {
   "cell_type": "code",
   "execution_count": null,
   "metadata": {},
   "outputs": [],
   "source": []
  }
 ],
 "metadata": {
  "kernelspec": {
   "display_name": "Python 3",
   "language": "python",
   "name": "python3"
  },
  "language_info": {
   "codemirror_mode": {
    "name": "ipython",
    "version": 3
   },
   "file_extension": ".py",
   "mimetype": "text/x-python",
   "name": "python",
   "nbconvert_exporter": "python",
   "pygments_lexer": "ipython3",
   "version": "3.6.5"
  }
 },
 "nbformat": 4,
 "nbformat_minor": 2
}
