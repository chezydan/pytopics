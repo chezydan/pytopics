{
 "cells": [
  {
   "cell_type": "code",
   "execution_count": 1,
   "metadata": {},
   "outputs": [],
   "source": [
    "import matplotlib.pyplot as plt\n",
    "\n",
    "def generic(x):\n",
    "    return 3 * x\n",
    "\n",
    "\n",
    "def tableArrays (X,Y):\n",
    "    '''show x and y arrays on a table'''\n",
    "    DEFAULTVALUE=-9999.9999\n",
    "    intercept,y0at= [DEFAULTVALUE ]*2\n",
    "    row_format= \"{:>6}{:>6}\"\n",
    "    print(row_format.format(\"X\",\"Y\"))\n",
    "    for x,y in zip(X,Y):\n",
    "        if x ==0:\n",
    "            intercept= y\n",
    "        if y ==0:\n",
    "            y0at= x\n",
    "        \n",
    "        print(row_format.format(x,y  ))\n",
    "        \n",
    "    if intercept != DEFAULTVALUE:\n",
    "        print(\"intercept: {:}\".format(intercept))\n",
    "    minX= min(X)\n",
    "    print(min(X))\n",
    "        \n",
    "\n",
    "def plotFunc(X,Y,adjust=True):\n",
    "    '''plots function assumes len(X) == len(Y)'''\n",
    "   \n",
    "    plt.figure(figsize=(8,4))\n",
    "    plt.plot(X,Y)\n",
    "    if adjust:\n",
    "        plt.axis( [min(min(Y),min(X)),max(max(Y),max(X)) ,min(min(Y),min(X)),max(max(Y),max(X))])\n",
    "\n",
    "    plt.axhline(color='gray')\n",
    "    plt.axvline(color='gray')\n",
    "    \n",
    "    plt.show()\n",
    "        \n",
    "        \n",
    "def genX (start=-10,stop=10,step=1):\n",
    "    '''generates a list for an X'''\n",
    "    return [x for x in range (start,stop,step)]    \n",
    "    \n",
    "def factors(b):\n",
    "    '''finds the factors of a n integer'''\n",
    "    factors=[]\n",
    "    for i in range (1,b+1):\n",
    "        if b % i  ==0:\n",
    "            factors.append(i)\n",
    "    return factors"
   ]
  }
 ],
 "metadata": {
  "kernelspec": {
   "display_name": "Python 3",
   "language": "python",
   "name": "python3"
  },
  "language_info": {
   "codemirror_mode": {
    "name": "ipython",
    "version": 3
   },
   "file_extension": ".py",
   "mimetype": "text/x-python",
   "name": "python",
   "nbconvert_exporter": "python",
   "pygments_lexer": "ipython3",
   "version": "3.7.3"
  }
 },
 "nbformat": 4,
 "nbformat_minor": 2
}
